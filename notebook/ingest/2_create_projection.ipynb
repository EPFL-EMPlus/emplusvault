{
 "cells": [
  {
   "cell_type": "code",
   "execution_count": 116,
   "metadata": {},
   "outputs": [
    {
     "name": "stdout",
     "output_type": "stream",
     "text": [
      "/Users\n",
      "The autoreload extension is already loaded. To reload it, use:\n",
      "  %reload_ext autoreload\n"
     ]
    }
   ],
   "source": [
    "%cd ..\n",
    "%load_ext autoreload\n",
    "%autoreload 2"
   ]
  },
  {
   "attachments": {},
   "cell_type": "markdown",
   "metadata": {},
   "source": [
    "# 2. Projection Creation Example\n",
    "\n",
    "This example shows how to create a projection and add coordinates to a dataset."
   ]
  },
  {
   "cell_type": "code",
   "execution_count": 117,
   "metadata": {},
   "outputs": [],
   "source": [
    "from rts.db.dao import DataAccessObject\n",
    "from rts.db_settings import DATABASE_URL\n",
    "from rts.db.queries import get_library_id_from_name, read_media_by_library_id, create_projection, update_projection, create_map_projection_feature\n",
    "from rts.io.media import upload_media_files, create_square_atlases\n",
    "from rts.api.models import Media, Projection, MapProjectionFeatureCreate\n",
    "from rts.storage.storage import get_supabase_client\n",
    "import os\n",
    "import random\n",
    "from io import BytesIO\n",
    "from PIL import Image\n",
    "import pandas as pd\n",
    "from dotenv import load_dotenv\n",
    "\n",
    "load_dotenv()\n",
    "DataAccessObject().connect(DATABASE_URL)\n",
    "\n",
    "ARCHIVE_BASE_PATH = os.getenv(\"BASE_PATH\")"
   ]
  },
  {
   "cell_type": "code",
   "execution_count": 118,
   "metadata": {},
   "outputs": [],
   "source": [
    "# Setup before we can create media objects\n",
    "archive_name =  \"rts\"\n",
    "bucket_name =  archive_name\n",
    "library_id =  get_library_id_from_name(archive_name)"
   ]
  },
  {
   "cell_type": "code",
   "execution_count": 119,
   "metadata": {},
   "outputs": [
    {
     "name": "stdout",
     "output_type": "stream",
     "text": [
      "Found 99 media files for library 1\n"
     ]
    }
   ],
   "source": [
    "# Retrieve media files for the projection and the atlas\n",
    "media = read_media_by_library_id(library_id, 'image', 'thumbnail')\n",
    "print(f\"Found {len(media)} media files for library {library_id}\")"
   ]
  },
  {
   "cell_type": "code",
   "execution_count": 120,
   "metadata": {},
   "outputs": [],
   "source": [
    "# Retrieve and generate all the data we need for the projection and atlas\n",
    "data = {\n",
    "    'images': [],\n",
    "    'coordinates': [],\n",
    "}\n",
    "\n",
    "for m in media:\n",
    "    result = get_supabase_client().storage.from_(bucket_name).download(m['media_path'])\n",
    "    coordinates = [random.randint(0, 100), random.randint(0, 100), random.randint(0, 100)]\n",
    "    data['coordinates'].append(coordinates)\n",
    "    data['images'].append(Image.open(BytesIO(result)))"
   ]
  },
  {
   "cell_type": "code",
   "execution_count": 121,
   "metadata": {},
   "outputs": [],
   "source": [
    "# In this example we want to split the media files into multiple atlases\n",
    "atlas_count = 2\n",
    "total_tiles = len(media)\n",
    "atlas_width = 1024\n",
    "atlas_tile_size = 128\n",
    "\n",
    "projection = Projection(\n",
    "    projection_name=\"rts_random\",\n",
    "    version=\"0.0.1\",\n",
    "    library_id=library_id,\n",
    "    model_name=\"random\",\n",
    "    model_params={},\n",
    "    data={},\n",
    "    dimension=3,\n",
    "    atlas_folder_path=\"\",\n",
    "    atlas_width=atlas_width,\n",
    "    tile_size=atlas_tile_size,\n",
    "    atlas_count=atlas_count,\n",
    "    total_tiles=total_tiles,\n",
    "    tiles_per_atlas=64,\n",
    ")\n",
    "projection_id = create_projection(projection)['projection_id']"
   ]
  },
  {
   "cell_type": "code",
   "execution_count": 122,
   "metadata": {},
   "outputs": [],
   "source": [
    "square_atlases = create_square_atlases(\"atlas_rts_001\", projection_id, data['images'], width=atlas_width)"
   ]
  },
  {
   "cell_type": "code",
   "execution_count": 123,
   "metadata": {},
   "outputs": [],
   "source": [
    "projection.tile_size = square_atlases[0]['tile_size'][0]\n",
    "projection.atlas_count = len(square_atlases)\n",
    "projection.total_tiles = total_tiles\n",
    "projection.tiles_per_atlas = square_atlases[0]['image_count']\n",
    "\n",
    "update_projection(projection_id, projection)"
   ]
  },
  {
   "cell_type": "code",
   "execution_count": 110,
   "metadata": {},
   "outputs": [
    {
     "data": {
      "text/plain": [
       "{'media_id': 42, 'media_path': 'rts/images/ZB006020/256px/ZB006020-L000-02.jpg', 'original_path': '/Users/arattinger/Projects/rts/rts/testdata/data/ZB006020/clips/images/256px/ZB006020-L000-02.jpg', 'original_id': 'ZB006020', 'created_at': datetime.datetime(2023, 6, 19, 15, 13, 4, 403027), 'media_type': 'image', 'file_id': 'ZB006020-L000-02', 'sub_type': 'thumbnail', 'size': 8825, 'metadata': {}, 'library_id': 1, 'hash': '6b05dd0c74d7af795ed0cd945add582a', 'parent_id': 3, 'start_ts': 0.0, 'end_ts': 10.0, 'start_frame': 0, 'end_frame': 10, 'frame_rate': 30.0}"
      ]
     },
     "execution_count": 110,
     "metadata": {},
     "output_type": "execute_result"
    }
   ],
   "source": [
    "media[8]"
   ]
  },
  {
   "cell_type": "code",
   "execution_count": 126,
   "metadata": {},
   "outputs": [],
   "source": [
    "# for m in media:\n",
    "count = 0\n",
    "for atlas_order, key in enumerate(square_atlases):\n",
    "    # print(len(square_atlases[key]['images']))\n",
    "    for i in range(len(square_atlases[key]['images'])):\n",
    "        create_map_projection_feature(\n",
    "            MapProjectionFeatureCreate(\n",
    "                projection_id=projection_id,\n",
    "                media_id=media[count]['media_id'],\n",
    "                atlas_order=atlas_order + 1,\n",
    "                coordinates=[random.randint(0, 100), random.randint(0, 100), random.randint(0, 100)],\n",
    "                index_in_atlas=i,\n",
    "            )\n",
    "        )\n",
    "        # print(i, count, atlas_order + 1)\n",
    "        count += 1"
   ]
  },
  {
   "cell_type": "code",
   "execution_count": null,
   "metadata": {},
   "outputs": [],
   "source": []
  }
 ],
 "metadata": {
  "kernelspec": {
   "display_name": ".venv",
   "language": "python",
   "name": "python3"
  },
  "language_info": {
   "codemirror_mode": {
    "name": "ipython",
    "version": 3
   },
   "file_extension": ".py",
   "mimetype": "text/x-python",
   "name": "python",
   "nbconvert_exporter": "python",
   "pygments_lexer": "ipython3",
   "version": "3.9.6"
  },
  "orig_nbformat": 4
 },
 "nbformat": 4,
 "nbformat_minor": 2
}
