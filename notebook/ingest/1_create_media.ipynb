{
 "cells": [
  {
   "cell_type": "code",
   "execution_count": 1,
   "metadata": {},
   "outputs": [],
   "source": [
    "%load_ext autoreload\n",
    "%autoreload 2"
   ]
  },
  {
   "attachments": {},
   "cell_type": "markdown",
   "metadata": {},
   "source": [
    "# 1. Media Creation Example\n",
    "\n",
    "This example shows how to create a media object from a file and upload it to the server. It save the metadata in the postgres db and uploads the files to the s3 bucket."
   ]
  },
  {
   "cell_type": "code",
   "execution_count": 2,
   "metadata": {},
   "outputs": [
    {
     "name": "stderr",
     "output_type": "stream",
     "text": [
      "/Users/arattinger/Projects/rts/rts/.venv/lib/python3.9/site-packages/tqdm/auto.py:21: TqdmWarning: IProgress not found. Please update jupyter and ipywidgets. See https://ipywidgets.readthedocs.io/en/stable/user_install.html\n",
      "  from .autonotebook import tqdm as notebook_tqdm\n"
     ]
    }
   ],
   "source": [
    "from rts.db.dao import DataAccessObject\n",
    "from rts.db_settings import DATABASE_URL\n",
    "from rts.db.queries import get_library_id_from_name, read_media_by_source_media_id\n",
    "from rts.io.media import upload_media_files\n",
    "from rts.api.models import Media\n",
    "import os\n",
    "import hashlib\n",
    "import pandas as pd\n",
    "from dotenv import load_dotenv\n",
    "\n",
    "load_dotenv()\n",
    "DataAccessObject().connect(DATABASE_URL)\n",
    "\n",
    "ARCHIVE_BASE_PATH = os.getenv(\"BASE_PATH\")"
   ]
  },
  {
   "cell_type": "code",
   "execution_count": 3,
   "metadata": {},
   "outputs": [
    {
     "data": {
      "text/plain": [
       "1"
      ]
     },
     "execution_count": 3,
     "metadata": {},
     "output_type": "execute_result"
    }
   ],
   "source": [
    "# Setup before we can create media objects\n",
    "archive_name =  \"rts\"\n",
    "bucket_name =  archive_name\n",
    "library_id =  get_library_id_from_name(archive_name)\n",
    "library_id"
   ]
  },
  {
   "cell_type": "code",
   "execution_count": 5,
   "metadata": {},
   "outputs": [
    {
     "name": "stdout",
     "output_type": "stream",
     "text": [
      "/Users/arattinger/Projects/rts/rts/testdata/archive\n"
     ]
    },
    {
     "data": {
      "text/plain": [
       "21"
      ]
     },
     "execution_count": 5,
     "metadata": {},
     "output_type": "execute_result"
    }
   ],
   "source": [
    "clips = []\n",
    "data_dir = os.path.join(ARCHIVE_BASE_PATH, \"archive\")\n",
    "\n",
    "count = 0\n",
    "archive_path = os.path.join(ARCHIVE_BASE_PATH, \"archive\")\n",
    "print(archive_path)\n",
    "for dirpath, dirnames, filenames in os.walk(archive_path):\n",
    "    if 'clips' not in dirnames:\n",
    "        continue\n",
    "    \n",
    "    clip_dir = os.path.join(dirpath, 'clips', 'videos')\n",
    "\n",
    "    for clip in os.listdir(clip_dir):\n",
    "        clip_path = os.path.join(clip_dir, clip)\n",
    "        try:\n",
    "            dirname = dirpath.split('/')[-1]\n",
    "\n",
    "            clips.append(Media(**{\n",
    "                    'media_id': clip.split('.')[0],\n",
    "                    'original_path': clip_path,\n",
    "                    'original_id': dirpath.split(\"/\")[-1],\n",
    "                    'media_path': f\"videos/{dirname}/{clip}\", \n",
    "                    'media_type': \"video\",\n",
    "                    'sub_type': \"clip\", \n",
    "                    'size': os.path.getsize(clip_path), \n",
    "                    'metadata': {},\n",
    "                    'library_id': library_id, \n",
    "                    'hash': hashlib.md5(f\"{bucket_name}/videos/{dirname}/{clip}\".encode()).hexdigest(), \n",
    "                    'parent_id': -1,\n",
    "                    'start_ts': 0, 'end_ts': 10, \n",
    "                    'start_frame': 0, 'end_frame': 10, 'frame_rate': 30, \n",
    "            }))\n",
    "\n",
    "        except NotADirectoryError:\n",
    "            pass\n",
    "\n",
    "    count += 1\n",
    "    if count > 5:\n",
    "        break    \n",
    "len(clips)"
   ]
  },
  {
   "cell_type": "code",
   "execution_count": 6,
   "metadata": {},
   "outputs": [],
   "source": [
    "uploaded_clips = upload_media_files(clips)"
   ]
  },
  {
   "cell_type": "code",
   "execution_count": 7,
   "metadata": {},
   "outputs": [
    {
     "data": {
      "text/plain": [
       "63"
      ]
     },
     "execution_count": 7,
     "metadata": {},
     "output_type": "execute_result"
    }
   ],
   "source": [
    "thumbnails = []\n",
    "square_res = 256\n",
    "media_keys = set()\n",
    "\n",
    "for clip in uploaded_clips:\n",
    "    clip_rel_dir = os.path.join('clips', 'images', '256px')\n",
    "    clip_dir = os.path.join(archive_path, clip['original_id'], clip_rel_dir)\n",
    "    try:\n",
    "        for img in os.listdir(clip_dir):\n",
    "\n",
    "            img_path = os.path.join(clip_dir, img)\n",
    "            media_path = f\"images/{dirname}/{square_res}px/{img}\"\n",
    "\n",
    "            if media_path in media_keys:\n",
    "                continue\n",
    "\n",
    "            thumbnails.append(Media(**{\n",
    "                    'media_id': img.split('.')[0],\n",
    "                    'original_path': img_path,\n",
    "                    'original_id': clip['original_id'],\n",
    "                    'media_path': media_path, \n",
    "                    'media_type': \"image\",\n",
    "                    'sub_type': \"thumbnail\", \n",
    "                    'size': os.path.getsize(clip_path),\n",
    "                    'metadata': {},\n",
    "                    'library_id': library_id, \n",
    "                    'hash': hashlib.md5(f\"videos/{dirname}/{img}\".encode()).hexdigest(), \n",
    "                    'parent_id': clip['media_id'],\n",
    "                    'start_ts': 0, 'end_ts': 10, \n",
    "                    'start_frame': 0, 'end_frame': 10, 'frame_rate': 30, \n",
    "            }))\n",
    "            media_keys.add(media_path)\n",
    "\n",
    "    except FileNotFoundError:\n",
    "        print(f\"Directory not found: {clip_dir}\")\n",
    "        continue\n",
    "len(thumbnails)"
   ]
  },
  {
   "cell_type": "code",
   "execution_count": 8,
   "metadata": {},
   "outputs": [],
   "source": [
    "uploaded_thumbnails = upload_media_files(thumbnails)"
   ]
  },
  {
   "cell_type": "code",
   "execution_count": null,
   "metadata": {},
   "outputs": [],
   "source": []
  }
 ],
 "metadata": {
  "kernelspec": {
   "display_name": ".venv",
   "language": "python",
   "name": "python3"
  },
  "language_info": {
   "codemirror_mode": {
    "name": "ipython",
    "version": 3
   },
   "file_extension": ".py",
   "mimetype": "text/x-python",
   "name": "python",
   "nbconvert_exporter": "python",
   "pygments_lexer": "ipython3",
   "version": "3.9.6"
  },
  "orig_nbformat": 4
 },
 "nbformat": 4,
 "nbformat_minor": 2
}
