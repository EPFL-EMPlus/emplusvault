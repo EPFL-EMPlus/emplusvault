{
 "cells": [
  {
   "cell_type": "code",
   "execution_count": 1,
   "metadata": {},
   "outputs": [],
   "source": [
    "%load_ext autoreload\n",
    "%autoreload 2"
   ]
  },
  {
   "attachments": {},
   "cell_type": "markdown",
   "metadata": {},
   "source": [
    "# 1. Media Creation Example\n",
    "\n",
    "This example shows how to create a media object from a file and upload it to the server. It save the metadata in the postgres db and uploads the files to the s3 bucket."
   ]
  },
  {
   "cell_type": "code",
   "execution_count": 5,
   "metadata": {},
   "outputs": [],
   "source": [
    "from rts.db.dao import DataAccessObject\n",
    "from rts.settings import DATABASE_URL\n",
    "from rts.db.queries import get_library_id_from_name, get_all_media, delete_media\n",
    "from rts.io.media import upload_media_files\n",
    "from rts.storage.storage import get_storage_client\n",
    "from rts.api.models import Media\n",
    "import os\n",
    "import hashlib\n",
    "import pandas as pd\n",
    "\n",
    "ARCHIVE_BASE_PATH = os.getenv(\"BASE_PATH\")"
   ]
  },
  {
   "cell_type": "code",
   "execution_count": 6,
   "metadata": {},
   "outputs": [],
   "source": [
    "# Setup before we can create media objects\n",
    "archive_name =  \"rts\"\n",
    "bucket_name =  archive_name\n",
    "library_id =  get_library_id_from_name(archive_name)\n",
    "library_id"
   ]
  },
  {
   "cell_type": "code",
   "execution_count": 5,
   "metadata": {},
   "outputs": [
    {
     "name": "stdout",
     "output_type": "stream",
     "text": [
      "/Users/arattinger/Projects/rts/rts/testdata/archive\n"
     ]
    },
    {
     "data": {
      "text/plain": [
       "21"
      ]
     },
     "execution_count": 5,
     "metadata": {},
     "output_type": "execute_result"
    }
   ],
   "source": [
    "clips = []\n",
    "data_dir = os.path.join(ARCHIVE_BASE_PATH, \"archive\")\n",
    "\n",
    "count = 0\n",
    "archive_path = os.path.join(ARCHIVE_BASE_PATH, \"archive\")\n",
    "print(archive_path)\n",
    "for dirpath, dirnames, filenames in os.walk(archive_path):\n",
    "    if 'clips' not in dirnames:\n",
    "        continue\n",
    "    \n",
    "    clip_dir = os.path.join(dirpath, 'clips', 'videos')\n",
    "\n",
    "    for clip in os.listdir(clip_dir):\n",
    "        clip_path = os.path.join(clip_dir, clip)\n",
    "        try:\n",
    "            dirname = dirpath.split('/')[-1]\n",
    "\n",
    "            clips.append(Media(**{\n",
    "                    'media_id': clip.split('.')[0],\n",
    "                    'original_path': clip_path,\n",
    "                    'original_id': dirpath.split(\"/\")[-1],\n",
    "                    'media_path': f\"videos/{dirname}/{clip}\", \n",
    "                    'media_type': \"video\",\n",
    "                    'sub_type': \"clip\", \n",
    "                    'size': os.path.getsize(clip_path), \n",
    "                    'metadata': {},\n",
    "                    'library_id': library_id, \n",
    "                    'hash': hashlib.md5(f\"{bucket_name}/videos/{dirname}/{clip}\".encode()).hexdigest(), \n",
    "                    'parent_id': -1,\n",
    "                    'start_ts': 0, 'end_ts': 10, \n",
    "                    'start_frame': 0, 'end_frame': 10, 'frame_rate': 30, \n",
    "            }))\n",
    "\n",
    "        except NotADirectoryError:\n",
    "            pass\n",
    "\n",
    "    count += 1\n",
    "    if count > 5:\n",
    "        break    \n",
    "len(clips)"
   ]
  },
  {
   "cell_type": "code",
   "execution_count": 6,
   "metadata": {},
   "outputs": [],
   "source": [
    "uploaded_clips = upload_media_files(clips)"
   ]
  },
  {
   "cell_type": "code",
   "execution_count": 7,
   "metadata": {},
   "outputs": [
    {
     "data": {
      "text/plain": [
       "63"
      ]
     },
     "execution_count": 7,
     "metadata": {},
     "output_type": "execute_result"
    }
   ],
   "source": [
    "thumbnails = []\n",
    "square_res = 256\n",
    "media_keys = set()\n",
    "\n",
    "for clip in uploaded_clips:\n",
    "    clip_rel_dir = os.path.join('clips', 'images', '256px')\n",
    "    clip_dir = os.path.join(archive_path, clip['original_id'], clip_rel_dir)\n",
    "    try:\n",
    "        for img in os.listdir(clip_dir):\n",
    "\n",
    "            img_path = os.path.join(clip_dir, img)\n",
    "            media_path = f\"images/{dirname}/{square_res}px/{img}\"\n",
    "\n",
    "            if media_path in media_keys:\n",
    "                continue\n",
    "\n",
    "            thumbnails.append(Media(**{\n",
    "                    'media_id': img.split('.')[0],\n",
    "                    'original_path': img_path,\n",
    "                    'original_id': clip['original_id'],\n",
    "                    'media_path': media_path, \n",
    "                    'media_type': \"image\",\n",
    "                    'sub_type': \"thumbnail\", \n",
    "                    'size': os.path.getsize(clip_path),\n",
    "                    'metadata': {},\n",
    "                    'library_id': library_id, \n",
    "                    'hash': hashlib.md5(f\"videos/{dirname}/{img}\".encode()).hexdigest(), \n",
    "                    'parent_id': clip['media_id'],\n",
    "                    'start_ts': 0, 'end_ts': 10, \n",
    "                    'start_frame': 0, 'end_frame': 10, 'frame_rate': 30, \n",
    "            }))\n",
    "            media_keys.add(media_path)\n",
    "\n",
    "    except FileNotFoundError:\n",
    "        print(f\"Directory not found: {clip_dir}\")\n",
    "        continue\n",
    "len(thumbnails)"
   ]
  },
  {
   "cell_type": "code",
   "execution_count": 8,
   "metadata": {},
   "outputs": [],
   "source": [
    "uploaded_thumbnails = upload_media_files(thumbnails)"
   ]
  },
  {
   "attachments": {},
   "cell_type": "markdown",
   "metadata": {},
   "source": [
    "# Find and delete media objects"
   ]
  },
  {
   "cell_type": "code",
   "execution_count": 22,
   "metadata": {},
   "outputs": [],
   "source": [
    "from tqdm.notebook import trange, tqdm"
   ]
  },
  {
   "cell_type": "code",
   "execution_count": null,
   "metadata": {},
   "outputs": [],
   "source": [
    "# Not recommended to run this, it will take a long time\n",
    "media = get_all_media()\n",
    "len(media)"
   ]
  },
  {
   "cell_type": "code",
   "execution_count": 11,
   "metadata": {},
   "outputs": [],
   "source": [
    "df = pd.DataFrame(media)[['media_id', 'media_path']]"
   ]
  },
  {
   "cell_type": "code",
   "execution_count": 15,
   "metadata": {},
   "outputs": [],
   "source": [
    "df = df[df.media_id.apply(lambda x: 'GA' in x)]"
   ]
  },
  {
   "cell_type": "code",
   "execution_count": null,
   "metadata": {},
   "outputs": [],
   "source": []
  },
  {
   "cell_type": "code",
   "execution_count": 19,
   "metadata": {},
   "outputs": [],
   "source": [
    "for i, row in df.iterrows():\n",
    "    delete_media(row['media_id'])"
   ]
  },
  {
   "cell_type": "code",
   "execution_count": 30,
   "metadata": {},
   "outputs": [],
   "source": [
    "bucket_name = \"rts\""
   ]
  },
  {
   "cell_type": "code",
   "execution_count": 31,
   "metadata": {},
   "outputs": [
    {
     "data": {
      "application/vnd.jupyter.widget-view+json": {
       "model_id": "e02ae35326c74f5195a253e6f9452b95",
       "version_major": 2,
       "version_minor": 0
      },
      "text/plain": [
       "0it [00:00, ?it/s]"
      ]
     },
     "metadata": {},
     "output_type": "display_data"
    }
   ],
   "source": [
    "for i, row in tqdm(df.iterrows()):\n",
    "    # print(i, row['media_path'])\n",
    "    get_storage_client().client.delete_object(Bucket=bucket_name, Key=row['media_path'])\n",
    "    # (bucket_name, row['media_path'])"
   ]
  },
  {
   "cell_type": "code",
   "execution_count": null,
   "metadata": {},
   "outputs": [],
   "source": [
    "    "
   ]
  }
 ],
 "metadata": {
  "kernelspec": {
   "display_name": ".venv",
   "language": "python",
   "name": "python3"
  },
  "language_info": {
   "codemirror_mode": {
    "name": "ipython",
    "version": 3
   },
   "file_extension": ".py",
   "mimetype": "text/x-python",
   "name": "python",
   "nbconvert_exporter": "python",
   "pygments_lexer": "ipython3",
   "version": "3.10.11"
  },
  "orig_nbformat": 4
 },
 "nbformat": 4,
 "nbformat_minor": 2
}
