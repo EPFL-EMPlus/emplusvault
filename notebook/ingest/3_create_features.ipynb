{
 "cells": [
  {
   "attachments": {},
   "cell_type": "markdown",
   "metadata": {},
   "source": [
    "# 3. Feature Creation Example\n",
    "\n",
    "Now that we have created a dataset with a projection, we can show the data in an UI. In addition we will add features such as vector embeddings in this part for retrieval."
   ]
  },
  {
   "cell_type": "code",
   "execution_count": 1,
   "metadata": {},
   "outputs": [],
   "source": [
    "from rts.db.dao import DataAccessObject\n",
    "from rts.db_settings import DATABASE_URL\n",
    "from rts.db.queries import get_library_id_from_name, get_all_media_by_library_id, create_feature, get_nearest_neighbors, update_media, get_all_media_by_metadata, get_media_by_feature_value\n",
    "from rts.api.models import Feature, Media\n",
    "import os\n",
    "import random\n",
    "from dotenv import load_dotenv\n",
    "\n",
    "load_dotenv()\n",
    "DataAccessObject().connect(DATABASE_URL)\n",
    "\n",
    "ARCHIVE_BASE_PATH = os.getenv(\"BASE_PATH\")"
   ]
  },
  {
   "cell_type": "code",
   "execution_count": 2,
   "metadata": {},
   "outputs": [],
   "source": [
    "archive_name =  \"rts\"\n",
    "bucket_name =  archive_name\n",
    "library_id =  get_library_id_from_name(archive_name)"
   ]
  },
  {
   "cell_type": "code",
   "execution_count": 3,
   "metadata": {},
   "outputs": [
    {
     "name": "stdout",
     "output_type": "stream",
     "text": [
      "Found 21 media files for library 1\n"
     ]
    }
   ],
   "source": [
    "# Example 1: we compute word embeddings of the content in the media files to find similar media files\n",
    "\n",
    "# 1. Create mock word embeddings for each media file\n",
    "media = get_all_media_by_library_id(library_id, 'video', 'clip')\n",
    "print(f\"Found {len(media)} media files for library {library_id}\")\n",
    "\n",
    "embeddings = []\n",
    "for m in media:\n",
    "    embeddings.append({\n",
    "        \"media_id\": m.media_id,\n",
    "        \"embedding\": [random.random() for i in range(0, 1024)]\n",
    "    })"
   ]
  },
  {
   "cell_type": "code",
   "execution_count": 4,
   "metadata": {},
   "outputs": [],
   "source": [
    "# 2. Create an entry in the feature table for each media file\n",
    "\n",
    "for e in embeddings:\n",
    "    feature = Feature(\n",
    "        feature_type='embedding',\n",
    "        version=1,\n",
    "        model_name='bert',\n",
    "        model_params={},\n",
    "        data={},\n",
    "        media_id=e['media_id'], \n",
    "        embedding_size=1024,\n",
    "        embedding_1024=e['embedding']\n",
    "    )\n",
    "    create_feature(feature)"
   ]
  },
  {
   "cell_type": "code",
   "execution_count": 5,
   "metadata": {},
   "outputs": [
    {
     "data": {
      "text/plain": [
       "[{'media_id': 'ZB012020-L001', 'distance': 12.755394886691601},\n",
       " {'media_id': 'ZB008020-L001', 'distance': 12.821608079804582},\n",
       " {'media_id': 'ZB006020-L000', 'distance': 12.844895734497763},\n",
       " {'media_id': 'ZB008020-L000', 'distance': 12.912064428714846},\n",
       " {'media_id': 'ZB003020-L000', 'distance': 12.916703534537762}]"
      ]
     },
     "execution_count": 5,
     "metadata": {},
     "output_type": "execute_result"
    }
   ],
   "source": [
    "# pick a feature at random\n",
    "feature = random.choice(embeddings)\n",
    "\n",
    "# Find similar media files by computing the cosine similarity between the embeddings\n",
    "# and return the top 10 results\n",
    "r = get_nearest_neighbors(feature['media_id'], 'embedding', 'bert', 1, 5)\n",
    "r"
   ]
  },
  {
   "cell_type": "code",
   "execution_count": 6,
   "metadata": {},
   "outputs": [],
   "source": [
    "# Media file can have features, but they can also have metadata themselves (we use the name features here when we created it ourselves from the data)\n",
    "\n",
    "# Update video metadata to have the cities\n",
    "cities = ['Lausanne', 'Geneva', 'Zurich', 'Bern', 'Basel', 'Lugano']\n",
    "\n",
    "for m in media:\n",
    "    mo = Media(**m)\n",
    "    mo.metadata['city'] = random.choice(cities)\n",
    "    update_media(m['media_id'], mo)"
   ]
  },
  {
   "cell_type": "code",
   "execution_count": 7,
   "metadata": {},
   "outputs": [
    {
     "name": "stdout",
     "output_type": "stream",
     "text": [
      "There are 2 media files from Lausanne\n"
     ]
    }
   ],
   "source": [
    "print(f\"There are {len(get_all_media_by_metadata('city', 'Lausanne'))} media files from Lausanne\")"
   ]
  },
  {
   "cell_type": "code",
   "execution_count": 8,
   "metadata": {},
   "outputs": [],
   "source": [
    "# Full text search over features (like transcriptions)\n",
    "\n",
    "# # 1. Create mock transcriptions for each media file\n",
    "# media = get_all_media_by_library_id(library_id, 'video', 'clip')\n",
    "# print(f\"Found {len(media)} media files for library {library_id}\")\n",
    "\n",
    "example_transcriptions = [\n",
    "    \"We are currently in CERN this week\",\n",
    "    \"We are currently in EPFL next Friday\",\n",
    "    \"We are currently in ETHZ as you can see\",\n",
    "]\n",
    "\n",
    "transcriptions = []\n",
    "for m in media:\n",
    "    transcriptions.append({\n",
    "        \"media_id\": m.media_id,\n",
    "        \"transcription\": random.choice(example_transcriptions)\n",
    "    })"
   ]
  },
  {
   "cell_type": "code",
   "execution_count": 9,
   "metadata": {},
   "outputs": [],
   "source": [
    "# 2. Create an entry in the feature table for each media file\n",
    "\n",
    "for e in transcriptions:\n",
    "    feature = Feature(\n",
    "        feature_type='transcription',\n",
    "        version=1,\n",
    "        model_name='whisper',\n",
    "        model_params={},\n",
    "        data={'transcription': e['transcription']},\n",
    "        media_id=e['media_id'], \n",
    "    )\n",
    "    create_feature(feature)"
   ]
  },
  {
   "cell_type": "code",
   "execution_count": 10,
   "metadata": {},
   "outputs": [
    {
     "name": "stdout",
     "output_type": "stream",
     "text": [
      "There are 6 media files with the word CERN in the transcription\n"
     ]
    }
   ],
   "source": [
    "print(f\"There are {len(get_media_by_feature_value('transcription', 'CERN'))} media files with the word CERN in the transcription\")"
   ]
  },
  {
   "cell_type": "code",
   "execution_count": null,
   "metadata": {},
   "outputs": [],
   "source": []
  }
 ],
 "metadata": {
  "kernelspec": {
   "display_name": ".venv",
   "language": "python",
   "name": "python3"
  },
  "language_info": {
   "codemirror_mode": {
    "name": "ipython",
    "version": 3
   },
   "file_extension": ".py",
   "mimetype": "text/x-python",
   "name": "python",
   "nbconvert_exporter": "python",
   "pygments_lexer": "ipython3",
   "version": "3.9.6"
  },
  "orig_nbformat": 4
 },
 "nbformat": 4,
 "nbformat_minor": 2
}
