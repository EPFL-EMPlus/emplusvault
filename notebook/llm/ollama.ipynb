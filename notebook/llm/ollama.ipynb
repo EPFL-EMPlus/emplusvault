{
 "cells": [
  {
   "cell_type": "code",
   "execution_count": 1,
   "metadata": {},
   "outputs": [
    {
     "name": "stdout",
     "output_type": "stream",
     "text": [
      "/home/kirell/work/emv/notebook\n"
     ]
    }
   ],
   "source": [
    "%cd ..\n",
    "%load_ext autoreload\n",
    "%autoreload 2"
   ]
  },
  {
   "cell_type": "code",
   "execution_count": 2,
   "metadata": {},
   "outputs": [
    {
     "name": "stderr",
     "output_type": "stream",
     "text": [
      "/home/kirell/.cache/pypoetry/virtualenvs/emv-IgKv7S_O-py3.10/lib/python3.10/site-packages/pydantic/_internal/_fields.py:149: UserWarning: Field \"model_name\" has conflict with protected namespace \"model_\".\n",
      "\n",
      "You may be able to resolve this warning by setting `model_config['protected_namespaces'] = ()`.\n",
      "  warnings.warn(\n",
      "/home/kirell/.cache/pypoetry/virtualenvs/emv-IgKv7S_O-py3.10/lib/python3.10/site-packages/pydantic/_internal/_fields.py:149: UserWarning: Field \"model_params\" has conflict with protected namespace \"model_\".\n",
      "\n",
      "You may be able to resolve this warning by setting `model_config['protected_namespaces'] = ()`.\n",
      "  warnings.warn(\n",
      "/home/kirell/.cache/pypoetry/virtualenvs/emv-IgKv7S_O-py3.10/lib/python3.10/site-packages/pydantic/_internal/_config.py:318: UserWarning: Valid config keys have changed in V2:\n",
      "* 'orm_mode' has been renamed to 'from_attributes'\n",
      "  warnings.warn(message, UserWarning)\n"
     ]
    }
   ],
   "source": [
    "import random\n",
    "import textwrap\n",
    "\n",
    "# LOCAL imports\n",
    "import emv\n",
    "import emv.utils\n",
    "import emv.io.media\n",
    "import emv.features.text\n",
    "import emv.llm.vault\n",
    "import emv.db.queries\n",
    "\n",
    "\n",
    "from emv.db.dao import DataAccessObject\n",
    "DataAccessObject().set_user_id(3)\n",
    "\n",
    "LOG = emv.utils.get_logger()"
   ]
  },
  {
   "cell_type": "code",
   "execution_count": null,
   "metadata": {},
   "outputs": [],
   "source": [
    "# llm = emv.llm.query.LLMWrapper() \n",
    "retriever = emv.llm.retriever.DocumentRetriever()"
   ]
  },
  {
   "cell_type": "code",
   "execution_count": 4,
   "metadata": {},
   "outputs": [],
   "source": [
    "llb = emv.llm.ingest.get_vault_llm_backend()"
   ]
  },
  {
   "cell_type": "code",
   "execution_count": 5,
   "metadata": {},
   "outputs": [],
   "source": [
    "query_str = \"Suisse, EPFL, recherche\""
   ]
  },
  {
   "cell_type": "code",
   "execution_count": 8,
   "metadata": {},
   "outputs": [
    {
     "data": {
      "text/markdown": [
       "**Node ID:** 186<br>**Similarity:** 0.4140431317356654<br>**Text:** Au niveau du financement, j'ai d'abord demandé aux banques et aussi à la fondation des entreprises.<br>**Metadata:** {'media_id': 'rts-ZU021020-M010', 'feature_id': 186}<br>"
      ],
      "text/plain": [
       "<IPython.core.display.Markdown object>"
      ]
     },
     "metadata": {},
     "output_type": "display_data"
    },
    {
     "data": {
      "text/markdown": [
       "**Node ID:** 1022<br>**Similarity:** 0.4135708224912372<br>**Text:** Ce serait un changement de paradigme. Les transports publics fonctionnent très bien en Suisse, aussi car tout est organisé par une seule entité qui coordonne tout.<br>**Metadata:** {'media_id': 'rts-ZU089021-M002', 'feature_id': 1022}<br>"
      ],
      "text/plain": [
       "<IPython.core.display.Markdown object>"
      ]
     },
     "metadata": {},
     "output_type": "display_data"
    },
    {
     "data": {
      "text/markdown": [
       "**Node ID:** 1021<br>**Similarity:** 0.4090492215312682<br>**Text:** Officiellement, ils ne veulent pas encore prendre position sur le fond. Mais selon eux, abandonner le monopole comporte des risques.<br>**Metadata:** {'media_id': 'rts-ZU089021-M001', 'feature_id': 1021}<br>"
      ],
      "text/plain": [
       "<IPython.core.display.Markdown object>"
      ]
     },
     "metadata": {},
     "output_type": "display_data"
    },
    {
     "data": {
      "text/markdown": [
       "**Node ID:** 891<br>**Similarity:** 0.4087009413076752<br>**Text:** L'année dernière, chez Tagoyer, nous avons racheté dans le marché. Donc nous avons fait des opérations de rachat, une vingtaine de millions de francs suisses mondialement.<br>**Metadata:** {'media_id': 'rts-ZU065016-M003', 'feature_id': 891}<br>"
      ],
      "text/plain": [
       "<IPython.core.display.Markdown object>"
      ]
     },
     "metadata": {},
     "output_type": "display_data"
    },
    {
     "data": {
      "text/markdown": [
       "**Node ID:** 164<br>**Similarity:** 0.408539650781264<br>**Text:** Entre ses mains, Nicolas Dizerand manipule de l'or, ou presque. La valeur de certaines carpes koi peut atteindre plusieurs milliers, voire dizaines de milliers de francs. Des animaux d'ordement qui nécessitent des soins.<br>**Metadata:** {'media_id': 'rts-ZU018015-M000', 'feature_id': 164}<br>"
      ],
      "text/plain": [
       "<IPython.core.display.Markdown object>"
      ]
     },
     "metadata": {},
     "output_type": "display_data"
    }
   ],
   "source": [
    "from llama_index.core.response.notebook_utils import display_source_node\n",
    "\n",
    "retrieved_nodes = llb.retrieve(query_str)\n",
    "for node in retrieved_nodes:\n",
    "    display_source_node(node, source_length=1000, show_source_metadata=True)"
   ]
  },
  {
   "cell_type": "code",
   "execution_count": 9,
   "metadata": {},
   "outputs": [],
   "source": [
    "eng = indexer.load_index()"
   ]
  },
  {
   "cell_type": "code",
   "execution_count": 14,
   "metadata": {},
   "outputs": [
    {
     "data": {
      "text/plain": [
       "VectorStoreQueryResult(nodes=[TextNode(id_='1022', embedding=None, metadata={'media_id': 'rts-ZU089021-M002', 'feature_id': 1022}, excluded_embed_metadata_keys=[], excluded_llm_metadata_keys=[], relationships={}, text='Ce serait un changement de paradigme. Les transports publics fonctionnent très bien en Suisse, aussi car tout est organisé par une seule entité qui coordonne tout.', start_char_idx=None, end_char_idx=None, text_template='{metadata_str}\\n\\n{content}', metadata_template='{key}: {value}', metadata_seperator='\\n'), TextNode(id_='177', embedding=None, metadata={'media_id': 'rts-ZU021020-M001', 'feature_id': 177}, excluded_embed_metadata_keys=[], excluded_llm_metadata_keys=[], relationships={}, text=\"Alors, j'aimerais une salade de foie de volaille pour Janine, avec pas trop de salade.\", start_char_idx=None, end_char_idx=None, text_template='{metadata_str}\\n\\n{content}', metadata_template='{key}: {value}', metadata_seperator='\\n'), TextNode(id_='186', embedding=None, metadata={'media_id': 'rts-ZU021020-M010', 'feature_id': 186}, excluded_embed_metadata_keys=[], excluded_llm_metadata_keys=[], relationships={}, text=\"Au niveau du financement, j'ai d'abord demandé aux banques et aussi à la fondation des entreprises.\", start_char_idx=None, end_char_idx=None, text_template='{metadata_str}\\n\\n{content}', metadata_template='{key}: {value}', metadata_seperator='\\n'), TextNode(id_='164', embedding=None, metadata={'media_id': 'rts-ZU018015-M000', 'feature_id': 164}, excluded_embed_metadata_keys=[], excluded_llm_metadata_keys=[], relationships={}, text=\"Entre ses mains, Nicolas Dizerand manipule de l'or, ou presque. La valeur de certaines carpes koi peut atteindre plusieurs milliers, voire dizaines de milliers de francs. Des animaux d'ordement qui nécessitent des soins.\", start_char_idx=None, end_char_idx=None, text_template='{metadata_str}\\n\\n{content}', metadata_template='{key}: {value}', metadata_seperator='\\n'), TextNode(id_='891', embedding=None, metadata={'media_id': 'rts-ZU065016-M003', 'feature_id': 891}, excluded_embed_metadata_keys=[], excluded_llm_metadata_keys=[], relationships={}, text=\"L'année dernière, chez Tagoyer, nous avons racheté dans le marché. Donc nous avons fait des opérations de rachat, une vingtaine de millions de francs suisses mondialement.\", start_char_idx=None, end_char_idx=None, text_template='{metadata_str}\\n\\n{content}', metadata_template='{key}: {value}', metadata_seperator='\\n')], similarities=[0.4848704928420904, 0.4829500090265211, 0.4823933674018668, 0.482287938470759, 0.48227224551286463], ids=['1022', '177', '186', '164', '891'])"
      ]
     },
     "execution_count": 14,
     "metadata": {},
     "output_type": "execute_result"
    }
   ],
   "source": [
    "indexer.query('Suisse EPFL hello')"
   ]
  },
  {
   "cell_type": "code",
   "execution_count": 10,
   "metadata": {},
   "outputs": [
    {
     "name": "stdout",
     "output_type": "stream",
     "text": [
      "INFO:httpx:HTTP Request: POST http://192.168.1.42:11434/api/chat \"HTTP/1.1 200 OK\"\n"
     ]
    },
    {
     "data": {
      "text/plain": [
       "Response(response=' Switzerland is a country known for its strong economy and financial institutions. It is home to several banks and foundations that provide funding for various projects and initiatives. Additionally, the country is renowned for its production and trade of precious metals such as gold, with values reaching thousands or even tens of thousands of francs for certain items.', source_nodes=[NodeWithScore(node=TextNode(id_='186', embedding=None, metadata={'media_id': 'rts-ZU021020-M010', 'feature_id': 186}, excluded_embed_metadata_keys=[], excluded_llm_metadata_keys=[], relationships={}, text=\"Au niveau du financement, j'ai d'abord demandé aux banques et aussi à la fondation des entreprises.\", start_char_idx=None, end_char_idx=None, text_template='{metadata_str}\\n\\n{content}', metadata_template='{key}: {value}', metadata_seperator='\\n'), score=0.4472065646757102), NodeWithScore(node=TextNode(id_='164', embedding=None, metadata={'media_id': 'rts-ZU018015-M000', 'feature_id': 164}, excluded_embed_metadata_keys=[], excluded_llm_metadata_keys=[], relationships={}, text=\"Entre ses mains, Nicolas Dizerand manipule de l'or, ou presque. La valeur de certaines carpes koi peut atteindre plusieurs milliers, voire dizaines de milliers de francs. Des animaux d'ordement qui nécessitent des soins.\", start_char_idx=None, end_char_idx=None, text_template='{metadata_str}\\n\\n{content}', metadata_template='{key}: {value}', metadata_seperator='\\n'), score=0.44351492263100956)], metadata={'186': {'media_id': 'rts-ZU021020-M010', 'feature_id': 186}, '164': {'media_id': 'rts-ZU018015-M000', 'feature_id': 164}})"
      ]
     },
     "execution_count": 10,
     "metadata": {},
     "output_type": "execute_result"
    }
   ],
   "source": [
    "response = eng.query(\"Suisse\")\n",
    "response"
   ]
  },
  {
   "cell_type": "code",
   "execution_count": null,
   "metadata": {},
   "outputs": [],
   "source": []
  },
  {
   "cell_type": "code",
   "execution_count": null,
   "metadata": {},
   "outputs": [],
   "source": [
    "llm = dspy.OllamaLocal(\"mistral\", \n",
    "                       base_url=\"http://192.168.1.42:11434\",\n",
    "                       model_type='instruct')\n",
    "dspy.settings.configure(lm=llm)"
   ]
  },
  {
   "cell_type": "code",
   "execution_count": null,
   "metadata": {},
   "outputs": [],
   "source": [
    "class QueryExpanderSubQuestion(dspy.Signature):\n",
    "    \"\"\"Expand a query by asking sub questions about the original query in French\"\"\"\n",
    "    query = dspy.InputField(desc=\"A query\")\n",
    "    expanded = dspy.OutputField(desc=\"expanded query with at least 500 tokens\")\n",
    "\n",
    "\n",
    "class QueryExpanderMoreContext(dspy.Signature):\n",
    "    \"\"\"Expand a query by generating more context and information about the original query in French\"\"\"\n",
    "    query = dspy.InputField(desc=\"A query\")\n",
    "    expanded = dspy.OutputField(desc=\"expanded query with at least 500 tokens\")"
   ]
  },
  {
   "cell_type": "code",
   "execution_count": null,
   "metadata": {},
   "outputs": [],
   "source": [
    "sentence = \"La Stratégie Energétique 2050 en Suisse\"\n",
    "sub = dspy.ChainOfThought(QueryExpanderSubQuestion)\n",
    "more = dspy.ChainOfThought(QueryExpanderMoreContext)\n",
    "res1 = sub(query=sentence)\n",
    "res2 = more(query=sentence)"
   ]
  },
  {
   "cell_type": "code",
   "execution_count": null,
   "metadata": {},
   "outputs": [],
   "source": [
    "ret1 = retriever.fetch_similar(res1.expanded)"
   ]
  },
  {
   "cell_type": "code",
   "execution_count": null,
   "metadata": {},
   "outputs": [],
   "source": [
    "ret2 = retriever.fetch_similar(res2.expanded)"
   ]
  },
  {
   "cell_type": "code",
   "execution_count": null,
   "metadata": {},
   "outputs": [],
   "source": [
    "llm.inspect_history()"
   ]
  },
  {
   "cell_type": "code",
   "execution_count": null,
   "metadata": {},
   "outputs": [],
   "source": [
    "emv.llm.retriever.show_transcripts_from_results(ret2)"
   ]
  },
  {
   "cell_type": "code",
   "execution_count": 4,
   "metadata": {},
   "outputs": [],
   "source": [
    "from llama_index.core import SimpleDirectoryReader, StorageContext\n",
    "from llama_index.core import VectorStoreIndex\n",
    "from llama_index.vector_stores.postgres import PGVectorStore\n",
    "\n",
    "from emv.settings import DB_HOST, DB_PORT, LLM_DB_NAME, DB_USER, DB_PASSWORD, DATABASE_URL\n",
    "\n",
    "from llama_index.embeddings.huggingface import HuggingFaceEmbedding\n",
    "from llama_index.core import Settings\n",
    "from llama_index.llms.ollama import Ollama\n",
    "\n",
    "Settings.embed_model = HuggingFaceEmbedding(\n",
    "    model_name=\"camembert/camembert-large\"\n",
    ")\n",
    "\n",
    "Settings.llm = llm = Ollama(base_url=\"http://192.168.1.42:11434\", model=\"mistral\", request_timeout=30.0)\n",
    "\n",
    "vector_store = PGVectorStore.from_params(\n",
    "    database=LLM_DB_NAME,\n",
    "    host=DB_HOST,\n",
    "    password=DB_PASSWORD,\n",
    "    port=DB_PORT,\n",
    "    user=DB_USER,\n",
    "    table_name=\"llama_index_vector_store\",\n",
    "    embed_dim=1024\n",
    ")\n",
    "\n",
    "# index = VectorStoreIndex.from_vector_store(vector_store=vector_store)\n",
    "# query_engine = index.as_query_engine()"
   ]
  },
  {
   "cell_type": "code",
   "execution_count": null,
   "metadata": {},
   "outputs": [],
   "source": [
    "response = query_engine.query(\"La stratégie énergétique 2050 en Suisse\")\n",
    "print(textwrap.fill(str(response), 100))"
   ]
  },
  {
   "cell_type": "code",
   "execution_count": 5,
   "metadata": {},
   "outputs": [
    {
     "data": {
      "text/plain": [
       "llama_index.core.indices.vector_store.base.VectorStoreIndex"
      ]
     },
     "execution_count": 5,
     "metadata": {},
     "output_type": "execute_result"
    }
   ],
   "source": [
    "vector_store.add()"
   ]
  },
  {
   "cell_type": "code",
   "execution_count": null,
   "metadata": {},
   "outputs": [],
   "source": [
    "import emv.llm.ingest\n",
    "\n",
    "# emv.llm.ingest.process_transcripts()"
   ]
  },
  {
   "cell_type": "code",
   "execution_count": null,
   "metadata": {},
   "outputs": [],
   "source": [
    "emv.llm.ingest.make_db()"
   ]
  },
  {
   "cell_type": "code",
   "execution_count": null,
   "metadata": {},
   "outputs": [],
   "source": [
    "emv.db.queries.count_features_by_type('transcript+ner')"
   ]
  },
  {
   "cell_type": "code",
   "execution_count": null,
   "metadata": {},
   "outputs": [],
   "source": [
    "import litellm\n",
    "from litellm import completion\n",
    "\n",
    "litellm.set_verbose=False\n",
    "\n",
    "response = completion(\n",
    "            model=\"ollama/mixtral:8x7b-instruct-v0.1-fp16\", \n",
    "            messages = [{ \"content\": \"Tell me about Kirell Benzi\",\"role\": \"user\"}], \n",
    "            api_base=\"http://192.168.1.42:11434\"\n",
    ")\n",
    "\n",
    "response.choices[0].message.content"
   ]
  },
  {
   "cell_type": "code",
   "execution_count": null,
   "metadata": {},
   "outputs": [],
   "source": [
    "from llama_index.llms import Ollama\n",
    "from llama_index.llms import ChatMessage\n",
    "import textwrap"
   ]
  },
  {
   "cell_type": "code",
   "execution_count": null,
   "metadata": {},
   "outputs": [],
   "source": [
    "llm = Ollama(base_url=\"http://192.168.1.42:11434\", model=\"mistral\", request_timeout=30.0)"
   ]
  },
  {
   "cell_type": "code",
   "execution_count": null,
   "metadata": {},
   "outputs": [],
   "source": [
    "messages = [\n",
    "    ChatMessage(\n",
    "        role=\"system\", content=\"You are a developer with a colorful personality\"\n",
    "    ),\n",
    "    ChatMessage(role=\"user\", content=\"What is my name\"),\n",
    "]\n",
    "resp = llm.stream_chat(messages)\n",
    "\n",
    "for r in resp:\n",
    "    print(r.delta, end=\"\")"
   ]
  },
  {
   "cell_type": "code",
   "execution_count": null,
   "metadata": {},
   "outputs": [],
   "source": [
    "from sqlalchemy import make_url\n",
    "from dotenv import load_dotenv\n",
    "import os\n",
    "import psycopg2\n",
    "\n",
    "load_dotenv()  # Load environment variables from .env file\n",
    "\n",
    "# Get the environment variables\n",
    "db_host = os.getenv('DB_HOST')\n",
    "db_port = os.getenv('DB_PORT')\n",
    "db_name = os.getenv('DB_NAME')\n",
    "db_user = os.getenv('DB_USER')\n",
    "db_password = os.getenv('DB_PASSWORD')\n",
    "\n",
    "# Construct the connection string\n",
    "connection_string = f\"postgresql://{db_user}:{db_password}@{db_host}:{db_port}/{db_name}\"\n",
    "url = make_url(connection_string)\n",
    "\n",
    "vector_store = PGVectorStore.from_params(\n",
    "    database=db_name,\n",
    "    host=url.host,\n",
    "    password=url.password,\n",
    "    port=url.port,\n",
    "    user=url.username,\n",
    "    table_name=\"feature\",\n",
    "    embed_dim=1024,  # openai embedding dimension\n",
    ")\n",
    "\n",
    "# storage_context = StorageContext.from_defaults(vector_store=vector_store)\n",
    "# index = VectorStoreIndex.from_documents(\n",
    "#     documents, storage_context=storage_context, show_progress=True\n",
    "# )\n",
    "# query_engine = index.as_query_engine()"
   ]
  },
  {
   "cell_type": "code",
   "execution_count": null,
   "metadata": {},
   "outputs": [],
   "source": [
    "# from llama_index.core.bridge.pydantic import PrivateAttr\n",
    "# from llama_index.core.embeddings import BaseEmbedding\n",
    "\n",
    "# class LlamaIndexEmbeddings(BaseEmbedding):\n",
    "#     _model: emv.features.text.TextEmbedder = PrivateAttr()\n",
    "#     def __init__(\n",
    "#         self,\n",
    "#         **kwargs: Any,\n",
    "#     ) -> None:\n",
    "#         self._model = emv.features.text.TextEmbedder()\n",
    "#         super().__init__(**kwargs)\n",
    "\n",
    "#     @classmethod\n",
    "#     def class_name(cls) -> str:\n",
    "#         return \"LlamaIndexEmbeddings\"\n",
    "\n",
    "#     async def _aget_query_embedding(self, query: str) -> List[float]:\n",
    "#         return self._get_query_embedding(query)\n",
    "\n",
    "#     async def _aget_text_embedding(self, text: str) -> List[float]:\n",
    "#         return self._get_text_embedding(text)\n",
    "\n",
    "#     def _get_query_embedding(self, query: str) -> List[float]:\n",
    "#         embeddings = self._model.encode(query)\n",
    "#         return embeddings[0]\n",
    "\n",
    "#     def _get_text_embedding(self, text: str) -> List[float]:\n",
    "#         embeddings = self._model.encode(text)\n",
    "#         return embeddings[0]\n",
    "\n",
    "#     def _get_text_embeddings(self, texts: List[str]) -> List[List[float]]:\n",
    "#         embeddings = self._model.encode(texts)\n",
    "#         return embeddings"
   ]
  }
 ],
 "metadata": {
  "kernelspec": {
   "display_name": "emv-IgKv7S_O-py3.10",
   "language": "python",
   "name": "python3"
  },
  "language_info": {
   "codemirror_mode": {
    "name": "ipython",
    "version": 3
   },
   "file_extension": ".py",
   "mimetype": "text/x-python",
   "name": "python",
   "nbconvert_exporter": "python",
   "pygments_lexer": "ipython3",
   "version": "3.10.11"
  }
 },
 "nbformat": 4,
 "nbformat_minor": 2
}
