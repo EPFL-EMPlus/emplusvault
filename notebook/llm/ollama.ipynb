{
 "cells": [
  {
   "cell_type": "code",
   "execution_count": 1,
   "metadata": {},
   "outputs": [
    {
     "name": "stdout",
     "output_type": "stream",
     "text": [
      "/home/kirell/work/emv/notebook\n"
     ]
    }
   ],
   "source": [
    "%cd ..\n",
    "%load_ext autoreload\n",
    "%autoreload 2"
   ]
  },
  {
   "cell_type": "code",
   "execution_count": 2,
   "metadata": {},
   "outputs": [],
   "source": [
    "import random\n",
    "\n",
    "# LOCAL imports\n",
    "import emv\n",
    "import emv.utils\n",
    "import emv.io.media\n",
    "import emv.features.text\n",
    "import emv.llm.retriever\n",
    "import emv.db.queries\n",
    "\n",
    "\n",
    "from emv.db.dao import DataAccessObject\n",
    "DataAccessObject().set_user_id(3)\n",
    "\n",
    "LOG = emv.utils.get_logger()"
   ]
  },
  {
   "cell_type": "code",
   "execution_count": 4,
   "metadata": {},
   "outputs": [
    {
     "data": {
      "text/plain": [
       "[{'media_id': 'rts-ZB058255-M085', 'data': {'entities': [['Le bruit des pelles mécaniques', 'MISC'], ['Qui construisent quoi ?', 'MISC']], 'transcript': 'Qui tendent dans ce monde insolite Le bruit des pelles mécaniques Qui construisent quoi ?'}, 'distance': 5.951468572598743},\n",
       " {'media_id': 'rts-ZT050961-M078', 'data': {'entities': [], 'transcript': 'Vraiment les Georges Boldarin qui reviennent à toutes enjambées. Et qui tentent un pressing quand même.'}, 'distance': 5.970307980080052},\n",
       " {'media_id': 'rts-ZT011654-M007', 'data': {'entities': [['Lucie', 'PER']], 'transcript': 'Et Lucie qui choisit le 6. et 400 francs supplémentaires à votre capitale. Bravo. Excellent, Lucie.'}, 'distance': 6.002549519870886},\n",
       " {'media_id': 'rts-ZU022597-M011', 'data': {'entities': [], 'transcript': 'Les autres vont devoir voter bien pour le match. Tihar Thanh Thanh à sa première volée.'}, 'distance': 6.02369814750697},\n",
       " {'media_id': 'rts-ZM028764-M000', 'data': {'entities': [['RTS 1', 'MISC']], 'transcript': 'Ce soir sur RTS 1. Des animaux remis sur patte dans les nouveaux vétérinaires. Impossible de freiner pour José Garcia.'}, 'distance': 6.143722709879985}]"
      ]
     },
     "execution_count": 4,
     "metadata": {},
     "output_type": "execute_result"
    }
   ],
   "source": [
    "retriever = emv.llm.retriever.DocumentRetriever()\n",
    "retriever.fetch_similar('EPFL', 5)"
   ]
  },
  {
   "cell_type": "code",
   "execution_count": null,
   "metadata": {},
   "outputs": [],
   "source": []
  },
  {
   "cell_type": "code",
   "execution_count": null,
   "metadata": {},
   "outputs": [],
   "source": []
  },
  {
   "cell_type": "code",
   "execution_count": null,
   "metadata": {},
   "outputs": [],
   "source": [
    "from llama_index.llms import Ollama\n",
    "from llama_index.llms import ChatMessage\n",
    "import textwrap"
   ]
  },
  {
   "cell_type": "code",
   "execution_count": null,
   "metadata": {},
   "outputs": [],
   "source": [
    "llm = Ollama(base_url=\"http://192.168.1.42:11434\", model=\"mistral\", request_timeout=30.0)"
   ]
  },
  {
   "cell_type": "code",
   "execution_count": null,
   "metadata": {},
   "outputs": [],
   "source": [
    "messages = [\n",
    "    ChatMessage(\n",
    "        role=\"system\", content=\"You are a developer with a colorful personality\"\n",
    "    ),\n",
    "    ChatMessage(role=\"user\", content=\"What is my name\"),\n",
    "]\n",
    "resp = llm.stream_chat(messages)\n",
    "\n",
    "for r in resp:\n",
    "    print(r.delta, end=\"\")"
   ]
  },
  {
   "cell_type": "code",
   "execution_count": null,
   "metadata": {},
   "outputs": [],
   "source": [
    "from sqlalchemy import make_url\n",
    "from dotenv import load_dotenv\n",
    "import os\n",
    "import psycopg2\n",
    "\n",
    "load_dotenv()  # Load environment variables from .env file\n",
    "\n",
    "# Get the environment variables\n",
    "db_host = os.getenv('DB_HOST')\n",
    "db_port = os.getenv('DB_PORT')\n",
    "db_name = os.getenv('DB_NAME')\n",
    "db_user = os.getenv('DB_USER')\n",
    "db_password = os.getenv('DB_PASSWORD')\n",
    "\n",
    "# Construct the connection string\n",
    "connection_string = f\"postgresql://{db_user}:{db_password}@{db_host}:{db_port}/{db_name}\"\n",
    "url = make_url(connection_string)\n",
    "\n",
    "vector_store = PGVectorStore.from_params(\n",
    "    database=db_name,\n",
    "    host=url.host,\n",
    "    password=url.password,\n",
    "    port=url.port,\n",
    "    user=url.username,\n",
    "    table_name=\"feature\",\n",
    "    embed_dim=1024,  # openai embedding dimension\n",
    ")\n",
    "\n",
    "# storage_context = StorageContext.from_defaults(vector_store=vector_store)\n",
    "# index = VectorStoreIndex.from_documents(\n",
    "#     documents, storage_context=storage_context, show_progress=True\n",
    "# )\n",
    "# query_engine = index.as_query_engine()"
   ]
  },
  {
   "cell_type": "code",
   "execution_count": null,
   "metadata": {},
   "outputs": [],
   "source": [
    "# from llama_index.core.bridge.pydantic import PrivateAttr\n",
    "# from llama_index.core.embeddings import BaseEmbedding\n",
    "\n",
    "# class LlamaIndexEmbeddings(BaseEmbedding):\n",
    "#     _model: emv.features.text.TextEmbedder = PrivateAttr()\n",
    "#     def __init__(\n",
    "#         self,\n",
    "#         **kwargs: Any,\n",
    "#     ) -> None:\n",
    "#         self._model = emv.features.text.TextEmbedder()\n",
    "#         super().__init__(**kwargs)\n",
    "\n",
    "#     @classmethod\n",
    "#     def class_name(cls) -> str:\n",
    "#         return \"LlamaIndexEmbeddings\"\n",
    "\n",
    "#     async def _aget_query_embedding(self, query: str) -> List[float]:\n",
    "#         return self._get_query_embedding(query)\n",
    "\n",
    "#     async def _aget_text_embedding(self, text: str) -> List[float]:\n",
    "#         return self._get_text_embedding(text)\n",
    "\n",
    "#     def _get_query_embedding(self, query: str) -> List[float]:\n",
    "#         embeddings = self._model.encode(query)\n",
    "#         return embeddings[0]\n",
    "\n",
    "#     def _get_text_embedding(self, text: str) -> List[float]:\n",
    "#         embeddings = self._model.encode(text)\n",
    "#         return embeddings[0]\n",
    "\n",
    "#     def _get_text_embeddings(self, texts: List[str]) -> List[List[float]]:\n",
    "#         embeddings = self._model.encode(texts)\n",
    "#         return embeddings"
   ]
  }
 ],
 "metadata": {
  "kernelspec": {
   "display_name": "emv-IgKv7S_O-py3.10",
   "language": "python",
   "name": "python3"
  },
  "language_info": {
   "codemirror_mode": {
    "name": "ipython",
    "version": 3
   },
   "file_extension": ".py",
   "mimetype": "text/x-python",
   "name": "python",
   "nbconvert_exporter": "python",
   "pygments_lexer": "ipython3",
   "version": "3.10.11"
  }
 },
 "nbformat": 4,
 "nbformat_minor": 2
}
