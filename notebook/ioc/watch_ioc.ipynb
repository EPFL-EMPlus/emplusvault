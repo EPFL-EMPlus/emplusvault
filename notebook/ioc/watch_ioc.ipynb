{
 "cells": [
  {
   "cell_type": "code",
   "execution_count": 1,
   "metadata": {},
   "outputs": [],
   "source": [
    "import pandas as pd\n",
    "from emv.storage.storage import get_storage_client\n",
    "from datetime import datetime\n",
    "from IPython.display import Video"
   ]
  },
  {
   "cell_type": "code",
   "execution_count": 2,
   "metadata": {},
   "outputs": [],
   "source": [
    "OUTDIR = \"data\""
   ]
  },
  {
   "cell_type": "code",
   "execution_count": 3,
   "metadata": {},
   "outputs": [],
   "source": [
    "metadata = '../data/metadata.hdf5'\n",
    "with pd.HDFStore(metadata) as store:\n",
    "    keys = store.keys()\n",
    "    df = store.get(keys[0])  "
   ]
  },
  {
   "cell_type": "code",
   "execution_count": 4,
   "metadata": {},
   "outputs": [],
   "source": [
    "def get_sequence_from_storage(seq_id: str, bucket_name='ioc') -> bytes:\n",
    "    file_path = f\"{OUTDIR}/{seq_id}.mp4\"\n",
    "    print(file_path)\n",
    "    seq = df[df.seq_id == seq_id]\n",
    "    print(seq.guid.values[0])\n",
    "\n",
    "    ok = get_storage_client().download(bucket_name, \n",
    "        f\"videos/{seq.guid.values[0]}/{seq_id}.mp4\",\n",
    "        f\"{OUTDIR}/{seq_id}.mp4\")\n",
    "    print(seq.description.values[0])\n",
    "    return Video(file_path)"
   ]
  },
  {
   "cell_type": "code",
   "execution_count": 7,
   "metadata": {},
   "outputs": [
    {
     "name": "stdout",
     "output_type": "stream",
     "text": [
      "data/SEQ42710338.mp4\n",
      "MDA42710309\n",
      "Football ; Men's ; First Round ; Group A ; Men's Group A ; Foul ; TEAM (FRA)\n"
     ]
    },
    {
     "data": {
      "text/html": [
       "<video src=\"data/SEQ42710338.mp4\" controls  >\n",
       "      Your browser does not support the <code>video</code> element.\n",
       "    </video>"
      ],
      "text/plain": [
       "<IPython.core.display.Video object>"
      ]
     },
     "execution_count": 7,
     "metadata": {},
     "output_type": "execute_result"
    }
   ],
   "source": [
    "seq_id = 'SEQ42710338'\n",
    "get_sequence_from_storage(seq_id)"
   ]
  },
  {
   "cell_type": "code",
   "execution_count": null,
   "metadata": {},
   "outputs": [],
   "source": [
    "total_duration = 0\n",
    "\n",
    "guid = df[df.seq_id == seq_id].guid.values[0]\n",
    "df_norm = df[df.guid == guid].copy()\n",
    "\n",
    "def seconds_to_minutes(seconds):\n",
    "    minutes = seconds // 60\n",
    "    seconds = seconds % 60 \n",
    "    return int(minutes), int(seconds)\n",
    "\n",
    "# Normalize the timestamps for the clips\n",
    "df_norm.loc[:, 'start_ts'] = df_norm.start.apply(lambda x: (datetime.strptime(x, '%H:%M:%S:%f') - datetime(1900, 1, 1)).total_seconds())\n",
    "df_norm.loc[:, 'end_ts'] = df_norm.end.apply(lambda x: (datetime.strptime(x, '%H:%M:%S:%f') - datetime(1900, 1, 1)).total_seconds())\n",
    "df_norm.loc[:, 'end_ts'] = df_norm.end_ts - df_norm.start_ts.min()\n",
    "df_norm.loc[:, 'start_ts'] = df_norm.start_ts - df_norm.start_ts.min()\n",
    "\n",
    "df_norm = df_norm.sort_values(by='start_ts')\n",
    "\n",
    "for i, row in df_norm.iterrows():\n",
    "    print(row.seq_id, row.description, row.duration, total_duration, seconds_to_minutes(row.start_ts), '->', seconds_to_minutes(row.end_ts))\n",
    "    total_duration += row.end_ts - row.start_ts"
   ]
  },
  {
   "cell_type": "code",
   "execution_count": null,
   "metadata": {},
   "outputs": [],
   "source": []
  }
 ],
 "metadata": {
  "kernelspec": {
   "display_name": "rts-bWoRmFur-py3.10",
   "language": "python",
   "name": "python3"
  },
  "language_info": {
   "codemirror_mode": {
    "name": "ipython",
    "version": 3
   },
   "file_extension": ".py",
   "mimetype": "text/x-python",
   "name": "python",
   "nbconvert_exporter": "python",
   "pygments_lexer": "ipython3",
   "version": "3.10.11"
  },
  "orig_nbformat": 4
 },
 "nbformat": 4,
 "nbformat_minor": 2
}
