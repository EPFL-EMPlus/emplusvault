{
 "cells": [
  {
   "cell_type": "code",
   "execution_count": null,
   "metadata": {},
   "outputs": [],
   "source": [
    "%cd ../..\n",
    "%load_ext autoreload\n",
    "\n",
    "%autoreload 2"
   ]
  },
  {
   "cell_type": "code",
   "execution_count": null,
   "metadata": {},
   "outputs": [],
   "source": [
    "import os\n",
    "import numpy as np\n",
    "import pandas as pd\n",
    "import matplotlib.pyplot as plt\n",
    "from matplotlib import patches\n",
    "\n",
    "from emv.client.get_content import get_frame\n",
    "from emv.features.pose import load_poses\n",
    "from emv.features.pose_utils import draw_pose, compare_pose, format_keypoints_to_read, keypoint_name_to_id\n",
    "from emv.features.pose_utils import KEYPOINTS_NAMES, CONNECTIONS, ANGLES_ASSOCIATIONS"
   ]
  },
  {
   "cell_type": "markdown",
   "metadata": {},
   "source": [
    "# Load extracted poses"
   ]
  },
  {
   "cell_type": "code",
   "execution_count": null,
   "metadata": {},
   "outputs": [],
   "source": [
    "local_poses_path = \"data/pose_df.csv\"\n",
    "pose_df = load_poses(local_poses_path, filter_poses={})"
   ]
  },
  {
   "cell_type": "markdown",
   "metadata": {},
   "source": [
    "# Filter standing poses"
   ]
  },
  {
   "cell_type": "code",
   "execution_count": null,
   "metadata": {},
   "outputs": [],
   "source": [
    "standing_still_angle = {\n",
    "    \"left_elbow\": 0.9,\n",
    "    \"right_elbow\": 0.9,\n",
    "    \"left_shoulder\": 0.15,\n",
    "    \"right_shoulder\": 0.15,\n",
    "    \"left_hip\": 0.95,\n",
    "    \"right_hip\": 0.95,\n",
    "    \"left_knee\":0.95,\n",
    "    \"right_knee\":0.95,\n",
    "    \"neck\":0.5\n",
    "}\n",
    "\n",
    "sitting_pose_angle = {\n",
    "    \"left_elbow\": 0.6,\n",
    "    \"right_elbow\": 0.6,\n",
    "    \"left_shoulder\": 0.15,\n",
    "    \"right_shoulder\": 0.15,\n",
    "    \"left_hip\": 0.5,\n",
    "    \"right_hip\": 0.5,\n",
    "    \"left_knee\":0.5,\n",
    "    \"right_knee\":0.5,\n",
    "    \"neck\":0.5\n",
    "}"
   ]
  },
  {
   "cell_type": "code",
   "execution_count": null,
   "metadata": {},
   "outputs": [],
   "source": [
    "pose_df[\"drop\"] = pose_df.apply(lambda df: drop_pose(df, sitting_pose_angle, drop_threshold=0.2), axis = 1)\n",
    "pose_df[\"drop\"].value_counts()"
   ]
  },
  {
   "cell_type": "code",
   "execution_count": null,
   "metadata": {},
   "outputs": [],
   "source": [
    "# create a grid of subplots\n",
    "nrows = 2\n",
    "ncols = 6\n",
    "fig, axs = plt.subplots(nrows=2 * nrows, ncols=ncols, figsize=(ncols * 3, 2 * nrows * 3))\n",
    "axs = axs.flatten()\n",
    "# iterate over the poses and draw each pose in a subplot\n",
    "sample_dropped_poses = pose_df[pose_df[\"drop\"]].sample(nrows * ncols)\n",
    "sample_kept_poses = pose_df[~pose_df[\"drop\"]].sample(nrows * ncols)\n",
    "sample_poses = pd.concat([sample_dropped_poses, sample_kept_poses]).reset_index(drop=True)\n",
    "for i, pose in sample_poses.iterrows():\n",
    "    draw_pose(pose, ax = axs[i], cut = True)\n",
    "    axs[i].set_title(\"drop\" if pose[\"drop\"] else \"keep\")\n",
    "plt.show()"
   ]
  },
  {
   "cell_type": "code",
   "execution_count": null,
   "metadata": {},
   "outputs": [],
   "source": [
    "for sport in pose_df.sport.unique():\n",
    "    sport_dropped_poses = pose_df[pose_df[\"drop\"] & (pose_df[\"sport\"] == sport)]\n",
    "    sport_dropped_poses = sport_dropped_poses.sample(np.min([sport_dropped_poses.shape[0], 10])).reset_index(drop=True)\n",
    "    if sport_dropped_poses.shape[0] == 0:\n",
    "        continue\n",
    "    fig, axs = plt.subplots(1, sport_dropped_poses.shape[0], figsize=(sport_dropped_poses.shape[0] * 3, 3))\n",
    "    if sport_dropped_poses.shape[0] == 1:\n",
    "        axs = [axs]\n",
    "    else:\n",
    "        axs = axs.flatten()\n",
    "\n",
    "    for i, pose in sport_dropped_poses.iterrows():\n",
    "        draw_pose(pose, ax = axs[i], cut = True)\n",
    "        axs[i].set_title(sport)\n",
    "    plt.show()"
   ]
  },
  {
   "cell_type": "markdown",
   "metadata": {},
   "source": [
    "# Filter poses based on bbox"
   ]
  },
  {
   "cell_type": "code",
   "execution_count": null,
   "metadata": {},
   "outputs": [],
   "source": [
    "pose_df[pose_df.media_id == \"ioc-SEQ42781636\"].to_dict(orient = \"records\")"
   ]
  },
  {
   "cell_type": "code",
   "execution_count": null,
   "metadata": {},
   "outputs": [],
   "source": [
    "def draw_poses_on_frame(media_data, ax = None, threshold = 0.1):\n",
    "    if ax is None:\n",
    "        fig, ax = plt.subplots(figsize=(6,6))\n",
    "\n",
    "    frame = get_frame(media_data[0][\"media_id\"], media_data[0][\"frame_number\"])\n",
    "    if frame is None:\n",
    "        return ax\n",
    "    ax.imshow(frame)\n",
    "\n",
    "    for pose in media_data:\n",
    "        keypoints = pose[\"keypoints\"]\n",
    "        ax.scatter([k[0] for k in keypoints if k[2] > threshold], \n",
    "                [k[1] for k in keypoints if k[2] > threshold], \n",
    "                s=10)\n",
    "        for c in CONNECTIONS:\n",
    "            k1 = keypoints[KEYPOINTS_NAMES.index(c[0])]\n",
    "            k2 = keypoints[KEYPOINTS_NAMES.index(c[1])]\n",
    "            if k1[2] > threshold and k2[2] > threshold:\n",
    "                ax.plot([k1[0], k2[0]], \n",
    "                        [k1[1], k2[1]], \n",
    "                        linewidth=1, color='black')\n",
    "\n",
    "        bbox = pose[\"bbox\"]\n",
    "        rect = patches.Rectangle((bbox[0], bbox[1]), bbox[2], bbox[3], linewidth=1, edgecolor='r', facecolor='none')\n",
    "        ax.add_patch(rect)                                              \n",
    "    \n",
    "    ax.axis(\"off\")\n",
    "    ax.set_aspect('equal')\n",
    "    plt.tight_layout()\n",
    "\n",
    "    return ax"
   ]
  },
  {
   "cell_type": "code",
   "execution_count": null,
   "metadata": {},
   "outputs": [],
   "source": [
    "draw_poses_on_frame(pose_df[pose_df.media_id == \"ioc-SEQ42781636\"].to_dict(orient = \"records\"))"
   ]
  },
  {
   "cell_type": "code",
   "execution_count": null,
   "metadata": {},
   "outputs": [],
   "source": [
    "import requests\n",
    "import random\n",
    "from emv.features.pose import process_video, PifPafModel\n",
    "from emv.client.get_content import authenticate\n",
    "from emv.settings import API_BASE_URL\n",
    "\n",
    "MODEL = PifPafModel.fast"
   ]
  },
  {
   "cell_type": "code",
   "execution_count": null,
   "metadata": {},
   "outputs": [],
   "source": [
    "headers = authenticate()\n",
    "\n",
    "media_id = \"ioc-SEQ42781636\"\n",
    "response = requests.get(f\"{API_BASE_URL}/download/{media_id}\", \n",
    "                        headers=headers, \n",
    "                        verify=False)\n",
    "print(f\"{API_BASE_URL}/download/{media_id}\")\n",
    "if response.status_code != 200:\n",
    "    print(\"Download failed!\")\n",
    "\n",
    "video_bytes = response.content"
   ]
  },
  {
   "cell_type": "code",
   "execution_count": null,
   "metadata": {},
   "outputs": [],
   "source": [
    "frames = process_video(model_name=MODEL,\n",
    "                       video_bytes = video_bytes,\n",
    "                       skip_frame = 1)"
   ]
  },
  {
   "cell_type": "code",
   "execution_count": null,
   "metadata": {},
   "outputs": [],
   "source": [
    "len(frames)"
   ]
  },
  {
   "cell_type": "code",
   "execution_count": null,
   "metadata": {},
   "outputs": [],
   "source": [
    "def plot_bbox(media_id, video_bytes = None, skip_frame = 1):\n",
    "    if video_bytes is None:\n",
    "        headers = authenticate()\n",
    "        response = requests.get(f\"{API_BASE_URL}/download/{media_id}\", \n",
    "                                headers=headers, \n",
    "                                verify=False)\n",
    "        print(f\"{API_BASE_URL}/download/{media_id}\")\n",
    "        if response.status_code != 200:\n",
    "            print(\"Download failed!\")\n",
    "\n",
    "        video_bytes = response.content\n",
    "\n",
    "    frames = process_video(model_name=MODEL,\n",
    "                           video_bytes = video_bytes,\n",
    "                           skip_frame = skip_frame)\n",
    "\n",
    "    frame = get_frame(media_id, 10)\n",
    "\n",
    "    fig, ax = plt.subplots(figsize=(6,6))\n",
    "    ax.imshow(frame)\n",
    "\n",
    "    for frame in frames:\n",
    "        frame_data = frame[\"data\"][\"annotations\"]\n",
    "        for pose in frame_data:\n",
    "            bbox = pose[\"bbox\"]\n",
    "            rect = patches.Rectangle((bbox[0], bbox[1]), bbox[2], bbox[3], linewidth=0.5, edgecolor='r', facecolor='none', alpha = 0.5)\n",
    "            ax.add_patch(rect) \n",
    "\n",
    "    ax.axis(\"off\")\n",
    "    plt.tight_layout()\n",
    "    plt.title(media_id)\n",
    "    plt.show()"
   ]
  },
  {
   "cell_type": "code",
   "execution_count": null,
   "metadata": {},
   "outputs": [],
   "source": [
    "sample_ids = random.sample(pose_df.media_id.unique().tolist(), 10)\n",
    "\n",
    "for media_id in sample_ids:\n",
    "    plot_bbox(media_id, skip_frame = 1)"
   ]
  },
  {
   "cell_type": "code",
   "execution_count": null,
   "metadata": {},
   "outputs": [],
   "source": []
  }
 ],
 "metadata": {
  "kernelspec": {
   "display_name": "rts-o0uzL038-py3.10",
   "language": "python",
   "name": "python3"
  },
  "language_info": {
   "codemirror_mode": {
    "name": "ipython",
    "version": 3
   },
   "file_extension": ".py",
   "mimetype": "text/x-python",
   "name": "python",
   "nbconvert_exporter": "python",
   "pygments_lexer": "ipython3",
   "version": "3.10.11"
  }
 },
 "nbformat": 4,
 "nbformat_minor": 2
}
