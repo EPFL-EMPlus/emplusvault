{
 "cells": [
  {
   "cell_type": "code",
   "execution_count": null,
   "metadata": {},
   "outputs": [],
   "source": [
    "%cd ../..\n",
    "%load_ext autoreload\n",
    "\n",
    "%autoreload 2"
   ]
  },
  {
   "cell_type": "code",
   "execution_count": null,
   "metadata": {},
   "outputs": [],
   "source": [
    "import os\n",
    "import numpy as np\n",
    "import pandas as pd\n",
    "import matplotlib.pyplot as plt\n",
    "\n",
    "from emv.client.get_content import get_features\n",
    "from emv.features.pose import draw_pose, process_all_poses, drop_pose\n",
    "from emv.features.pose import format_keypoints_to_read, keypoint_name_to_id\n",
    "from emv.features.pose import KEYPOINTS_NAMES, CONNECTIONS, ANGLES_ASSOCIATIONS"
   ]
  },
  {
   "cell_type": "markdown",
   "metadata": {},
   "source": [
    "# Load extracted poses"
   ]
  },
  {
   "cell_type": "code",
   "execution_count": null,
   "metadata": {},
   "outputs": [],
   "source": [
    "poses = get_features(feature_type=\"pose\", page_size=100, max_features=100)\n",
    "pose_df = process_all_poses(poses, drop_poses = [])"
   ]
  },
  {
   "cell_type": "markdown",
   "metadata": {},
   "source": [
    "# Filter standing poses"
   ]
  },
  {
   "cell_type": "code",
   "execution_count": null,
   "metadata": {},
   "outputs": [],
   "source": [
    "standing_still_angle = {\n",
    "    \"left_elbow\": 0.9,\n",
    "    \"right_elbow\": 0.9,\n",
    "    \"left_shoulder\": 0.15,\n",
    "    \"right_shoulder\": 0.15,\n",
    "    \"left_hip\": 0.95,\n",
    "    \"right_hip\": 0.95,\n",
    "    \"left_knee\":0.95,\n",
    "    \"right_knee\":0.95,\n",
    "    \"neck\":0.5\n",
    "}\n",
    "\n",
    "sitting_pose_angle = {\n",
    "    \"left_elbow\": 0.6,\n",
    "    \"right_elbow\": 0.6,\n",
    "    \"left_shoulder\": 0.15,\n",
    "    \"right_shoulder\": 0.15,\n",
    "    \"left_hip\": 0.5,\n",
    "    \"right_hip\": 0.5,\n",
    "    \"left_knee\":0.5,\n",
    "    \"right_knee\":0.5,\n",
    "    \"neck\":0.5\n",
    "}"
   ]
  },
  {
   "cell_type": "code",
   "execution_count": null,
   "metadata": {},
   "outputs": [],
   "source": [
    "pose_df[\"drop\"] = pose_df.apply(lambda df: drop_pose(df, sitting_pose_angle, drop_threshold=0.2), axis = 1)\n",
    "pose_df[\"drop\"].value_counts()"
   ]
  },
  {
   "cell_type": "code",
   "execution_count": null,
   "metadata": {},
   "outputs": [],
   "source": [
    "# create a grid of subplots\n",
    "nrows = 2\n",
    "ncols = 6\n",
    "fig, axs = plt.subplots(nrows=2 * nrows, ncols=ncols, figsize=(ncols * 3, 2 * nrows * 3))\n",
    "axs = axs.flatten()\n",
    "# iterate over the poses and draw each pose in a subplot\n",
    "sample_dropped_poses = pose_df[pose_df[\"drop\"]].sample(nrows * ncols)\n",
    "sample_kept_poses = pose_df[~pose_df[\"drop\"]].sample(nrows * ncols)\n",
    "sample_poses = pd.concat([sample_dropped_poses, sample_kept_poses]).reset_index(drop=True)\n",
    "for i, pose in sample_poses.iterrows():\n",
    "    draw_pose(pose, ax = axs[i], cut = True)\n",
    "    axs[i].set_title(\"drop\" if pose[\"drop\"] else \"keep\")\n",
    "plt.show()"
   ]
  },
  {
   "cell_type": "code",
   "execution_count": null,
   "metadata": {},
   "outputs": [],
   "source": [
    "for sport in pose_df.sport.unique():\n",
    "    sport_dropped_poses = pose_df[pose_df[\"drop\"] & (pose_df[\"sport\"] == sport)]\n",
    "    sport_dropped_poses = sport_dropped_poses.sample(np.min([sport_dropped_poses.shape[0], 10])).reset_index(drop=True)\n",
    "    if sport_dropped_poses.shape[0] == 0:\n",
    "        continue\n",
    "    fig, axs = plt.subplots(1, sport_dropped_poses.shape[0], figsize=(sport_dropped_poses.shape[0] * 3, 3))\n",
    "    if sport_dropped_poses.shape[0] == 1:\n",
    "        axs = [axs]\n",
    "    else:\n",
    "        axs = axs.flatten()\n",
    "\n",
    "    for i, pose in sport_dropped_poses.iterrows():\n",
    "        draw_pose(pose, ax = axs[i], cut = True)\n",
    "        axs[i].set_title(sport)\n",
    "    plt.show()"
   ]
  },
  {
   "cell_type": "code",
   "execution_count": null,
   "metadata": {},
   "outputs": [],
   "source": []
  }
 ],
 "metadata": {
  "kernelspec": {
   "display_name": "rts-o0uzL038-py3.10",
   "language": "python",
   "name": "python3"
  },
  "language_info": {
   "codemirror_mode": {
    "name": "ipython",
    "version": 3
   },
   "file_extension": ".py",
   "mimetype": "text/x-python",
   "name": "python",
   "nbconvert_exporter": "python",
   "pygments_lexer": "ipython3",
   "version": "3.10.12"
  }
 },
 "nbformat": 4,
 "nbformat_minor": 2
}
