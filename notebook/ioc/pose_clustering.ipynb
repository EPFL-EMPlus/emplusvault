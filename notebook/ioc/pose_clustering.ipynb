{
 "cells": [
  {
   "cell_type": "code",
   "execution_count": null,
   "metadata": {},
   "outputs": [],
   "source": [
    "%cd ../.."
   ]
  },
  {
   "cell_type": "code",
   "execution_count": null,
   "metadata": {},
   "outputs": [],
   "source": [
    "import os\n",
    "import random\n",
    "import numpy as np\n",
    "import pandas as pd\n",
    "import matplotlib.pyplot as plt\n",
    "import seaborn as sns\n",
    "import umap\n",
    "import cv2\n",
    "from numba import jit\n",
    "\n",
    "from sklearn.cluster import DBSCAN, KMeans\n",
    "from hdbscan import HDBSCAN\n",
    "from umap import UMAP\n",
    "\n",
    "from emv.features.pose import load_poses \n",
    "from emv.features.pose_utils import draw_pose, CONNECTIONS, KEYPOINTS_NAMES, ANGLES_ASSOCIATIONS\n",
    "\n",
    "from bokeh.io import output_notebook, show\n",
    "from bokeh.layouts import layout, column, row\n",
    "from bokeh.plotting import figure\n",
    "from bokeh import palettes\n",
    "\n",
    "output_notebook()"
   ]
  },
  {
   "cell_type": "code",
   "execution_count": null,
   "metadata": {},
   "outputs": [],
   "source": [
    "local_poses_path = \"data/sample_pose_df.csv\"\n",
    "pose_df = load_poses(local_poses_path, filter_poses={})"
   ]
  },
  {
   "cell_type": "code",
   "execution_count": null,
   "metadata": {},
   "outputs": [],
   "source": [
    "pose_df.head(2)"
   ]
  },
  {
   "cell_type": "code",
   "execution_count": null,
   "metadata": {},
   "outputs": [],
   "source": [
    "angles = pd.DataFrame(pose_df.angle_vec.tolist(), columns = ANGLES_ASSOCIATIONS.keys())\n",
    "\n",
    "default_angles = []\n",
    "for angle in ANGLES_ASSOCIATIONS.keys():\n",
    "    non_missing_angles = angles[angles[angle] != 0][angle]\n",
    "    default_angles.append(non_missing_angles.mean())\n",
    "    \n",
    "random_size = 0.0001\n",
    "pose_df[\"angle_vec_fix\"] = pose_df.angle_vec.map(lambda x: [a if a != 0 else default_angles[i] + random.random() * random_size for i,a in enumerate(x)])"
   ]
  },
  {
   "cell_type": "code",
   "execution_count": null,
   "metadata": {},
   "outputs": [],
   "source": [
    "# Plot mean angles before fix (including missing values), before fix (excluding missing values), and after fix\n",
    "width = 0.2\n",
    "r = np.arange(len(ANGLES_ASSOCIATIONS))\n",
    "r1 = [x - width for x in r]\n",
    "r2 = [x + width for x in r]\n",
    "\n",
    "plt.figure(figsize=(15,5))\n",
    "plt.bar(r, angles.mean(), width = width, label=\"Before fix (including missing values)\")\n",
    "plt.bar(r1, angles.replace(0, np.nan).mean(), width = width, label=\"Before fix (excluding missing values)\")\n",
    "plt.bar(r2, pd.DataFrame(pose_df.angle_vec_fix.tolist(), columns = ANGLES_ASSOCIATIONS.keys()).mean(), width = width, label=\"After fix\")\n",
    "plt.xticks(r, ANGLES_ASSOCIATIONS.keys(), rotation=0)\n",
    "plt.legend()\n",
    "plt.show()"
   ]
  },
  {
   "cell_type": "code",
   "execution_count": null,
   "metadata": {},
   "outputs": [],
   "source": [
    "def get_directions(keypoints):\n",
    "    directions = []\n",
    "    for connection in CONNECTIONS:\n",
    "        kp1, kp2 = connection\n",
    "        x1, y1, c1 = keypoints[KEYPOINTS_NAMES.index(kp1)]\n",
    "        x2, y2, c2 = keypoints[KEYPOINTS_NAMES.index(kp2)]\n",
    "        directions.append((x2 - x1, y2 - y1))\n",
    "    directions = np.array(directions)\n",
    "    \n",
    "    return directions"
   ]
  },
  {
   "cell_type": "code",
   "execution_count": null,
   "metadata": {},
   "outputs": [],
   "source": [
    "pose_df[\"directions\"] = pose_df.keypoints.apply(get_directions)\n",
    "pose_df[\"norm_directions\"] = pose_df.directions.apply(lambda x: x.flatten() / np.linalg.norm(x.flatten()))\n",
    "pose_df[\"feature_angle_dir\"] = pose_df.apply(lambda df: np.concatenate([df.norm_directions, df.angle_vec_fix]), axis = 1)"
   ]
  },
  {
   "cell_type": "markdown",
   "metadata": {},
   "source": [
    "# Clustering"
   ]
  },
  {
   "cell_type": "markdown",
   "metadata": {},
   "source": [
    "## All poses"
   ]
  },
  {
   "cell_type": "code",
   "execution_count": null,
   "metadata": {},
   "outputs": [],
   "source": [
    "reducer = umap.UMAP(n_neighbors=500, min_dist=0.1, metric='cosine')\n",
    "embeddings = reducer.fit_transform(pose_df[\"angle_vec\"].tolist())\n",
    "pose_df[\"umap_x\"] = embeddings[:,0]\n",
    "pose_df[\"umap_y\"] = embeddings[:,1]"
   ]
  },
  {
   "cell_type": "code",
   "execution_count": null,
   "metadata": {},
   "outputs": [],
   "source": [
    "def cluster_poses(algo, pose_df, plot=True):\n",
    "    algo.fit(pose_df[[\"umap_x\", \"umap_y\"]])\n",
    "    pose_df[\"label\"] = algo.labels_\n",
    "    if plot:\n",
    "        plt.figure(figsize=(10,10))\n",
    "        for label in pose_df[\"label\"].unique():\n",
    "            plt.scatter(pose_df[pose_df.label == label][\"umap_x\"], \n",
    "                        pose_df[pose_df.label == label][\"umap_y\"], \n",
    "                        s=1, label=label)\n",
    "        plt.axis('off')\n",
    "        plt.show()\n",
    "\n",
    "    return pose_df"
   ]
  },
  {
   "cell_type": "code",
   "execution_count": null,
   "metadata": {},
   "outputs": [],
   "source": [
    "kmeans = KMeans(n_clusters=25)\n",
    "kmeans_poses = cluster_poses(kmeans, pose_df)"
   ]
  },
  {
   "cell_type": "code",
   "execution_count": null,
   "metadata": {},
   "outputs": [],
   "source": [
    "dbscan = DBSCAN(eps=0.2, min_samples=10)\n",
    "dbscan_poses = cluster_poses(dbscan, pose_df)"
   ]
  },
  {
   "cell_type": "code",
   "execution_count": null,
   "metadata": {},
   "outputs": [],
   "source": [
    "# create a grid of subplots\n",
    "nrows = 2\n",
    "ncols = 6\n",
    "\n",
    "for cluster in dbscan_poses[\"label\"].unique()[:3]:\n",
    "    print(\"Cluster\", cluster)\n",
    "    n_samples = dbscan_poses[dbscan_poses[\"label\"] == cluster].shape[0]\n",
    "    n_samples = min(n_samples, nrows * ncols)\n",
    "    sample_poses = dbscan_poses[dbscan_poses[\"label\"] == cluster].sample(n_samples).reset_index(drop=True)\n",
    "\n",
    "    fig, axs = plt.subplots(nrows=nrows, ncols=ncols, figsize=(ncols * 3, nrows * 3))\n",
    "    axs = axs.flatten()\n",
    "    # iterate over the poses and draw each pose in a subplot\n",
    "    for i, pose in sample_poses.iterrows():\n",
    "        draw_pose(pose, ax = axs[i], cut = True)\n",
    "\n",
    "    plt.show()\n"
   ]
  },
  {
   "cell_type": "markdown",
   "metadata": {},
   "source": [
    "## By sport"
   ]
  },
  {
   "cell_type": "code",
   "execution_count": null,
   "metadata": {},
   "outputs": [],
   "source": [
    "def get_representative_poses(pose_df, sport, feature, clusterer = DBSCAN(eps=0.2, min_samples=10), metric = \"euclidean\"):\n",
    "    sport_poses = pose_df[pose_df.sport == sport]\n",
    "    umap = UMAP(n_components=2, n_neighbors=1000, min_dist=0.1, metric=metric)\n",
    "    embeddings = umap.fit_transform(sport_poses[feature].tolist())\n",
    "\n",
    "    sport_poses.loc[:,\"umap_x\"] = embeddings[:,0]\n",
    "    sport_poses.loc[:,\"umap_y\"] = embeddings[:,1]\n",
    "    \n",
    "    clusterer.fit(embeddings)\n",
    "\n",
    "    sport_poses.loc[:,\"label\"] = clusterer.labels_\n",
    "    sport_poses.loc[:,\"probability\"] = clusterer.probabilities_\n",
    "    \n",
    "    p1 = figure(title=\"UMAP\", width=500, height=500)\n",
    "\n",
    "    palette = palettes.Turbo256\n",
    "    labels = sport_poses[\"label\"].unique()\n",
    "    label_colors = {label:palette[int(256 * (label + 1) / (len(labels) + 1))] for label in labels}\n",
    "\n",
    "    representative_poses = []\n",
    "    for label in labels:\n",
    "        p1.scatter(sport_poses[sport_poses.label == label][\"umap_x\"], sport_poses[sport_poses.label == label][\"umap_y\"], \n",
    "                alpha = sport_poses[sport_poses.label == label][\"probability\"].map(lambda x: np.clip(x, 0.1, 1)),\n",
    "                color = label_colors[label], size = 1)\n",
    "        if label != -1:\n",
    "            representative_pose = sport_poses.iloc[np.argmin(np.linalg.norm(sport_poses[[\"umap_x\", \"umap_y\"]].values - sport_poses[sport_poses.label == label][[\"umap_x\", \"umap_y\"]].mean().values, axis=1))]\n",
    "            representative_poses.append(representative_pose)\n",
    "            p1.scatter(representative_pose[\"umap_x\"], representative_pose[\"umap_y\"], color=\"red\", alpha = 1, size=12, marker = \"x\")\n",
    "    representative_poses = pd.concat([p.to_frame().T for p in representative_poses])        \n",
    "\n",
    "    p2 = figure(title=f\"Items not assigned: {len(sport_poses[sport_poses.label == -1])}\", width=500, height=250)\n",
    "    p2.vbar(x=sport_poses[sport_poses.label != -1].label.value_counts().index, top=sport_poses[sport_poses.label != -1].label.value_counts().values, width=0.9, color = \"blue\")\n",
    "    p2.xaxis.ticker = sport_poses[sport_poses.label != -1].label.value_counts().index\n",
    "\n",
    "    p3 = figure(title=\"Mean probability per cluster\", width=500, height=250)\n",
    "    mean_probs = sport_poses[sport_poses.label != -1].groupby(\"label\").probability.mean()\n",
    "    mean_stds = sport_poses[sport_poses.label != -1].groupby(\"label\").probability.std()\n",
    "    p3.circle(mean_probs.index, mean_probs.values, size=10, color=\"blue\", alpha=0.5)\n",
    "    err = list(zip((mean_probs - mean_stds).values, (mean_probs + mean_stds).values))\n",
    "    p3.multi_line(list(zip(mean_probs.index, mean_probs.index)), err, color='blue')\n",
    "    p3.xaxis.ticker = sport_poses[sport_poses.label != -1].label.value_counts().index\n",
    "\n",
    "    layout = row([p1, column(p2, p3)])\n",
    "    show(layout)\n",
    "    \n",
    "    return representative_poses, sport_poses\n",
    "\n",
    "def plot_representative_poses(representative_poses, ncols = 6):\n",
    "    nrows = np.ceil(len(representative_poses) / ncols).astype(int)\n",
    "\n",
    "    fig, axs = plt.subplots(nrows=nrows, ncols=ncols, figsize=(ncols * 3, nrows * 3))\n",
    "    axs = axs.flatten()\n",
    "    for i, pose in enumerate(representative_poses):\n",
    "        draw_pose(pose, ax = axs[i], cut = True, show_frame=True)\n",
    "        axs[i].set_title(pose[\"label\"])\n",
    "    [ax.set_axis_off() for ax in axs[i+1:]]\n",
    "    fig.suptitle(f\"Representative poses for {sport}\")\n",
    "    plt.show()"
   ]
  },
  {
   "cell_type": "code",
   "execution_count": null,
   "metadata": {},
   "outputs": [],
   "source": [
    "representative_poses, sport_poses = get_representative_poses(pose_df = pose_df,\n",
    "                                                             sport = \"Weightlifting\", \n",
    "                                                             feature = \"angle_vec_fix\", \n",
    "                                                             clusterer = HDBSCAN(min_cluster_size=50, min_samples=10),\n",
    "                                                             metric = \"cosine\")"
   ]
  },
  {
   "cell_type": "code",
   "execution_count": null,
   "metadata": {},
   "outputs": [],
   "source": [
    "def inspect_clusters(sport_poses):\n",
    "    clusters = sorted(sport_poses.label.unique())\n",
    "    ncols = 6\n",
    "    nrows = len(clusters) - 1\n",
    "\n",
    "    fig, axs = plt.subplots(nrows=nrows, ncols=ncols, figsize=(ncols * 3, nrows * 3))\n",
    "    axs = axs.flatten()\n",
    "    for k in clusters:\n",
    "        if k == -1:\n",
    "            continue\n",
    "        sample_poses = sport_poses[sport_poses[\"label\"] == k]\n",
    "        sample_poses = sample_poses[sample_poses.probability > 0.8]\n",
    "        sample_poses = sample_poses.sample(np.min([ncols, len(sample_poses)])).reset_index(drop=True)\n",
    "        for j, pose in sample_poses.iterrows():\n",
    "            draw_pose(pose, ax = axs[k * ncols + j], cut = True, show_frame=True)\n",
    "            axs[k * ncols + j].set_title(pose[\"label\"])\n",
    "    plt.show()"
   ]
  },
  {
   "cell_type": "code",
   "execution_count": null,
   "metadata": {},
   "outputs": [],
   "source": [
    "representative_poses, sport_poses = get_representative_poses(pose_df = pose_df,\n",
    "                                                             sport = \"Fencing\", \n",
    "                                                             feature = \"angle_vec_fix\", \n",
    "                                                             clusterer = HDBSCAN(min_cluster_size=20, min_samples=50),\n",
    "                                                             metric = \"cosine\")"
   ]
  },
  {
   "cell_type": "code",
   "execution_count": null,
   "metadata": {},
   "outputs": [],
   "source": [
    "inspect_clusters(sport_poses)"
   ]
  },
  {
   "cell_type": "code",
   "execution_count": null,
   "metadata": {},
   "outputs": [],
   "source": [
    "clusters = sorted(sport_poses.label.unique())\n",
    "ncols = 2\n",
    "nrows = np.ceil((len(clusters) - 1) / ncols).astype(int)\n",
    "\n",
    "spread_threshold = 0.1\n",
    "\n",
    "fig, axs = plt.subplots(nrows=nrows, ncols=ncols, figsize=(ncols * 6, nrows * 2))\n",
    "axs = axs.flatten()\n",
    "for k in clusters:\n",
    "    if k == -1:\n",
    "        continue\n",
    "    angles = pd.DataFrame(sport_poses[sport_poses.label == k].angle_vec.tolist(), columns = ANGLES_ASSOCIATIONS.keys())\n",
    "    for j,angle in enumerate(angles.columns):\n",
    "        mean_angle = angles[angle].mean()\n",
    "        std_angle = angles[angle].std()\n",
    "        axs[k].errorbar(j, mean_angle, std_angle, fmt='o', color = \"black\" if std_angle < spread_threshold else \"red\")\n",
    "    axs[k].set_xticks(range(len(angles.columns)), angles.columns, rotation=0, fontsize = 6)\n",
    "    axs[k].set_title(f\"Cluster {k}\", fontsize = 10)\n",
    "[ax.set_axis_off() for ax in axs[k+1:]]\n",
    "plt.tight_layout()\n",
    "plt.show()"
   ]
  }
 ],
 "metadata": {
  "kernelspec": {
   "display_name": "rts-o0uzL038-py3.10",
   "language": "python",
   "name": "python3"
  },
  "language_info": {
   "codemirror_mode": {
    "name": "ipython",
    "version": 3
   },
   "file_extension": ".py",
   "mimetype": "text/x-python",
   "name": "python",
   "nbconvert_exporter": "python",
   "pygments_lexer": "ipython3",
   "version": "3.10.11"
  }
 },
 "nbformat": 4,
 "nbformat_minor": 2
}
