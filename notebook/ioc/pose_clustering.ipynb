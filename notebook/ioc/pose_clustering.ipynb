{
 "cells": [
  {
   "cell_type": "code",
   "execution_count": null,
   "metadata": {},
   "outputs": [],
   "source": [
    "%cd ../..\n",
    "%load_ext autoreload\n",
    "\n",
    "%autoreload 2"
   ]
  },
  {
   "cell_type": "code",
   "execution_count": null,
   "metadata": {},
   "outputs": [],
   "source": [
    "import os\n",
    "import json\n",
    "from collections import defaultdict\n",
    "import pandas as pd\n",
    "import matplotlib.pyplot as plt\n",
    "from sklearn import preprocessing\n",
    "import seaborn as sns\n",
    "from rts.features.pose import KEYPOINTS_NAMES, CONNECTIONS, ANGLES_ASSOCIATIONS\n",
    "import rts.features.pose as pose\n",
    "import umap\n",
    "import cv2"
   ]
  },
  {
   "cell_type": "code",
   "execution_count": null,
   "metadata": {},
   "outputs": [],
   "source": [
    "poses_folder = \"data/test_poses/\"\n",
    "poses_jl = [poses_folder + f for f in os.listdir(poses_folder)]\n",
    "poses = []\n",
    "for pose_json in poses_jl:\n",
    "    extracted_data = pose.extract_frame_data(pose_json, 0.5)\n",
    "    if len(extracted_data.keys()) > 0:\n",
    "        pose_exp = [[{\"frame_number\":k, \"angle_vec\":angle, \"keypoints\":keypoint, \"bbox\":bbox} for angle,keypoint,bbox in zip(v[\"angle_vec\"], v[\"keypoints\"], v[\"bbox\"])] for k,v in extracted_data.items()]\n",
    "        pose_exp = [item for sublist in pose_exp for item in sublist]\n",
    "        [p.update({\"video_name\":pose_json.split(\"/\")[-1].split(\".\")[0]}) for p in pose_exp]\n",
    "        poses.extend(pose_exp)\n",
    "\n",
    "print(len(poses))"
   ]
  },
  {
   "cell_type": "code",
   "execution_count": null,
   "metadata": {},
   "outputs": [],
   "source": [
    "reducer = umap.UMAP(n_neighbors=250, min_dist=0.1, metric='cosine')\n",
    "pose_df = pd.DataFrame(poses)\n",
    "embeddings = reducer.fit_transform(pose_df[\"angle_vec\"].tolist())\n",
    "pose_df[\"umap_x\"] = embeddings[:,0]\n",
    "pose_df[\"umap_y\"] = embeddings[:,1]"
   ]
  },
  {
   "cell_type": "code",
   "execution_count": null,
   "metadata": {},
   "outputs": [],
   "source": [
    "plt.figure(figsize=(10,10))\n",
    "plt.scatter(pose_df[\"umap_x\"], pose_df[\"umap_y\"], s=0.1)\n",
    "plt.show()"
   ]
  },
  {
   "cell_type": "markdown",
   "metadata": {},
   "source": [
    "# Clustering"
   ]
  },
  {
   "cell_type": "code",
   "execution_count": null,
   "metadata": {},
   "outputs": [],
   "source": [
    "from sklearn.cluster import DBSCAN, KMeans"
   ]
  },
  {
   "cell_type": "code",
   "execution_count": null,
   "metadata": {},
   "outputs": [],
   "source": [
    "def cluster_poses(algo, pose_df):\n",
    "    algo.fit(pose_df[[\"umap_x\", \"umap_y\"]])\n",
    "    pose_df[\"label\"] = algo.labels_\n",
    "    plt.figure(figsize=(10,10))\n",
    "    for label in pose_df[\"label\"].unique():\n",
    "        plt.scatter(pose_df[pose_df.label == label][\"umap_x\"], pose_df[pose_df.label == label][\"umap_y\"], s=0.1*(label + 1), label=label)\n",
    "    plt.legend(markerscale = 10)\n",
    "    plt.show()\n",
    "\n",
    "    return pose_df"
   ]
  },
  {
   "cell_type": "code",
   "execution_count": null,
   "metadata": {},
   "outputs": [],
   "source": [
    "kmeans = KMeans(n_clusters=25)\n",
    "kmeans_poses = cluster_poses(kmeans, pose_df)"
   ]
  },
  {
   "cell_type": "code",
   "execution_count": null,
   "metadata": {},
   "outputs": [],
   "source": [
    "dbscan = DBSCAN(eps=1.5, min_samples=10)\n",
    "dbscan_poses = cluster_poses(dbscan, pose_df)"
   ]
  },
  {
   "cell_type": "code",
   "execution_count": null,
   "metadata": {},
   "outputs": [],
   "source": [
    "sequences_folder = \"/mnt/g/ioc/sequences/\"\n",
    "\n",
    "def get_frame(video_name, frame_number):\n",
    "    video_path = [f for f in os.listdir(sequences_folder + video_name) if f.endswith(\".mp4\")][0]\n",
    "    cap = cv2.VideoCapture(sequences_folder + video_name + \"/\" + video_path)\n",
    "    cap.set(cv2.CAP_PROP_POS_FRAMES, frame_number)\n",
    "    ret, frame = cap.read()\n",
    "    cap.release()\n",
    "    return cv2.cvtColor(frame, cv2.COLOR_BGR2RGB)"
   ]
  },
  {
   "cell_type": "code",
   "execution_count": null,
   "metadata": {},
   "outputs": [],
   "source": [
    "def draw_pose(pose, ax = None, cut=True, threshold=0.1):\n",
    "    keypoints = pose[\"keypoints\"]\n",
    "\n",
    "    # Do not draw non-detected keypoints\n",
    "    #connections = [c for c in connections if keypoints[KEYPOINTS_NAMES.index(c[0])][2] > threshold and keypoints[KEYPOINTS_NAMES.index(c[1])][2] > threshold]\n",
    "    #keypoints = [k for k in keypoints if k[2] > threshold]\n",
    "    \n",
    "    frame = get_frame(pose[\"video_name\"], pose[\"frame_number\"])\n",
    "\n",
    "    if ax is None:\n",
    "        fig, ax = plt.subplots(figsize=(6,6))\n",
    "\n",
    "    ax.imshow(frame)\n",
    "    ax.scatter([k[0] for k in keypoints if k[2] > threshold], [k[1] for k in keypoints if k[2] > threshold], s=10)\n",
    "    for c in CONNECTIONS:\n",
    "        k1 = keypoints[KEYPOINTS_NAMES.index(c[0])]\n",
    "        k2 = keypoints[KEYPOINTS_NAMES.index(c[1])]\n",
    "        if k1[2] > threshold and k2[2] > threshold:\n",
    "            ax.plot([k1[0], k2[0]], \n",
    "                    [k1[1], k2[1]], \n",
    "                    linewidth=1, color='black')\n",
    "        \n",
    "    # cut frame to bbox\n",
    "    bbox = pose[\"bbox\"]\n",
    "    if cut:\n",
    "        ax.set_xlim(int(bbox[0]),int(bbox[0] + bbox[2]))\n",
    "        ax.set_ylim(int(bbox[1] + bbox[3]), int(bbox[1]))\n",
    "\n",
    "    ax.axis(\"off\")\n",
    "    ax.set_aspect('equal')\n",
    "    plt.tight_layout()\n",
    "\n",
    "    return ax\n"
   ]
  },
  {
   "cell_type": "code",
   "execution_count": null,
   "metadata": {},
   "outputs": [],
   "source": [
    "# create a grid of subplots\n",
    "nrows = 2\n",
    "ncols = 6\n",
    "\n",
    "for cluster in dbscan_poses[\"label\"].unique():\n",
    "    print(\"Cluster\", cluster)\n",
    "    n_samples = dbscan_poses[dbscan_poses[\"label\"] == cluster].shape[0]\n",
    "    n_samples = min(n_samples, nrows * ncols)\n",
    "    sample_poses = dbscan_poses[dbscan_poses[\"label\"] == cluster].sample(n_samples).reset_index(drop=True)\n",
    "\n",
    "    fig, axs = plt.subplots(nrows=nrows, ncols=ncols, figsize=(ncols * 3, nrows * 3))\n",
    "    axs = axs.flatten()\n",
    "    # iterate over the poses and draw each pose in a subplot\n",
    "    for i, pose in sample_poses.iterrows():\n",
    "        draw_pose(pose, ax = axs[i], cut = True)\n",
    "\n",
    "    plt.show()\n"
   ]
  },
  {
   "cell_type": "markdown",
   "metadata": {},
   "source": [
    "# Similar poses"
   ]
  },
  {
   "cell_type": "code",
   "execution_count": null,
   "metadata": {},
   "outputs": [],
   "source": [
    "# Find nearest neighbors\n",
    "\n",
    "from sklearn.neighbors import NearestNeighbors\n",
    "\n",
    "def get_nearest_neighbors(input_pose, n_neighbors=5):\n",
    "    other_poses = pose_df[pose_df[\"video_name\"] != input_pose[\"video_name\"]].reset_index(drop=True)\n",
    "    nbrs = NearestNeighbors(n_neighbors=n_neighbors, metric='cosine').fit(other_poses[\"angle_vec\"].tolist())\n",
    "    distances, indices = nbrs.kneighbors([input_pose[\"angle_vec\"]])\n",
    "    return other_poses.iloc[indices[0]].reset_index(drop=True)"
   ]
  },
  {
   "cell_type": "code",
   "execution_count": null,
   "metadata": {},
   "outputs": [],
   "source": [
    "n_neighbors = 5\n",
    "for i in range(10):\n",
    "    input_pose = pose_df.sample(1).iloc[0]\n",
    "    results = get_nearest_neighbors(input_pose, n_neighbors=n_neighbors)\n",
    "\n",
    "    fig, axs = plt.subplots(nrows=1, ncols=n_neighbors + 1, figsize=((n_neighbors + 1) * 3, 3))\n",
    "    axs = axs.flatten()\n",
    "    draw_pose(input_pose, ax = axs[0], cut = True)\n",
    "    axs[0].set_title(\"Input pose\")\n",
    "    for i, pose in results.iterrows():\n",
    "        draw_pose(pose, ax = axs[i+1], cut = True)\n",
    "    plt.show()"
   ]
  },
  {
   "cell_type": "code",
   "execution_count": null,
   "metadata": {},
   "outputs": [],
   "source": []
  }
 ],
 "metadata": {
  "kernelspec": {
   "display_name": "rts-o0uzL038-py3.10",
   "language": "python",
   "name": "python3"
  },
  "language_info": {
   "codemirror_mode": {
    "name": "ipython",
    "version": 3
   },
   "file_extension": ".py",
   "mimetype": "text/x-python",
   "name": "python",
   "nbconvert_exporter": "python",
   "pygments_lexer": "ipython3",
   "version": "3.10.12"
  }
 },
 "nbformat": 4,
 "nbformat_minor": 2
}
