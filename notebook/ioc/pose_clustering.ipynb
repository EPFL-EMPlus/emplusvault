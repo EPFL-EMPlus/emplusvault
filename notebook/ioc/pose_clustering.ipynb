{
 "cells": [
  {
   "cell_type": "code",
   "execution_count": null,
   "metadata": {},
   "outputs": [],
   "source": [
    "%cd ../..\n",
    "%load_ext autoreload\n",
    "\n",
    "%autoreload 2"
   ]
  },
  {
   "cell_type": "code",
   "execution_count": null,
   "metadata": {},
   "outputs": [],
   "source": [
    "import os\n",
    "import pandas as pd\n",
    "import matplotlib.pyplot as plt\n",
    "from rts.features.pose import load_all_poses, draw_pose\n",
    "import umap\n",
    "import cv2\n",
    "\n",
    "from sklearn.cluster import DBSCAN, KMeans\n",
    "\n",
    "poses_folder = \"data/test_poses/\"\n",
    "sequences_folder = \"/mnt/g/ioc/sequences/\""
   ]
  },
  {
   "cell_type": "code",
   "execution_count": null,
   "metadata": {},
   "outputs": [],
   "source": [
    "poses = load_all_poses(poses_folder)"
   ]
  },
  {
   "cell_type": "markdown",
   "metadata": {},
   "source": [
    "# Clustering"
   ]
  },
  {
   "cell_type": "code",
   "execution_count": null,
   "metadata": {},
   "outputs": [],
   "source": [
    "reducer = umap.UMAP(n_neighbors=500, min_dist=0.1, metric='cosine')\n",
    "pose_df = pd.DataFrame(poses)\n",
    "embeddings = reducer.fit_transform(pose_df[\"angle_vec\"].tolist())\n",
    "pose_df[\"umap_x\"] = embeddings[:,0]\n",
    "pose_df[\"umap_y\"] = embeddings[:,1]"
   ]
  },
  {
   "cell_type": "code",
   "execution_count": null,
   "metadata": {},
   "outputs": [],
   "source": [
    "def cluster_poses(algo, pose_df, plot=True):\n",
    "    algo.fit(pose_df[[\"umap_x\", \"umap_y\"]])\n",
    "    pose_df[\"label\"] = algo.labels_\n",
    "    if plot:\n",
    "        plt.figure(figsize=(10,10))\n",
    "        for label in pose_df[\"label\"].unique():\n",
    "            plt.scatter(pose_df[pose_df.label == label][\"umap_x\"], \n",
    "                        pose_df[pose_df.label == label][\"umap_y\"], \n",
    "                        s=1, label=label)\n",
    "        plt.legend(markerscale = 5)\n",
    "        plt.axis('off')\n",
    "        plt.show()\n",
    "\n",
    "    return pose_df"
   ]
  },
  {
   "cell_type": "code",
   "execution_count": null,
   "metadata": {},
   "outputs": [],
   "source": [
    "kmeans = KMeans(n_clusters=25)\n",
    "kmeans_poses = cluster_poses(kmeans, pose_df)"
   ]
  },
  {
   "cell_type": "code",
   "execution_count": null,
   "metadata": {},
   "outputs": [],
   "source": [
    "dbscan = DBSCAN(eps=1, min_samples=10)\n",
    "dbscan_poses = cluster_poses(dbscan, pose_df)"
   ]
  },
  {
   "cell_type": "code",
   "execution_count": null,
   "metadata": {},
   "outputs": [],
   "source": [
    "# create a grid of subplots\n",
    "nrows = 2\n",
    "ncols = 6\n",
    "\n",
    "for cluster in dbscan_poses[\"label\"].unique()[:3]:\n",
    "    print(\"Cluster\", cluster)\n",
    "    n_samples = dbscan_poses[dbscan_poses[\"label\"] == cluster].shape[0]\n",
    "    n_samples = min(n_samples, nrows * ncols)\n",
    "    sample_poses = dbscan_poses[dbscan_poses[\"label\"] == cluster].sample(n_samples).reset_index(drop=True)\n",
    "\n",
    "    fig, axs = plt.subplots(nrows=nrows, ncols=ncols, figsize=(ncols * 3, nrows * 3))\n",
    "    axs = axs.flatten()\n",
    "    # iterate over the poses and draw each pose in a subplot\n",
    "    for i, pose in sample_poses.iterrows():\n",
    "        draw_pose(pose, sequences_folder, ax = axs[i], cut = True)\n",
    "\n",
    "    plt.show()\n"
   ]
  }
 ],
 "metadata": {
  "kernelspec": {
   "display_name": "rts-o0uzL038-py3.10",
   "language": "python",
   "name": "python3"
  },
  "language_info": {
   "codemirror_mode": {
    "name": "ipython",
    "version": 3
   },
   "file_extension": ".py",
   "mimetype": "text/x-python",
   "name": "python",
   "nbconvert_exporter": "python",
   "pygments_lexer": "ipython3",
   "version": "3.10.12"
  }
 },
 "nbformat": 4,
 "nbformat_minor": 2
}
