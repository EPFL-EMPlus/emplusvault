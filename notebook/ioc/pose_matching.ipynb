{
 "cells": [
  {
   "cell_type": "code",
   "execution_count": null,
   "metadata": {},
   "outputs": [],
   "source": [
    "%cd ../..\n",
    "%load_ext autoreload\n",
    "\n",
    "%autoreload 2"
   ]
  },
  {
   "cell_type": "code",
   "execution_count": null,
   "metadata": {},
   "outputs": [],
   "source": [
    "import os\n",
    "import pandas as pd\n",
    "import numpy as np\n",
    "import matplotlib.pyplot as plt\n",
    "import seaborn as sns\n",
    "from rts.utils import dataframe_from_hdf5\n",
    "from rts.features.pose import load_all_poses, draw_pose, format_keypoints_to_read\n",
    "from rts.features.pose import KEYPOINTS_NAMES, ANGLES_ASSOCIATIONS\n",
    "\n",
    "archive_path = \"/mnt/g/ioc/data/\"\n",
    "poses_folder = \"data/test_poses/\"\n",
    "sequences_folder = \"/mnt/g/ioc/sequences/\""
   ]
  },
  {
   "cell_type": "code",
   "execution_count": null,
   "metadata": {},
   "outputs": [],
   "source": [
    "poses = load_all_poses(poses_folder)\n",
    "data = dataframe_from_hdf5(archive_path, \"metadata\")\n",
    "\n",
    "pose_df = pd.merge(pd.DataFrame(poses), data[[\"seq_id\", \"sport\"]], left_on=\"video_name\", right_on=\"seq_id\")"
   ]
  },
  {
   "cell_type": "markdown",
   "metadata": {},
   "source": [
    "# Similar poses"
   ]
  },
  {
   "cell_type": "code",
   "execution_count": null,
   "metadata": {},
   "outputs": [],
   "source": [
    "# Find nearest neighbors\n",
    "\n",
    "from sklearn.neighbors import NearestNeighbors\n",
    "\n",
    "def get_nearest_neighbors(input_pose, n_neighbors=5, dist_threshold = 0.05):\n",
    "    other_poses = pose_df[pose_df[\"video_name\"] != input_pose[\"video_name\"]].reset_index(drop=True)\n",
    "    nbrs = NearestNeighbors(n_neighbors=n_neighbors, metric='cosine').fit(other_poses[\"angle_vec\"].tolist())\n",
    "    distances, indices = nbrs.kneighbors([input_pose[\"angle_vec\"]])\n",
    "    results = other_poses.iloc[indices[0]].reset_index(drop=True)\n",
    "    results[\"distance\"] = distances[0]\n",
    "    results = results[results[\"distance\"] < dist_threshold]\n",
    "    return results"
   ]
  },
  {
   "cell_type": "code",
   "execution_count": null,
   "metadata": {},
   "outputs": [],
   "source": [
    "n_neighbors = 5\n",
    "for i in range(5):\n",
    "    input_pose = pose_df.sample(1).iloc[0]\n",
    "    results = get_nearest_neighbors(input_pose, n_neighbors=n_neighbors)\n",
    "\n",
    "    fig, axs = plt.subplots(nrows=1, ncols=n_neighbors + 1, figsize=((n_neighbors + 1) * 3, 3))\n",
    "    axs = axs.flatten()\n",
    "    draw_pose(input_pose, video_folder=sequences_folder, ax = axs[0], cut = True)\n",
    "    axs[0].set_title(\"Input pose\")\n",
    "    for i, pose in results.iterrows():\n",
    "        draw_pose(pose, video_folder=sequences_folder, ax = axs[i+1], cut = True)\n",
    "    plt.show()"
   ]
  },
  {
   "cell_type": "markdown",
   "metadata": {},
   "source": [
    "# Matching Analytics"
   ]
  },
  {
   "cell_type": "code",
   "execution_count": null,
   "metadata": {},
   "outputs": [],
   "source": [
    "def matching_analytics(input_pose, n_neighbors=100, dist_threshold=0.05, show_top_n=5):\n",
    "    results = get_nearest_neighbors(input_pose, n_neighbors=n_neighbors, dist_threshold=dist_threshold)\n",
    "    results[\"sport\"].value_counts()\n",
    "\n",
    "    # Top 5 poses\n",
    "    fig, axs = plt.subplots(nrows=1, ncols=show_top_n + 1, figsize=((show_top_n + 1) * 3, 3))\n",
    "    axs = axs.flatten()\n",
    "    draw_pose(input_pose, video_folder=sequences_folder, ax = axs[0], cut = True)\n",
    "    axs[0].set_title(\"Input pose\")\n",
    "    for i, pose in results[:show_top_n].iterrows():\n",
    "        draw_pose(pose, video_folder=sequences_folder, ax = axs[i+1], cut = True)\n",
    "    plt.suptitle(\"Top %d nearest neighbors\" % show_top_n, fontsize = 20, y=1.03)\n",
    "    plt.show()\n",
    "\n",
    "    # Analytics\n",
    "    fig, axs = plt.subplots(nrows=3, ncols=2, figsize=(16, 16), gridspec_kw={'width_ratios': [1, 3], 'height_ratios': [1, 2, 2]})\n",
    "    axs = axs.flatten()\n",
    "\n",
    "    axs[0].boxplot(results[\"distance\"])\n",
    "    axs[0].set_title(\"Distances\")\n",
    "\n",
    "    sports_counts = results[\"sport\"].value_counts()\n",
    "    axs[1].bar(sports_counts.index, sports_counts.values)\n",
    "    axs[1].set_title(\"Sports (n=%d)\" % len(results))\n",
    "    axs[1].set_xticklabels(sports_counts.index, rotation=45)\n",
    "\n",
    "\n",
    "    input_keypoints_scores = [k[2] for k in input_pose[\"keypoints\"]]\n",
    "    keypoints_df_scores = pd.DataFrame(results[\"keypoints\"].apply(lambda x: [k[2] for k in x]).tolist(), columns=KEYPOINTS_NAMES)\n",
    "\n",
    "    axs[2].barh(KEYPOINTS_NAMES, input_keypoints_scores)\n",
    "    axs[2].set_title(\"Input keypoints scores\")\n",
    "    keypoints_df_scores.boxplot(column=KEYPOINTS_NAMES, vert=False, ax=axs[3], grid=False)\n",
    "    axs[3].set_title(\"Mean keypoints scores of nearest neighbors\")\n",
    "\n",
    "    input_angle_scores = input_pose[\"angle_score\"]\n",
    "    angle_df_scores = pd.DataFrame(results[\"angle_score\"].tolist(), columns=ANGLES_ASSOCIATIONS.keys())\n",
    "\n",
    "    axs[4].barh(list(ANGLES_ASSOCIATIONS.keys()), input_angle_scores)\n",
    "    axs[4].set_title(\"Input angles scores\")\n",
    "    angle_df_scores.boxplot(column=list(ANGLES_ASSOCIATIONS.keys()), vert=False, ax=axs[5], grid=False)\n",
    "    axs[5].set_title(\"Mean angles scores of nearest neighbors\")\n",
    "\n",
    "    plt.suptitle(\"Nearest neighbors analytics for %s (%s)\" % (input_pose[\"video_name\"], input_pose[\"sport\"]), fontsize = 20, y=1.03)\n",
    "    plt.tight_layout()\n",
    "    plt.show()\n",
    "\n",
    "    return results"
   ]
  },
  {
   "cell_type": "code",
   "execution_count": null,
   "metadata": {},
   "outputs": [],
   "source": [
    "input_pose = pose_df.sample(1).iloc[0]\n",
    "\n",
    "results = matching_analytics(input_pose)"
   ]
  },
  {
   "cell_type": "markdown",
   "metadata": {},
   "source": [
    "# Analytics by sports"
   ]
  },
  {
   "cell_type": "code",
   "execution_count": null,
   "metadata": {},
   "outputs": [],
   "source": [
    "from collections import Counter"
   ]
  },
  {
   "cell_type": "code",
   "execution_count": null,
   "metadata": {},
   "outputs": [],
   "source": [
    "pose_df = pose_df[pose_df[\"sport\"] != \"Non-Sport\"]\n",
    "\n",
    "n_neighbors = 100\n",
    "nbrs = NearestNeighbors(n_neighbors=n_neighbors, metric='cosine').fit(pose_df[\"angle_vec\"].tolist())\n",
    "distances, indices = nbrs.kneighbors()\n",
    "\n",
    "pose_df[\"distance\"] = distances.tolist()\n",
    "pose_df[\"nbrs_indices\"] = indices.tolist()\n",
    "pose_df[\"nbrs_sports\"] = pose_df[\"nbrs_indices\"].map(lambda x: pose_df.iloc[x][\"sport\"].value_counts().to_dict())"
   ]
  },
  {
   "cell_type": "code",
   "execution_count": null,
   "metadata": {},
   "outputs": [],
   "source": [
    "sports = pose_df.sport.unique()\n",
    "pose_df[\"nbrs_sports\"] = pose_df.nbrs_sports.map(lambda x: Counter({sport: x.get(sport, 0) for sport in sports}))\n",
    "pose_df[\"nbrs_props\"] = pose_df.nbrs_sports.map(lambda x: Counter({k: v / sum(x.values()) for k, v in x.items()}))"
   ]
  },
  {
   "cell_type": "code",
   "execution_count": null,
   "metadata": {},
   "outputs": [],
   "source": [
    "nbrs_sports_counts = pose_df.groupby(\"sport\").nbrs_sports.sum()\n",
    "nbrs_sports_props = nbrs_sports_counts.apply(lambda x: Counter({sport: x.get(sport, 0) / np.sum(list(x.values())) for sport in sports}))[sports]"
   ]
  },
  {
   "cell_type": "code",
   "execution_count": null,
   "metadata": {},
   "outputs": [],
   "source": [
    "from collections import defaultdict\n",
    "\n",
    "def merge_and_mean_dicts(dicts):\n",
    "    result_dict = defaultdict(list)\n",
    "    \n",
    "    for d in dicts:\n",
    "        for key, value in d.items():\n",
    "            result_dict[key].append(value)\n",
    "    \n",
    "    mean_dict = {key: sum(values) / len(values) for key, values in result_dict.items()}\n",
    "    return mean_dict\n",
    "\n",
    "nbrs_sports_props = pose_df.groupby(\"sport\").nbrs_props.agg(merge_and_mean_dicts)[sports]"
   ]
  },
  {
   "cell_type": "code",
   "execution_count": null,
   "metadata": {},
   "outputs": [],
   "source": [
    "proportions = np.array(nbrs_sports_props.apply(lambda x: list(x.values())).values.tolist())\n",
    "labels = nbrs_sports_props.index\n",
    "\n",
    "plt.figure(figsize=(14, 10))\n",
    "sns.heatmap(proportions, annot=False, xticklabels=labels, yticklabels=labels, cmap=\"Blues\")\n",
    "plt.title(\"Proportion of sports nearest neighbors (top 100)\")\n",
    "plt.show()"
   ]
  },
  {
   "cell_type": "markdown",
   "metadata": {},
   "source": [
    "# Finding poses specific to each sport"
   ]
  },
  {
   "cell_type": "code",
   "execution_count": null,
   "metadata": {},
   "outputs": [],
   "source": [
    "pose_df[\"props_same_sport\"] = pose_df.apply(lambda df: df[\"nbrs_props\"][df[\"sport\"]], axis=1)"
   ]
  },
  {
   "cell_type": "code",
   "execution_count": null,
   "metadata": {},
   "outputs": [],
   "source": [
    "props_per_sport = pose_df.groupby(\"sport\").props_same_sport.mean()\n",
    "\n",
    "plt.figure(figsize=(10, 8))\n",
    "plt.barh(props_per_sport.index, props_per_sport.values)\n",
    "plt.title(\"Proportion of same sport nearest neighbors (top 100)\")\n",
    "plt.show()"
   ]
  },
  {
   "cell_type": "code",
   "execution_count": null,
   "metadata": {},
   "outputs": [],
   "source": [
    "plt.figure(figsize=(10, 8))\n",
    "for sport in pose_df.sport.unique():\n",
    "    props_poses_unique = []\n",
    "    for t in np.arange(0, 1.0, 0.1):\n",
    "        sport_df = pose_df[pose_df.sport == sport]\n",
    "        prop = sport_df[sport_df.props_same_sport > t].shape[0] / sport_df.shape[0]\n",
    "        props_poses_unique.append(prop)\n",
    "    plt.plot(np.arange(0, 1.0, 0.1), props_poses_unique, label = sport)\n",
    "\n",
    "props_poses_unique = []\n",
    "for t in np.arange(0, 1.0, 0.1):\n",
    "    prop = pose_df[pose_df.props_same_sport > t].shape[0] / pose_df.shape[0]\n",
    "    props_poses_unique.append(prop)\n",
    "plt.plot(np.arange(0, 1.0, 0.1), props_poses_unique, label = \"All Sports\", ls = \"--\", color = \"black\")\n",
    "\n",
    "plt.title(\"Proportion of unique poses (top 100)\")\n",
    "plt.xlabel(\"Threshold\")\n",
    "plt.ylabel(\"Proportion of nearest poses in the same sport\")\n",
    "plt.legend()\n",
    "plt.xlim(0,1)\n",
    "plt.show()"
   ]
  },
  {
   "cell_type": "code",
   "execution_count": null,
   "metadata": {},
   "outputs": [],
   "source": [
    "pose_df[pose_df.props_same_sport > 0.8].sport.value_counts()"
   ]
  },
  {
   "cell_type": "code",
   "execution_count": null,
   "metadata": {},
   "outputs": [],
   "source": []
  }
 ],
 "metadata": {
  "kernelspec": {
   "display_name": "rts-o0uzL038-py3.10",
   "language": "python",
   "name": "python3"
  },
  "language_info": {
   "codemirror_mode": {
    "name": "ipython",
    "version": 3
   },
   "file_extension": ".py",
   "mimetype": "text/x-python",
   "name": "python",
   "nbconvert_exporter": "python",
   "pygments_lexer": "ipython3",
   "version": "3.10.12"
  }
 },
 "nbformat": 4,
 "nbformat_minor": 2
}
