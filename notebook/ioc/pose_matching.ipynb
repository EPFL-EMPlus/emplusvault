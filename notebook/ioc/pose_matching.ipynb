{
 "cells": [
  {
   "cell_type": "code",
   "execution_count": null,
   "metadata": {},
   "outputs": [],
   "source": [
    "%cd ../..\n",
    "%load_ext autoreload\n",
    "\n",
    "%autoreload 2"
   ]
  },
  {
   "cell_type": "code",
   "execution_count": null,
   "metadata": {},
   "outputs": [],
   "source": [
    "import os\n",
    "import cv2\n",
    "import pandas as pd\n",
    "import numpy as np\n",
    "from collections import Counter\n",
    "import matplotlib.pyplot as plt\n",
    "import seaborn as sns\n",
    "from sklearn.neighbors import NearestNeighbors \n",
    "from sklearn.cluster import DBSCAN, KMeans\n",
    "from umap import UMAP\n",
    "\n",
    "from emv.features.pose import load_poses, sample_from_sports\n",
    "from emv.features.pose_utils import draw_pose, KEYPOINTS_NAMES, CONNECTIONS, ANGLES_ASSOCIATIONS"
   ]
  },
  {
   "cell_type": "markdown",
   "metadata": {},
   "source": [
    "# Get all poses in the DB"
   ]
  },
  {
   "cell_type": "code",
   "execution_count": null,
   "metadata": {},
   "outputs": [],
   "source": [
    "local_poses_path = \"data/pose_df.csv\"\n",
    "pose_df = load_poses(local_fp = local_poses_path, max_poses = None)"
   ]
  },
  {
   "cell_type": "code",
   "execution_count": null,
   "metadata": {},
   "outputs": [],
   "source": [
    "pose_df.head()"
   ]
  },
  {
   "cell_type": "code",
   "execution_count": null,
   "metadata": {},
   "outputs": [],
   "source": [
    "pose_df.sport.value_counts()"
   ]
  },
  {
   "cell_type": "code",
   "execution_count": null,
   "metadata": {},
   "outputs": [],
   "source": [
    "pose_df.to_csv(\"data/pose_df.csv\", index=False)"
   ]
  },
  {
   "cell_type": "code",
   "execution_count": null,
   "metadata": {},
   "outputs": [],
   "source": [
    "pose_df = sample_from_sports(pose_df, n_per_sports=1000)"
   ]
  },
  {
   "cell_type": "markdown",
   "metadata": {},
   "source": [
    "# Add directional features"
   ]
  },
  {
   "cell_type": "code",
   "execution_count": null,
   "metadata": {},
   "outputs": [],
   "source": [
    "def get_directions(keypoints):\n",
    "    directions = []\n",
    "    for connection in CONNECTIONS:\n",
    "        kp1, kp2 = connection\n",
    "        x1, y1, c1 = keypoints[KEYPOINTS_NAMES.index(kp1)]\n",
    "        x2, y2, c2 = keypoints[KEYPOINTS_NAMES.index(kp2)]\n",
    "        directions.append((x2 - x1, y2 - y1))\n",
    "    directions = np.array(directions)\n",
    "    \n",
    "    return directions"
   ]
  },
  {
   "cell_type": "code",
   "execution_count": null,
   "metadata": {},
   "outputs": [],
   "source": [
    "def draw_directions(pose, ax):\n",
    "    draw_pose(pose, ax = ax, show_frame = False, cut = True)\n",
    "    directions = get_directions(pose.keypoints)\n",
    "    for i, connection in enumerate(CONNECTIONS):\n",
    "        kp1, kp2 = connection\n",
    "        x1, y1, c1 = pose.keypoints[KEYPOINTS_NAMES.index(kp1)]\n",
    "        x2, y2, c2 = pose.keypoints[KEYPOINTS_NAMES.index(kp2)]\n",
    "        dx, dy = directions[i]\n",
    "        ax.arrow(x1, y1, dx, dy, color = \"r\", width = 0.2)\n",
    "    return ax"
   ]
  },
  {
   "cell_type": "code",
   "execution_count": null,
   "metadata": {},
   "outputs": [],
   "source": [
    "pose_df[\"directions\"] = pose_df.keypoints.apply(get_directions)\n",
    "pose_df[\"norm_directions\"] = pose_df.directions.apply(lambda x: x.flatten() / np.linalg.norm(x.flatten()))\n",
    "pose_df[\"feature_angle_dir\"] = pose_df.apply(lambda df: np.concatenate([df.norm_directions, df.angle_vec]), axis = 1)"
   ]
  },
  {
   "cell_type": "markdown",
   "metadata": {},
   "source": [
    "# Comparison of distance metrics between poses"
   ]
  },
  {
   "cell_type": "code",
   "execution_count": null,
   "metadata": {},
   "outputs": [],
   "source": [
    "def get_nearest_neighbors(input_pose, feature, n_neighbors=5, metric = \"cosine\", dist_threshold = 0.05):\n",
    "    other_poses = pose_df[pose_df[\"media_id\"] != input_pose[\"media_id\"]].reset_index(drop=True)\n",
    "    nbrs = NearestNeighbors(n_neighbors=n_neighbors, metric=metric).fit(other_poses[feature].tolist())\n",
    "    distances, indices = nbrs.kneighbors([input_pose[feature]])\n",
    "    results = other_poses.iloc[indices[0]].reset_index(drop=True)\n",
    "    results[\"distance\"] = distances[0]\n",
    "    results = results[results[\"distance\"] < dist_threshold].reset_index(drop=True)\n",
    "    return results"
   ]
  },
  {
   "cell_type": "code",
   "execution_count": null,
   "metadata": {},
   "outputs": [],
   "source": [
    "n_neighbors = 5\n",
    "nrows = 3\n",
    "for _ in range(5):\n",
    "    input_pose = pose_df.sample(1).iloc[0]\n",
    "    results_cosine = get_nearest_neighbors(input_pose, feature=\"angle_vec\", n_neighbors=n_neighbors, metric=\"cosine\", dist_threshold=1)\n",
    "    results_euclidean = get_nearest_neighbors(input_pose, feature=\"angle_vec\", n_neighbors=n_neighbors, metric=\"euclidean\", dist_threshold=1)\n",
    "    results_dirs = get_nearest_neighbors(input_pose, feature=\"feature_angle_dir\", n_neighbors=n_neighbors, metric=\"cosine\", dist_threshold=1)\n",
    "\n",
    "    fig, axs = plt.subplots(nrows=nrows, ncols=n_neighbors + 1, figsize=(n_neighbors * 2, nrows * 2))\n",
    "    \n",
    "    for i in range(3):\n",
    "        draw_pose(input_pose, ax = axs[i, 0], show_frame = False, cut = True, color = \"red\")\n",
    "\n",
    "    for i in range(n_neighbors):\n",
    "        draw_pose(results_cosine.iloc[i], ax = axs[0, i + 1], show_frame = False, cut = True)\n",
    "        draw_pose(results_euclidean.iloc[i], ax = axs[1, i + 1], show_frame = False, cut = True)\n",
    "        draw_pose(results_dirs.iloc[i], ax = axs[2, i + 1], show_frame = False, cut = True)\n",
    "\n",
    "    axs[0, 1].set_title(\"Cosine metric\")\n",
    "    axs[1, 1].set_title(\"Euclidean metric\")\n",
    "    axs[2, 1].set_title(\"Directions\")\n",
    "    plt.show()"
   ]
  },
  {
   "cell_type": "markdown",
   "metadata": {},
   "source": [
    "# Matching Analytics"
   ]
  },
  {
   "cell_type": "code",
   "execution_count": null,
   "metadata": {},
   "outputs": [],
   "source": [
    "def angles_similarity(angles1, angles2):\n",
    "    differences = np.abs(np.array(angles1) - np.array(angles2))\n",
    "    similarity = np.mean(differences)\n",
    "    \n",
    "    return similarity"
   ]
  },
  {
   "cell_type": "code",
   "execution_count": null,
   "metadata": {},
   "outputs": [],
   "source": [
    "def keypoints_pairwise(k1, k2, threshold = 0.6):\n",
    "    diffs = [np.linalg.norm(np.array([k1[i][0], k1[i][1]]) - np.array([k2[i][0], k2[i][1]])) for i in range(len(k1)) if k1[i][2] > threshold and k2[i][2] > threshold]\n",
    "    return np.mean(diffs)"
   ]
  },
  {
   "cell_type": "code",
   "execution_count": null,
   "metadata": {},
   "outputs": [],
   "source": [
    "sample = pose_df.sample(1000).reset_index(drop=True)\n",
    "\n",
    "features = [\"angle_vec\", \"feature_angle_dir\"]\n",
    "metrics = [\"cosine\", \"euclidean\"]\n",
    "\n",
    "results = []\n",
    "for feature in features:\n",
    "    for metric in metrics:\n",
    "        nbrs = NearestNeighbors(n_neighbors=100, metric=metric).fit(sample[feature].tolist())\n",
    "        distances, indices = nbrs.kneighbors()\n",
    "\n",
    "        sample[\"nbrs\"] = indices.tolist()\n",
    "        sample[\"pairwise_d\"] = sample.apply(lambda df: [keypoints_pairwise(df.keypoints, sample.iloc[i].keypoints) for i in df.nbrs], axis = 1)\n",
    "        sample[\"mean_pairwise_d\"] = sample.pairwise_d.apply(np.mean)\n",
    "\n",
    "        results.append({\n",
    "            \"feature\": feature,\n",
    "            \"metric\": metric,\n",
    "            \"mean_pairwise_d\": sample.mean_pairwise_d.mean(),\n",
    "            \"std_pairwise_d\": sample.mean_pairwise_d.std()\n",
    "        })"
   ]
  },
  {
   "cell_type": "code",
   "execution_count": null,
   "metadata": {},
   "outputs": [],
   "source": [
    "plt.figure(figsize=(10, 5))\n",
    "plt.errorbar(x = [f\"{r['feature']}_{r['metric']}\" for r in results], y = [r[\"mean_pairwise_d\"] for r in results], yerr = [r[\"std_pairwise_d\"] for r in results], fmt = \"+\")\n",
    "plt.show()"
   ]
  },
  {
   "cell_type": "code",
   "execution_count": null,
   "metadata": {},
   "outputs": [],
   "source": [
    "def matching_analytics(input_pose, metric = \"cosine\", n_neighbors=100, dist_threshold=0.05, show_top_n=5):\n",
    "    results = get_nearest_neighbors(input_pose, n_neighbors=n_neighbors, metric=metric, dist_threshold=dist_threshold)\n",
    "    results[\"sport\"].value_counts()\n",
    "\n",
    "    # Top 5 poses\n",
    "    fig, axs = plt.subplots(nrows=1, ncols=show_top_n + 1, figsize=((show_top_n + 1) * 3, 3))\n",
    "    axs = axs.flatten()\n",
    "    draw_pose(input_pose, ax = axs[0], cut = True)\n",
    "    axs[0].set_title(\"Input pose\")\n",
    "    for i, pose in results[:show_top_n].iterrows():\n",
    "        draw_pose(pose, ax = axs[i+1], cut = True)\n",
    "    plt.suptitle(f\"Top {show_top_n} nearest neighbors\", fontsize = 20, y=1.03)\n",
    "    plt.show()\n",
    "\n",
    "    # Analytics\n",
    "    fig, axs = plt.subplots(nrows=3, ncols=2, figsize=(16, 16), gridspec_kw={'width_ratios': [1, 3], 'height_ratios': [1, 2, 2]})\n",
    "    axs = axs.flatten()\n",
    "\n",
    "    axs[0].boxplot(results[\"distance\"])\n",
    "    axs[0].set_title(\"Distances\")\n",
    "\n",
    "    sports_counts = results[\"sport\"].value_counts()\n",
    "    axs[1].bar(sports_counts.index, sports_counts.values)\n",
    "    axs[1].set_title(f\"Sports (n={len(results)})\")\n",
    "    axs[1].set_xticklabels(sports_counts.index, rotation=45)\n",
    "\n",
    "\n",
    "    input_keypoints_scores = [k[2] for k in input_pose[\"keypoints\"]]\n",
    "    keypoints_df_scores = pd.DataFrame(results[\"keypoints\"].apply(lambda x: [k[2] for k in x]).tolist(), columns=KEYPOINTS_NAMES)\n",
    "\n",
    "    axs[2].barh(KEYPOINTS_NAMES, input_keypoints_scores)\n",
    "    axs[2].set_title(\"Input keypoints scores\")\n",
    "    keypoints_df_scores.boxplot(column=KEYPOINTS_NAMES, vert=False, ax=axs[3], grid=False)\n",
    "    axs[3].set_title(\"Mean keypoints scores of nearest neighbors\")\n",
    "\n",
    "    input_angle_scores = input_pose[\"angle_score\"]\n",
    "    angle_df_scores = pd.DataFrame(results[\"angle_score\"].tolist(), columns=ANGLES_ASSOCIATIONS.keys())\n",
    "\n",
    "    axs[4].barh(list(ANGLES_ASSOCIATIONS.keys()), input_angle_scores)\n",
    "    axs[4].set_title(\"Input angles scores\")\n",
    "    angle_df_scores.boxplot(column=list(ANGLES_ASSOCIATIONS.keys()), vert=False, ax=axs[5], grid=False)\n",
    "    axs[5].set_title(\"Mean angles scores of nearest neighbors\")\n",
    "\n",
    "    plt.suptitle(f\"Nearest neighbors analytics for {input_pose['video_name']} ({input_pose['sport']})\", fontsize = 20, y=1.03)\n",
    "    plt.tight_layout()\n",
    "    plt.show()\n",
    "\n",
    "    return results"
   ]
  },
  {
   "cell_type": "code",
   "execution_count": null,
   "metadata": {},
   "outputs": [],
   "source": [
    "input_pose = pose_df.sample(1).iloc[0]\n",
    "\n",
    "results = matching_analytics(input_pose, metric = angles_similarity)"
   ]
  },
  {
   "cell_type": "markdown",
   "metadata": {},
   "source": [
    "# Analytics by sports"
   ]
  },
  {
   "cell_type": "code",
   "execution_count": null,
   "metadata": {},
   "outputs": [],
   "source": [
    "pose_df = pose_df[pose_df[\"sport\"] != \"Non-Sport\"]\n",
    "\n",
    "n_neighbors = 100\n",
    "nbrs = NearestNeighbors(n_neighbors=n_neighbors, metric='cosine').fit(pose_df[\"feature_angle_dir\"].tolist())\n",
    "distances, indices = nbrs.kneighbors()\n",
    "\n",
    "pose_df[\"distance\"] = distances.tolist()\n",
    "pose_df[\"nbrs_indices\"] = indices.tolist()\n",
    "pose_df[\"nbrs_sports\"] = pose_df[\"nbrs_indices\"].map(lambda x: pose_df.iloc[x][\"sport\"].value_counts().to_dict())"
   ]
  },
  {
   "cell_type": "code",
   "execution_count": null,
   "metadata": {},
   "outputs": [],
   "source": [
    "sports = pose_df.sport.unique()\n",
    "pose_df[\"nbrs_sports\"] = pose_df.nbrs_sports.map(lambda x: Counter({sport: x.get(sport, 0) for sport in sports}))\n",
    "pose_df[\"nbrs_props\"] = pose_df.nbrs_sports.map(lambda x: Counter({k: v / sum(x.values()) for k, v in x.items()}))"
   ]
  },
  {
   "cell_type": "code",
   "execution_count": null,
   "metadata": {},
   "outputs": [],
   "source": [
    "nbrs_sports_counts = pose_df.groupby(\"sport\").nbrs_sports.sum()\n",
    "nbrs_sports_props = nbrs_sports_counts.apply(lambda x: Counter({sport: x.get(sport, 0) / np.sum(list(x.values())) for sport in sports}))[sports]"
   ]
  },
  {
   "cell_type": "code",
   "execution_count": null,
   "metadata": {},
   "outputs": [],
   "source": [
    "from collections import defaultdict\n",
    "\n",
    "def merge_and_mean_dicts(dicts):\n",
    "    result_dict = defaultdict(list)\n",
    "    \n",
    "    for d in dicts:\n",
    "        for key, value in d.items():\n",
    "            result_dict[key].append(value)\n",
    "    \n",
    "    mean_dict = {key: sum(values) / len(values) for key, values in result_dict.items()}\n",
    "    return mean_dict\n",
    "\n",
    "nbrs_sports_props = pose_df.groupby(\"sport\").nbrs_props.agg(merge_and_mean_dicts)[sports]"
   ]
  },
  {
   "cell_type": "code",
   "execution_count": null,
   "metadata": {},
   "outputs": [],
   "source": [
    "proportions = np.array(nbrs_sports_props.apply(lambda x: list(x.values())).values.tolist())\n",
    "labels = nbrs_sports_props.index\n",
    "\n",
    "plt.figure(figsize=(14, 10))\n",
    "sns.heatmap(proportions, annot=False, xticklabels=labels, yticklabels=labels, cmap=\"Blues\")\n",
    "plt.title(\"Proportion of sports nearest neighbors (top 100)\")\n",
    "plt.show()"
   ]
  },
  {
   "cell_type": "markdown",
   "metadata": {},
   "source": [
    "# Finding poses specific to each sport"
   ]
  },
  {
   "cell_type": "code",
   "execution_count": null,
   "metadata": {},
   "outputs": [],
   "source": [
    "pose_df[\"props_same_sport\"] = pose_df.apply(lambda df: df[\"nbrs_props\"][df[\"sport\"]], axis=1)"
   ]
  },
  {
   "cell_type": "code",
   "execution_count": null,
   "metadata": {},
   "outputs": [],
   "source": [
    "props_per_sport = pose_df.groupby(\"sport\").props_same_sport.mean()\n",
    "\n",
    "plt.figure(figsize=(10, 8))\n",
    "plt.barh(props_per_sport.index, props_per_sport.values)\n",
    "plt.title(\"Proportion of same sport nearest neighbors (top 100)\")\n",
    "plt.show()"
   ]
  },
  {
   "cell_type": "code",
   "execution_count": null,
   "metadata": {},
   "outputs": [],
   "source": [
    "plt.figure(figsize=(12, 10))\n",
    "for sport in pose_df.sport.unique():\n",
    "    props_poses_unique = []\n",
    "    for t in np.arange(0, 1.1, 0.1):\n",
    "        sport_df = pose_df[pose_df.sport == sport]\n",
    "        prop = sport_df[sport_df.props_same_sport > t].shape[0] / sport_df.shape[0]\n",
    "        props_poses_unique.append(prop)\n",
    "    plt.plot(np.arange(0, 1.1, 0.1), props_poses_unique, label = sport)\n",
    "\n",
    "props_poses_unique = []\n",
    "for t in np.arange(0, 1.1, 0.1):\n",
    "    prop = pose_df[pose_df.props_same_sport > t].shape[0] / pose_df.shape[0]\n",
    "    props_poses_unique.append(prop)\n",
    "plt.plot(np.arange(0, 1.1, 0.1), props_poses_unique, label = \"All Sports\", ls = \"--\", color = \"black\")\n",
    "\n",
    "plt.title(\"Proportion of unique poses (top 100)\")\n",
    "plt.xlabel(\"Threshold\")\n",
    "plt.ylabel(\"Proportion of nearest poses in the same sport\")\n",
    "plt.legend(loc = \"upper right\")\n",
    "plt.xlim(0,1.2)\n",
    "plt.show()"
   ]
  },
  {
   "cell_type": "markdown",
   "metadata": {},
   "source": [
    "### Check unique poses"
   ]
  },
  {
   "cell_type": "code",
   "execution_count": null,
   "metadata": {},
   "outputs": [],
   "source": [
    "threshold = 0.5\n",
    "show_n = 5\n",
    "unique_poses = pose_df[pose_df.props_same_sport > threshold].reset_index(drop=True)\n",
    "\n",
    "sports = unique_poses.sport.unique()\n",
    "fig, axs = plt.subplots(nrows=len(sports), ncols=show_n, figsize=(3 * show_n, 3 * len(sports)))\n",
    "for i,sport in enumerate(sports):\n",
    "    n_sample = np.min([unique_poses[unique_poses.sport == sport].shape[0], show_n])\n",
    "    sample_poses = unique_poses[unique_poses.sport == sport].sample(n_sample).reset_index(drop = True)\n",
    "    \n",
    "    for j, pose in sample_poses.iterrows():\n",
    "        draw_pose(pose, ax = axs[i,j], cut = True, show_frame=False)\n",
    "    if j == 0:\n",
    "        axs[i,j].set_title(sport)\n",
    "\n",
    "plt.tight_layout()\n",
    "plt.show()"
   ]
  },
  {
   "cell_type": "markdown",
   "metadata": {},
   "source": [
    "## Find representatives of unique poses"
   ]
  },
  {
   "cell_type": "code",
   "execution_count": null,
   "metadata": {},
   "outputs": [],
   "source": [
    "unique_poses = pose_df[pose_df.props_same_sport > 0.5].reset_index(drop=True)\n",
    "unique_poses.sport.value_counts()"
   ]
  },
  {
   "cell_type": "code",
   "execution_count": null,
   "metadata": {},
   "outputs": [],
   "source": [
    "unique_poses_counts = unique_poses.sport.value_counts()\n",
    "unique_poses_counts = unique_poses_counts[unique_poses_counts > 100]\n",
    "unique_poses_counts.index"
   ]
  },
  {
   "cell_type": "code",
   "execution_count": null,
   "metadata": {},
   "outputs": [],
   "source": [
    "threshold = 0.5\n",
    "min_n_poses = 100\n",
    "unique_poses = pose_df[pose_df.props_same_sport > threshold].reset_index(drop=True)\n",
    "\n",
    "unique_poses_counts = unique_poses.sport.value_counts()\n",
    "unique_poses_counts = unique_poses_counts[unique_poses_counts > min_n_poses]\n",
    "sports = unique_poses_counts.index\n",
    "\n",
    "ncols = 4\n",
    "nrows = len(sports) // ncols\n",
    "if len(sports) % ncols != 0:\n",
    "    nrows += 1\n",
    "fig, axs = plt.subplots(nrows=nrows, ncols=ncols, figsize=(4 * ncols, 4 * nrows))\n",
    "axs = axs.flatten()\n",
    "\n",
    "for i,sport in enumerate(sports):\n",
    "    umap = UMAP(n_components=2)\n",
    "    sport_poses = unique_poses[unique_poses.sport == sport]\n",
    "    embeddings = umap.fit_transform(sport_poses[\"angle_vec\"].tolist())\n",
    "\n",
    "    axs[i].scatter(embeddings[:,0], embeddings[:,1], s=2)\n",
    "    axs[i].set_title(sport)\n",
    "plt.show()"
   ]
  },
  {
   "cell_type": "code",
   "execution_count": null,
   "metadata": {},
   "outputs": [],
   "source": [
    "def find_representative_poses(sport, n_poses_per_cluster = 3):\n",
    "    unique_poses = pose_df[pose_df.props_same_sport > threshold].reset_index(drop=True)\n",
    "    sport_poses = unique_poses[unique_poses.sport == sport]\n",
    "\n",
    "    umap = UMAP(n_components=2, n_neighbors=10, min_dist=0.1)\n",
    "    embeddings = umap.fit_transform(sport_poses[\"angle_vec\"].tolist())\n",
    "\n",
    "    plt.figure(figsize=(6, 6))\n",
    "    plt.scatter(embeddings[:,0], embeddings[:,1], s=2)\n",
    "    plt.title(f\"{sport} poses\")\n",
    "    plt.show()\n",
    "\n",
    "    k = int(input(\"How many clusters do you want to find? \"))\n",
    "    kmeans = KMeans(n_clusters=k, random_state=0).fit(embeddings)\n",
    "    sport_poses[\"labels\"] = kmeans.labels_\n",
    "\n",
    "    # Plot embedding colored by clusters\n",
    "    plt.figure(figsize=(6, 6))\n",
    "    plt.scatter(embeddings[:,0], embeddings[:,1], c=kmeans.labels_, s=2)\n",
    "    plt.show()\n",
    "\n",
    "    # Plot representative poses (3 for each cluster)\n",
    "    fig, axs = plt.subplots(nrows=k, ncols=n_poses_per_cluster, figsize=(n_poses_per_cluster * 3, k * 3))\n",
    "\n",
    "    for i in range(k):\n",
    "        cluster_poses = sport_poses[sport_poses.labels == i].sample(n_poses_per_cluster).reset_index(drop=True)\n",
    "        for j, pose in cluster_poses.iterrows():\n",
    "            draw_pose(pose, ax = axs[i,j], cut = True)\n",
    "            axs[i,j].set_title(f\"Cluster {i}\")\n",
    "    plt.show()"
   ]
  },
  {
   "cell_type": "code",
   "execution_count": null,
   "metadata": {},
   "outputs": [],
   "source": [
    "find_representative_poses(\"Weightlifting\")"
   ]
  },
  {
   "cell_type": "code",
   "execution_count": null,
   "metadata": {},
   "outputs": [],
   "source": [
    "find_representative_poses(\"Cycling\")"
   ]
  },
  {
   "cell_type": "code",
   "execution_count": null,
   "metadata": {},
   "outputs": [],
   "source": [
    "find_representative_poses(\"Badminton\")"
   ]
  },
  {
   "cell_type": "code",
   "execution_count": null,
   "metadata": {},
   "outputs": [],
   "source": [
    "find_representative_poses(\"Golf\")"
   ]
  },
  {
   "cell_type": "code",
   "execution_count": null,
   "metadata": {},
   "outputs": [],
   "source": [
    "find_representative_poses(\"Sport Climbing\")"
   ]
  },
  {
   "cell_type": "markdown",
   "metadata": {},
   "source": [
    "# Walkthrough"
   ]
  },
  {
   "cell_type": "code",
   "execution_count": null,
   "metadata": {},
   "outputs": [],
   "source": [
    "def walkthrough(start_pose_id, end_pose_id, n_steps, n_neighbors=1, metric = \"cosine\", unique = True):\n",
    "    start_pose = pose_df.iloc[start_pose_id]\n",
    "    end_pose = pose_df.iloc[end_pose_id]\n",
    "    start_feature = start_pose[\"angle_vec\"]\n",
    "    end_feature = end_pose[\"angle_vec\"]\n",
    "\n",
    "    path_poses_ids = [start_pose_id]\n",
    "    \n",
    "    for i in range(1,n_steps+1):\n",
    "        w2 = i/(n_steps+1)\n",
    "        w1 =  1 -  w2\n",
    "        feature = np.array(start_feature) * w1 + np.array(end_feature) * w2\n",
    "        nbrs = NearestNeighbors(n_neighbors=n_neighbors, metric=metric).fit(pose_df[\"angle_vec\"].tolist())\n",
    "        distances, candidates = nbrs.kneighbors(feature.reshape(1, -1))\n",
    "        candidates = candidates[0]\n",
    "        if unique:   \n",
    "            candidates = [c for c in candidates if c not in path_poses_ids]\n",
    "\n",
    "        next_pose_id = np.random.choice(candidates)\n",
    "        path_poses_ids.append(next_pose_id)\n",
    "        \n",
    "    path_poses_ids.append(end_pose_id)\n",
    "\n",
    "    return pose_df.iloc[path_poses_ids].reset_index(drop=False)"
   ]
  },
  {
   "cell_type": "code",
   "execution_count": null,
   "metadata": {},
   "outputs": [],
   "source": [
    "for _ in range(5):\n",
    "    sample = pose_df.sample(2).index\n",
    "\n",
    "    test = walkthrough(sample[0], sample[1], n_steps = 10, n_neighbors = 5, unique = True)\n",
    "\n",
    "    fig, axs = plt.subplots(nrows=1, ncols=test.shape[0], figsize=(3 * test.shape[0], 3))\n",
    "    if test.shape[0] == 1:\n",
    "        axs = [axs]\n",
    "    else:\n",
    "        axs = axs.flatten()\n",
    "\n",
    "    for i, pose in test.iterrows():\n",
    "        draw_pose(pose, ax = axs[i], cut = True)\n",
    "    plt.show()"
   ]
  },
  {
   "cell_type": "markdown",
   "metadata": {},
   "source": [
    "### 2D visualization"
   ]
  },
  {
   "cell_type": "code",
   "execution_count": null,
   "metadata": {},
   "outputs": [],
   "source": [
    "import umap"
   ]
  },
  {
   "cell_type": "code",
   "execution_count": null,
   "metadata": {},
   "outputs": [],
   "source": [
    "sample = pose_df.sample(2).index\n",
    "path = walkthrough(sample[0], sample[1], n_steps = 100, n_neighbors = 100, unique = True)\n",
    "\n",
    "reducer = umap.UMAP(n_neighbors=5, min_dist=0.3, metric='cosine')\n",
    "embedding = reducer.fit_transform(path[\"angle_vec\"].tolist())\n",
    "\n",
    "plt.figure(figsize=(10, 10))\n",
    "plt.scatter(embedding[:, 0], embedding[:, 1], c=\"grey\", alpha=0.5)\n",
    "plt.scatter(embedding[0, 0], embedding[0, 1], c=\"red\", alpha=1, label = \"Start\")\n",
    "plt.scatter(embedding[-1, 0], embedding[-1, 1], c=\"green\", alpha=1, label = \"End\")\n",
    "plt.legend()\n",
    "plt.title(\"UMAP embedding of poses\")\n",
    "plt.show()"
   ]
  },
  {
   "cell_type": "code",
   "execution_count": null,
   "metadata": {},
   "outputs": [],
   "source": []
  }
 ],
 "metadata": {
  "kernelspec": {
   "display_name": "rts-o0uzL038-py3.10",
   "language": "python",
   "name": "python3"
  },
  "language_info": {
   "codemirror_mode": {
    "name": "ipython",
    "version": 3
   },
   "file_extension": ".py",
   "mimetype": "text/x-python",
   "name": "python",
   "nbconvert_exporter": "python",
   "pygments_lexer": "ipython3",
   "version": "3.10.11"
  }
 },
 "nbformat": 4,
 "nbformat_minor": 2
}
