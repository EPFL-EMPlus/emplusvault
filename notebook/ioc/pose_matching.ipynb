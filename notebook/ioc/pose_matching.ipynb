{
 "cells": [
  {
   "cell_type": "code",
   "execution_count": null,
   "metadata": {},
   "outputs": [],
   "source": [
    "%cd ../..\n",
    "%load_ext autoreload\n",
    "\n",
    "%autoreload 2"
   ]
  },
  {
   "cell_type": "code",
   "execution_count": null,
   "metadata": {},
   "outputs": [],
   "source": [
    "import os\n",
    "import pandas as pd\n",
    "import numpy as np\n",
    "import matplotlib.pyplot as plt\n",
    "from rts.utils import dataframe_from_hdf5\n",
    "from rts.features.pose import load_all_poses, draw_pose, format_keypoints_to_read\n",
    "from rts.features.pose import KEYPOINTS_NAMES, ANGLES_ASSOCIATIONS\n",
    "\n",
    "archive_path = \"/mnt/g/ioc/data/\"\n",
    "poses_folder = \"data/test_poses/\"\n",
    "sequences_folder = \"/mnt/g/ioc/sequences/\""
   ]
  },
  {
   "cell_type": "code",
   "execution_count": null,
   "metadata": {},
   "outputs": [],
   "source": [
    "poses = load_all_poses(poses_folder)\n",
    "data = dataframe_from_hdf5(archive_path, \"metadata\")\n",
    "\n",
    "pose_df = pd.merge(pd.DataFrame(poses), data[[\"seq_id\", \"sport\"]], left_on=\"video_name\", right_on=\"seq_id\")"
   ]
  },
  {
   "cell_type": "markdown",
   "metadata": {},
   "source": [
    "# Similar poses"
   ]
  },
  {
   "cell_type": "code",
   "execution_count": null,
   "metadata": {},
   "outputs": [],
   "source": [
    "# Find nearest neighbors\n",
    "\n",
    "from sklearn.neighbors import NearestNeighbors\n",
    "\n",
    "def get_nearest_neighbors(input_pose, n_neighbors=5, dist_threshold = 0.05):\n",
    "    other_poses = pose_df[pose_df[\"video_name\"] != input_pose[\"video_name\"]].reset_index(drop=True)\n",
    "    nbrs = NearestNeighbors(n_neighbors=n_neighbors, metric='cosine').fit(other_poses[\"angle_vec\"].tolist())\n",
    "    distances, indices = nbrs.kneighbors([input_pose[\"angle_vec\"]])\n",
    "    results = other_poses.iloc[indices[0]].reset_index(drop=True)\n",
    "    results[\"distance\"] = distances[0]\n",
    "    results = results[results[\"distance\"] < dist_threshold]\n",
    "    return results"
   ]
  },
  {
   "cell_type": "code",
   "execution_count": null,
   "metadata": {},
   "outputs": [],
   "source": [
    "n_neighbors = 5\n",
    "for i in range(5):\n",
    "    input_pose = pose_df.sample(1).iloc[0]\n",
    "    results = get_nearest_neighbors(input_pose, n_neighbors=n_neighbors)\n",
    "\n",
    "    fig, axs = plt.subplots(nrows=1, ncols=n_neighbors + 1, figsize=((n_neighbors + 1) * 3, 3))\n",
    "    axs = axs.flatten()\n",
    "    draw_pose(input_pose, video_folder=sequences_folder, ax = axs[0], cut = True)\n",
    "    axs[0].set_title(\"Input pose\")\n",
    "    for i, pose in results.iterrows():\n",
    "        draw_pose(pose, video_folder=sequences_folder, ax = axs[i+1], cut = True)\n",
    "    plt.show()"
   ]
  },
  {
   "cell_type": "markdown",
   "metadata": {},
   "source": [
    "# Matching Analytics"
   ]
  },
  {
   "cell_type": "code",
   "execution_count": null,
   "metadata": {},
   "outputs": [],
   "source": [
    "def matching_analytics(input_pose, n_neighbors=100, dist_threshold=0.05, show_top_n=5):\n",
    "    results = get_nearest_neighbors(input_pose, n_neighbors=n_neighbors, dist_threshold=dist_threshold)\n",
    "    results[\"sport\"].value_counts()\n",
    "\n",
    "    # Top 5 poses\n",
    "    fig, axs = plt.subplots(nrows=1, ncols=show_top_n + 1, figsize=((show_top_n + 1) * 3, 3))\n",
    "    axs = axs.flatten()\n",
    "    draw_pose(input_pose, video_folder=sequences_folder, ax = axs[0], cut = True)\n",
    "    axs[0].set_title(\"Input pose\")\n",
    "    for i, pose in results[:show_top_n].iterrows():\n",
    "        draw_pose(pose, video_folder=sequences_folder, ax = axs[i+1], cut = True)\n",
    "    plt.suptitle(\"Top %d nearest neighbors\" % show_top_n, fontsize = 20, y=1.03)\n",
    "    plt.show()\n",
    "\n",
    "    # Analytics\n",
    "    fig, axs = plt.subplots(nrows=3, ncols=2, figsize=(16, 16), gridspec_kw={'width_ratios': [1, 3], 'height_ratios': [1, 2, 2]})\n",
    "    axs = axs.flatten()\n",
    "\n",
    "    axs[0].boxplot(results[\"distance\"])\n",
    "    axs[0].set_title(\"Distances\")\n",
    "\n",
    "    sports_counts = results[\"sport\"].value_counts()\n",
    "    axs[1].bar(sports_counts.index, sports_counts.values)\n",
    "    axs[1].set_title(\"Sports (n=%d)\" % len(results))\n",
    "    axs[1].set_xticklabels(sports_counts.index, rotation=45)\n",
    "\n",
    "\n",
    "    input_keypoints_scores = [k[2] for k in input_pose[\"keypoints\"]]\n",
    "    keypoints_df_scores = pd.DataFrame(results[\"keypoints\"].apply(lambda x: [k[2] for k in x]).tolist(), columns=KEYPOINTS_NAMES)\n",
    "\n",
    "    axs[2].barh(KEYPOINTS_NAMES, input_keypoints_scores)\n",
    "    axs[2].set_title(\"Input keypoints scores\")\n",
    "    keypoints_df_scores.boxplot(column=KEYPOINTS_NAMES, vert=False, ax=axs[3], grid=False)\n",
    "    axs[3].set_title(\"Mean keypoints scores of nearest neighbors\")\n",
    "\n",
    "    input_angle_scores = input_pose[\"angle_score\"]\n",
    "    angle_df_scores = pd.DataFrame(results[\"angle_score\"].tolist(), columns=ANGLES_ASSOCIATIONS.keys())\n",
    "\n",
    "    axs[4].barh(list(ANGLES_ASSOCIATIONS.keys()), input_angle_scores)\n",
    "    axs[4].set_title(\"Input angles scores\")\n",
    "    angle_df_scores.boxplot(column=list(ANGLES_ASSOCIATIONS.keys()), vert=False, ax=axs[5], grid=False)\n",
    "    axs[5].set_title(\"Mean angles scores of nearest neighbors\")\n",
    "\n",
    "    plt.suptitle(\"Nearest neighbors analytics for %s (%s)\" % (input_pose[\"video_name\"], input_pose[\"sport\"]), fontsize = 20, y=1.03)\n",
    "    plt.tight_layout()\n",
    "    plt.show()\n",
    "\n",
    "    return results"
   ]
  },
  {
   "cell_type": "code",
   "execution_count": null,
   "metadata": {},
   "outputs": [],
   "source": [
    "input_pose = pose_df.sample(1).iloc[0]\n",
    "\n",
    "results = matching_analytics(input_pose)"
   ]
  },
  {
   "cell_type": "code",
   "execution_count": null,
   "metadata": {},
   "outputs": [],
   "source": []
  }
 ],
 "metadata": {
  "kernelspec": {
   "display_name": "rts-o0uzL038-py3.10",
   "language": "python",
   "name": "python3"
  },
  "language_info": {
   "codemirror_mode": {
    "name": "ipython",
    "version": 3
   },
   "file_extension": ".py",
   "mimetype": "text/x-python",
   "name": "python",
   "nbconvert_exporter": "python",
   "pygments_lexer": "ipython3",
   "version": "3.10.12"
  }
 },
 "nbformat": 4,
 "nbformat_minor": 2
}
