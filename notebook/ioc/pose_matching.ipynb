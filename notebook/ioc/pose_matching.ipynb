{
 "cells": [
  {
   "cell_type": "code",
   "execution_count": null,
   "metadata": {},
   "outputs": [],
   "source": [
    "%cd ../..\n",
    "%load_ext autoreload\n",
    "\n",
    "%autoreload 2"
   ]
  },
  {
   "cell_type": "code",
   "execution_count": null,
   "metadata": {},
   "outputs": [],
   "source": [
    "import os\n",
    "import pandas as pd\n",
    "import numpy as np\n",
    "import matplotlib.pyplot as plt\n",
    "from rts.utils import dataframe_from_hdf5\n",
    "from rts.features.pose import load_all_poses, draw_pose\n",
    "import umap\n",
    "import cv2\n",
    "\n",
    "from sklearn.cluster import DBSCAN, KMeans\n",
    "\n",
    "archive_path = \"/mnt/g/ioc/data/\"\n",
    "poses_folder = \"data/test_poses/\"\n",
    "sequences_folder = \"/mnt/g/ioc/sequences/\""
   ]
  },
  {
   "cell_type": "code",
   "execution_count": null,
   "metadata": {},
   "outputs": [],
   "source": [
    "poses = load_all_poses(poses_folder)\n",
    "data = dataframe_from_hdf5(archive_path, \"metadata\")\n",
    "\n",
    "pose_df = pd.merge(pd.DataFrame(poses), data[[\"seq_id\", \"sport\"]], left_on=\"video_name\", right_on=\"seq_id\")"
   ]
  },
  {
   "cell_type": "markdown",
   "metadata": {},
   "source": [
    "# Similar poses"
   ]
  },
  {
   "cell_type": "code",
   "execution_count": null,
   "metadata": {},
   "outputs": [],
   "source": [
    "# Find nearest neighbors\n",
    "\n",
    "from sklearn.neighbors import NearestNeighbors\n",
    "\n",
    "def get_nearest_neighbors(input_pose, n_neighbors=5, dist_threshold = 0.05):\n",
    "    other_poses = pose_df[pose_df[\"video_name\"] != input_pose[\"video_name\"]].reset_index(drop=True)\n",
    "    nbrs = NearestNeighbors(n_neighbors=n_neighbors, metric='cosine').fit(other_poses[\"angle_vec\"].tolist())\n",
    "    distances, indices = nbrs.kneighbors([input_pose[\"angle_vec\"]])\n",
    "    results = other_poses.iloc[indices[0]].reset_index(drop=True)\n",
    "    results[\"distance\"] = distances[0]\n",
    "    results = results[results[\"distance\"] < dist_threshold]\n",
    "    return results"
   ]
  },
  {
   "cell_type": "code",
   "execution_count": null,
   "metadata": {},
   "outputs": [],
   "source": [
    "n_neighbors = 5\n",
    "for i in range(5):\n",
    "    input_pose = pose_df.sample(1).iloc[0]\n",
    "    results = get_nearest_neighbors(input_pose, n_neighbors=n_neighbors)\n",
    "\n",
    "    fig, axs = plt.subplots(nrows=1, ncols=n_neighbors + 1, figsize=((n_neighbors + 1) * 3, 3))\n",
    "    axs = axs.flatten()\n",
    "    draw_pose(input_pose, video_folder=sequences_folder, ax = axs[0], cut = True)\n",
    "    axs[0].set_title(\"Input pose\")\n",
    "    for i, pose in results.iterrows():\n",
    "        draw_pose(pose, video_folder=sequences_folder, ax = axs[i+1], cut = True)\n",
    "    plt.show()"
   ]
  },
  {
   "cell_type": "markdown",
   "metadata": {},
   "source": [
    "# Matching Analytics"
   ]
  },
  {
   "cell_type": "code",
   "execution_count": null,
   "metadata": {},
   "outputs": [],
   "source": [
    "def matching_analytics(input_pose):\n",
    "    results = get_nearest_neighbors(input_pose, n_neighbors=100, dist_threshold=0.05)\n",
    "    results[\"sport\"].value_counts()\n",
    "\n",
    "    fig, axs = plt.subplots(nrows=1, ncols=2, figsize=(12, 6), gridspec_kw={'width_ratios': [1, 3]})\n",
    "    axs = axs.flatten()\n",
    "    axs[0].boxplot(results[\"distance\"])\n",
    "    axs[0].set_title(\"Distances\")\n",
    "\n",
    "    sports_counts = results[\"sport\"].value_counts()\n",
    "    axs[1].bar(sports_counts.index, sports_counts.values)\n",
    "    axs[1].set_title(\"Sports (n=%d)\" % len(results))\n",
    "    axs[1].set_xticklabels(sports_counts.index, rotation=45)\n",
    "\n",
    "    plt.suptitle(\"Nearest neighbors analytics for %s (%s)\" % (input_pose[\"video_name\"], input_pose[\"sport\"]))\n",
    "    plt.show()"
   ]
  },
  {
   "cell_type": "code",
   "execution_count": null,
   "metadata": {},
   "outputs": [],
   "source": [
    "input_pose = pose_df.sample(1).iloc[0]\n",
    "\n",
    "matching_analytics(input_pose)"
   ]
  },
  {
   "cell_type": "code",
   "execution_count": null,
   "metadata": {},
   "outputs": [],
   "source": []
  }
 ],
 "metadata": {
  "kernelspec": {
   "display_name": "rts-o0uzL038-py3.10",
   "language": "python",
   "name": "python3"
  },
  "language_info": {
   "codemirror_mode": {
    "name": "ipython",
    "version": 3
   },
   "file_extension": ".py",
   "mimetype": "text/x-python",
   "name": "python",
   "nbconvert_exporter": "python",
   "pygments_lexer": "ipython3",
   "version": "3.10.12"
  }
 },
 "nbformat": 4,
 "nbformat_minor": 2
}
