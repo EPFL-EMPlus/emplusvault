{
 "cells": [
  {
   "cell_type": "code",
   "execution_count": null,
   "metadata": {},
   "outputs": [],
   "source": [
    "%cd ../..\n",
    "%load_ext autoreload\n",
    "\n",
    "%autoreload 2"
   ]
  },
  {
   "cell_type": "code",
   "execution_count": null,
   "metadata": {},
   "outputs": [],
   "source": [
    "import os\n",
    "import cv2\n",
    "import pandas as pd\n",
    "import numpy as np\n",
    "from collections import Counter\n",
    "import matplotlib.pyplot as plt\n",
    "import seaborn as sns\n",
    "from sklearn.neighbors import NearestNeighbors\n",
    "\n",
    "from rts.client.get_content import get_features\n",
    "from rts.features.pose import draw_pose, process_all_poses\n",
    "from rts.features.pose import KEYPOINTS_NAMES, ANGLES_ASSOCIATIONS"
   ]
  },
  {
   "cell_type": "markdown",
   "metadata": {},
   "source": [
    "# Get all poses in the DB"
   ]
  },
  {
   "cell_type": "code",
   "execution_count": null,
   "metadata": {},
   "outputs": [],
   "source": [
    "poses = get_features(feature_type=\"pose\", page_size=100, max_features=100)\n",
    "pose_df = process_all_poses(poses)"
   ]
  },
  {
   "cell_type": "code",
   "execution_count": null,
   "metadata": {},
   "outputs": [],
   "source": [
    "pose_df.sport.value_counts()"
   ]
  },
  {
   "cell_type": "markdown",
   "metadata": {},
   "source": [
    "## Define sample"
   ]
  },
  {
   "cell_type": "code",
   "execution_count": null,
   "metadata": {},
   "outputs": [],
   "source": [
    "n_sample = 10000 # number of samples per sport\n",
    "sample = []\n",
    "for sport in pose_df.sport.unique():\n",
    "    pose_sport = pose_df[pose_df.sport == sport].reset_index(drop=True)\n",
    "    if len(pose_sport) > 0.8 * n_sample:\n",
    "        sample.extend(pose_sport.sample(np.min([pose_sport.shape[0], n_sample])).to_dict(orient=\"records\"))\n",
    "sample = pd.DataFrame(sample)"
   ]
  },
  {
   "cell_type": "code",
   "execution_count": null,
   "metadata": {},
   "outputs": [],
   "source": [
    "sample.sport.value_counts()"
   ]
  },
  {
   "cell_type": "markdown",
   "metadata": {},
   "source": [
    "# Similar poses"
   ]
  },
  {
   "cell_type": "code",
   "execution_count": null,
   "metadata": {},
   "outputs": [],
   "source": [
    "def get_nearest_neighbors(input_pose, n_neighbors=5, metric = \"cosine\", dist_threshold = 0.05):\n",
    "    other_poses = pose_df[pose_df[\"media_id\"] != input_pose[\"media_id\"]].reset_index(drop=True)\n",
    "    nbrs = NearestNeighbors(n_neighbors=n_neighbors, metric=metric).fit(other_poses[\"angle_vec\"].tolist())\n",
    "    distances, indices = nbrs.kneighbors([input_pose[\"angle_vec\"]])\n",
    "    results = other_poses.iloc[indices[0]].reset_index(drop=True)\n",
    "    results[\"distance\"] = distances[0]\n",
    "    results = results[results[\"distance\"] < dist_threshold]\n",
    "    return results"
   ]
  },
  {
   "cell_type": "code",
   "execution_count": null,
   "metadata": {},
   "outputs": [],
   "source": [
    "n_neighbors = 5\n",
    "for i in range(5):\n",
    "    input_pose = pose_df.sample(1).iloc[0]\n",
    "    results = get_nearest_neighbors(input_pose, n_neighbors=n_neighbors)\n",
    "\n",
    "    fig, axs = plt.subplots(nrows=1, ncols=n_neighbors + 1, figsize=((n_neighbors + 1) * 3, 3))\n",
    "    axs = axs.flatten()\n",
    "    draw_pose(input_pose, ax = axs[0], cut = True)\n",
    "    axs[0].set_title(\"Input pose\")\n",
    "    for i, pose in results.iterrows():\n",
    "        draw_pose(pose, ax = axs[i+1], cut = True)\n",
    "    plt.show()"
   ]
  },
  {
   "cell_type": "markdown",
   "metadata": {},
   "source": [
    "# Matching Analytics"
   ]
  },
  {
   "cell_type": "code",
   "execution_count": null,
   "metadata": {},
   "outputs": [],
   "source": [
    "def matching_analytics(input_pose, n_neighbors=100, dist_threshold=0.05, show_top_n=5):\n",
    "    results = get_nearest_neighbors(input_pose, n_neighbors=n_neighbors, dist_threshold=dist_threshold)\n",
    "    results[\"sport\"].value_counts()\n",
    "\n",
    "    # Top 5 poses\n",
    "    fig, axs = plt.subplots(nrows=1, ncols=show_top_n + 1, figsize=((show_top_n + 1) * 3, 3))\n",
    "    axs = axs.flatten()\n",
    "    draw_pose(input_pose, ax = axs[0], cut = True)\n",
    "    axs[0].set_title(\"Input pose\")\n",
    "    for i, pose in results[:show_top_n].iterrows():\n",
    "        draw_pose(pose, ax = axs[i+1], cut = True)\n",
    "    plt.suptitle(f\"Top {show_top_n} nearest neighbors\", fontsize = 20, y=1.03)\n",
    "    plt.show()\n",
    "\n",
    "    # Analytics\n",
    "    fig, axs = plt.subplots(nrows=3, ncols=2, figsize=(16, 16), gridspec_kw={'width_ratios': [1, 3], 'height_ratios': [1, 2, 2]})\n",
    "    axs = axs.flatten()\n",
    "\n",
    "    axs[0].boxplot(results[\"distance\"])\n",
    "    axs[0].set_title(\"Distances\")\n",
    "\n",
    "    sports_counts = results[\"sport\"].value_counts()\n",
    "    axs[1].bar(sports_counts.index, sports_counts.values)\n",
    "    axs[1].set_title(f\"Sports (n={len(results)})\")\n",
    "    axs[1].set_xticklabels(sports_counts.index, rotation=45)\n",
    "\n",
    "\n",
    "    input_keypoints_scores = [k[2] for k in input_pose[\"keypoints\"]]\n",
    "    keypoints_df_scores = pd.DataFrame(results[\"keypoints\"].apply(lambda x: [k[2] for k in x]).tolist(), columns=KEYPOINTS_NAMES)\n",
    "\n",
    "    axs[2].barh(KEYPOINTS_NAMES, input_keypoints_scores)\n",
    "    axs[2].set_title(\"Input keypoints scores\")\n",
    "    keypoints_df_scores.boxplot(column=KEYPOINTS_NAMES, vert=False, ax=axs[3], grid=False)\n",
    "    axs[3].set_title(\"Mean keypoints scores of nearest neighbors\")\n",
    "\n",
    "    input_angle_scores = input_pose[\"angle_score\"]\n",
    "    angle_df_scores = pd.DataFrame(results[\"angle_score\"].tolist(), columns=ANGLES_ASSOCIATIONS.keys())\n",
    "\n",
    "    axs[4].barh(list(ANGLES_ASSOCIATIONS.keys()), input_angle_scores)\n",
    "    axs[4].set_title(\"Input angles scores\")\n",
    "    angle_df_scores.boxplot(column=list(ANGLES_ASSOCIATIONS.keys()), vert=False, ax=axs[5], grid=False)\n",
    "    axs[5].set_title(\"Mean angles scores of nearest neighbors\")\n",
    "\n",
    "    plt.suptitle(f\"Nearest neighbors analytics for {input_pose['video_name']} ({input_pose['sport']})\", fontsize = 20, y=1.03)\n",
    "    plt.tight_layout()\n",
    "    plt.show()\n",
    "\n",
    "    return results"
   ]
  },
  {
   "cell_type": "code",
   "execution_count": null,
   "metadata": {},
   "outputs": [],
   "source": [
    "input_pose = pose_df.sample(1).iloc[0]\n",
    "\n",
    "results = matching_analytics(input_pose)"
   ]
  },
  {
   "cell_type": "markdown",
   "metadata": {},
   "source": [
    "# Analytics by sports"
   ]
  },
  {
   "cell_type": "code",
   "execution_count": null,
   "metadata": {},
   "outputs": [],
   "source": [
    "sample = sample[sample[\"sport\"] != \"Non-Sport\"]\n",
    "\n",
    "n_neighbors = 100\n",
    "nbrs = NearestNeighbors(n_neighbors=n_neighbors, metric='cosine').fit(sample[\"angle_vec\"].tolist())\n",
    "distances, indices = nbrs.kneighbors()\n",
    "\n",
    "sample[\"distance\"] = distances.tolist()\n",
    "sample[\"nbrs_indices\"] = indices.tolist()\n",
    "sample[\"nbrs_sports\"] = sample[\"nbrs_indices\"].map(lambda x: sample.iloc[x][\"sport\"].value_counts().to_dict())"
   ]
  },
  {
   "cell_type": "code",
   "execution_count": null,
   "metadata": {},
   "outputs": [],
   "source": [
    "sports = sample.sport.unique()\n",
    "sample[\"nbrs_sports\"] = sample.nbrs_sports.map(lambda x: Counter({sport: x.get(sport, 0) for sport in sports}))\n",
    "sample[\"nbrs_props\"] = sample.nbrs_sports.map(lambda x: Counter({k: v / sum(x.values()) for k, v in x.items()}))"
   ]
  },
  {
   "cell_type": "code",
   "execution_count": null,
   "metadata": {},
   "outputs": [],
   "source": [
    "nbrs_sports_counts = sample.groupby(\"sport\").nbrs_sports.sum()\n",
    "nbrs_sports_props = nbrs_sports_counts.apply(lambda x: Counter({sport: x.get(sport, 0) / np.sum(list(x.values())) for sport in sports}))[sports]"
   ]
  },
  {
   "cell_type": "code",
   "execution_count": null,
   "metadata": {},
   "outputs": [],
   "source": [
    "from collections import defaultdict\n",
    "\n",
    "def merge_and_mean_dicts(dicts):\n",
    "    result_dict = defaultdict(list)\n",
    "    \n",
    "    for d in dicts:\n",
    "        for key, value in d.items():\n",
    "            result_dict[key].append(value)\n",
    "    \n",
    "    mean_dict = {key: sum(values) / len(values) for key, values in result_dict.items()}\n",
    "    return mean_dict\n",
    "\n",
    "nbrs_sports_props = sample.groupby(\"sport\").nbrs_props.agg(merge_and_mean_dicts)[sports]"
   ]
  },
  {
   "cell_type": "code",
   "execution_count": null,
   "metadata": {},
   "outputs": [],
   "source": [
    "proportions = np.array(nbrs_sports_props.apply(lambda x: list(x.values())).values.tolist())\n",
    "labels = nbrs_sports_props.index\n",
    "\n",
    "plt.figure(figsize=(14, 10))\n",
    "sns.heatmap(proportions, annot=False, xticklabels=labels, yticklabels=labels, cmap=\"Blues\")\n",
    "plt.title(\"Proportion of sports nearest neighbors (top 100)\")\n",
    "plt.show()"
   ]
  },
  {
   "cell_type": "markdown",
   "metadata": {},
   "source": [
    "# Finding poses specific to each sport"
   ]
  },
  {
   "cell_type": "code",
   "execution_count": null,
   "metadata": {},
   "outputs": [],
   "source": [
    "sample[\"props_same_sport\"] = sample.apply(lambda df: df[\"nbrs_props\"][df[\"sport\"]], axis=1)"
   ]
  },
  {
   "cell_type": "code",
   "execution_count": null,
   "metadata": {},
   "outputs": [],
   "source": [
    "props_per_sport = sample.groupby(\"sport\").props_same_sport.mean()\n",
    "\n",
    "plt.figure(figsize=(10, 8))\n",
    "plt.barh(props_per_sport.index, props_per_sport.values)\n",
    "plt.title(\"Proportion of same sport nearest neighbors (top 100)\")\n",
    "plt.show()"
   ]
  },
  {
   "cell_type": "code",
   "execution_count": null,
   "metadata": {},
   "outputs": [],
   "source": [
    "plt.figure(figsize=(10, 8))\n",
    "for sport in sample.sport.unique():\n",
    "    props_poses_unique = []\n",
    "    for t in np.arange(0, 1.0, 0.1):\n",
    "        sport_df = sample[sample.sport == sport]\n",
    "        prop = sport_df[sport_df.props_same_sport > t].shape[0] / sport_df.shape[0]\n",
    "        props_poses_unique.append(prop)\n",
    "    plt.plot(np.arange(0, 1.0, 0.1), props_poses_unique, label = sport)\n",
    "\n",
    "props_poses_unique = []\n",
    "for t in np.arange(0, 1.0, 0.1):\n",
    "    prop = sample[sample.props_same_sport > t].shape[0] / sample.shape[0]\n",
    "    props_poses_unique.append(prop)\n",
    "plt.plot(np.arange(0, 1.0, 0.1), props_poses_unique, label = \"All Sports\", ls = \"--\", color = \"black\")\n",
    "\n",
    "plt.title(\"Proportion of unique poses (top 100)\")\n",
    "plt.xlabel(\"Threshold\")\n",
    "plt.ylabel(\"Proportion of nearest poses in the same sport\")\n",
    "plt.legend()\n",
    "plt.xlim(0,1)\n",
    "plt.show()"
   ]
  },
  {
   "cell_type": "markdown",
   "metadata": {},
   "source": [
    "### Check unique poses"
   ]
  },
  {
   "cell_type": "code",
   "execution_count": null,
   "metadata": {},
   "outputs": [],
   "source": [
    "pose_df[pose_df.props_same_sport > 0.6].sport.value_counts()"
   ]
  },
  {
   "cell_type": "code",
   "execution_count": null,
   "metadata": {},
   "outputs": [],
   "source": [
    "threshold = 0.4\n",
    "unique_poses = pose_df[pose_df.props_same_sport > threshold].reset_index(drop=True)\n",
    "\n",
    "for sport in unique_poses.sport.unique():\n",
    "    n_sample = np.min([unique_poses[unique_poses.sport == sport].shape[0], 5])\n",
    "    sample_poses = unique_poses[unique_poses.sport == sport].sample(n_sample).reset_index(drop = True)\n",
    "    \n",
    "    fig, axs = plt.subplots(nrows=1, ncols=n_sample, figsize=(3 * n_sample, 3))\n",
    "    if n_sample == 1:\n",
    "        axs = [axs]\n",
    "    else:\n",
    "        axs = axs.flatten()\n",
    "    \n",
    "    for i, pose in sample_poses.iterrows():\n",
    "        draw_pose(pose, ax = axs[i], cut = True)\n",
    "    plt.suptitle(f\"Unique poses for {sport}\", fontsize = 20, y=1.05)\n",
    "    plt.show()"
   ]
  },
  {
   "cell_type": "markdown",
   "metadata": {},
   "source": [
    "# Walkthrough"
   ]
  },
  {
   "cell_type": "code",
   "execution_count": null,
   "metadata": {},
   "outputs": [],
   "source": [
    "def walkthrough(start_pose_id, end_pose_id, n_steps, n_neighbors=1, metric = \"cosine\", unique = True):\n",
    "    start_pose = pose_df.iloc[start_pose_id]\n",
    "    end_pose = pose_df.iloc[end_pose_id]\n",
    "    start_feature = start_pose[\"angle_vec\"]\n",
    "    end_feature = end_pose[\"angle_vec\"]\n",
    "\n",
    "    path_poses_ids = [start_pose_id]\n",
    "    \n",
    "    for i in range(1,n_steps+1):\n",
    "        w2 = i/(n_steps+1)\n",
    "        w1 =  1 -  w2\n",
    "        feature = np.array(start_feature) * w1 + np.array(end_feature) * w2\n",
    "        nbrs = get_nearest_neighbors(input_pose, n_neighbors=n_neighbors, metric=metric, dist_threshold=0.5)\n",
    "        nbrs = NearestNeighbors(n_neighbors=n_neighbors, metric=metric).fit(pose_df[\"angle_vec\"].tolist())\n",
    "        distances, candidates = nbrs.kneighbors(feature.reshape(1, -1))\n",
    "        candidates = candidates[0]\n",
    "        if unique:   \n",
    "            candidates = [c for c in candidates if c not in path_poses_ids]\n",
    "\n",
    "        next_pose_id = np.random.choice(candidates)\n",
    "        path_poses_ids.append(next_pose_id)\n",
    "        \n",
    "    path_poses_ids.append(end_pose_id)\n",
    "\n",
    "    return pose_df.iloc[path_poses_ids].reset_index(drop=False)"
   ]
  },
  {
   "cell_type": "code",
   "execution_count": null,
   "metadata": {},
   "outputs": [],
   "source": [
    "for _ in range(10):\n",
    "    sample = pose_df.sample(2).index\n",
    "\n",
    "    test = walkthrough(sample[0], sample[1], n_steps = 10, n_neighbors = 5, unique = True)\n",
    "\n",
    "    fig, axs = plt.subplots(nrows=1, ncols=test.shape[0], figsize=(3 * test.shape[0], 3))\n",
    "    if test.shape[0] == 1:\n",
    "        axs = [axs]\n",
    "    else:\n",
    "        axs = axs.flatten()\n",
    "\n",
    "    for i, pose in test.iterrows():\n",
    "        draw_pose(pose, ax = axs[i], cut = True)\n",
    "    plt.show()"
   ]
  },
  {
   "cell_type": "markdown",
   "metadata": {},
   "source": [
    "## 2D visualization"
   ]
  },
  {
   "cell_type": "code",
   "execution_count": null,
   "metadata": {},
   "outputs": [],
   "source": [
    "import umap"
   ]
  },
  {
   "cell_type": "code",
   "execution_count": null,
   "metadata": {},
   "outputs": [],
   "source": [
    "sample = pose_df.sample(2).index\n",
    "path = walkthrough(sample[0], sample[1], n_steps = 100, n_neighbors = 100, unique = True)\n",
    "\n",
    "reducer = umap.UMAP(n_neighbors=5, min_dist=0.3, metric='cosine')\n",
    "embedding = reducer.fit_transform(path[\"angle_vec\"].tolist())\n",
    "\n",
    "plt.figure(figsize=(10, 10))\n",
    "plt.scatter(embedding[:, 0], embedding[:, 1], c=\"grey\", alpha=0.5)\n",
    "plt.scatter(embedding[0, 0], embedding[0, 1], c=\"red\", alpha=1, label = \"Start\")\n",
    "plt.scatter(embedding[-1, 0], embedding[-1, 1], c=\"green\", alpha=1, label = \"End\")\n",
    "plt.legend()\n",
    "plt.title(\"UMAP embedding of poses\")\n",
    "plt.show()"
   ]
  },
  {
   "cell_type": "code",
   "execution_count": null,
   "metadata": {},
   "outputs": [],
   "source": []
  }
 ],
 "metadata": {
  "kernelspec": {
   "display_name": "rts-o0uzL038-py3.10",
   "language": "python",
   "name": "python3"
  },
  "language_info": {
   "codemirror_mode": {
    "name": "ipython",
    "version": 3
   },
   "file_extension": ".py",
   "mimetype": "text/x-python",
   "name": "python",
   "nbconvert_exporter": "python",
   "pygments_lexer": "ipython3",
   "version": "3.10.12"
  }
 },
 "nbformat": 4,
 "nbformat_minor": 2
}
