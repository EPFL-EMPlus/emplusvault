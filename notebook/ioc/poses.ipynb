{
 "cells": [
  {
   "cell_type": "code",
   "execution_count": null,
   "metadata": {},
   "outputs": [],
   "source": [
    "%cd ../..\n",
    "%load_ext autoreload\n",
    "\n",
    "%autoreload 2"
   ]
  },
  {
   "cell_type": "code",
   "execution_count": null,
   "metadata": {},
   "outputs": [],
   "source": [
    "import os\n",
    "from pathlib import Path\n",
    "import numpy as np\n",
    "import pandas as pd\n",
    "import matplotlib.pyplot as plt\n",
    "\n",
    "from emv.utils import dataframe_from_hdf5\n",
    "import emv.features.pose as pose\n",
    "from emv.features.pose import process_video, draw_pose, get_frame, load_all_poses, process_all_poses\n",
    "from emv.features.pose import format_keypoints_to_read, keypoint_name_to_id\n",
    "from emv.features.pose import KEYPOINTS_NAMES, CONNECTIONS, ANGLES_ASSOCIATIONS\n",
    "from emv.client.get_content import get_features\n",
    "\n",
    "archive_path = \"/mnt/g/ioc/data/\"\n",
    "os.path.isdir(archive_path)\n",
    "\n",
    "sequences_folder = \"/mnt/g/ioc/sequences/\"\n",
    "pose_folder = \"data/test_poses/\"\n",
    "\n",
    "MODEL = pose.PifPafModel.fast"
   ]
  },
  {
   "cell_type": "markdown",
   "metadata": {},
   "source": [
    "# Local extraction"
   ]
  },
  {
   "cell_type": "code",
   "execution_count": null,
   "metadata": {},
   "outputs": [],
   "source": [
    "data = dataframe_from_hdf5(archive_path, \"metadata\")"
   ]
  },
  {
   "cell_type": "code",
   "execution_count": null,
   "metadata": {},
   "outputs": [],
   "source": [
    "data.head()"
   ]
  },
  {
   "cell_type": "code",
   "execution_count": null,
   "metadata": {},
   "outputs": [],
   "source": [
    "sequences_folder = \"/mnt/g/ioc/sequences/\"\n",
    "extracted_sequences = os.listdir(sequences_folder)\n",
    "data = data[data.guid.map(lambda x: x in extracted_sequences)]\n",
    "data = data[data.duration_sec < 600]"
   ]
  },
  {
   "cell_type": "code",
   "execution_count": null,
   "metadata": {},
   "outputs": [],
   "source": [
    "data.sport.value_counts()"
   ]
  },
  {
   "cell_type": "code",
   "execution_count": null,
   "metadata": {},
   "outputs": [],
   "source": [
    "top_sports = data.sport.value_counts().index.tolist()\n",
    "top_spoemv.remove(\"Non-Sport\")"
   ]
  },
  {
   "cell_type": "code",
   "execution_count": null,
   "metadata": {},
   "outputs": [],
   "source": [
    "data = data[data.sport.map(lambda x: x in top_sports)]"
   ]
  },
  {
   "cell_type": "code",
   "execution_count": null,
   "metadata": {},
   "outputs": [],
   "source": [
    "N_SEQS_PER_SPORT = 100\n",
    "sample = data.groupby(\"sport\").sample(N_SEQS_PER_SPORT)\n",
    "len(sample)"
   ]
  },
  {
   "cell_type": "code",
   "execution_count": null,
   "metadata": {},
   "outputs": [],
   "source": [
    "sequences_videos = []\n",
    "for root, dirs, files in os.walk(sequences_folder):\n",
    "    for file in files:\n",
    "        if file.endswith('.mp4'):\n",
    "            sequences_videos.append(os.path.join(root, file))\n",
    "\n",
    "print(len(sequences_videos))"
   ]
  },
  {
   "cell_type": "code",
   "execution_count": null,
   "metadata": {},
   "outputs": [],
   "source": [
    "data[\"video_path\"] = data.guid.map(lambda x: [f for f in sequences_videos if x in f][0])"
   ]
  },
  {
   "cell_type": "code",
   "execution_count": null,
   "metadata": {},
   "outputs": [],
   "source": [
    "data.apply(lambda df: process_video(\n",
    "    MODEL, \n",
    "    Path(f\"{pose_folder}{df[\"guid\"]}.jl\"), \n",
    "    Path(df[\"video_path\"]), \n",
    "    skip_frame=10\n",
    "), axis = 1)"
   ]
  },
  {
   "cell_type": "markdown",
   "metadata": {},
   "source": [
    "### Load extracted poses"
   ]
  },
  {
   "cell_type": "code",
   "execution_count": null,
   "metadata": {},
   "outputs": [],
   "source": [
    "poses = load_all_poses(pose_folder)"
   ]
  },
  {
   "cell_type": "markdown",
   "metadata": {},
   "source": [
    "# Load poses on S3"
   ]
  },
  {
   "cell_type": "code",
   "execution_count": null,
   "metadata": {},
   "outputs": [],
   "source": [
    "poses = get_features(feature_type=\"pose\", page_size=100, max_features=100000)\n",
    "pose_df = process_all_poses(poses, merge_metadata = True)"
   ]
  },
  {
   "cell_type": "code",
   "execution_count": null,
   "metadata": {},
   "outputs": [],
   "source": [
    "pose_df.sport.value_counts()"
   ]
  },
  {
   "cell_type": "code",
   "execution_count": null,
   "metadata": {},
   "outputs": [],
   "source": [
    "pose_df.to_csv(\"data/pose_df.csv\")"
   ]
  },
  {
   "cell_type": "markdown",
   "metadata": {},
   "source": [
    "# Check results"
   ]
  },
  {
   "cell_type": "code",
   "execution_count": null,
   "metadata": {},
   "outputs": [],
   "source": [
    "# create a grid of subplots\n",
    "nrows = 2\n",
    "ncols = 6\n",
    "fig, axs = plt.subplots(nrows=nrows, ncols=ncols, figsize=(ncols * 3, nrows * 3))\n",
    "axs = axs.flatten()\n",
    "# iterate over the poses and draw each pose in a subplot\n",
    "sample_poses = pose_df.sample(nrows * ncols).reset_index(drop=True)\n",
    "for i, pose in sample_poses.iterrows():\n",
    "    draw_pose(pose, ax = axs[i], cut = True)\n",
    "\n",
    "plt.show()"
   ]
  },
  {
   "cell_type": "markdown",
   "metadata": {},
   "source": [
    "### Check angles"
   ]
  },
  {
   "cell_type": "code",
   "execution_count": null,
   "metadata": {},
   "outputs": [],
   "source": [
    "def draw_angles(pose, angle_id, ax = None, cut=True, threshold=0.1):\n",
    "    keypoints = pose[\"keypoints\"]\n",
    "\n",
    "    # Do not draw non-detected keypoints\n",
    "    #connections = [c for c in connections if keypoints[KEYPOINTS_NAMES.index(c[0])][2] > threshold and keypoints[KEYPOINTS_NAMES.index(c[1])][2] > threshold]\n",
    "    #keypoints = [k for k in keypoints if k[2] > threshold]\n",
    "    \n",
    "    frame = get_frame(pose[\"video_name\"], pose[\"frame_number\"])\n",
    "\n",
    "    if ax is None:\n",
    "        fig, ax = plt.subplots(figsize=(6,6))\n",
    "\n",
    "    ax.imshow(frame)\n",
    "    ax.scatter([k[0] for k in keypoints if k[2] > threshold], [k[1] for k in keypoints if k[2] > threshold], s=10)\n",
    "    for c in CONNECTIONS:\n",
    "        k1 = keypoints[KEYPOINTS_NAMES.index(c[0])]\n",
    "        k2 = keypoints[KEYPOINTS_NAMES.index(c[1])]\n",
    "        if k1[2] > threshold and k2[2] > threshold:\n",
    "            ax.plot([k1[0], k2[0]], \n",
    "                    [k1[1], k2[1]], \n",
    "                    linewidth=0.5, color='black')\n",
    "        \n",
    "    # Draw input angle (k1,k2,k3) on the plot as lines between the keypoints, with text showing the angle value\n",
    "    angle_value = pose[\"angle_vec\"][angle_id]\n",
    "    angle_name = list(ANGLES_ASSOCIATIONS.keys())[angle_id]\n",
    "    angle_keypoints = ANGLES_ASSOCIATIONS[angle_name]\n",
    "    k1 = keypoints[keypoint_name_to_id(angle_keypoints[0])]\n",
    "    k2 = keypoints[keypoint_name_to_id(angle_keypoints[1])]\n",
    "    k3 = keypoints[keypoint_name_to_id(angle_keypoints[2])]\n",
    "    if k1[2] > threshold and k2[2] > threshold and k3[2] > threshold:\n",
    "        if k1[2] > threshold and k2[2] > threshold and k3[2] > threshold:\n",
    "            ax.plot([k1[0], k2[0]], \n",
    "                [k1[1], k2[1]], \n",
    "                linewidth=1, color='red')\n",
    "            ax.plot([k3[0], k2[0]], \n",
    "                [k3[1], k2[1]], \n",
    "                linewidth=1, color='red')\n",
    "        ax.text(k2[0], k2[1], f\"({int(180 * angle_value)},{angle_value:.2f})\", color=\"black\", fontsize=12)\n",
    "\n",
    "\n",
    "    # cut frame to bbox\n",
    "    bbox = pose[\"bbox\"]\n",
    "    if cut:\n",
    "        ax.set_xlim(int(bbox[0]),int(bbox[0] + bbox[2]))\n",
    "        ax.set_ylim(int(bbox[1] + bbox[3]), int(bbox[1]))\n",
    "        \n",
    "    ax.axis(\"off\")\n",
    "    ax.set_aspect('equal')\n",
    "    ax.set_title(angle_name)\n",
    "    plt.tight_layout()\n",
    "\n",
    "    return ax"
   ]
  },
  {
   "cell_type": "code",
   "execution_count": null,
   "metadata": {},
   "outputs": [],
   "source": [
    "fig, axs = plt.subplots(nrows=3, ncols=3, figsize=(3 * 3, 3 * 3))\n",
    "axs = axs.flatten()\n",
    "\n",
    "for i in range(len(ANGLES_ASSOCIATIONS.keys())):\n",
    "    draw_angles(poses[0], i, ax = axs[i], cut = True)\n",
    "plt.show()"
   ]
  }
 ],
 "metadata": {
  "kernelspec": {
   "display_name": "rts-506MfBOj-py3.10",
   "language": "python",
   "name": "python3"
  },
  "language_info": {
   "codemirror_mode": {
    "name": "ipython",
    "version": 3
   },
   "file_extension": ".py",
   "mimetype": "text/x-python",
   "name": "python",
   "nbconvert_exporter": "python",
   "pygments_lexer": "ipython3",
   "version": "3.10.12"
  },
  "orig_nbformat": 4
 },
 "nbformat": 4,
 "nbformat_minor": 2
}
