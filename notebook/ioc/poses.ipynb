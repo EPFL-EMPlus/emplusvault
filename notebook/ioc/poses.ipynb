{
 "cells": [
  {
   "cell_type": "code",
   "execution_count": null,
   "metadata": {},
   "outputs": [],
   "source": [
    "%cd ../..\n",
    "%load_ext autoreload\n",
    "\n",
    "%autoreload 2"
   ]
  },
  {
   "cell_type": "code",
   "execution_count": null,
   "metadata": {},
   "outputs": [],
   "source": [
    "import os\n",
    "from pathlib import Path\n",
    "import rts\n",
    "from rts.utils import dataframe_from_hdf5\n",
    "import rts.features.pose as pose\n",
    "import numpy as np\n",
    "import pandas as pd"
   ]
  },
  {
   "cell_type": "code",
   "execution_count": null,
   "metadata": {},
   "outputs": [],
   "source": [
    "archiva_path = \"/mnt/g/ioc/data/\"\n",
    "os.path.isdir(archiva_path)"
   ]
  },
  {
   "cell_type": "code",
   "execution_count": null,
   "metadata": {},
   "outputs": [],
   "source": [
    "data = dataframe_from_hdf5(archiva_path, \"metadata\")"
   ]
  },
  {
   "cell_type": "code",
   "execution_count": null,
   "metadata": {},
   "outputs": [],
   "source": [
    "data.head()"
   ]
  },
  {
   "cell_type": "code",
   "execution_count": null,
   "metadata": {},
   "outputs": [],
   "source": [
    "sequences_folder = \"/mnt/g/ioc/sequences/\"\n",
    "extracted_sequences = os.listdir(sequences_folder)\n",
    "data = data[data.guid.map(lambda x: x in extracted_sequences)]\n",
    "data = data[data.duration_sec < 600]"
   ]
  },
  {
   "cell_type": "code",
   "execution_count": null,
   "metadata": {},
   "outputs": [],
   "source": [
    "data.sport.value_counts()"
   ]
  },
  {
   "cell_type": "code",
   "execution_count": null,
   "metadata": {},
   "outputs": [],
   "source": [
    "top_sports = data.sport.value_counts().index.tolist()\n",
    "top_sports.remove(\"Non-Sport\")"
   ]
  },
  {
   "cell_type": "code",
   "execution_count": null,
   "metadata": {},
   "outputs": [],
   "source": [
    "data = data[data.sport.map(lambda x: x in top_sports)]"
   ]
  },
  {
   "cell_type": "code",
   "execution_count": null,
   "metadata": {},
   "outputs": [],
   "source": [
    "N_SEQS_PER_SPORT = 100\n",
    "sample = data.groupby(\"sport\").sample(N_SEQS_PER_SPORT)\n",
    "len(sample)"
   ]
  },
  {
   "cell_type": "code",
   "execution_count": null,
   "metadata": {},
   "outputs": [],
   "source": [
    "sequences_folder = \"/mnt/g/ioc/sequences/\"\n",
    "\n",
    "sequences_videos = []\n",
    "for root, dirs, files in os.walk(sequences_folder):\n",
    "    for file in files:\n",
    "        if file.endswith('.mp4'):\n",
    "            sequences_videos.append(os.path.join(root, file))\n",
    "\n",
    "print(len(sequences_videos))"
   ]
  },
  {
   "cell_type": "code",
   "execution_count": null,
   "metadata": {},
   "outputs": [],
   "source": [
    "data[\"video_path\"] = data.guid.map(lambda x: [f for f in sequences_videos if x in f][0])"
   ]
  },
  {
   "cell_type": "code",
   "execution_count": null,
   "metadata": {},
   "outputs": [],
   "source": [
    "output_folder = \"data/test_poses/\"\n",
    "\n",
    "data.apply(lambda df: pose.process_video(\n",
    "    pose.PifPafModel.fast, \n",
    "    Path(output_folder + \"%s.jl\" %df[\"guid\"]), \n",
    "    Path(df[\"video_path\"]), \n",
    "    skip_frame=10\n",
    "), axis = 1)"
   ]
  },
  {
   "cell_type": "code",
   "execution_count": null,
   "metadata": {},
   "outputs": [],
   "source": [
    "poses_jl = [output_folder + f for f in os.listdir(output_folder)]\n",
    "poses = []\n",
    "for pose_json in poses_jl:\n",
    "    poses.append(pose.extract_frame_data(pose_json, 0.5))\n",
    "\n",
    "print(len(poses))"
   ]
  },
  {
   "cell_type": "code",
   "execution_count": null,
   "metadata": {},
   "outputs": [],
   "source": []
  }
 ],
 "metadata": {
  "kernelspec": {
   "display_name": "rts-506MfBOj-py3.10",
   "language": "python",
   "name": "python3"
  },
  "language_info": {
   "codemirror_mode": {
    "name": "ipython",
    "version": 3
   },
   "file_extension": ".py",
   "mimetype": "text/x-python",
   "name": "python",
   "nbconvert_exporter": "python",
   "pygments_lexer": "ipython3",
   "version": "3.10.11"
  },
  "orig_nbformat": 4
 },
 "nbformat": 4,
 "nbformat_minor": 2
}
