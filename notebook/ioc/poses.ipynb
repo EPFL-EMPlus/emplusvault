{
 "cells": [
  {
   "cell_type": "code",
   "execution_count": 1,
   "metadata": {},
   "outputs": [
    {
     "name": "stdout",
     "output_type": "stream",
     "text": [
      "/home/giacomowsl/Projects/sinergia/emplusvault\n"
     ]
    }
   ],
   "source": [
    "%cd ../..\n",
    "%load_ext autoreload\n",
    "\n",
    "%autoreload 2"
   ]
  },
  {
   "cell_type": "code",
   "execution_count": 2,
   "metadata": {},
   "outputs": [
    {
     "name": "stderr",
     "output_type": "stream",
     "text": [
      "/home/giacomowsl/.cache/pypoetry/virtualenvs/rts-o0uzL038-py3.10/lib/python3.10/site-packages/tqdm/auto.py:21: TqdmWarning: IProgress not found. Please update jupyter and ipywidgets. See https://ipywidgets.readthedocs.io/en/stable/user_install.html\n",
      "  from .autonotebook import tqdm as notebook_tqdm\n"
     ]
    }
   ],
   "source": [
    "import os\n",
    "from pathlib import Path\n",
    "import rts\n",
    "from rts.utils import dataframe_from_hdf5\n",
    "import rts.features.pose as pose\n",
    "import numpy as np\n",
    "import pandas as pd"
   ]
  },
  {
   "cell_type": "code",
   "execution_count": 5,
   "metadata": {},
   "outputs": [
    {
     "data": {
      "text/plain": [
       "True"
      ]
     },
     "execution_count": 5,
     "metadata": {},
     "output_type": "execute_result"
    }
   ],
   "source": [
    "archiva_path = \"/mnt/g/ioc/data/\"\n",
    "os.path.isdir(archiva_path)"
   ]
  },
  {
   "cell_type": "code",
   "execution_count": 6,
   "metadata": {},
   "outputs": [],
   "source": [
    "data = dataframe_from_hdf5(archiva_path, \"metadata\")"
   ]
  },
  {
   "cell_type": "code",
   "execution_count": 7,
   "metadata": {},
   "outputs": [
    {
     "data": {
      "text/html": [
       "<div>\n",
       "<style scoped>\n",
       "    .dataframe tbody tr th:only-of-type {\n",
       "        vertical-align: middle;\n",
       "    }\n",
       "\n",
       "    .dataframe tbody tr th {\n",
       "        vertical-align: top;\n",
       "    }\n",
       "\n",
       "    .dataframe thead th {\n",
       "        text-align: right;\n",
       "    }\n",
       "</style>\n",
       "<table border=\"1\" class=\"dataframe\">\n",
       "  <thead>\n",
       "    <tr style=\"text-align: right;\">\n",
       "      <th></th>\n",
       "      <th>guid</th>\n",
       "      <th>seq_id</th>\n",
       "      <th>date</th>\n",
       "      <th>duration</th>\n",
       "      <th>start</th>\n",
       "      <th>end</th>\n",
       "      <th>description</th>\n",
       "      <th>event</th>\n",
       "      <th>extra</th>\n",
       "      <th>duration_sec</th>\n",
       "      <th>sport</th>\n",
       "      <th>category</th>\n",
       "      <th>raw_round</th>\n",
       "      <th>details</th>\n",
       "      <th>round</th>\n",
       "    </tr>\n",
       "  </thead>\n",
       "  <tbody>\n",
       "    <tr>\n",
       "      <th>0</th>\n",
       "      <td>MDA30021100</td>\n",
       "      <td>MDA30021100</td>\n",
       "      <td>2004-08-22</td>\n",
       "      <td>0 days 00:57:03</td>\n",
       "      <td>10:38:33.07</td>\n",
       "      <td>11:35:36.22</td>\n",
       "      <td>Athens 2004 Summer OG, Cycling Track, Team pur...</td>\n",
       "      <td>Cycling Track/Men's Team Pursuit[M]/Qualifying</td>\n",
       "      <td>{}</td>\n",
       "      <td>3423.0</td>\n",
       "      <td>Cycling</td>\n",
       "      <td>Men's Team Pursuit[M]</td>\n",
       "      <td>Qualifying</td>\n",
       "      <td></td>\n",
       "      <td>Preliminary</td>\n",
       "    </tr>\n",
       "    <tr>\n",
       "      <th>1</th>\n",
       "      <td>MDA30021100</td>\n",
       "      <td>SEQ41430642</td>\n",
       "      <td>2004-08-22</td>\n",
       "      <td>0 days 00:16:23</td>\n",
       "      <td>10:38:33.07</td>\n",
       "      <td>10:54:57.04</td>\n",
       "      <td>Athens 2004 Summer OG, Cycling Track, Team pur...</td>\n",
       "      <td>Cycling Track/Men's Team Pursuit[M]/Qualifying</td>\n",
       "      <td>{}</td>\n",
       "      <td>983.0</td>\n",
       "      <td>Cycling</td>\n",
       "      <td>Men's Team Pursuit[M]</td>\n",
       "      <td>Qualifying</td>\n",
       "      <td></td>\n",
       "      <td>Preliminary</td>\n",
       "    </tr>\n",
       "    <tr>\n",
       "      <th>2</th>\n",
       "      <td>MDA30021200</td>\n",
       "      <td>MDA30021200</td>\n",
       "      <td>2004-08-24</td>\n",
       "      <td>0 days 00:58:59</td>\n",
       "      <td>19:25:51.00</td>\n",
       "      <td>20:24:50.00</td>\n",
       "      <td>Athens 2004 Summer OG, Synchronised swimming, ...</td>\n",
       "      <td>Artistic Swimming/Duet[W]</td>\n",
       "      <td>{}</td>\n",
       "      <td>3539.0</td>\n",
       "      <td>Swimming</td>\n",
       "      <td>Duet[W]</td>\n",
       "      <td></td>\n",
       "      <td></td>\n",
       "      <td></td>\n",
       "    </tr>\n",
       "    <tr>\n",
       "      <th>3</th>\n",
       "      <td>MDA30021200</td>\n",
       "      <td>SEQ41465934</td>\n",
       "      <td>2004-08-24</td>\n",
       "      <td>0 days 00:58:59</td>\n",
       "      <td>19:25:51.00</td>\n",
       "      <td>20:24:50.01</td>\n",
       "      <td>Athens 2004 Summer OG, Synchronised swimming, ...</td>\n",
       "      <td>Artistic Swimming/Duet[W]</td>\n",
       "      <td>{}</td>\n",
       "      <td>3539.0</td>\n",
       "      <td>Swimming</td>\n",
       "      <td>Duet[W]</td>\n",
       "      <td></td>\n",
       "      <td></td>\n",
       "      <td></td>\n",
       "    </tr>\n",
       "    <tr>\n",
       "      <th>4</th>\n",
       "      <td>MDA30021300</td>\n",
       "      <td>MDA30021300</td>\n",
       "      <td>2004-08-25</td>\n",
       "      <td>0 days 00:59:30</td>\n",
       "      <td>22:36:00.00</td>\n",
       "      <td>23:35:30.01</td>\n",
       "      <td>Athens 2004 Summer OG, Baseball, Final, Men, C...</td>\n",
       "      <td>Baseball/baseball(M)/Final</td>\n",
       "      <td>{}</td>\n",
       "      <td>3570.0</td>\n",
       "      <td>Baseball</td>\n",
       "      <td>baseball(M)</td>\n",
       "      <td>Final</td>\n",
       "      <td></td>\n",
       "      <td>Final</td>\n",
       "    </tr>\n",
       "  </tbody>\n",
       "</table>\n",
       "</div>"
      ],
      "text/plain": [
       "          guid       seq_id       date        duration        start  \\\n",
       "0  MDA30021100  MDA30021100 2004-08-22 0 days 00:57:03  10:38:33.07   \n",
       "1  MDA30021100  SEQ41430642 2004-08-22 0 days 00:16:23  10:38:33.07   \n",
       "2  MDA30021200  MDA30021200 2004-08-24 0 days 00:58:59  19:25:51.00   \n",
       "3  MDA30021200  SEQ41465934 2004-08-24 0 days 00:58:59  19:25:51.00   \n",
       "4  MDA30021300  MDA30021300 2004-08-25 0 days 00:59:30  22:36:00.00   \n",
       "\n",
       "           end                                        description  \\\n",
       "0  11:35:36.22  Athens 2004 Summer OG, Cycling Track, Team pur...   \n",
       "1  10:54:57.04  Athens 2004 Summer OG, Cycling Track, Team pur...   \n",
       "2  20:24:50.00  Athens 2004 Summer OG, Synchronised swimming, ...   \n",
       "3  20:24:50.01  Athens 2004 Summer OG, Synchronised swimming, ...   \n",
       "4  23:35:30.01  Athens 2004 Summer OG, Baseball, Final, Men, C...   \n",
       "\n",
       "                                            event extra  duration_sec  \\\n",
       "0  Cycling Track/Men's Team Pursuit[M]/Qualifying    {}        3423.0   \n",
       "1  Cycling Track/Men's Team Pursuit[M]/Qualifying    {}         983.0   \n",
       "2                       Artistic Swimming/Duet[W]    {}        3539.0   \n",
       "3                       Artistic Swimming/Duet[W]    {}        3539.0   \n",
       "4                      Baseball/baseball(M)/Final    {}        3570.0   \n",
       "\n",
       "      sport               category   raw_round details        round  \n",
       "0   Cycling  Men's Team Pursuit[M]  Qualifying          Preliminary  \n",
       "1   Cycling  Men's Team Pursuit[M]  Qualifying          Preliminary  \n",
       "2  Swimming                Duet[W]                                   \n",
       "3  Swimming                Duet[W]                                   \n",
       "4  Baseball            baseball(M)       Final                Final  "
      ]
     },
     "execution_count": 7,
     "metadata": {},
     "output_type": "execute_result"
    }
   ],
   "source": [
    "data.head()"
   ]
  },
  {
   "cell_type": "code",
   "execution_count": 8,
   "metadata": {},
   "outputs": [],
   "source": [
    "sequences_folder = \"/mnt/g/ioc/sequences/\"\n",
    "extracted_sequences = os.listdir(sequences_folder)\n",
    "data = data[data.guid.map(lambda x: x in extracted_sequences)]\n",
    "data = data[data.duration_sec < 600]"
   ]
  },
  {
   "cell_type": "code",
   "execution_count": 9,
   "metadata": {},
   "outputs": [
    {
     "data": {
      "text/plain": [
       "sport\n",
       "Basketball          11928\n",
       "Volleyball          10144\n",
       "Tennis               8571\n",
       "Table Tennis         7905\n",
       "Handball             6919\n",
       "Baseball             6386\n",
       "Beach Volleyball     6233\n",
       "Canoeing             6061\n",
       "Athletics            5810\n",
       "Golf                 5676\n",
       "Archery              5594\n",
       "Taekwondo            5548\n",
       "Judo                 4911\n",
       "Weightlifting        4793\n",
       "Badminton            4731\n",
       "Fencing              4631\n",
       "Boxing               4169\n",
       "Cycling              4148\n",
       "Equestrian           4030\n",
       "Gymnastics           3871\n",
       "Hockey               3193\n",
       "Rugby                3094\n",
       "Rowing               1901\n",
       "Shooting             1673\n",
       "Non-Sport             108\n",
       "Name: count, dtype: int64"
      ]
     },
     "execution_count": 9,
     "metadata": {},
     "output_type": "execute_result"
    }
   ],
   "source": [
    "data.sport.value_counts()"
   ]
  },
  {
   "cell_type": "code",
   "execution_count": null,
   "metadata": {},
   "outputs": [],
   "source": [
    "top_sports = data.sport.value_counts().index.tolist()\n",
    "top_sports.remove(\"Non-Sport\")"
   ]
  },
  {
   "cell_type": "code",
   "execution_count": 12,
   "metadata": {},
   "outputs": [],
   "source": [
    "data = data[data.sport.map(lambda x: x in top_sports)]"
   ]
  },
  {
   "cell_type": "code",
   "execution_count": 13,
   "metadata": {},
   "outputs": [
    {
     "data": {
      "text/plain": [
       "2400"
      ]
     },
     "execution_count": 13,
     "metadata": {},
     "output_type": "execute_result"
    }
   ],
   "source": [
    "N_SEQS_PER_SPORT = 100\n",
    "sample = data.groupby(\"sport\").sample(N_SEQS_PER_SPORT)\n",
    "len(sample)"
   ]
  },
  {
   "cell_type": "code",
   "execution_count": 14,
   "metadata": {},
   "outputs": [
    {
     "name": "stdout",
     "output_type": "stream",
     "text": [
      "608\n"
     ]
    }
   ],
   "source": [
    "sequences_folder = \"/mnt/g/ioc/sequences/\"\n",
    "\n",
    "sequences_videos = []\n",
    "for root, dirs, files in os.walk(sequences_folder):\n",
    "    for file in files:\n",
    "        if file.endswith('.mp4'):\n",
    "            sequences_videos.append(os.path.join(root, file))\n",
    "\n",
    "print(len(sequences_videos))"
   ]
  },
  {
   "cell_type": "code",
   "execution_count": 15,
   "metadata": {},
   "outputs": [],
   "source": [
    "data[\"video_path\"] = data.guid.map(lambda x: [f for f in sequences_videos if x in f][0])"
   ]
  },
  {
   "cell_type": "code",
   "execution_count": 16,
   "metadata": {},
   "outputs": [
    {
     "name": "stdout",
     "output_type": "stream",
     "text": [
      "INFO:RTS:Processing /mnt/g/ioc/sequences/MDA43032700/SEQ43069526.mp4\n",
      "INFO:RTS:Processing /mnt/g/ioc/sequences/MDA43296000/SEQ43318192.mp4\n",
      "INFO:RTS:Processing /mnt/g/ioc/sequences/MDA42723010/SEQ42724836.mp4\n"
     ]
    },
    {
     "name": "stderr",
     "output_type": "stream",
     "text": [
      "[mov,mp4,m4a,3gp,3g2,mj2 @ 0xa70fe40] moov atom not found\n",
      "[mov,mp4,m4a,3gp,3g2,mj2 @ 0x8f28540] moov atom not found\n"
     ]
    },
    {
     "name": "stdout",
     "output_type": "stream",
     "text": [
      "INFO:RTS:Processing /mnt/g/ioc/sequences/MDA42722830/SEQ42723011.mp4\n",
      "INFO:RTS:Processing /mnt/g/ioc/sequences/MDA42755330/SEQ42755773.mp4\n",
      "INFO:RTS:Processing /mnt/g/ioc/sequences/MDA42786350/SEQ42799523.mp4\n",
      "INFO:RTS:Processing /mnt/g/ioc/sequences/MDA42716760/SEQ42721756.mp4\n",
      "INFO:RTS:Processing /mnt/g/ioc/sequences/MDA42733160/SEQ42752722.mp4\n",
      "INFO:RTS:Processing /mnt/g/ioc/sequences/MDA43059660/SEQ43119458.mp4\n",
      "INFO:RTS:Processing /mnt/g/ioc/sequences/MDA43146460/SEQ43163620.mp4\n",
      "INFO:RTS:Processing /mnt/g/ioc/sequences/MDA42746070/SEQ42763661.mp4\n"
     ]
    },
    {
     "name": "stderr",
     "output_type": "stream",
     "text": [
      "[mov,mp4,m4a,3gp,3g2,mj2 @ 0xb0a0240] moov atom not found\n",
      "[mov,mp4,m4a,3gp,3g2,mj2 @ 0xa811f40] moov atom not found\n"
     ]
    },
    {
     "name": "stdout",
     "output_type": "stream",
     "text": [
      "INFO:RTS:Processing /mnt/g/ioc/sequences/MDA43106780/SEQ43151663.mp4\n",
      "INFO:RTS:Processing /mnt/g/ioc/sequences/MDA42970190/SEQ42975165.mp4\n",
      "INFO:RTS:Processing /mnt/g/ioc/sequences/MDA42941911/SEQ42951815.mp4\n"
     ]
    },
    {
     "name": "stderr",
     "output_type": "stream",
     "text": [
      "[mov,mp4,m4a,3gp,3g2,mj2 @ 0x8f1a7c0] moov atom not found\n",
      "[mov,mp4,m4a,3gp,3g2,mj2 @ 0xaab67c0] moov atom not found\n",
      "[mov,mp4,m4a,3gp,3g2,mj2 @ 0xa717d00] moov atom not found\n"
     ]
    },
    {
     "name": "stdout",
     "output_type": "stream",
     "text": [
      "INFO:RTS:Processing /mnt/g/ioc/sequences/MDA42970611/SEQ42977818.mp4\n",
      "INFO:RTS:Processing /mnt/g/ioc/sequences/MDA42722831/SEQ42722990.mp4\n"
     ]
    },
    {
     "name": "stderr",
     "output_type": "stream",
     "text": [
      "[mov,mp4,m4a,3gp,3g2,mj2 @ 0x8e803c0] moov atom not found\n"
     ]
    },
    {
     "name": "stdout",
     "output_type": "stream",
     "text": [
      "INFO:RTS:Processing /mnt/g/ioc/sequences/MDA42755331/SEQ42755452.mp4\n",
      "INFO:RTS:Processing /mnt/g/ioc/sequences/MDA42762541/SEQ42784644.mp4\n",
      "INFO:RTS:Processing /mnt/g/ioc/sequences/MDA42786351/SEQ42799844.mp4\n",
      "INFO:RTS:Processing /mnt/g/ioc/sequences/MDA42944251/SEQ42961142.mp4\n",
      "INFO:RTS:Processing /mnt/g/ioc/sequences/MDA42733161/SEQ42736062.mp4\n"
     ]
    },
    {
     "name": "stderr",
     "output_type": "stream",
     "text": [
      "[mov,mp4,m4a,3gp,3g2,mj2 @ 0x1ce85500] moov atom not found\n"
     ]
    },
    {
     "name": "stdout",
     "output_type": "stream",
     "text": [
      "INFO:RTS:Processing /mnt/g/ioc/sequences/MDA42737342/SEQ42741094.mp4\n",
      "INFO:RTS:Processing /mnt/g/ioc/sequences/MDA42762542/SEQ42783382.mp4\n",
      "INFO:RTS:Processing /mnt/g/ioc/sequences/MDA43059662/SEQ43117780.mp4\n",
      "INFO:RTS:Processing /mnt/g/ioc/sequences/MDA42808092/SEQ42809796.mp4\n"
     ]
    },
    {
     "name": "stderr",
     "output_type": "stream",
     "text": [
      "[mov,mp4,m4a,3gp,3g2,mj2 @ 0x1ca16040] moov atom not found\n"
     ]
    },
    {
     "name": "stdout",
     "output_type": "stream",
     "text": [
      "INFO:RTS:Processing /mnt/g/ioc/sequences/MDA42749403/SEQ42767422.mp4\n",
      "INFO:RTS:Processing /mnt/g/ioc/sequences/MDA42861303/SEQ42865156.mp4\n"
     ]
    },
    {
     "name": "stderr",
     "output_type": "stream",
     "text": [
      "[mov,mp4,m4a,3gp,3g2,mj2 @ 0x1ce1f800] moov atom not found\n"
     ]
    },
    {
     "name": "stdout",
     "output_type": "stream",
     "text": [
      "INFO:RTS:Processing /mnt/g/ioc/sequences/MDA43296003/SEQ43318314.mp4\n",
      "INFO:RTS:Processing /mnt/g/ioc/sequences/MDA42970613/SEQ42978288.mp4\n",
      "INFO:RTS:Processing /mnt/g/ioc/sequences/MDA42971113/SEQ42980652.mp4\n"
     ]
    },
    {
     "name": "stderr",
     "output_type": "stream",
     "text": [
      "[mov,mp4,m4a,3gp,3g2,mj2 @ 0x147c3740] moov atom not found\n",
      "[mov,mp4,m4a,3gp,3g2,mj2 @ 0x1ce85500] moov atom not found\n",
      "[mov,mp4,m4a,3gp,3g2,mj2 @ 0xb0c2780] moov atom not found\n"
     ]
    },
    {
     "name": "stdout",
     "output_type": "stream",
     "text": [
      "INFO:RTS:Processing /mnt/g/ioc/sequences/MDA43090433/SEQ43141152.mp4\n",
      "INFO:RTS:Processing /mnt/g/ioc/sequences/MDA42743463/SEQ42743569.mp4\n"
     ]
    },
    {
     "name": "stderr",
     "output_type": "stream",
     "text": [
      "[mov,mp4,m4a,3gp,3g2,mj2 @ 0xeb9a340] moov atom not found\n"
     ]
    },
    {
     "name": "stdout",
     "output_type": "stream",
     "text": [
      "INFO:RTS:Processing /mnt/g/ioc/sequences/MDA42918463/SEQ42940068.mp4\n",
      "INFO:RTS:Processing /mnt/g/ioc/sequences/MDA42761904/SEQ42784285.mp4\n"
     ]
    },
    {
     "name": "stderr",
     "output_type": "stream",
     "text": [
      "[mov,mp4,m4a,3gp,3g2,mj2 @ 0xb08a080] moov atom not found\n"
     ]
    },
    {
     "name": "stdout",
     "output_type": "stream",
     "text": [
      "INFO:RTS:Processing /mnt/g/ioc/sequences/MDA42971114/SEQ42979382.mp4\n",
      "INFO:RTS:Processing /mnt/g/ioc/sequences/MDA42914624/SEQ42927639.mp4\n",
      "INFO:RTS:Processing /mnt/g/ioc/sequences/MDA42995944/SEQ43008648.mp4\n"
     ]
    },
    {
     "name": "stderr",
     "output_type": "stream",
     "text": [
      "[mov,mp4,m4a,3gp,3g2,mj2 @ 0x1ce85500] moov atom not found\n",
      "[mov,mp4,m4a,3gp,3g2,mj2 @ 0x8f1a7c0] moov atom not found\n",
      "[mov,mp4,m4a,3gp,3g2,mj2 @ 0x1ce85500] moov atom not found\n"
     ]
    },
    {
     "name": "stdout",
     "output_type": "stream",
     "text": [
      "INFO:RTS:Processing /mnt/g/ioc/sequences/MDA42908464/SEQ42908955.mp4\n",
      "INFO:RTS:Processing /mnt/g/ioc/sequences/MDA43184364/SEQ43207558.mp4\n"
     ]
    },
    {
     "name": "stderr",
     "output_type": "stream",
     "text": [
      "[mov,mp4,m4a,3gp,3g2,mj2 @ 0x1ce85500] moov atom not found\n",
      "[mov,mp4,m4a,3gp,3g2,mj2 @ 0x1ca3fbc0] moov atom not found\n"
     ]
    },
    {
     "name": "stdout",
     "output_type": "stream",
     "text": [
      "INFO:RTS:Processing /mnt/g/ioc/sequences/MDA42856384/SEQ42858232.mp4\n",
      "INFO:RTS:Processing /mnt/g/ioc/sequences/MDA43052484/SEQ43111873.mp4\n",
      "INFO:RTS:Processing /mnt/g/ioc/sequences/MDA42936094/SEQ42955199.mp4\n"
     ]
    },
    {
     "name": "stderr",
     "output_type": "stream",
     "text": [
      "[mov,mp4,m4a,3gp,3g2,mj2 @ 0xac96680] moov atom not found\n",
      "[mov,mp4,m4a,3gp,3g2,mj2 @ 0xac96680] moov atom not found\n"
     ]
    },
    {
     "name": "stdout",
     "output_type": "stream",
     "text": [
      "INFO:RTS:Processing /mnt/g/ioc/sequences/MDA42971115/SEQ42979588.mp4\n",
      "INFO:RTS:Processing /mnt/g/ioc/sequences/MDA42729225/SEQ42729554.mp4\n"
     ]
    },
    {
     "name": "stderr",
     "output_type": "stream",
     "text": [
      "[mov,mp4,m4a,3gp,3g2,mj2 @ 0xb0c2780] moov atom not found\n"
     ]
    },
    {
     "name": "stdout",
     "output_type": "stream",
     "text": [
      "INFO:RTS:Processing /mnt/g/ioc/sequences/MDA42755325/SEQ42768978.mp4\n",
      "INFO:RTS:Processing /mnt/g/ioc/sequences/MDA42995945/SEQ43009438.mp4\n",
      "INFO:RTS:Processing /mnt/g/ioc/sequences/MDA42815455/SEQ42821734.mp4\n"
     ]
    },
    {
     "name": "stderr",
     "output_type": "stream",
     "text": [
      "[mov,mp4,m4a,3gp,3g2,mj2 @ 0x8e803c0] moov atom not found\n"
     ]
    },
    {
     "name": "stdout",
     "output_type": "stream",
     "text": [
      "INFO:RTS:Processing /mnt/g/ioc/sequences/MDA42944255/SEQ42962627.mp4\n",
      "INFO:RTS:Processing /mnt/g/ioc/sequences/MDA42908465/SEQ42909881.mp4\n"
     ]
    },
    {
     "name": "stderr",
     "output_type": "stream",
     "text": [
      "[mov,mp4,m4a,3gp,3g2,mj2 @ 0x1f279240] moov atom not found\n",
      "[mov,mp4,m4a,3gp,3g2,mj2 @ 0x8f24b00] moov atom not found\n"
     ]
    },
    {
     "name": "stdout",
     "output_type": "stream",
     "text": [
      "INFO:RTS:Processing /mnt/g/ioc/sequences/MDA42716295/SEQ42718448.mp4\n",
      "INFO:RTS:Processing /mnt/g/ioc/sequences/MDA42811226/SEQ42817473.mp4\n",
      "INFO:RTS:Processing /mnt/g/ioc/sequences/MDA42914626/SEQ42928496.mp4\n",
      "INFO:RTS:Processing /mnt/g/ioc/sequences/MDA42811236/SEQ42818775.mp4\n"
     ]
    },
    {
     "name": "stderr",
     "output_type": "stream",
     "text": [
      "[mov,mp4,m4a,3gp,3g2,mj2 @ 0x1dbc1740] moov atom not found\n"
     ]
    },
    {
     "name": "stdout",
     "output_type": "stream",
     "text": [
      "INFO:RTS:Processing /mnt/g/ioc/sequences/MDA42716756/SEQ42750492.mp4\n",
      "INFO:RTS:Processing /mnt/g/ioc/sequences/MDA43184366/SEQ43207655.mp4\n",
      "INFO:RTS:Processing /mnt/g/ioc/sequences/MDA42908476/SEQ42923091.mp4\n",
      "INFO:RTS:Processing /mnt/g/ioc/sequences/MDA43052486/SEQ43111942.mp4\n"
     ]
    },
    {
     "name": "stderr",
     "output_type": "stream",
     "text": [
      "[mov,mp4,m4a,3gp,3g2,mj2 @ 0x1ce7bf80] moov atom not found\n",
      "[mov,mp4,m4a,3gp,3g2,mj2 @ 0x1ca49cc0] moov atom not found\n",
      "[mov,mp4,m4a,3gp,3g2,mj2 @ 0x1dbc1740] moov atom not found\n"
     ]
    },
    {
     "name": "stdout",
     "output_type": "stream",
     "text": [
      "INFO:RTS:Processing /mnt/g/ioc/sequences/MDA42755327/SEQ42756278.mp4\n",
      "INFO:RTS:Processing /mnt/g/ioc/sequences/MDA42914627/SEQ42928971.mp4\n",
      "INFO:RTS:Processing /mnt/g/ioc/sequences/MDA42786337/SEQ42802295.mp4\n"
     ]
    },
    {
     "name": "stderr",
     "output_type": "stream",
     "text": [
      "[mov,mp4,m4a,3gp,3g2,mj2 @ 0x1ce85500] moov atom not found\n"
     ]
    },
    {
     "name": "stdout",
     "output_type": "stream",
     "text": [
      "INFO:RTS:Processing /mnt/g/ioc/sequences/MDA42710347/SEQ42710543.mp4\n",
      "INFO:RTS:Processing /mnt/g/ioc/sequences/MDA42815457/SEQ42822149.mp4\n",
      "INFO:RTS:Processing /mnt/g/ioc/sequences/MDA42918457/SEQ42938232.mp4\n",
      "INFO:RTS:Processing /mnt/g/ioc/sequences/MDA42754867/SEQ42762161.mp4\n"
     ]
    },
    {
     "name": "stderr",
     "output_type": "stream",
     "text": [
      "[mov,mp4,m4a,3gp,3g2,mj2 @ 0xb0c2780] moov atom not found\n"
     ]
    },
    {
     "name": "stdout",
     "output_type": "stream",
     "text": [
      "INFO:RTS:Processing /mnt/g/ioc/sequences/MDA42918467/SEQ42940429.mp4\n",
      "INFO:RTS:Processing /mnt/g/ioc/sequences/MDA43184367/SEQ43207844.mp4\n",
      "INFO:RTS:Processing /mnt/g/ioc/sequences/MDA42908477/SEQ42924191.mp4\n"
     ]
    },
    {
     "name": "stderr",
     "output_type": "stream",
     "text": [
      "[mov,mp4,m4a,3gp,3g2,mj2 @ 0xb07db40] moov atom not found\n",
      "[mov,mp4,m4a,3gp,3g2,mj2 @ 0xb07db40] moov atom not found\n",
      "[mov,mp4,m4a,3gp,3g2,mj2 @ 0x8ee5000] moov atom not found\n"
     ]
    },
    {
     "name": "stdout",
     "output_type": "stream",
     "text": [
      "INFO:RTS:Processing /mnt/g/ioc/sequences/MDA42915077/SEQ42932375.mp4\n",
      "INFO:RTS:Processing /mnt/g/ioc/sequences/MDA42856387/SEQ42858533.mp4\n"
     ]
    },
    {
     "name": "stderr",
     "output_type": "stream",
     "text": [
      "[mov,mp4,m4a,3gp,3g2,mj2 @ 0x1ce85500] moov atom not found\n"
     ]
    },
    {
     "name": "stdout",
     "output_type": "stream",
     "text": [
      "INFO:RTS:Processing /mnt/g/ioc/sequences/MDA42970187/SEQ42974027.mp4\n",
      "INFO:RTS:Processing /mnt/g/ioc/sequences/MDA42750008/SEQ42766736.mp4\n"
     ]
    },
    {
     "name": "stderr",
     "output_type": "stream",
     "text": [
      "[mov,mp4,m4a,3gp,3g2,mj2 @ 0xb07db40] moov atom not found\n"
     ]
    },
    {
     "name": "stdout",
     "output_type": "stream",
     "text": [
      "INFO:RTS:Processing /mnt/g/ioc/sequences/MDA42970608/SEQ42976553.mp4\n",
      "INFO:RTS:Processing /mnt/g/ioc/sequences/MDA42972908/SEQ42983042.mp4\n",
      "INFO:RTS:Processing /mnt/g/ioc/sequences/MDA42861618/SEQ42868788.mp4\n"
     ]
    },
    {
     "name": "stderr",
     "output_type": "stream",
     "text": [
      "[mov,mp4,m4a,3gp,3g2,mj2 @ 0xac96680] moov atom not found\n",
      "[mov,mp4,m4a,3gp,3g2,mj2 @ 0xb0a11c0] moov atom not found\n"
     ]
    },
    {
     "name": "stdout",
     "output_type": "stream",
     "text": [
      "INFO:RTS:Processing /mnt/g/ioc/sequences/MDA42881518/SEQ42895243.mp4\n",
      "INFO:RTS:Processing /mnt/g/ioc/sequences/MDA42914628/SEQ42928060.mp4\n"
     ]
    },
    {
     "name": "stderr",
     "output_type": "stream",
     "text": [
      "[mov,mp4,m4a,3gp,3g2,mj2 @ 0x8e803c0] moov atom not found\n",
      "[mov,mp4,m4a,3gp,3g2,mj2 @ 0xb07db40] moov atom not found\n"
     ]
    },
    {
     "name": "stdout",
     "output_type": "stream",
     "text": [
      "INFO:RTS:Processing /mnt/g/ioc/sequences/MDA42914558/SEQ42926525.mp4\n",
      "INFO:RTS:Processing /mnt/g/ioc/sequences/MDA42918458/SEQ42937913.mp4\n",
      "INFO:RTS:Processing /mnt/g/ioc/sequences/MDA42746068/SEQ42763378.mp4\n"
     ]
    },
    {
     "name": "stderr",
     "output_type": "stream",
     "text": [
      "[mov,mp4,m4a,3gp,3g2,mj2 @ 0xac96680] moov atom not found\n",
      "[mov,mp4,m4a,3gp,3g2,mj2 @ 0x1ce85500] moov atom not found\n"
     ]
    },
    {
     "name": "stdout",
     "output_type": "stream",
     "text": [
      "INFO:RTS:Processing /mnt/g/ioc/sequences/MDA42915078/SEQ42931780.mp4\n",
      "INFO:RTS:Processing /mnt/g/ioc/sequences/MDA43106778/SEQ43150555.mp4\n",
      "INFO:RTS:Processing /mnt/g/ioc/sequences/MDA42761588/SEQ42776680.mp4\n"
     ]
    },
    {
     "name": "stderr",
     "output_type": "stream",
     "text": [
      "[mov,mp4,m4a,3gp,3g2,mj2 @ 0x1cdf4280] moov atom not found\n",
      "[mov,mp4,m4a,3gp,3g2,mj2 @ 0x1ce85500] moov atom not found\n"
     ]
    },
    {
     "name": "stdout",
     "output_type": "stream",
     "text": [
      "INFO:RTS:Processing /mnt/g/ioc/sequences/MDA42970188/SEQ42974368.mp4\n",
      "INFO:RTS:Processing /mnt/g/ioc/sequences/MDA42781909/SEQ42789386.mp4\n"
     ]
    },
    {
     "name": "stderr",
     "output_type": "stream",
     "text": [
      "[mov,mp4,m4a,3gp,3g2,mj2 @ 0x1ce85500] moov atom not found\n"
     ]
    },
    {
     "name": "stdout",
     "output_type": "stream",
     "text": [
      "INFO:RTS:Processing /mnt/g/ioc/sequences/MDA42861619/SEQ42869166.mp4\n",
      "INFO:RTS:Processing /mnt/g/ioc/sequences/MDA42762539/SEQ42784273.mp4\n",
      "INFO:RTS:Processing /mnt/g/ioc/sequences/MDA42786339/SEQ42801795.mp4\n",
      "INFO:RTS:Processing /mnt/g/ioc/sequences/MDA42786349/SEQ42800061.mp4\n",
      "INFO:RTS:Processing /mnt/g/ioc/sequences/MDA42716759/SEQ42722597.mp4\n",
      "INFO:RTS:Processing /mnt/g/ioc/sequences/MDA42740059/SEQ42760336.mp4\n",
      "INFO:RTS:Processing /mnt/g/ioc/sequences/MDA42914559/SEQ42920768.mp4\n",
      "INFO:RTS:Processing /mnt/g/ioc/sequences/MDA42918459/SEQ42939079.mp4\n",
      "INFO:RTS:Processing /mnt/g/ioc/sequences/MDA43059659/SEQ43119351.mp4\n"
     ]
    },
    {
     "name": "stderr",
     "output_type": "stream",
     "text": [
      "[mov,mp4,m4a,3gp,3g2,mj2 @ 0x147c36c0] moov atom not found\n",
      "[mov,mp4,m4a,3gp,3g2,mj2 @ 0x1ce85500] moov atom not found\n",
      "[mov,mp4,m4a,3gp,3g2,mj2 @ 0x1db81a80] moov atom not found\n"
     ]
    },
    {
     "name": "stdout",
     "output_type": "stream",
     "text": [
      "INFO:RTS:Processing /mnt/g/ioc/sequences/MDA42936089/SEQ42954594.mp4\n",
      "INFO:RTS:Processing /mnt/g/ioc/sequences/MDA42970189/SEQ42974853.mp4\n"
     ]
    },
    {
     "name": "stderr",
     "output_type": "stream",
     "text": [
      "[mov,mp4,m4a,3gp,3g2,mj2 @ 0x1ce85500] moov atom not found\n",
      "[mov,mp4,m4a,3gp,3g2,mj2 @ 0x1ce85500] moov atom not found\n"
     ]
    },
    {
     "data": {
      "text/plain": [
       "11116      True\n",
       "11117      True\n",
       "11118      True\n",
       "11119      True\n",
       "11120      True\n",
       "           ... \n",
       "2299991    True\n",
       "2299992    True\n",
       "2299993    True\n",
       "2299994    True\n",
       "2299995    True\n",
       "Length: 131920, dtype: bool"
      ]
     },
     "execution_count": 16,
     "metadata": {},
     "output_type": "execute_result"
    }
   ],
   "source": [
    "output_folder = \"data/test_poses/\"\n",
    "\n",
    "data.apply(lambda df: pose.process_video(\n",
    "    pose.PifPafModel.fast, \n",
    "    Path(output_folder + \"%s.jl\" %df[\"guid\"]), \n",
    "    Path(df[\"video_path\"]), \n",
    "    skip_frame=10\n",
    "), axis = 1)"
   ]
  },
  {
   "cell_type": "code",
   "execution_count": 17,
   "metadata": {},
   "outputs": [
    {
     "name": "stdout",
     "output_type": "stream",
     "text": [
      "407\n"
     ]
    }
   ],
   "source": [
    "poses_jl = [output_folder + f for f in os.listdir(output_folder)]\n",
    "poses = []\n",
    "for pose_json in poses_jl:\n",
    "    poses.append(pose.extract_frame_data(pose_json, 0.5))\n",
    "\n",
    "print(len(poses))"
   ]
  }
 ],
 "metadata": {
  "kernelspec": {
   "display_name": "rts-506MfBOj-py3.10",
   "language": "python",
   "name": "python3"
  },
  "language_info": {
   "codemirror_mode": {
    "name": "ipython",
    "version": 3
   },
   "file_extension": ".py",
   "mimetype": "text/x-python",
   "name": "python",
   "nbconvert_exporter": "python",
   "pygments_lexer": "ipython3",
   "version": "3.10.12"
  },
  "orig_nbformat": 4
 },
 "nbformat": 4,
 "nbformat_minor": 2
}
