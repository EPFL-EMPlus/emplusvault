{
 "cells": [
  {
   "cell_type": "code",
   "execution_count": 1,
   "metadata": {},
   "outputs": [
    {
     "name": "stdout",
     "output_type": "stream",
     "text": [
      "/home/kikohs/work/rts\n"
     ]
    }
   ],
   "source": [
    "%cd ../..\n",
    "%load_ext autoreload\n",
    "\n",
    "%autoreload 1"
   ]
  },
  {
   "cell_type": "code",
   "execution_count": 2,
   "metadata": {},
   "outputs": [
    {
     "name": "stderr",
     "output_type": "stream",
     "text": [
      "/home/kikohs/.cache/pypoetry/virtualenvs/rts-DIiCth0j-py3.10/lib/python3.10/site-packages/tqdm/auto.py:21: TqdmWarning: IProgress not found. Please update jupyter and ipywidgets. See https://ipywidgets.readthedocs.io/en/stable/user_install.html\n",
      "  from .autonotebook import tqdm as notebook_tqdm\n"
     ]
    }
   ],
   "source": [
    "import os\n",
    "from pathlib import Path\n",
    "import rts\n",
    "import rts.features.pose as pose\n",
    "import numpy as np"
   ]
  },
  {
   "cell_type": "code",
   "execution_count": 3,
   "metadata": {},
   "outputs": [
    {
     "name": "stdout",
     "output_type": "stream",
     "text": [
      "\u001b[0m\u001b[01;32mbasketball.mp4\u001b[0m*  \u001b[01;32mgym.mp4\u001b[0m*  \u001b[01;32mrunning.mp4\u001b[0m*  \u001b[01;32mswimming.mp4\u001b[0m*  \u001b[01;32mweights.mp4\u001b[0m*\n"
     ]
    }
   ],
   "source": [
    "pose_data = 'data/pifpaf'\n",
    "videos = '/mnt/d/Videos/EPFL'\n",
    "%ls $videos"
   ]
  },
  {
   "cell_type": "code",
   "execution_count": 6,
   "metadata": {},
   "outputs": [
    {
     "name": "stdout",
     "output_type": "stream",
     "text": [
      "INFO:RTS:Processing /mnt/d/Videos/EPFL/basketball.mp4\n"
     ]
    },
    {
     "data": {
      "text/plain": [
       "True"
      ]
     },
     "execution_count": 6,
     "metadata": {},
     "output_type": "execute_result"
    }
   ],
   "source": [
    "pose.process_video(pose.PifPafModel.fast, Path(pose_data, 'basketball.jl'), \n",
    "                   Path(videos, 'basketball.mp4'), skip_frame=10)"
   ]
  },
  {
   "cell_type": "code",
   "execution_count": null,
   "metadata": {},
   "outputs": [],
   "source": [
    "keypoints = data_json['data']['annotations'][0]['keypoints']\n",
    "\n",
    "# Reshape keypoints into list of tuples (x, y, confidence)\n",
    "keypoints = [(keypoints[i], keypoints[i+1], keypoints[i+2]) for i in range(0, len(keypoints), 3)]\n",
    "\n",
    "# Associations\n",
    "associations = [\n",
    "    (15, 13),  # left_ankle --> left_knee\n",
    "    (13, 11),  # left_knee --> left_hip\n",
    "    (16, 14),  # right_ankle --> right_knee\n",
    "    (14, 12),  # right_knee --> right_hip\n",
    "    (11, 12),  # left_hip --> right_hip\n",
    "    (5, 11),   # left_shoulder --> left_hip\n",
    "    (6, 12),   # right_shoulder --> right_hip\n",
    "    (5, 6),    # left_shoulder --> right_shoulder\n",
    "    (5, 7),    # left_shoulder --> left_elbow\n",
    "    (6, 8),    # right_shoulder --> right_elbow\n",
    "    (7, 9),    # left_elbow --> left_wrist\n",
    "    (8, 10),   # right_elbow --> right_wrist\n",
    "    (1, 2),    # left_eye --> right_eye\n",
    "    (0, 1),    # nose --> left_eye\n",
    "    (0, 2),    # nose --> right_eye\n",
    "    (1, 3),    # left_eye --> left_ear\n",
    "    (2, 4),    # right_eye --> right_ear\n",
    "    (3, 5),    # left_ear --> left_shoulder\n",
    "    (4, 6)     # right_ear --> right_shoulder\n",
    "]\n",
    "\n",
    "\n",
    "def compute_angle_np_adjusted(p1, p2, p3):\n",
    "    \"\"\"\n",
    "    Compute angle at p2 given points p1, p2, and p3 using NumPy.\n",
    "    Floor to 0 if the angle is below 1 degree.\n",
    "    \"\"\"\n",
    "    # Create vectors\n",
    "    vec1 = np.array([p1[0] - p2[0], p1[1] - p2[1]])\n",
    "    vec2 = np.array([p3[0] - p2[0], p3[1] - p2[1]])\n",
    "    \n",
    "    # Compute dot product and magnitudes\n",
    "    dot_product = np.dot(vec1, vec2)\n",
    "    mag1 = np.linalg.norm(vec1)\n",
    "    mag2 = np.linalg.norm(vec2)\n",
    "    \n",
    "    # Compute angle in radians\n",
    "    angle_rad = np.arccos(dot_product / (mag1 * mag2))\n",
    "    \n",
    "    # Convert to degrees\n",
    "    angle_deg = np.degrees(angle_rad)\n",
    "    \n",
    "    # Floor to 0 if close to 0 (below 1 degree)\n",
    "    if angle_deg < 1:\n",
    "        angle_deg = 0.0\n",
    "\n",
    "    return angle_deg\n",
    "\n",
    "# Compute angles for all associations using NumPy with adjusted tolerance\n",
    "angles_adjusted = {}\n",
    "for i, (start, end) in enumerate(associations[:-1]):  # Exclude last association for now\n",
    "    next_end = associations[i + 1][1]  # Assume next association shares the 'end' point\n",
    "    if start == -1 or end == -1 or next_end == -1:\n",
    "        continue  # Skip if any point is missing\n",
    "    if keypoints[start][2] == 0 or keypoints[end][2] == 0 or keypoints[next_end][2] == 0:\n",
    "        continue  # Skip if any point has zero confidence\n",
    "    angle = compute_angle_np_adjusted(keypoints[start], keypoints[end], keypoints[next_end])\n",
    "    angles_adjusted[f\"{start} --> {end} --> {next_end}\"] = angle"
   ]
  },
  {
   "cell_type": "code",
   "execution_count": null,
   "metadata": {},
   "outputs": [],
   "source": []
  }
 ],
 "metadata": {
  "kernelspec": {
   "display_name": "rts-506MfBOj-py3.10",
   "language": "python",
   "name": "python3"
  },
  "language_info": {
   "codemirror_mode": {
    "name": "ipython",
    "version": 3
   },
   "file_extension": ".py",
   "mimetype": "text/x-python",
   "name": "python",
   "nbconvert_exporter": "python",
   "pygments_lexer": "ipython3",
   "version": "3.10.12"
  },
  "orig_nbformat": 4
 },
 "nbformat": 4,
 "nbformat_minor": 2
}
