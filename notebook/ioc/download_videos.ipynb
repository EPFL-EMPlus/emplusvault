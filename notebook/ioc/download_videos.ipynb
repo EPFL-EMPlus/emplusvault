{
 "cells": [
  {
   "cell_type": "markdown",
   "metadata": {},
   "source": [
    "# Download videos from the emplusvault API\n",
    "\n",
    "This notebook downloads videos from the API and saves the metadata to a CSV file."
   ]
  },
  {
   "cell_type": "code",
   "execution_count": 32,
   "metadata": {},
   "outputs": [
    {
     "name": "stdout",
     "output_type": "stream",
     "text": [
      "The autoreload extension is already loaded. To reload it, use:\n",
      "  %reload_ext autoreload\n"
     ]
    }
   ],
   "source": [
    "%load_ext autoreload\n",
    "%autoreload 2"
   ]
  },
  {
   "cell_type": "code",
   "execution_count": 33,
   "metadata": {},
   "outputs": [],
   "source": [
    "from getpass import getpass\n",
    "import requests\n",
    "from tqdm.notebook import tqdm\n",
    "import urllib3\n",
    "import json\n",
    "urllib3.disable_warnings(urllib3.exceptions.InsecureRequestWarning)"
   ]
  },
  {
   "cell_type": "code",
   "execution_count": 36,
   "metadata": {},
   "outputs": [],
   "source": [
    "username = input(\"Enter your username: \")\n",
    "password = getpass(\"Enter your password: \")"
   ]
  },
  {
   "cell_type": "code",
   "execution_count": 37,
   "metadata": {},
   "outputs": [
    {
     "data": {
      "text/plain": [
       "'vita'"
      ]
     },
     "execution_count": 37,
     "metadata": {},
     "output_type": "execute_result"
    }
   ],
   "source": [
    "username"
   ]
  },
  {
   "cell_type": "code",
   "execution_count": 38,
   "metadata": {},
   "outputs": [],
   "source": [
    "BASE_URL = \"https://10.179.68.6:32034\"\n",
    "\n",
    "data = {\n",
    "    \"grant_type\": \"password\",\n",
    "    \"username\": username,\n",
    "    \"password\": password,\n",
    "}"
   ]
  },
  {
   "cell_type": "code",
   "execution_count": 5,
   "metadata": {},
   "outputs": [
    {
     "name": "stderr",
     "output_type": "stream",
     "text": [
      "/Users/arattinger/Projects/rts/rts/.venv/lib/python3.9/site-packages/urllib3/connectionpool.py:1056: InsecureRequestWarning: Unverified HTTPS request is being made to host '10.179.68.6'. Adding certificate verification is strongly advised. See: https://urllib3.readthedocs.io/en/1.26.x/advanced-usage.html#ssl-warnings\n",
      "  warnings.warn(\n"
     ]
    }
   ],
   "source": [
    "response = requests.post(f\"{BASE_URL}/gettoken\", data=data, verify=False)\n",
    "\n",
    "if response.status_code != 200:\n",
    "    print(\"Authentication failed!\")\n",
    "\n",
    "json_response = response.json()\n",
    "access_token = json_response[\"access_token\"]\n",
    "\n",
    "headers = {\n",
    "    \"Authorization\": f\"Bearer {access_token}\"\n",
    "}"
   ]
  },
  {
   "cell_type": "code",
   "execution_count": 6,
   "metadata": {},
   "outputs": [
    {
     "name": "stderr",
     "output_type": "stream",
     "text": [
      "/Users/arattinger/Projects/rts/rts/.venv/lib/python3.9/site-packages/urllib3/connectionpool.py:1056: InsecureRequestWarning: Unverified HTTPS request is being made to host '10.179.68.6'. Adding certificate verification is strongly advised. See: https://urllib3.readthedocs.io/en/1.26.x/advanced-usage.html#ssl-warnings\n",
      "  warnings.warn(\n"
     ]
    }
   ],
   "source": [
    "library_id = 2\n",
    "last_seen_value = 0\n",
    "page_size = 100\n",
    "response = requests.get(f\"{BASE_URL}/media/library/{library_id}\", params={\"last_seen_value\": last_seen_value, \"page_size\": page_size}, headers=headers, verify=False)\n"
   ]
  },
  {
   "cell_type": "code",
   "execution_count": 13,
   "metadata": {},
   "outputs": [],
   "source": [
    "results = []\n",
    "\n",
    "library_id = 2\n",
    "last_seen_value = 0\n",
    "page_size = 100\n",
    "response = requests.get(f\"{BASE_URL}/media/library/{library_id}\", params={\"last_seen_value\": last_seen_value, \"page_size\": page_size}, headers=headers, verify=False)\n",
    "results.extend(response.json())\n",
    "\n",
    "while c:= requests.get(f\"{BASE_URL}/media/library/{library_id}\", params={\"last_seen_date\": results[-1]['created_at'], \"last_seen_media_id\":  results[-1]['media_id'], \"page_size\": page_size}, headers=headers, verify=False).json():\n",
    "    results.extend(c)\n",
    "    # print(len(c))"
   ]
  },
  {
   "cell_type": "code",
   "execution_count": 39,
   "metadata": {},
   "outputs": [
    {
     "data": {
      "text/plain": [
       "154231"
      ]
     },
     "execution_count": 39,
     "metadata": {},
     "output_type": "execute_result"
    }
   ],
   "source": [
    "len(results)"
   ]
  },
  {
   "cell_type": "code",
   "execution_count": 75,
   "metadata": {},
   "outputs": [],
   "source": [
    "with open(\"IOC_metadata.json\", \"w\") as f:\n",
    "    json.dump(results, f)"
   ]
  },
  {
   "cell_type": "code",
   "execution_count": 40,
   "metadata": {},
   "outputs": [],
   "source": [
    "import os"
   ]
  },
  {
   "cell_type": "code",
   "execution_count": 41,
   "metadata": {},
   "outputs": [],
   "source": [
    "def authenticate():\n",
    "    response = requests.post(f\"{BASE_URL}/gettoken\", data=data, verify=False)\n",
    "    json_response = response.json()\n",
    "    access_token = json_response[\"access_token\"]\n",
    "\n",
    "    headers = {\n",
    "        \"Authorization\": f\"Bearer {access_token}\"\n",
    "    }\n",
    "    return headers\n",
    "\n",
    "def download_video(media_id: str):\n",
    "\n",
    "    headers = authenticate()\n",
    "    fn = f\"/Volumes/EMP8TB/videos/{media_id}.mp4\"\n",
    "    try:\n",
    "        file_stats = os.stat(fn)\n",
    "\n",
    "        if file_stats.st_size > 10000:\n",
    "            return\n",
    "    except FileNotFoundError:\n",
    "        pass\n",
    "\n",
    "    response = requests.get(f\"{BASE_URL}/download/{media_id}\", headers=headers, verify=False)\n",
    "    with open(fn, \"wb\") as f:\n",
    "        # print(media_id, response.status_code)\n",
    "        if response.status_code != 200:\n",
    "            headers = authenticate()\n",
    "            # raise ValueError(f\"Error downloading {media_id}, status code {response.status_code}, {response.content}\")\n",
    "        f.write(response.content)"
   ]
  },
  {
   "cell_type": "code",
   "execution_count": 43,
   "metadata": {},
   "outputs": [
    {
     "data": {
      "application/vnd.jupyter.widget-view+json": {
       "model_id": "cb7876edb371420292a1e703a8667616",
       "version_major": 2,
       "version_minor": 0
      },
      "text/plain": [
       "  0%|          | 0/144231 [00:00<?, ?it/s]"
      ]
     },
     "metadata": {},
     "output_type": "display_data"
    }
   ],
   "source": [
    "for r in tqdm(results[10000:]):\n",
    "    download_video(r['media_id'])"
   ]
  },
  {
   "cell_type": "markdown",
   "metadata": {},
   "source": []
  },
  {
   "cell_type": "code",
   "execution_count": null,
   "metadata": {},
   "outputs": [],
   "source": []
  }
 ],
 "metadata": {
  "kernelspec": {
   "display_name": ".venv",
   "language": "python",
   "name": "python3"
  },
  "language_info": {
   "codemirror_mode": {
    "name": "ipython",
    "version": 3
   },
   "file_extension": ".py",
   "mimetype": "text/x-python",
   "name": "python",
   "nbconvert_exporter": "python",
   "pygments_lexer": "ipython3",
   "version": "3.9.6"
  },
  "orig_nbformat": 4
 },
 "nbformat": 4,
 "nbformat_minor": 2
}
