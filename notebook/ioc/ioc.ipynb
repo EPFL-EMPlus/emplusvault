{
 "cells": [
  {
   "cell_type": "code",
   "execution_count": 3,
   "metadata": {},
   "outputs": [
    {
     "name": "stdout",
     "output_type": "stream",
     "text": [
      "The autoreload extension is already loaded. To reload it, use:\n",
      "  %reload_ext autoreload\n"
     ]
    }
   ],
   "source": [
    "%load_ext autoreload\n",
    "%autoreload 2"
   ]
  },
  {
   "cell_type": "code",
   "execution_count": 4,
   "metadata": {},
   "outputs": [],
   "source": [
    "import os\n",
    "from collections import Counter\n",
    "import hashlib\n",
    "import pandas as pd\n",
    "# import numpy as np\n",
    "from dotenv import load_dotenv\n",
    "import logging\n",
    "# from typing import Union, List, Tuple\n",
    "from pathlib import Path\n",
    "\n",
    "from datetime import datetime\n",
    "from tqdm.notebook import tqdm\n",
    "\n",
    "from emv.db.dao import DataAccessObject\n",
    "from emv.db_settings import DATABASE_URL\n",
    "from emv.db.queries import get_library_id_from_name\n",
    "from emv.api.models import Media\n",
    "from emv.db.queries import create_media\n",
    "from emv.storage.storage import get_storage_client\n",
    "from emv.api.models import Media\n",
    "from emv.io.media import trim_binary, get_frame_rate\n",
    "\n",
    "from IPython.display import Video\n",
    "\n",
    "logging.basicConfig(level=logging.INFO)\n",
    "\n",
    "load_dotenv()\n",
    "DataAccessObject().connect(DATABASE_URL)"
   ]
  },
  {
   "cell_type": "code",
   "execution_count": 5,
   "metadata": {},
   "outputs": [
    {
     "data": {
      "text/plain": [
       "3"
      ]
     },
     "execution_count": 5,
     "metadata": {},
     "output_type": "execute_result"
    }
   ],
   "source": [
    "# Setup before we can create media objects\n",
    "OUTDIR = 'data'\n",
    "archive_name =  \"ioc\"\n",
    "bucket_name =  archive_name\n",
    "library_id =  get_library_id_from_name(archive_name)\n",
    "library_id"
   ]
  },
  {
   "cell_type": "code",
   "execution_count": 6,
   "metadata": {},
   "outputs": [],
   "source": [
    "metadata = '../data/metadata.hdf5'\n",
    "with pd.HDFStore(metadata) as store:\n",
    "    keys = store.keys()\n",
    "    df = store.get(keys[0])  "
   ]
  },
  {
   "cell_type": "code",
   "execution_count": 7,
   "metadata": {},
   "outputs": [],
   "source": [
    "def find_mp4_files(root_folder):\n",
    "    mp4_files = []\n",
    "\n",
    "    for foldername, _, filenames in os.walk(root_folder):\n",
    "        for filename in filenames:\n",
    "            if filename.endswith('.mp4'):\n",
    "                mp4_files.append(os.path.join(foldername, filename))\n",
    "\n",
    "    return mp4_files"
   ]
  },
  {
   "cell_type": "code",
   "execution_count": 8,
   "metadata": {},
   "outputs": [
    {
     "name": "stdout",
     "output_type": "stream",
     "text": [
      "Found 31304 mp4 files\n",
      "Found 21712 unique guids\n"
     ]
    }
   ],
   "source": [
    "mp4_files = find_mp4_files(\"/media/data/ioc/videos/\")\n",
    "print(f\"Found {len(mp4_files)} mp4 files\")\n",
    "print(f\"Found {df.guid.nunique()} unique guids\")"
   ]
  },
  {
   "attachments": {},
   "cell_type": "markdown",
   "metadata": {},
   "source": []
  },
  {
   "cell_type": "code",
   "execution_count": 9,
   "metadata": {},
   "outputs": [
    {
     "data": {
      "text/plain": [
       "21712"
      ]
     },
     "execution_count": 9,
     "metadata": {},
     "output_type": "execute_result"
    }
   ],
   "source": [
    "file_map = {}\n",
    "for mp4 in mp4_files:\n",
    "    file_map[mp4.split('/')[-1].split('.')[0]] = mp4\n",
    "\n",
    "guids = set(df['guid'].tolist())\n",
    "len(guids)"
   ]
  },
  {
   "cell_type": "code",
   "execution_count": 10,
   "metadata": {},
   "outputs": [
    {
     "name": "stdout",
     "output_type": "stream",
     "text": [
      "Missing 13527 files\n",
      "Missing 18486 guids\n"
     ]
    }
   ],
   "source": [
    "# check if guids are in the file map\n",
    "counter = 0\n",
    "for key in file_map.keys():\n",
    "    if key not in guids:\n",
    "        counter += 1\n",
    "print(f\"Missing {counter} files\")\n",
    "\n",
    "# check the other way around\n",
    "counter = 0\n",
    "for guid in guids:\n",
    "    if guid not in file_map.keys():\n",
    "        counter += 1\n",
    "print(f\"Missing {counter} guids\")"
   ]
  },
  {
   "cell_type": "code",
   "execution_count": 11,
   "metadata": {},
   "outputs": [
    {
     "data": {
      "text/html": [
       "<div>\n",
       "<style scoped>\n",
       "    .dataframe tbody tr th:only-of-type {\n",
       "        vertical-align: middle;\n",
       "    }\n",
       "\n",
       "    .dataframe tbody tr th {\n",
       "        vertical-align: top;\n",
       "    }\n",
       "\n",
       "    .dataframe thead th {\n",
       "        text-align: right;\n",
       "    }\n",
       "</style>\n",
       "<table border=\"1\" class=\"dataframe\">\n",
       "  <thead>\n",
       "    <tr style=\"text-align: right;\">\n",
       "      <th></th>\n",
       "      <th>guid</th>\n",
       "      <th>seq_id</th>\n",
       "      <th>date</th>\n",
       "      <th>duration</th>\n",
       "      <th>start</th>\n",
       "      <th>end</th>\n",
       "      <th>description</th>\n",
       "      <th>event</th>\n",
       "      <th>extra</th>\n",
       "      <th>duration_sec</th>\n",
       "      <th>sport</th>\n",
       "      <th>category</th>\n",
       "      <th>raw_round</th>\n",
       "      <th>details</th>\n",
       "      <th>round</th>\n",
       "    </tr>\n",
       "  </thead>\n",
       "  <tbody>\n",
       "    <tr>\n",
       "      <th>0</th>\n",
       "      <td>MDA30000800</td>\n",
       "      <td>SEQ30097620</td>\n",
       "      <td>1996-07-30</td>\n",
       "      <td>0 days 00:04:57</td>\n",
       "      <td>19:55:05:00</td>\n",
       "      <td>20:00:02:00</td>\n",
       "      <td>START OF TRANSMISSION EVENT: DIVING WOMEN'S 3M...</td>\n",
       "      <td>Diving/Women's 3m Springboard[W]/Preliminary</td>\n",
       "      <td>{}</td>\n",
       "      <td>297.0</td>\n",
       "      <td>Diving</td>\n",
       "      <td>Women's 3m Springboard[W]</td>\n",
       "      <td>Preliminary</td>\n",
       "      <td></td>\n",
       "      <td>Preliminary</td>\n",
       "    </tr>\n",
       "    <tr>\n",
       "      <th>1</th>\n",
       "      <td>MDA30000800</td>\n",
       "      <td>SEQ30097621</td>\n",
       "      <td>1996-07-30</td>\n",
       "      <td>0 days 00:00:07</td>\n",
       "      <td>20:00:02:00</td>\n",
       "      <td>20:00:09:00</td>\n",
       "      <td>START: DIVE 1</td>\n",
       "      <td>Diving/Women's 3m Springboard[W]/Preliminary</td>\n",
       "      <td>{}</td>\n",
       "      <td>7.0</td>\n",
       "      <td>Diving</td>\n",
       "      <td>Women's 3m Springboard[W]</td>\n",
       "      <td>Preliminary</td>\n",
       "      <td></td>\n",
       "      <td>Preliminary</td>\n",
       "    </tr>\n",
       "    <tr>\n",
       "      <th>2</th>\n",
       "      <td>MDA30000800</td>\n",
       "      <td>SEQ30097622</td>\n",
       "      <td>1996-07-30</td>\n",
       "      <td>0 days 00:01:42</td>\n",
       "      <td>20:00:09:00</td>\n",
       "      <td>20:01:51:00</td>\n",
       "      <td>DIVE: JPN MOTOBUCHI SCORE: 51.12</td>\n",
       "      <td>Diving/Women's 3m Springboard[W]/Preliminary</td>\n",
       "      <td>{}</td>\n",
       "      <td>102.0</td>\n",
       "      <td>Diving</td>\n",
       "      <td>Women's 3m Springboard[W]</td>\n",
       "      <td>Preliminary</td>\n",
       "      <td></td>\n",
       "      <td>Preliminary</td>\n",
       "    </tr>\n",
       "    <tr>\n",
       "      <th>3</th>\n",
       "      <td>MDA30000800</td>\n",
       "      <td>SEQ30097623</td>\n",
       "      <td>1996-07-30</td>\n",
       "      <td>0 days 00:01:04</td>\n",
       "      <td>20:01:51:00</td>\n",
       "      <td>20:02:55:00</td>\n",
       "      <td>DIVE: CAN PELLETIER SCORE: 61.38</td>\n",
       "      <td>Diving/Women's 3m Springboard[W]/Preliminary</td>\n",
       "      <td>{}</td>\n",
       "      <td>64.0</td>\n",
       "      <td>Diving</td>\n",
       "      <td>Women's 3m Springboard[W]</td>\n",
       "      <td>Preliminary</td>\n",
       "      <td></td>\n",
       "      <td>Preliminary</td>\n",
       "    </tr>\n",
       "    <tr>\n",
       "      <th>4</th>\n",
       "      <td>MDA30000800</td>\n",
       "      <td>SEQ30097624</td>\n",
       "      <td>1996-07-30</td>\n",
       "      <td>0 days 00:00:58</td>\n",
       "      <td>20:02:55:00</td>\n",
       "      <td>20:03:53:00</td>\n",
       "      <td>DIVE: USA MOSES SCORE: 51.03</td>\n",
       "      <td>Diving/Women's 3m Springboard[W]/Preliminary</td>\n",
       "      <td>{}</td>\n",
       "      <td>58.0</td>\n",
       "      <td>Diving</td>\n",
       "      <td>Women's 3m Springboard[W]</td>\n",
       "      <td>Preliminary</td>\n",
       "      <td></td>\n",
       "      <td>Preliminary</td>\n",
       "    </tr>\n",
       "  </tbody>\n",
       "</table>\n",
       "</div>"
      ],
      "text/plain": [
       "          guid       seq_id       date        duration        start  \\\n",
       "0  MDA30000800  SEQ30097620 1996-07-30 0 days 00:04:57  19:55:05:00   \n",
       "1  MDA30000800  SEQ30097621 1996-07-30 0 days 00:00:07  20:00:02:00   \n",
       "2  MDA30000800  SEQ30097622 1996-07-30 0 days 00:01:42  20:00:09:00   \n",
       "3  MDA30000800  SEQ30097623 1996-07-30 0 days 00:01:04  20:01:51:00   \n",
       "4  MDA30000800  SEQ30097624 1996-07-30 0 days 00:00:58  20:02:55:00   \n",
       "\n",
       "           end                                        description  \\\n",
       "0  20:00:02:00  START OF TRANSMISSION EVENT: DIVING WOMEN'S 3M...   \n",
       "1  20:00:09:00                                      START: DIVE 1   \n",
       "2  20:01:51:00                   DIVE: JPN MOTOBUCHI SCORE: 51.12   \n",
       "3  20:02:55:00                   DIVE: CAN PELLETIER SCORE: 61.38   \n",
       "4  20:03:53:00                       DIVE: USA MOSES SCORE: 51.03   \n",
       "\n",
       "                                          event extra  duration_sec   sport  \\\n",
       "0  Diving/Women's 3m Springboard[W]/Preliminary    {}         297.0  Diving   \n",
       "1  Diving/Women's 3m Springboard[W]/Preliminary    {}           7.0  Diving   \n",
       "2  Diving/Women's 3m Springboard[W]/Preliminary    {}         102.0  Diving   \n",
       "3  Diving/Women's 3m Springboard[W]/Preliminary    {}          64.0  Diving   \n",
       "4  Diving/Women's 3m Springboard[W]/Preliminary    {}          58.0  Diving   \n",
       "\n",
       "                    category    raw_round details        round  \n",
       "0  Women's 3m Springboard[W]  Preliminary          Preliminary  \n",
       "1  Women's 3m Springboard[W]  Preliminary          Preliminary  \n",
       "2  Women's 3m Springboard[W]  Preliminary          Preliminary  \n",
       "3  Women's 3m Springboard[W]  Preliminary          Preliminary  \n",
       "4  Women's 3m Springboard[W]  Preliminary          Preliminary  "
      ]
     },
     "execution_count": 11,
     "metadata": {},
     "output_type": "execute_result"
    }
   ],
   "source": [
    "df.head()"
   ]
  },
  {
   "cell_type": "code",
   "execution_count": 12,
   "metadata": {},
   "outputs": [
    {
     "name": "stdout",
     "output_type": "stream",
     "text": [
      "Found 3226 matches\n"
     ]
    }
   ],
   "source": [
    "# How many files do we have where the metadata matches the file id?\n",
    "len(set(df.guid.tolist()) & set(file_map.keys()))\n",
    "print(f\"Found {len(set(df.guid.tolist()) & set(file_map.keys()))} matches\")"
   ]
  },
  {
   "cell_type": "code",
   "execution_count": 13,
   "metadata": {},
   "outputs": [],
   "source": [
    "# keep only the sequences that we have the video for\n",
    "df_seq = df[df.guid.isin(list(set(df.guid.tolist()) & set(file_map.keys())))]"
   ]
  },
  {
   "cell_type": "code",
   "execution_count": 16,
   "metadata": {},
   "outputs": [
    {
     "data": {
      "text/plain": [
       "date\n",
       "2021    674342\n",
       "1996        37\n",
       "2012         3\n",
       "1998         1\n",
       "Name: count, dtype: int64"
      ]
     },
     "execution_count": 16,
     "metadata": {},
     "output_type": "execute_result"
    }
   ],
   "source": [
    "# Check which olympic games the sequences are from\n",
    "df_seq.date.apply(lambda x: x.year).value_counts()"
   ]
  },
  {
   "cell_type": "code",
   "execution_count": null,
   "metadata": {},
   "outputs": [],
   "source": [
    "df_seq[df_seq.date.apply(lambda x: x.year == 1996)]"
   ]
  },
  {
   "cell_type": "code",
   "execution_count": 12,
   "metadata": {},
   "outputs": [
    {
     "name": "stdout",
     "output_type": "stream",
     "text": [
      "Most common guids in DataFrame: [('MDA3', 11791), ('MDA4', 9921)]\n",
      "Most common guids for the MP4 Files: [('MDA4', 16724), ('MDA3', 18), ('MDA2', 11)]\n"
     ]
    }
   ],
   "source": [
    "guid_counter = Counter()\n",
    "\n",
    "for guid in df.guid.unique().tolist():\n",
    "    guid_counter[guid[:4]] += 1\n",
    "\n",
    "print(f\"Most common guids in DataFrame: {guid_counter.most_common(10)}\")\n",
    "\n",
    "file_counter = Counter()\n",
    "\n",
    "for guid in file_map.keys():\n",
    "    file_counter[guid[:4]] += 1\n",
    "\n",
    "print(f\"Most common guids for the MP4 Files: {file_counter.most_common(10)}\")"
   ]
  },
  {
   "cell_type": "code",
   "execution_count": 22,
   "metadata": {},
   "outputs": [
    {
     "data": {
      "text/plain": [
       "<Axes: >"
      ]
     },
     "execution_count": 22,
     "metadata": {},
     "output_type": "execute_result"
    },
    {
     "data": {
      "image/png": "[encoded data removed]",
      "text/plain": [
       "<Figure size 640x480 with 1 Axes>"
      ]
     },
     "metadata": {},
     "output_type": "display_data"
    }
   ],
   "source": [
    "df_norm.duration_sec.hist(bins=21)"
   ]
  },
  {
   "cell_type": "code",
   "execution_count": null,
   "metadata": {},
   "outputs": [],
   "source": [
    "total_duration = 0\n",
    "for i, row in df_norm.iterrows():\n",
    "    print(i, row.seq_id, row.duration_sec, row.description, row.duration, total_duration, datetime.strptime(row.start, '%H:%M:%S:%f') - datetime.strptime(df_norm.iloc[0].start, '%H:%M:%S:%f'), row.start)\n",
    "    total_duration += row.end_ts - row.start_ts"
   ]
  },
  {
   "cell_type": "code",
   "execution_count": null,
   "metadata": {},
   "outputs": [],
   "source": []
  }
 ],
 "metadata": {
  "kernelspec": {
   "display_name": "rts-bWoRmFur-py3.10",
   "language": "python",
   "name": "python3"
  },
  "language_info": {
   "codemirror_mode": {
    "name": "ipython",
    "version": 3
   },
   "file_extension": ".py",
   "mimetype": "text/x-python",
   "name": "python",
   "nbconvert_exporter": "python",
   "pygments_lexer": "ipython3",
   "version": "3.9.6"
  },
  "orig_nbformat": 4
 },
 "nbformat": 4,
 "nbformat_minor": 2
}
