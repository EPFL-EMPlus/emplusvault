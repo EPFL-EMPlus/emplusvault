{
 "cells": [
  {
   "cell_type": "markdown",
   "metadata": {},
   "source": [
    "# IOC Video Offset\n",
    "\n",
    "Find the offset in the IOC video files. This is an exploratory notebook that is the basis for extracting the sequences at the right timestamp in the video files."
   ]
  },
  {
   "cell_type": "code",
   "execution_count": 6,
   "metadata": {},
   "outputs": [],
   "source": [
    "import pandas as pd\n",
    "import os"
   ]
  },
  {
   "cell_type": "code",
   "execution_count": null,
   "metadata": {},
   "outputs": [],
   "source": [
    "# Import metadata to get all the candidate files\n",
    "metadata = '/home/andre/rts/data/metadata.hdf5'\n",
    "with pd.HDFStore(metadata) as store:\n",
    "    keys = store.keys()\n",
    "    print(keys)\n",
    "    df = store.get(keys[0]) "
   ]
  },
  {
   "cell_type": "code",
   "execution_count": 8,
   "metadata": {},
   "outputs": [],
   "source": [
    "def find_mp4_files(root_folder):\n",
    "    mp4_files = []\n",
    "\n",
    "    ids = {}\n",
    "\n",
    "    for foldername, _, filenames in os.walk(root_folder):\n",
    "        for filename in filenames:\n",
    "            if filename.endswith('.mp4'):\n",
    "                fn = filename.split('.')[0]\n",
    "                mp4_files.append(os.path.join(foldername, filename))\n",
    "    return mp4_files"
   ]
  },
  {
   "cell_type": "code",
   "execution_count": 9,
   "metadata": {},
   "outputs": [],
   "source": [
    "mp4_files = find_mp4_files(\"/media/data/ioc/videos/\")"
   ]
  },
  {
   "cell_type": "markdown",
   "metadata": {},
   "source": []
  },
  {
   "cell_type": "code",
   "execution_count": 21,
   "metadata": {},
   "outputs": [
    {
     "data": {
      "text/plain": [
       "3228"
      ]
     },
     "execution_count": 21,
     "metadata": {},
     "output_type": "execute_result"
    }
   ],
   "source": [
    "file_map = {}\n",
    "for mp4 in mp4_files:\n",
    "    file_map[mp4.split('/')[-1].split('.')[0]] = mp4\n",
    "\n",
    "guids_df = set(df.guid.tolist())\n",
    "# filter by what ID is in the dataframe\n",
    "file_map = {k: v for k, v in file_map.items() if k in guids_df}\n",
    "\n",
    "guids = list(file_map.keys())\n",
    "len(guids)"
   ]
  },
  {
   "cell_type": "code",
   "execution_count": 22,
   "metadata": {},
   "outputs": [
    {
     "data": {
      "text/plain": [
       "3228"
      ]
     },
     "execution_count": 22,
     "metadata": {},
     "output_type": "execute_result"
    }
   ],
   "source": [
    "len(file_map)"
   ]
  },
  {
   "cell_type": "code",
   "execution_count": 26,
   "metadata": {},
   "outputs": [
    {
     "data": {
      "text/plain": [
       "'/media/data/ioc/videos/MP4_PROXY_HR/MDA43417188.LR.mp4'"
      ]
     },
     "execution_count": 26,
     "metadata": {},
     "output_type": "execute_result"
    }
   ],
   "source": [
    "file_map[guids[0]]"
   ]
  },
  {
   "cell_type": "code",
   "execution_count": 23,
   "metadata": {},
   "outputs": [
    {
     "name": "stdout",
     "output_type": "stream",
     "text": [
      "Number of sequences: 677607, Number of videos: 3225\n"
     ]
    }
   ],
   "source": [
    "# Sanity check for the number of videos and sequences\n",
    "df_files = df[df.guid.isin(set(file_map.keys()))]\n",
    "print(f\"Number of sequences: {len(df_files)}, Number of videos: {len(df_files[df_files.guid == df_files.seq_id])}\")"
   ]
  },
  {
   "cell_type": "code",
   "execution_count": 30,
   "metadata": {},
   "outputs": [
    {
     "data": {
      "text/plain": [
       "'/media/data/ioc/videos/MP4_PROXY_HR/MDA43417188.LR.mp4'"
      ]
     },
     "execution_count": 30,
     "metadata": {},
     "output_type": "execute_result"
    }
   ],
   "source": [
    "file_map[guids[0]]"
   ]
  },
  {
   "cell_type": "code",
   "execution_count": 34,
   "metadata": {},
   "outputs": [
    {
     "name": "stdout",
     "output_type": "stream",
     "text": [
      "Possible sequence change detected at 20.754066666666667 seconds\n",
      "Possible sequence change detected at 38.60523333333333 seconds\n",
      "Possible sequence change detected at 42.842800000000004 seconds\n",
      "Possible sequence change detected at 53.31993333333333 seconds\n",
      "Possible sequence change detected at 61.49476666666667 seconds\n",
      "Possible sequence change detected at 69.5695 seconds\n",
      "Possible sequence change detected at 78.8788 seconds\n"
     ]
    },
    {
     "ename": "KeyboardInterrupt",
     "evalue": "",
     "output_type": "error",
     "traceback": [
      "\u001b[0;31m---------------------------------------------------------------------------\u001b[0m",
      "\u001b[0;31mKeyboardInterrupt\u001b[0m                         Traceback (most recent call last)",
      "Cell \u001b[0;32mIn[34], line 22\u001b[0m\n\u001b[1;32m     18\u001b[0m frame_count \u001b[39m=\u001b[39m \u001b[39m1\u001b[39m  \u001b[39m# to keep track of the current frame\u001b[39;00m\n\u001b[1;32m     20\u001b[0m \u001b[39mwhile\u001b[39;00m \u001b[39mTrue\u001b[39;00m:\n\u001b[1;32m     21\u001b[0m     \u001b[39m# Read the next frame\u001b[39;00m\n\u001b[0;32m---> 22\u001b[0m     ret, frame \u001b[39m=\u001b[39m cap\u001b[39m.\u001b[39;49mread()\n\u001b[1;32m     24\u001b[0m     \u001b[39mif\u001b[39;00m \u001b[39mnot\u001b[39;00m ret:\n\u001b[1;32m     25\u001b[0m         \u001b[39mbreak\u001b[39;00m\n",
      "\u001b[0;31mKeyboardInterrupt\u001b[0m: "
     ]
    }
   ],
   "source": [
    "import cv2\n",
    "import numpy as np\n",
    "\n",
    "# TODO: Compare this against pyscenedetect library\n",
    "\n",
    "# Load the video\n",
    "cap = cv2.VideoCapture(file_map[guids[0]])\n",
    "\n",
    "fps = cap.get(cv2.CAP_PROP_FPS)\n",
    "\n",
    "# Parameters\n",
    "THRESHOLD = 20  # adjust this value based on your needs\n",
    "\n",
    "# Read the first frame\n",
    "ret, prev_frame = cap.read()\n",
    "\n",
    "# Convert the first frame to grayscale\n",
    "prev_frame = cv2.cvtColor(prev_frame, cv2.COLOR_BGR2GRAY)\n",
    "\n",
    "frame_count = 1  # to keep track of the current frame\n",
    "\n",
    "while True:\n",
    "    # Read the next frame\n",
    "    ret, frame = cap.read()\n",
    "\n",
    "    if not ret:\n",
    "        break\n",
    "\n",
    "    # Convert the frame to grayscale\n",
    "    gray = cv2.cvtColor(frame, cv2.COLOR_BGR2GRAY)\n",
    "\n",
    "    # Compute the absolute difference between the current and previous frame\n",
    "    diff = cv2.absdiff(prev_frame, gray)\n",
    "\n",
    "    # Compute the mean difference\n",
    "    mean_diff = np.mean(diff)\n",
    "\n",
    "    if mean_diff > THRESHOLD:\n",
    "        timestamp = frame_count / fps\n",
    "        print(f'Possible sequence change detected at {timestamp} seconds')\n",
    "        # break\n",
    "\n",
    "    # Update the previous frame\n",
    "    prev_frame = gray\n",
    "    frame_count += 1\n",
    "\n",
    "cap.release()"
   ]
  },
  {
   "cell_type": "code",
   "execution_count": 28,
   "metadata": {},
   "outputs": [
    {
     "data": {
      "text/plain": [
       "array([[101, 101, 101, ...,  72,  72,  72],\n",
       "       [101, 101, 101, ...,  71,  71,  71],\n",
       "       [101, 101, 101, ...,  71,  71,  71],\n",
       "       ...,\n",
       "       [ 93,  93,  92, ..., 102, 102, 102],\n",
       "       [ 93,  93,  92, ..., 102, 102, 102],\n",
       "       [ 93,  93,  92, ..., 102, 102, 102]], dtype=uint8)"
      ]
     },
     "execution_count": 28,
     "metadata": {},
     "output_type": "execute_result"
    }
   ],
   "source": [
    "prev_frame"
   ]
  },
  {
   "cell_type": "code",
   "execution_count": null,
   "metadata": {},
   "outputs": [],
   "source": []
  }
 ],
 "metadata": {
  "kernelspec": {
   "display_name": "rts-bWoRmFur-py3.10",
   "language": "python",
   "name": "python3"
  },
  "language_info": {
   "codemirror_mode": {
    "name": "ipython",
    "version": 3
   },
   "file_extension": ".py",
   "mimetype": "text/x-python",
   "name": "python",
   "nbconvert_exporter": "python",
   "pygments_lexer": "ipython3",
   "version": "3.10.11"
  },
  "orig_nbformat": 4
 },
 "nbformat": 4,
 "nbformat_minor": 2
}
