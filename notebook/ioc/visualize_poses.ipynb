{
 "cells": [
  {
   "cell_type": "code",
   "execution_count": null,
   "metadata": {},
   "outputs": [],
   "source": [
    "%cd ../..\n",
    "%load_ext autoreload\n",
    "\n",
    "%autoreload 2"
   ]
  },
  {
   "cell_type": "code",
   "execution_count": null,
   "metadata": {},
   "outputs": [],
   "source": [
    "import os\n",
    "import pandas as pd\n",
    "import numpy as np\n",
    "import matplotlib.pyplot as plt\n",
    "from rts.features.pose import load_all_poses, draw_pose\n",
    "\n",
    "import umap\n",
    "import cv2\n",
    "\n",
    "poses_folder = \"data/test_poses/\"\n",
    "sequences_folder = \"/mnt/g/ioc/sequences/\""
   ]
  },
  {
   "cell_type": "markdown",
   "metadata": {},
   "source": [
    "# Load poses"
   ]
  },
  {
   "cell_type": "code",
   "execution_count": null,
   "metadata": {},
   "outputs": [],
   "source": [
    "poses = load_all_poses(poses_folder)"
   ]
  },
  {
   "cell_type": "markdown",
   "metadata": {},
   "source": [
    "# Visualize poses"
   ]
  },
  {
   "cell_type": "markdown",
   "metadata": {},
   "source": [
    "### Plot sample of poses"
   ]
  },
  {
   "cell_type": "code",
   "execution_count": null,
   "metadata": {},
   "outputs": [],
   "source": [
    "# create a grid of subplots\n",
    "nrows = 3\n",
    "ncols = 6\n",
    "fig, axs = plt.subplots(nrows=nrows, ncols=ncols, figsize=(ncols * 3, nrows * 3))\n",
    "axs = axs.flatten()\n",
    "# iterate over the poses and draw each pose in a subplot\n",
    "sample_poses = np.random.choice(poses, nrows * ncols)\n",
    "for i, pose in enumerate(sample_poses):\n",
    "    draw_pose(pose, video_folder=sequences_folder, ax = axs[i], cut = True)\n",
    "\n",
    "plt.show()\n"
   ]
  },
  {
   "cell_type": "markdown",
   "metadata": {},
   "source": [
    "# Add metadata"
   ]
  },
  {
   "cell_type": "code",
   "execution_count": null,
   "metadata": {},
   "outputs": [],
   "source": [
    "from rts.utils import dataframe_from_hdf5\n",
    "\n",
    "archiva_path = \"/mnt/g/ioc/data/\"\n",
    "data = dataframe_from_hdf5(archiva_path, \"metadata\")"
   ]
  },
  {
   "cell_type": "code",
   "execution_count": null,
   "metadata": {},
   "outputs": [],
   "source": [
    "poses_df = pd.DataFrame(poses)\n",
    "poses_df = pd.merge(poses_df, data[[\"seq_id\", \"sport\"]], left_on=\"video_name\", right_on=\"seq_id\")"
   ]
  },
  {
   "cell_type": "markdown",
   "metadata": {},
   "source": [
    "# Dimensionality Reduction"
   ]
  },
  {
   "cell_type": "code",
   "execution_count": null,
   "metadata": {},
   "outputs": [],
   "source": [
    "reducer = umap.UMAP(n_neighbors=500, min_dist=0.3, metric='cosine')\n",
    "embedding = reducer.fit_transform(poses_df[\"angle_vec\"].tolist())\n",
    "\n",
    "plt.figure(figsize=(10, 10))\n",
    "plt.scatter(embedding[:, 0], embedding[:, 1], s=1)\n",
    "plt.show()"
   ]
  },
  {
   "cell_type": "code",
   "execution_count": null,
   "metadata": {},
   "outputs": [],
   "source": [
    "n_neighbors = [50, 100, 250, 500, 1000]\n",
    "min_dists = [0.1, 0.3, 0.5, 0.7, 0.9]\n",
    "\n",
    "fig, axs = plt.subplots(nrows=len(n_neighbors), ncols=len(min_dists), figsize=(20, 20))\n",
    "\n",
    "for i,n in enumerate(n_neighbors):\n",
    "    for j,d in enumerate(min_dists):\n",
    "        reducer = umap.UMAP(n_neighbors=n, min_dist=d, metric='cosine')\n",
    "        embedding = reducer.fit_transform(poses_df[\"angle_vec\"].tolist())\n",
    "\n",
    "        axs[i,j].scatter(embedding[:, 0], embedding[:, 1], s=1)\n",
    "        axs[i,j].set_xticks([])\n",
    "        axs[i,j].set_yticks([])\n",
    "        if i == 0:\n",
    "            axs[i,j].set_title(\"min_dist = {}\".format(d))\n",
    "        if j == 0:\n",
    "            axs[i,j].set_ylabel(\"n_neighbors = {}\".format(n))\n",
    "plt.show()"
   ]
  },
  {
   "cell_type": "markdown",
   "metadata": {},
   "source": [
    "## Top Sports"
   ]
  },
  {
   "cell_type": "code",
   "execution_count": null,
   "metadata": {},
   "outputs": [],
   "source": [
    "top_sports = poses_df.groupby(\"sport\").count().sort_values(\"video_name\", ascending=False).head(10).index.tolist()\n",
    "top_sports_df = poses_df[poses_df[\"sport\"].isin(top_sports)]\n",
    "top_sports_df.shape"
   ]
  },
  {
   "cell_type": "code",
   "execution_count": null,
   "metadata": {},
   "outputs": [],
   "source": [
    "reducer = umap.UMAP(n_neighbors=1000, min_dist=0.3, metric='cosine')\n",
    "embedding = reducer.fit_transform(top_sports_df[\"angle_vec\"].tolist())\n",
    "top_sports_df[\"umap_x\"] = embedding[:,0]\n",
    "top_sports_df[\"umap_y\"] = embedding[:,1]"
   ]
  },
  {
   "cell_type": "code",
   "execution_count": null,
   "metadata": {},
   "outputs": [],
   "source": [
    "plt.figure(figsize=(10, 10))\n",
    "for sport in top_sports_df[\"sport\"].unique():\n",
    "    plt.scatter(top_sports_df[top_sports_df[\"sport\"] == sport][\"umap_x\"], \n",
    "                top_sports_df[top_sports_df[\"sport\"] == sport][\"umap_y\"], \n",
    "                s= 1, label = sport)\n",
    "plt.gca().set_aspect('equal', 'datalim')\n",
    "plt.legend(markerscale = 5)\n",
    "plt.title('UMAP projection of the pose angles', fontsize=24)\n",
    "plt.show()"
   ]
  },
  {
   "cell_type": "markdown",
   "metadata": {},
   "source": [
    "## Bokeh plot"
   ]
  },
  {
   "cell_type": "code",
   "execution_count": null,
   "metadata": {},
   "outputs": [],
   "source": [
    "from bokeh.plotting import figure, show, output_notebook\n",
    "from bokeh.models import ColumnDataSource, ImageURL\n",
    "from bokeh.io import push_notebook\n",
    "import base64\n",
    "from io import BytesIO\n",
    "\n",
    "output_notebook()"
   ]
  },
  {
   "cell_type": "code",
   "execution_count": null,
   "metadata": {},
   "outputs": [],
   "source": [
    "def image_to_base64(image_path):\n",
    "    with open(image_path, \"rb\") as f:\n",
    "        image_binary = f.read()\n",
    "    return \"data:image/png;base64,\" + base64.b64encode(image_binary).decode()\n",
    "\n",
    "def create_annotation_image(pose):\n",
    "    fig, ax = plt.subplots(figsize=(6,6))\n",
    "    draw_pose(pose, ax=ax, cut=True)\n",
    "    tmp_path = \"data/test_images/tmp.png\"\n",
    "    plt.savefig(tmp_path, dpi=100, bbox_inches='tight')\n",
    "    plt.close(fig)\n",
    "    \n",
    "    return image_to_base64(tmp_path)\n"
   ]
  },
  {
   "cell_type": "code",
   "execution_count": null,
   "metadata": {},
   "outputs": [],
   "source": [
    "N_POSES = 1000\n",
    "EVERY_N = 5\n",
    "embedded_images = [create_annotation_image(pose) for pose in poses[::EVERY_N][:N_POSES]]"
   ]
  },
  {
   "cell_type": "code",
   "execution_count": null,
   "metadata": {},
   "outputs": [],
   "source": [
    "reducer = umap.UMAP(n_neighbors=int(0.1 * N_POSES), min_dist=0.9, metric='cosine')\n",
    "embedding = reducer.fit_transform([p[\"angle_vec\"] for p in poses[::EVERY_N][:N_POSES]])"
   ]
  },
  {
   "cell_type": "code",
   "execution_count": null,
   "metadata": {},
   "outputs": [],
   "source": [
    "import base64\n",
    "from bokeh.plotting import figure, show, output_notebook\n",
    "from bokeh.models import ColumnDataSource\n",
    "from bokeh.io import push_notebook, export_png\n",
    "from PIL import Image\n",
    "import io\n",
    "\n",
    "# Example 2D points\n",
    "x = embedding[:, 0]\n",
    "y = embedding[:, 1]\n",
    "\n",
    "# Create a ColumnDataSource\n",
    "source = ColumnDataSource(data=dict(x=x, y=y, url=embedded_images))\n",
    "\n",
    "# Output to notebook\n",
    "output_notebook()\n",
    "\n",
    "# Create a new plot\n",
    "p = figure(width=1000, height=1000)\n",
    "\n",
    "\n",
    "# Add images\n",
    "p.image_url(url='url', x='x', y='y', source=source, w=0.3, h=0.3, anchor=\"center\")\n",
    "\n",
    "# Show the plot\n",
    "handle = show(p, notebook_handle=True)\n"
   ]
  }
 ],
 "metadata": {
  "kernelspec": {
   "display_name": "rts-bWoRmFur-py3.10",
   "language": "python",
   "name": "python3"
  },
  "language_info": {
   "codemirror_mode": {
    "name": "ipython",
    "version": 3
   },
   "file_extension": ".py",
   "mimetype": "text/x-python",
   "name": "python",
   "nbconvert_exporter": "python",
   "pygments_lexer": "ipython3",
   "version": "3.10.12"
  },
  "orig_nbformat": 4
 },
 "nbformat": 4,
 "nbformat_minor": 2
}
