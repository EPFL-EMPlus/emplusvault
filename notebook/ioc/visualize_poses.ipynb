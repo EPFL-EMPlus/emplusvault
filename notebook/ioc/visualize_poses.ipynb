{
 "cells": [
  {
   "cell_type": "code",
   "execution_count": null,
   "metadata": {},
   "outputs": [],
   "source": [
    "import os\n",
    "import json\n",
    "from collections import defaultdict\n",
    "import pandas as pd\n",
    "import matplotlib.pyplot as plt\n",
    "from sklearn import preprocessing\n",
    "import seaborn as sns\n",
    "from rts.features.pose import compute_human_angles, reshape_keypoints\n",
    "import umap"
   ]
  },
  {
   "cell_type": "code",
   "execution_count": null,
   "metadata": {},
   "outputs": [],
   "source": [
    "sns.set(style='white', context='notebook', rc={'figure.figsize':(14,10)})\n"
   ]
  },
  {
   "cell_type": "code",
   "execution_count": null,
   "metadata": {},
   "outputs": [],
   "source": [
    "OUTDIR = \"/media/data/ioc/sequences/\""
   ]
  },
  {
   "cell_type": "code",
   "execution_count": null,
   "metadata": {},
   "outputs": [],
   "source": [
    "poses = {}\n",
    "\n",
    "count = 0\n",
    "for root, dirs, files in os.walk(OUTDIR):\n",
    "    for file in files:\n",
    "        if file.endswith(\".json\"):\n",
    "            # print(os.path.join(root, file))\n",
    "            fpath = os.path.join(root, file)\n",
    "            with open(fpath) as f:\n",
    "                data = json.load(f)\n",
    "            poses[fpath] = data\n",
    "            count += 1\n",
    "count"
   ]
  },
  {
   "cell_type": "code",
   "execution_count": null,
   "metadata": {},
   "outputs": [],
   "source": [
    "valid_poses = defaultdict(list)\n",
    "\n",
    "for key in poses:\n",
    "    for pose in poses[key]:\n",
    "        angles = compute_human_angles(reshape_keypoints(pose['keypoints']), min_confidence=0.8)\n",
    "        # count how many entries are None in the list\n",
    "        if angles.count(None) > 0:\n",
    "            continue\n",
    "        valid_poses[key].append(angles)\n"
   ]
  },
  {
   "cell_type": "code",
   "execution_count": null,
   "metadata": {},
   "outputs": [],
   "source": [
    "# count how many entries are in all lists\n",
    "count = 0\n",
    "for key in valid_poses:\n",
    "    count += len(valid_poses[key])\n",
    "count"
   ]
  },
  {
   "cell_type": "code",
   "execution_count": null,
   "metadata": {},
   "outputs": [],
   "source": [
    "# only keep a single pose per key and normalize max = 180, min = 0\n",
    "single_pose = {}\n",
    "for key in valid_poses:\n",
    "    single_pose[key] = [x / 180 for x in valid_poses[key][0]]"
   ]
  },
  {
   "cell_type": "code",
   "execution_count": 134,
   "metadata": {},
   "outputs": [],
   "source": []
  },
  {
   "cell_type": "code",
   "execution_count": null,
   "metadata": {},
   "outputs": [],
   "source": [
    "reducer = umap.UMAP()"
   ]
  },
  {
   "cell_type": "code",
   "execution_count": null,
   "metadata": {},
   "outputs": [],
   "source": [
    "df = pd.DataFrame(single_pose).T"
   ]
  },
  {
   "cell_type": "code",
   "execution_count": null,
   "metadata": {},
   "outputs": [],
   "source": [
    "# don't take the first column, which is the filename\n",
    "pose_array = df.loc[:, df.columns != 0].values"
   ]
  },
  {
   "cell_type": "code",
   "execution_count": null,
   "metadata": {},
   "outputs": [],
   "source": [
    "embedding = reducer.fit_transform(pose_array)"
   ]
  },
  {
   "cell_type": "code",
   "execution_count": null,
   "metadata": {},
   "outputs": [],
   "source": [
    "plt.scatter(\n",
    "    embedding[:, 0],\n",
    "    embedding[:, 1])\n",
    "plt.gca().set_aspect('equal', 'datalim')\n",
    "plt.title('UMAP projection of the IOC dataset', fontsize=24);"
   ]
  },
  {
   "cell_type": "code",
   "execution_count": null,
   "metadata": {},
   "outputs": [],
   "source": [
    "# sequences.index = sequences.seq_id\n",
    "\n",
    "# sports = []\n",
    "# for fname in df.index:\n",
    "#     if \"SEQ\" in fname:\n",
    "#         seq = fname.split('/')[-1].split('.')[0]\n",
    "#         sports.append(sequences.loc[seq].sport)\n",
    "#     else:\n",
    "#         sports.append(\"unknown\")"
   ]
  },
  {
   "cell_type": "code",
   "execution_count": null,
   "metadata": {},
   "outputs": [],
   "source": [
    "# le = preprocessing.LabelEncoder()\n",
    "# le.fit(sports)\n",
    "\n",
    "# encoded_sports = le.transform(sports)"
   ]
  },
  {
   "cell_type": "code",
   "execution_count": null,
   "metadata": {},
   "outputs": [],
   "source": [
    "# plt.scatter(\n",
    "#     embedding[:, 0],\n",
    "#     embedding[:, 1],\n",
    "#     c=encoded_sports\n",
    "#     )\n",
    "# plt.gca().set_aspect('equal', 'datalim')\n",
    "# plt.title('UMAP projection of the IOC dataset', fontsize=24);"
   ]
  },
  {
   "cell_type": "code",
   "execution_count": null,
   "metadata": {},
   "outputs": [],
   "source": [
    "from bokeh.plotting import figure, show, output_notebook\n",
    "from bokeh.models import ColumnDataSource, ImageURL\n",
    "from bokeh.io import push_notebook\n",
    "output_notebook()"
   ]
  },
  {
   "cell_type": "code",
   "execution_count": null,
   "metadata": {},
   "outputs": [],
   "source": [
    "import base64\n",
    "from bokeh.plotting import figure, show, output_notebook\n",
    "from bokeh.models import ColumnDataSource\n",
    "from bokeh.io import push_notebook\n",
    "from PIL import Image\n",
    "import io\n",
    "\n",
    "# Example 2D points\n",
    "x = embedding[:, 0]\n",
    "y = embedding[:, 1]\n",
    "\n",
    "# Replace with your image URLs\n",
    "image_paths = [x.replace('json', 'jpeg') for x in df.index]\n",
    "\n",
    "# Convert images to Base64 encoding\n",
    "def image_to_base64(image_path):\n",
    "    with open(image_path, \"rb\") as f:\n",
    "        image_binary = f.read()\n",
    "    return \"data:image/png;base64,\" + base64.b64encode(image_binary).decode()\n",
    "\n",
    "# Convert each image to Base64 and store them in a list\n",
    "urls = [image_to_base64(path) for path in image_paths]\n",
    "\n",
    "# Create a ColumnDataSource\n",
    "source = ColumnDataSource(data=dict(x=x, y=y, url=urls))\n",
    "\n",
    "# Output to notebook\n",
    "output_notebook()\n",
    "\n",
    "# Create a new plot\n",
    "p = figure(x_range=(-10,10), y_range=(-10,10), width=800, height=800)\n",
    "\n",
    "# Add images\n",
    "p.image_url(url='url', x='x', y='y', source=source, w=0.1, h=0.1, anchor=\"center\")\n",
    "\n",
    "# Show the plot\n",
    "handle = show(p, notebook_handle=True)\n"
   ]
  },
  {
   "cell_type": "code",
   "execution_count": null,
   "metadata": {},
   "outputs": [],
   "source": []
  }
 ],
 "metadata": {
  "kernelspec": {
   "display_name": "rts-bWoRmFur-py3.10",
   "language": "python",
   "name": "python3"
  },
  "language_info": {
   "codemirror_mode": {
    "name": "ipython",
    "version": 3
   },
   "file_extension": ".py",
   "mimetype": "text/x-python",
   "name": "python",
   "nbconvert_exporter": "python",
   "pygments_lexer": "ipython3",
   "version": "3.10.11"
  },
  "orig_nbformat": 4
 },
 "nbformat": 4,
 "nbformat_minor": 2
}
