{
 "cells": [
  {
   "cell_type": "code",
   "execution_count": null,
   "metadata": {},
   "outputs": [],
   "source": [
    "%cd ../..\n",
    "%load_ext autoreload\n",
    "\n",
    "%autoreload 2"
   ]
  },
  {
   "cell_type": "code",
   "execution_count": null,
   "metadata": {},
   "outputs": [],
   "source": [
    "import os\n",
    "import pandas as pd\n",
    "import matplotlib.pyplot as plt\n",
    "import seaborn as sns\n",
    "from rts.features.pose import load_all_poses, KEYPOINTS_NAMES\n",
    "from rts.utils import dataframe_from_hdf5\n",
    "\n",
    "poses_folder = \"data/test_poses/\"\n",
    "archiva_path = \"/mnt/g/ioc/data/\""
   ]
  },
  {
   "cell_type": "code",
   "execution_count": null,
   "metadata": {},
   "outputs": [],
   "source": [
    "poses = load_all_poses(poses_folder)"
   ]
  },
  {
   "cell_type": "code",
   "execution_count": null,
   "metadata": {},
   "outputs": [],
   "source": [
    "data = dataframe_from_hdf5(archiva_path, \"metadata\")\n",
    "\n",
    "poses_df = pd.DataFrame(poses)\n",
    "poses_df = pd.merge(poses_df, data[[\"seq_id\", \"sport\"]], left_on=\"video_name\", right_on=\"seq_id\")\n",
    "poses_df.head()"
   ]
  },
  {
   "cell_type": "markdown",
   "metadata": {},
   "source": [
    "# Missing keypoints"
   ]
  },
  {
   "cell_type": "code",
   "execution_count": null,
   "metadata": {},
   "outputs": [],
   "source": [
    "poses_df[\"n_missing_keypoints\"] = poses_df.keypoints.map(lambda x: len([k for k in x if k[2] == 0]))\n",
    "poses_df[\"n_missing_keypoints\"].value_counts().sort_index().plot(kind=\"bar\")\n",
    "plt.xticks(rotation=0)  \n",
    "plt.title(\"Number of poses with at least N missing keypoints\")\n",
    "plt.show()"
   ]
  },
  {
   "cell_type": "code",
   "execution_count": null,
   "metadata": {},
   "outputs": [],
   "source": [
    "top_sports = poses_df.sport.value_counts().head(20).index\n",
    "plt.figure(figsize=(20,10))\n",
    "sns.boxplot(x=\"sport\", y=\"n_missing_keypoints\", data=poses_df[poses_df.sport.isin(top_sports)])\n",
    "plt.xticks(rotation=45)\n",
    "plt.show()"
   ]
  },
  {
   "cell_type": "code",
   "execution_count": null,
   "metadata": {},
   "outputs": [],
   "source": [
    "poses_df[\"n_miss_upper\"] = poses_df.keypoints.map(lambda x: len([k for k in x[:13] if k[2] == 0])) # From top to hips included\n",
    "poses_df[\"n_miss_lower\"] = poses_df.keypoints.map(lambda x: len([k for k in x[13:] if k[2] == 0])) # Below hips (not included)\n",
    "\n",
    "fig, ax = plt.subplots(1,2, figsize=(16,6))\n",
    "poses_df[\"n_miss_upper\"].value_counts().sort_index().plot(kind=\"bar\", ax=ax[0])\n",
    "ax[0].set_title(\"Missing keypoints (Upper body)\")\n",
    "ax[0].set_xlabel(\"Number of missing keypoints\")\n",
    "ax[0].set_ylabel(\"Count\")\n",
    "ax[0].set_xticklabels(ax[0].get_xticklabels(), rotation=0)\n",
    "\n",
    "poses_df[\"n_miss_lower\"].value_counts().sort_index().plot(kind=\"bar\", ax=ax[1])\n",
    "ax[1].set_title(\"Missing keypoints (Lower body)\")\n",
    "ax[1].set_xlabel(\"Number of missing keypoints\")\n",
    "ax[1].set_ylabel(\"Count\")\n",
    "ax[1].set_xticklabels(ax[1].get_xticklabels(), rotation=0)\n",
    "\n",
    "plt.show()\n"
   ]
  },
  {
   "cell_type": "code",
   "execution_count": null,
   "metadata": {},
   "outputs": [],
   "source": [
    "# For each keypoint, compute the number of missing keypoints\n",
    "keypoints_df_scores = pd.DataFrame(poses_df[\"keypoints\"].apply(lambda x: [k[2] for k in x]).tolist(), columns=KEYPOINTS_NAMES)\n",
    "plt.figure(figsize=(12,10))\n",
    "keypoints_df_scores.boxplot(column=KEYPOINTS_NAMES, vert=False)\n",
    "plt.title(\"Boxplot of confidence score for each keypoint\")\n",
    "plt.show()\n"
   ]
  },
  {
   "cell_type": "code",
   "execution_count": null,
   "metadata": {},
   "outputs": [],
   "source": [
    "# For each keypoint, compute the number of missing keypoints\n",
    "keypoints_df_missing = pd.DataFrame(keypoints_df_scores.apply(lambda x: x == 0), columns=KEYPOINTS_NAMES)\n",
    "(keypoints_df_missing.sum() / len(keypoints_df_missing)).plot(kind=\"barh\")\n",
    "plt.title(\"Percentage of missing keypoints\")\n",
    "plt.xlim(0,1)\n",
    "plt.show()"
   ]
  }
 ],
 "metadata": {
  "kernelspec": {
   "display_name": "rts-o0uzL038-py3.10",
   "language": "python",
   "name": "python3"
  },
  "language_info": {
   "codemirror_mode": {
    "name": "ipython",
    "version": 3
   },
   "file_extension": ".py",
   "mimetype": "text/x-python",
   "name": "python",
   "nbconvert_exporter": "python",
   "pygments_lexer": "ipython3",
   "version": "3.10.12"
  }
 },
 "nbformat": 4,
 "nbformat_minor": 2
}
