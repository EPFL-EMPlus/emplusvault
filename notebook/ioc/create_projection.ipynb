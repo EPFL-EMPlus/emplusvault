{
 "cells": [
  {
   "cell_type": "markdown",
   "metadata": {},
   "source": [
    "# Create a projection from the IOC data\n",
    "\n",
    "There a 3 components to a projection with the poses:\n",
    "1. Features from the feature table (Feature Table)\n",
    "2. A Projection (Projection table)\n",
    "3. Mappings of the coordinates to the projection and features (MapProjectionFeature Table)\n",
    "\n",
    "As the keypoints and angles are already provided in the associated feature data, the atlas is not needed to create the projection."
   ]
  },
  {
   "cell_type": "code",
   "execution_count": null,
   "metadata": {},
   "outputs": [],
   "source": [
    "from emv.db.dao import DataAccessObject\n",
    "from sqlalchemy.sql import text\n",
    "import pandas as pd\n",
    "import matplotlib.pyplot as plt\n",
    "import seaborn as sns\n",
    "import ast\n",
    "import numpy as np\n",
    "from emv.api.models import Projection, MapProjectionFeatureCreate\n",
    "from emv.db.queries import create_projection, create_map_projection_feature\n",
    "from umap import UMAP\n",
    "import numba"
   ]
  },
  {
   "cell_type": "code",
   "execution_count": null,
   "metadata": {},
   "outputs": [],
   "source": [
    "# Retrieve the transformed features for the poses, feature_type = 'pose_image' is a smaller dataset than just 'pose'\n",
    "# In comparison to the full data, it has normalized keypoints and embeddings\n",
    "query = text(\"SELECT * FROM feature WHERE feature_type = 'pose_image'\")\n",
    "df = pd.DataFrame(DataAccessObject().fetch_all(query))\n",
    "df['embedding_33'] = df['embedding_33'].apply(lambda x: ast.literal_eval(x))"
   ]
  },
  {
   "cell_type": "code",
   "execution_count": null,
   "metadata": {},
   "outputs": [],
   "source": [
    "df.iloc[0]"
   ]
  },
  {
   "cell_type": "code",
   "execution_count": null,
   "metadata": {},
   "outputs": [],
   "source": [
    "df "
   ]
  },
  {
   "cell_type": "code",
   "execution_count": null,
   "metadata": {},
   "outputs": [],
   "source": [
    "len(df)"
   ]
  },
  {
   "cell_type": "code",
   "execution_count": null,
   "metadata": {},
   "outputs": [],
   "source": [
    "# default values that assume an atlas, not necessary, \n",
    "# but it's good to give the correct values when creating the projection\n",
    "\n",
    "total_tiles = len(df) # either all features or a subset of features\n",
    "atlas_width = 4096\n",
    "max_tile_size = 512\n",
    "max_tiles_per_atlas = (atlas_width // max_tile_size) ** 2\n",
    "atlas_count = int(total_tiles / max_tiles_per_atlas) + 1"
   ]
  },
  {
   "cell_type": "code",
   "execution_count": null,
   "metadata": {},
   "outputs": [],
   "source": [
    "# Create the projection, replace the names with the desired ones, library_id = 2 is for the IOC\n",
    "projection = Projection(\n",
    "    projection_name=\"IOC Poses Cylindrical UMAP\",\n",
    "    version=\"0.0.1\",\n",
    "    library_id=2,\n",
    "    model_name=\"openpifpaf_fast\",\n",
    "    model_params={},\n",
    "    data={},\n",
    "    dimension=3,\n",
    "    atlas_folder_path=\"\",\n",
    "    atlas_width=atlas_width,\n",
    "    tile_size=max_tile_size,\n",
    "    atlas_count=atlas_count,\n",
    "    total_tiles=total_tiles,\n",
    "    tiles_per_atlas=max_tiles_per_atlas,\n",
    ")\n",
    "\n",
    "projection_id = create_projection(projection)['projection_id']"
   ]
  },
  {
   "cell_type": "code",
   "execution_count": null,
   "metadata": {},
   "outputs": [],
   "source": [
    "@numba.njit(fastmath=True)\n",
    "def cylinder_euclidean_grad(x, y, cylinder_dimension=2*np.pi, linear_dimension=1.0):\n",
    "    \"\"\"Euclidean distance and gradient for cylindrical projection.\n",
    "\n",
    "    x, y: Points between which the distance and gradient are computed.\n",
    "    cylinder_dimension: The dimension of the cylindrical wraparound (default 2*pi).\n",
    "    linear_dimension: The linear dimension (default 1.0).\n",
    "    \"\"\"\n",
    "    distance_sqr = 0.0\n",
    "    g = np.zeros_like(x)\n",
    "    \n",
    "    # Cylindrical dimension (e.g., angular wraparound)\n",
    "    a = abs(x[0] - y[0])\n",
    "    if 2 * a < cylinder_dimension:\n",
    "        distance_sqr += a ** 2\n",
    "        g[0] = (x[0] - y[0])\n",
    "    else:\n",
    "        distance_sqr += (cylinder_dimension - a) ** 2\n",
    "        g[0] = (x[0] - y[0]) * (a - cylinder_dimension) / a\n",
    "    \n",
    "    # Linear dimension (e.g., height)\n",
    "    b = abs(x[1] - y[1])\n",
    "    distance_sqr += b ** 2\n",
    "    g[1] = (x[1] - y[1])\n",
    "    \n",
    "    distance = np.sqrt(distance_sqr)\n",
    "    return distance, g / (1e-6 + distance)"
   ]
  },
  {
   "cell_type": "code",
   "execution_count": null,
   "metadata": {},
   "outputs": [],
   "source": [
    "cylinder_mapper = UMAP(output_metric=cylinder_euclidean_grad, min_dist=0.1, n_neighbors=100, random_state=42)\n",
    "data = np.array(df['embedding_33'].tolist())\n",
    "embedding = cylinder_mapper.fit_transform(data)"
   ]
  },
  {
   "cell_type": "code",
   "execution_count": null,
   "metadata": {},
   "outputs": [],
   "source": [
    "df[\"sport\"] = df.data.map(lambda x: x['sport'])\n",
    "color_palette = sns.color_palette(\"Set2\", n_colors=len(df.sport.unique()))\n",
    "colors = df.sport.map(lambda x: color_palette[list(df.sport.unique()).index(x)])"
   ]
  },
  {
   "cell_type": "code",
   "execution_count": null,
   "metadata": {},
   "outputs": [],
   "source": [
    "# Panorama dimensions\n",
    "R_pano = 1\n",
    "H_pano = 1\n",
    "\n",
    "# Cylindrical dimension (theta) and height (h)\n",
    "cylinder_dimension = 2 * np.pi\n",
    "radius = R_pano  # Radius of the cylinder\n",
    "\n",
    "# Extract the cylindrical (theta) and linear (h) coordinates\n",
    "theta_coords = cylinder_mapper.embedding_[:, 0] % cylinder_dimension\n",
    "h_coords = cylinder_mapper.embedding_[:, 1]\n",
    "h_coords = H_pano * (h_coords - np.min(h_coords)) / (np.max(h_coords) - np.min(h_coords)) # Remap height to [0, H_pano] size of the Panorama\n",
    "\n",
    "# Convert cylindrical coordinates to Cartesian coordinates\n",
    "x = radius * np.cos(theta_coords)\n",
    "y = radius * np.sin(theta_coords)\n",
    "z = h_coords\n",
    "\n",
    "embedding_cartesian = np.stack([x, y, z], axis=1)\n",
    "\n",
    "fig = plt.figure(figsize=(20, 8))\n",
    "ax1 = fig.add_subplot(121, projection='3d')\n",
    "ax1.scatter(x, y, z, c=colors, s = 0.1)\n",
    "ax1.set_title(\"Cylindrical projection\", fontweight = \"bold\")\n",
    "\n",
    "ax2 = fig.add_subplot(122)\n",
    "ax2.scatter(theta_coords, h_coords, c=colors, s = 0.5)\n",
    "ax2.set_title(\"Unwrapped cylinder\", fontweight = \"bold\")\n",
    "\n",
    "plt.tight_layout()\n",
    "plt.show()"
   ]
  },
  {
   "cell_type": "code",
   "execution_count": null,
   "metadata": {},
   "outputs": [],
   "source": [
    "# Create an entry in the map_projection_feature table for each feature, links features, media and coordinates\n",
    "for i, row in df.iterrows():\n",
    "    create_map_projection_feature(MapProjectionFeatureCreate(\n",
    "        projection_id=projection_id,\n",
    "        media_id=row.media_id,\n",
    "        atlas_order=-1,\n",
    "        index_in_atlas=-1,\n",
    "        coordinates=[embedding_cartesian[i, 0], embedding_cartesian[i, 1], embedding_cartesian[i, 2]],\n",
    "        feature_id=row.feature_id\n",
    "    ))"
   ]
  },
  {
   "cell_type": "code",
   "execution_count": null,
   "metadata": {},
   "outputs": [],
   "source": [
    "projection_id"
   ]
  },
  {
   "cell_type": "code",
   "execution_count": null,
   "metadata": {},
   "outputs": [],
   "source": []
  }
 ],
 "metadata": {
  "kernelspec": {
   "display_name": "emv-bWoRmFur-py3.10",
   "language": "python",
   "name": "python3"
  },
  "language_info": {
   "codemirror_mode": {
    "name": "ipython",
    "version": 3
   },
   "file_extension": ".py",
   "mimetype": "text/x-python",
   "name": "python",
   "nbconvert_exporter": "python",
   "pygments_lexer": "ipython3",
   "version": "3.10.11"
  }
 },
 "nbformat": 4,
 "nbformat_minor": 2
}
