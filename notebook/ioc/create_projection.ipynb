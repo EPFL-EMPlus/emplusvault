{
 "cells": [
  {
   "cell_type": "markdown",
   "metadata": {},
   "source": [
    "# Create a projection from the IOC data\n",
    "\n",
    "There a 3 components to a projection with the poses:\n",
    "1. Features from the feature table (Feature Table)\n",
    "2. A Projection (Projection table)\n",
    "3. Mappings of the coordinates to the projection and features (MapProjectionFeature Table)\n",
    "\n",
    "As the keypoints and angles are already provided in the associated feature data, the atlas is not needed to create the projection."
   ]
  },
  {
   "cell_type": "code",
   "execution_count": 12,
   "metadata": {},
   "outputs": [],
   "source": [
    "from emv.db.dao import DataAccessObject\n",
    "from sqlalchemy.sql import text\n",
    "import pandas as pd\n",
    "import ast\n",
    "import numpy as np\n",
    "from emv.api.models import Projection, MapProjectionFeatureCreate\n",
    "from emv.db.queries import create_projection, create_map_projection_feature\n",
    "import umap"
   ]
  },
  {
   "cell_type": "code",
   "execution_count": 6,
   "metadata": {},
   "outputs": [],
   "source": [
    "# Retrieve the transformed features for the poses, feature_type = 'pose_image' is a smaller dataset than just 'pose'\n",
    "# In comparison to the full data, it has normalized keypoints and embeddings\n",
    "query = text(\"SELECT * FROM feature WHERE feature_type = 'pose_image'\")\n",
    "df = pd.DataFrame(DataAccessObject().fetch_all(query))\n",
    "df['embedding_33'] = df['embedding_33'].apply(lambda x: ast.literal_eval(x))"
   ]
  },
  {
   "cell_type": "code",
   "execution_count": null,
   "metadata": {},
   "outputs": [],
   "source": [
    "# default values that assume an atlas, not necessary, \n",
    "# but it's good to give the correct values when creating the projection\n",
    "\n",
    "total_tiles = len(df) # either all features or a subset of features\n",
    "atlas_width = 4096\n",
    "max_tile_size = 512\n",
    "max_tiles_per_atlas = (atlas_width // max_tile_size) ** 2\n",
    "atlas_count = int(total_tiles / max_tiles_per_atlas) + 1"
   ]
  },
  {
   "cell_type": "code",
   "execution_count": null,
   "metadata": {},
   "outputs": [],
   "source": [
    "# Create the projection, replace the names with the desired ones, library_id = 2 is for the IOC\n",
    "projection = Projection(\n",
    "    projection_name=\"IOC Poses\",\n",
    "    version=\"0.0.1\",\n",
    "    library_id=2,\n",
    "    model_name=\"openpifpaf_fast\",\n",
    "    model_params={},\n",
    "    data={},\n",
    "    dimension=3,\n",
    "    atlas_folder_path=\"\",\n",
    "    atlas_width=atlas_width,\n",
    "    tile_size=max_tile_size,\n",
    "    atlas_count=atlas_count,\n",
    "    total_tiles=total_tiles,\n",
    "    tiles_per_atlas=max_tiles_per_atlas,\n",
    ")\n",
    "\n",
    "projection_id = create_projection(projection)['projection_id']"
   ]
  },
  {
   "cell_type": "code",
   "execution_count": 15,
   "metadata": {},
   "outputs": [],
   "source": [
    "# Replace with a different way to come up with coordinates, coordinates can be 2D or 3D\n",
    "reducer = umap.UMAP(n_components=3)\n",
    "data = np.array(df['embedding_33'].tolist())\n",
    "embedding = reducer.fit_transform(data)"
   ]
  },
  {
   "cell_type": "code",
   "execution_count": null,
   "metadata": {},
   "outputs": [],
   "source": [
    "# Create an entry in the map_projection_feature table for each feature, links features, media and coordinates\n",
    "for i, row in df.iterrows():\n",
    "    create_map_projection_feature(MapProjectionFeatureCreate(\n",
    "        projection_id=projection_id,\n",
    "        media_id=row.media_id,\n",
    "        atlas_order=-1,\n",
    "        index_in_atlas=-1,\n",
    "        coordinates=[embedding[i, 0], embedding[i, 1], embedding[i, 2]],\n",
    "        feature_id=row.feature_id\n",
    "    ))"
   ]
  }
 ],
 "metadata": {
  "kernelspec": {
   "display_name": "emv-bWoRmFur-py3.10",
   "language": "python",
   "name": "python3"
  },
  "language_info": {
   "codemirror_mode": {
    "name": "ipython",
    "version": 3
   },
   "file_extension": ".py",
   "mimetype": "text/x-python",
   "name": "python",
   "nbconvert_exporter": "python",
   "pygments_lexer": "ipython3",
   "version": "3.10.11"
  }
 },
 "nbformat": 4,
 "nbformat_minor": 2
}
