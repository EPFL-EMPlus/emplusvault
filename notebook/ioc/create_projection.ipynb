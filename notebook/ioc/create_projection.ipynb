{
 "cells": [
  {
   "cell_type": "code",
   "execution_count": null,
   "metadata": {},
   "outputs": [],
   "source": [
    "%load_ext autoreload\n",
    "%autoreload 2"
   ]
  },
  {
   "cell_type": "code",
   "execution_count": null,
   "metadata": {},
   "outputs": [],
   "source": [
    "import pandas as pd\n",
    "import ast\n",
    "import numpy as np"
   ]
  },
  {
   "cell_type": "code",
   "execution_count": null,
   "metadata": {},
   "outputs": [],
   "source": [
    "from emv.features.pose import filter_poses, get_angle_feature_vector"
   ]
  },
  {
   "cell_type": "code",
   "execution_count": null,
   "metadata": {},
   "outputs": [],
   "source": [
    "df = pd.read_csv('poses.csv')"
   ]
  },
  {
   "cell_type": "code",
   "execution_count": null,
   "metadata": {},
   "outputs": [],
   "source": [
    "df['keypoints'] = df['keypoints'].apply(ast.literal_eval)\n",
    "# df['angle_vec'] = df['angle_vec'].apply(ast.literal_eval)\n",
    "# df['angle_score'] = df['angle_score'].apply(ast.literal_eval)\n",
    "# df['bbox'] = df['bbox'].apply(ast.literal_eval)"
   ]
  },
  {
   "cell_type": "code",
   "execution_count": null,
   "metadata": {},
   "outputs": [],
   "source": [
    "# count how many keypoints are exactly 0 per row\n",
    "df['num_zero_keypoints'] = df['keypoints'].apply(lambda x: sum([1 for i in x if i[0] == 0 and i[1] == 0]))"
   ]
  },
  {
   "cell_type": "code",
   "execution_count": null,
   "metadata": {},
   "outputs": [],
   "source": [
    "df_no_zero = df[df['num_zero_keypoints'] == 0]"
   ]
  },
  {
   "cell_type": "code",
   "execution_count": null,
   "metadata": {},
   "outputs": [],
   "source": [
    "df_no_zero['angle_vec'] = df_no_zero['keypoints'].apply(lambda x: get_angle_feature_vector(x))"
   ]
  },
  {
   "cell_type": "code",
   "execution_count": null,
   "metadata": {},
   "outputs": [],
   "source": [
    "# fill in keypoints that are 0 with the average of the index\n",
    "\n",
    "# 1. Calculate the average of each keypoint\n",
    "keypoint_vals = df.keypoints.values\n",
    "keypoint_vals = np.array([i for i in keypoint_vals])"
   ]
  },
  {
   "cell_type": "code",
   "execution_count": null,
   "metadata": {},
   "outputs": [],
   "source": [
    "# select first column x\n",
    "# array layout: [[[x1, y1, c1], [x2, y2, c2], ...], ...]\n",
    "\n",
    "x = keypoint_vals[:, :, 0]"
   ]
  },
  {
   "cell_type": "code",
   "execution_count": null,
   "metadata": {},
   "outputs": [],
   "source": [
    "# this will potentially run for a long time\n",
    "df_filtered = filter_poses(df_no_zero)"
   ]
  },
  {
   "cell_type": "code",
   "execution_count": null,
   "metadata": {},
   "outputs": [],
   "source": [
    "df.shape, df_filtered.shape"
   ]
  },
  {
   "cell_type": "code",
   "execution_count": null,
   "metadata": {},
   "outputs": [],
   "source": [
    "df_filtered.to_csv('poses_filtered.csv', index=False)"
   ]
  },
  {
   "cell_type": "code",
   "execution_count": null,
   "metadata": {},
   "outputs": [],
   "source": [
    "df_filtered = pd.read_csv('poses_filtered.csv')"
   ]
  },
  {
   "cell_type": "code",
   "execution_count": null,
   "metadata": {},
   "outputs": [],
   "source": [
    "def convert_string_to_array(array_str):\n",
    "    array_str = array_str.strip('[]')\n",
    "    array_elements = array_str.replace('\\n', ' ').split()\n",
    "    return [float(element) for element in array_elements]"
   ]
  },
  {
   "cell_type": "code",
   "execution_count": null,
   "metadata": {},
   "outputs": [],
   "source": [
    "df_filtered['angle_vec'] = df_filtered['angle_vec'].apply(convert_string_to_array)"
   ]
  },
  {
   "cell_type": "code",
   "execution_count": null,
   "metadata": {},
   "outputs": [],
   "source": [
    "# divide all the values by 180\n",
    "df_filtered['angle_vec'] = df_filtered['angle_vec'].apply(lambda x: [i / 180 for i in x])"
   ]
  },
  {
   "cell_type": "code",
   "execution_count": null,
   "metadata": {},
   "outputs": [],
   "source": [
    "df_filtered.shape"
   ]
  },
  {
   "cell_type": "code",
   "execution_count": null,
   "metadata": {},
   "outputs": [],
   "source": [
    "df = filter_poses(df_filtered)\n",
    "df.shape"
   ]
  },
  {
   "cell_type": "code",
   "execution_count": null,
   "metadata": {},
   "outputs": [],
   "source": [
    "df.to_csv('poses_filtered2.csv', index=False)"
   ]
  },
  {
   "cell_type": "code",
   "execution_count": null,
   "metadata": {},
   "outputs": [],
   "source": [
    "df = pd.read_csv('poses_filtered2.csv')"
   ]
  },
  {
   "cell_type": "code",
   "execution_count": null,
   "metadata": {},
   "outputs": [],
   "source": [
    "# df['angle_vec'] = df['angle_vec'].apply(convert_string_to_array)\n",
    "df['angle_vec'] = df['angle_vec'].apply(ast.literal_eval)\n"
   ]
  },
  {
   "cell_type": "code",
   "execution_count": null,
   "metadata": {},
   "outputs": [],
   "source": [
    "df['keypoints'] = df['keypoints'].apply(ast.literal_eval)\n"
   ]
  },
  {
   "cell_type": "code",
   "execution_count": null,
   "metadata": {},
   "outputs": [],
   "source": [
    "from emv.db.dao import DataAccessObject\n",
    "from sqlalchemy.sql import text"
   ]
  },
  {
   "cell_type": "code",
   "execution_count": null,
   "metadata": {},
   "outputs": [],
   "source": [
    "sports = []\n",
    "\n",
    "for i, row in df.iterrows():\n",
    "    query = text(\"\"\"SELECT * FROM media WHERE media_id = :media_id\"\"\")\n",
    "    res = DataAccessObject().fetch_all(query, {'media_id': row.media_id})\n",
    "    sports.append(res[0]['metadata']['sport'])"
   ]
  },
  {
   "cell_type": "code",
   "execution_count": null,
   "metadata": {},
   "outputs": [],
   "source": [
    "df['sport'] = sports"
   ]
  },
  {
   "cell_type": "code",
   "execution_count": null,
   "metadata": {},
   "outputs": [],
   "source": [
    "df = df[df['sport'] != 'Non-Sport']"
   ]
  },
  {
   "cell_type": "code",
   "execution_count": null,
   "metadata": {},
   "outputs": [],
   "source": [
    "data = np.array(df.angle_vec.values.tolist())"
   ]
  },
  {
   "cell_type": "code",
   "execution_count": null,
   "metadata": {},
   "outputs": [],
   "source": [
    "import umap\n",
    "\n",
    "reducer = umap.UMAP(\n",
    "    n_neighbors=10,      # Focus more on local structure\n",
    "    min_dist=0.05,       # Tighter packing of points\n",
    "    metric='cosine',     # Using cosine distance\n",
    "    spread=1.5           # More spread-out projection\n",
    ")\n",
    "embedding = reducer.fit_transform(data)"
   ]
  },
  {
   "cell_type": "code",
   "execution_count": null,
   "metadata": {},
   "outputs": [],
   "source": [
    "import altair as alt"
   ]
  },
  {
   "cell_type": "code",
   "execution_count": null,
   "metadata": {},
   "outputs": [],
   "source": [
    "alt.data_transformers.disable_max_rows()"
   ]
  },
  {
   "cell_type": "code",
   "execution_count": null,
   "metadata": {},
   "outputs": [],
   "source": [
    "# remove around 5k Tennis poses, keep a sample of 6k\n",
    "df_tennis = df[df['sport'] == 'Tennis']\n",
    "df_no_tennis = df[df['sport'] != 'Tennis']\n",
    "df_combined = pd.concat([df_tennis.sample(6000), df_no_tennis])"
   ]
  },
  {
   "cell_type": "code",
   "execution_count": null,
   "metadata": {},
   "outputs": [],
   "source": [
    "df_combined['x'] = embedding[:, 0]\n",
    "df_combined['y'] = embedding[:, 1]"
   ]
  },
  {
   "cell_type": "code",
   "execution_count": null,
   "metadata": {},
   "outputs": [],
   "source": [
    "alt.Chart(df).mark_point().encode(\n",
    "    x='x',\n",
    "    y='y',\n",
    "    color=alt.Color('sport', scale=alt.Scale(scheme='category20')),\n",
    "    tooltip=['sport']\n",
    ").properties(\n",
    "    width=800,\n",
    "    height=800\n",
    ").interactive()"
   ]
  },
  {
   "cell_type": "code",
   "execution_count": null,
   "metadata": {},
   "outputs": [],
   "source": [
    "# Run umap for a 3D plot\n",
    "reducer = umap.UMAP(n_components=3)\n",
    "data = np.array(df.angle_vec.values.tolist())\n",
    "embedding = reducer.fit_transform(data)"
   ]
  },
  {
   "cell_type": "code",
   "execution_count": null,
   "metadata": {},
   "outputs": [],
   "source": [
    "len(df_combined), len(df)"
   ]
  },
  {
   "cell_type": "code",
   "execution_count": null,
   "metadata": {},
   "outputs": [],
   "source": [
    "import plotly.express as px\n",
    "import plotly.graph_objects as go\n",
    "import seaborn as sns\n",
    "\n",
    "fig = go.Figure(data=[go.Scatter3d(\n",
    "    x=embedding[:, 0],\n",
    "    y=embedding[:, 1],\n",
    "    z=embedding[:, 2],\n",
    "    mode='markers',\n",
    "    marker=dict(\n",
    "        size=5,\n",
    "        color=df_combined['sport'].astype('category').cat.codes,\n",
    "        opacity=0.8\n",
    "    )\n",
    ")])\n",
    "\n",
    "# Hovertext\n",
    "fig.update_traces(\n",
    "    hoverinfo='text',\n",
    "    # text=[f\"Name: {ent[0]}<br>Category: {cat}\" for ent, cat in zip(df_per['data'].apply(lambda x: [ent for ent in x['entities'] if ent[0] in persons]), df_per.category)]\n",
    ")\n",
    "\n",
    "# tight layout\n",
    "fig.update_layout(margin=dict(l=0, r=0, b=0, t=0))\n",
    "\n",
    "fig.show()\n"
   ]
  },
  {
   "cell_type": "code",
   "execution_count": null,
   "metadata": {},
   "outputs": [],
   "source": [
    "# build the same, but on hover show a corresponding stick-man pose\n",
    "# separation in this case doesn't seem to be very good, need to check manually\n"
   ]
  },
  {
   "cell_type": "code",
   "execution_count": null,
   "metadata": {},
   "outputs": [],
   "source": [
    "from emv.api.models import Projection, MapProjectionFeatureCreate\n",
    "from emv.db.queries import create_projection, create_map_projection_feature, get_media_by_id, get_all_projections\n",
    "from emv.db.dao import DataAccessObject\n",
    "from sqlalchemy.sql import text"
   ]
  },
  {
   "cell_type": "code",
   "execution_count": null,
   "metadata": {},
   "outputs": [],
   "source": [
    "projections = get_all_projections()"
   ]
  },
  {
   "cell_type": "code",
   "execution_count": null,
   "metadata": {},
   "outputs": [],
   "source": [
    "projections"
   ]
  },
  {
   "cell_type": "code",
   "execution_count": null,
   "metadata": {},
   "outputs": [],
   "source": [
    "# go through the list to retrieve the dictionary where the model_name is openpifpaf_fast\n",
    "projection = [i for i in projections if i['model_name'] == 'openpifpaf_fast'][0]"
   ]
  },
  {
   "cell_type": "code",
   "execution_count": null,
   "metadata": {},
   "outputs": [],
   "source": [
    "projection['projection_id']"
   ]
  },
  {
   "cell_type": "code",
   "execution_count": null,
   "metadata": {},
   "outputs": [],
   "source": [
    "# TODO:  Create new features for the map projection: each pose image needs to have it's own feature and vector instead of just per clip\n"
   ]
  },
  {
   "cell_type": "code",
   "execution_count": null,
   "metadata": {},
   "outputs": [],
   "source": [
    "from emv.db.queries import get_feature_by_media_id_and_type, create_feature, update_feature\n",
    "from emv.api.models import Feature"
   ]
  },
  {
   "cell_type": "code",
   "execution_count": null,
   "metadata": {},
   "outputs": [],
   "source": [
    "df"
   ]
  },
  {
   "cell_type": "code",
   "execution_count": null,
   "metadata": {},
   "outputs": [],
   "source": [
    "added_features = {}"
   ]
  },
  {
   "cell_type": "code",
   "execution_count": null,
   "metadata": {},
   "outputs": [],
   "source": [
    "for i, row in df.iterrows():\n",
    "    print(row.media_id, row.frame_number, row.sport)\n",
    "    new_feature = Feature(\n",
    "        feature_type=\"pose_image\",\n",
    "        version=\"1\",\n",
    "        model_name='PifPafModel.fast',\n",
    "        model_params={\n",
    "            'PifPafModel': 'fast',        \n",
    "        },\n",
    "        data={\"frame\": row.frame_number, \n",
    "            \"keypoints\": row.keypoints,\n",
    "            \"sport\": row.sport,\n",
    "        },\n",
    "        media_id=row.media_id,\n",
    "    )\n",
    "    added_features[row.media_id] = new_feature\n",
    "\n",
    "    create_feature(new_feature)\n"
   ]
  },
  {
   "cell_type": "code",
   "execution_count": null,
   "metadata": {},
   "outputs": [],
   "source": [
    "query = text(\"SELECT media_id, feature_id FROM feature WHERE feature_type = 'pose_image'\")\n",
    "feature_ids = DataAccessObject().fetch_all(query)"
   ]
  },
  {
   "cell_type": "code",
   "execution_count": null,
   "metadata": {},
   "outputs": [],
   "source": [
    "len(added_features)"
   ]
  },
  {
   "cell_type": "code",
   "execution_count": null,
   "metadata": {},
   "outputs": [],
   "source": [
    "# [{'media_id': 'ioc-SEQ42757036', 'feature_id': 1320223}, ...\n",
    "# create a dictionary mapping media_id to feature_id\n",
    "media_to_feature = {i['media_id']: i['feature_id'] for i in feature_ids}"
   ]
  },
  {
   "cell_type": "code",
   "execution_count": null,
   "metadata": {},
   "outputs": [],
   "source": [
    "for i, row in df.iterrows():\n",
    "    print(i, row.media_id, row.frame_number, row.sport)\n",
    "    # break\n",
    "\n",
    "    \n",
    "\n",
    "    create_map_projection_feature(MapProjectionFeatureCreate(\n",
    "        projection_id=projection['projection_id'],\n",
    "        media_id=row.media_id,\n",
    "        atlas_order=-1,\n",
    "        index_in_atlas=-1,\n",
    "        coordinates=[embedding[i, 0], embedding[i, 1], embedding[i, 2]],\n",
    "        feature_id=media_to_feature[row.media_id]\n",
    "    ))"
   ]
  },
  {
   "cell_type": "code",
   "execution_count": null,
   "metadata": {},
   "outputs": [],
   "source": [
    "len(df), embedding.shape"
   ]
  },
  {
   "cell_type": "code",
   "execution_count": null,
   "metadata": {},
   "outputs": [],
   "source": [
    "for i in range(len(embedding)):\n",
    "    create_map_projection_feature(MapProjectionFeatureCreate(\n",
    "        projection_id=projection['projection_id'],\n",
    "        media_id=row.media_id,\n",
    "        atlas_order=i // max_tiles_per_atlas,\n",
    "        index_in_atlas=i % max_tiles_per_atlas,\n",
    "        coordinates=[embedding[i, 0], embedding[i, 1], embedding[i, 2]],\n",
    "        feature_id=feature_ids[i]\n",
    "    ))"
   ]
  }
 ],
 "metadata": {
  "kernelspec": {
   "display_name": "emv-bWoRmFur-py3.10",
   "language": "python",
   "name": "python3"
  },
  "language_info": {
   "codemirror_mode": {
    "name": "ipython",
    "version": 3
   },
   "file_extension": ".py",
   "mimetype": "text/x-python",
   "name": "python",
   "nbconvert_exporter": "python",
   "pygments_lexer": "ipython3",
   "version": "3.10.11"
  }
 },
 "nbformat": 4,
 "nbformat_minor": 2
}
