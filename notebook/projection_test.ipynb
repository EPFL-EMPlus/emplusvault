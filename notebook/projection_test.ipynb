{
 "cells": [
  {
   "cell_type": "code",
   "execution_count": 36,
   "metadata": {},
   "outputs": [
    {
     "name": "stdout",
     "output_type": "stream",
     "text": [
      "Collecting ipywidgets\n",
      "  Downloading ipywidgets-8.0.7-py3-none-any.whl (138 kB)\n",
      "\u001b[2K     \u001b[90m━━━━━━━━━━━━━━━━━━━━━━━━━━━━━━━━━━━━━━━\u001b[0m \u001b[32m138.3/138.3 kB\u001b[0m \u001b[31m4.4 MB/s\u001b[0m eta \u001b[36m0:00:00\u001b[0m\n",
      "\u001b[?25hRequirement already satisfied: ipykernel>=4.5.1 in /home/andre/.cache/pypoetry/virtualenvs/rts-bWoRmFur-py3.10/lib/python3.10/site-packages (from ipywidgets) (6.23.3)\n",
      "Requirement already satisfied: ipython>=6.1.0 in /home/andre/.cache/pypoetry/virtualenvs/rts-bWoRmFur-py3.10/lib/python3.10/site-packages (from ipywidgets) (8.14.0)\n",
      "Requirement already satisfied: traitlets>=4.3.1 in /home/andre/.cache/pypoetry/virtualenvs/rts-bWoRmFur-py3.10/lib/python3.10/site-packages (from ipywidgets) (5.9.0)\n",
      "Collecting widgetsnbextension~=4.0.7 (from ipywidgets)\n",
      "  Downloading widgetsnbextension-4.0.8-py3-none-any.whl (2.3 MB)\n",
      "\u001b[2K     \u001b[90m━━━━━━━━━━━━━━━━━━━━━━━━━━━━━━━━━━━━━━━━\u001b[0m \u001b[32m2.3/2.3 MB\u001b[0m \u001b[31m16.7 MB/s\u001b[0m eta \u001b[36m0:00:00\u001b[0ma \u001b[36m0:00:01\u001b[0m\n",
      "\u001b[?25hCollecting jupyterlab-widgets~=3.0.7 (from ipywidgets)\n",
      "  Downloading jupyterlab_widgets-3.0.8-py3-none-any.whl (214 kB)\n",
      "\u001b[2K     \u001b[90m━━━━━━━━━━━━━━━━━━━━━━━━━━━━━━━━━━━━━━\u001b[0m \u001b[32m215.0/215.0 kB\u001b[0m \u001b[31m22.4 MB/s\u001b[0m eta \u001b[36m0:00:00\u001b[0m\n",
      "\u001b[?25hRequirement already satisfied: comm>=0.1.1 in /home/andre/.cache/pypoetry/virtualenvs/rts-bWoRmFur-py3.10/lib/python3.10/site-packages (from ipykernel>=4.5.1->ipywidgets) (0.1.3)\n",
      "Requirement already satisfied: debugpy>=1.6.5 in /home/andre/.cache/pypoetry/virtualenvs/rts-bWoRmFur-py3.10/lib/python3.10/site-packages (from ipykernel>=4.5.1->ipywidgets) (1.6.7)\n",
      "Requirement already satisfied: jupyter-client>=6.1.12 in /home/andre/.cache/pypoetry/virtualenvs/rts-bWoRmFur-py3.10/lib/python3.10/site-packages (from ipykernel>=4.5.1->ipywidgets) (8.3.0)\n",
      "Requirement already satisfied: jupyter-core!=5.0.*,>=4.12 in /home/andre/.cache/pypoetry/virtualenvs/rts-bWoRmFur-py3.10/lib/python3.10/site-packages (from ipykernel>=4.5.1->ipywidgets) (5.3.1)\n",
      "Requirement already satisfied: matplotlib-inline>=0.1 in /home/andre/.cache/pypoetry/virtualenvs/rts-bWoRmFur-py3.10/lib/python3.10/site-packages (from ipykernel>=4.5.1->ipywidgets) (0.1.6)\n",
      "Requirement already satisfied: nest-asyncio in /home/andre/.cache/pypoetry/virtualenvs/rts-bWoRmFur-py3.10/lib/python3.10/site-packages (from ipykernel>=4.5.1->ipywidgets) (1.5.6)\n",
      "Requirement already satisfied: packaging in /home/andre/.cache/pypoetry/virtualenvs/rts-bWoRmFur-py3.10/lib/python3.10/site-packages (from ipykernel>=4.5.1->ipywidgets) (23.1)\n",
      "Requirement already satisfied: psutil in /home/andre/.cache/pypoetry/virtualenvs/rts-bWoRmFur-py3.10/lib/python3.10/site-packages (from ipykernel>=4.5.1->ipywidgets) (5.9.5)\n",
      "Requirement already satisfied: pyzmq>=20 in /home/andre/.cache/pypoetry/virtualenvs/rts-bWoRmFur-py3.10/lib/python3.10/site-packages (from ipykernel>=4.5.1->ipywidgets) (25.1.0)\n",
      "Requirement already satisfied: tornado>=6.1 in /home/andre/.cache/pypoetry/virtualenvs/rts-bWoRmFur-py3.10/lib/python3.10/site-packages (from ipykernel>=4.5.1->ipywidgets) (6.3.2)\n",
      "Requirement already satisfied: backcall in /home/andre/.cache/pypoetry/virtualenvs/rts-bWoRmFur-py3.10/lib/python3.10/site-packages (from ipython>=6.1.0->ipywidgets) (0.2.0)\n",
      "Requirement already satisfied: decorator in /home/andre/.cache/pypoetry/virtualenvs/rts-bWoRmFur-py3.10/lib/python3.10/site-packages (from ipython>=6.1.0->ipywidgets) (5.1.1)\n",
      "Requirement already satisfied: jedi>=0.16 in /home/andre/.cache/pypoetry/virtualenvs/rts-bWoRmFur-py3.10/lib/python3.10/site-packages (from ipython>=6.1.0->ipywidgets) (0.18.2)\n",
      "Requirement already satisfied: pickleshare in /home/andre/.cache/pypoetry/virtualenvs/rts-bWoRmFur-py3.10/lib/python3.10/site-packages (from ipython>=6.1.0->ipywidgets) (0.7.5)\n",
      "Requirement already satisfied: prompt-toolkit!=3.0.37,<3.1.0,>=3.0.30 in /home/andre/.cache/pypoetry/virtualenvs/rts-bWoRmFur-py3.10/lib/python3.10/site-packages (from ipython>=6.1.0->ipywidgets) (3.0.38)\n",
      "Requirement already satisfied: pygments>=2.4.0 in /home/andre/.cache/pypoetry/virtualenvs/rts-bWoRmFur-py3.10/lib/python3.10/site-packages (from ipython>=6.1.0->ipywidgets) (2.15.1)\n",
      "Requirement already satisfied: stack-data in /home/andre/.cache/pypoetry/virtualenvs/rts-bWoRmFur-py3.10/lib/python3.10/site-packages (from ipython>=6.1.0->ipywidgets) (0.6.2)\n",
      "Requirement already satisfied: pexpect>4.3 in /home/andre/.cache/pypoetry/virtualenvs/rts-bWoRmFur-py3.10/lib/python3.10/site-packages (from ipython>=6.1.0->ipywidgets) (4.8.0)\n",
      "Requirement already satisfied: parso<0.9.0,>=0.8.0 in /home/andre/.cache/pypoetry/virtualenvs/rts-bWoRmFur-py3.10/lib/python3.10/site-packages (from jedi>=0.16->ipython>=6.1.0->ipywidgets) (0.8.3)\n",
      "Requirement already satisfied: python-dateutil>=2.8.2 in /home/andre/.cache/pypoetry/virtualenvs/rts-bWoRmFur-py3.10/lib/python3.10/site-packages (from jupyter-client>=6.1.12->ipykernel>=4.5.1->ipywidgets) (2.8.2)\n",
      "Requirement already satisfied: platformdirs>=2.5 in /home/andre/.cache/pypoetry/virtualenvs/rts-bWoRmFur-py3.10/lib/python3.10/site-packages (from jupyter-core!=5.0.*,>=4.12->ipykernel>=4.5.1->ipywidgets) (3.8.0)\n",
      "Requirement already satisfied: ptyprocess>=0.5 in /home/andre/.cache/pypoetry/virtualenvs/rts-bWoRmFur-py3.10/lib/python3.10/site-packages (from pexpect>4.3->ipython>=6.1.0->ipywidgets) (0.7.0)\n",
      "Requirement already satisfied: wcwidth in /home/andre/.cache/pypoetry/virtualenvs/rts-bWoRmFur-py3.10/lib/python3.10/site-packages (from prompt-toolkit!=3.0.37,<3.1.0,>=3.0.30->ipython>=6.1.0->ipywidgets) (0.2.6)\n",
      "Requirement already satisfied: executing>=1.2.0 in /home/andre/.cache/pypoetry/virtualenvs/rts-bWoRmFur-py3.10/lib/python3.10/site-packages (from stack-data->ipython>=6.1.0->ipywidgets) (1.2.0)\n",
      "Requirement already satisfied: asttokens>=2.1.0 in /home/andre/.cache/pypoetry/virtualenvs/rts-bWoRmFur-py3.10/lib/python3.10/site-packages (from stack-data->ipython>=6.1.0->ipywidgets) (2.2.1)\n",
      "Requirement already satisfied: pure-eval in /home/andre/.cache/pypoetry/virtualenvs/rts-bWoRmFur-py3.10/lib/python3.10/site-packages (from stack-data->ipython>=6.1.0->ipywidgets) (0.2.2)\n",
      "Requirement already satisfied: six in /home/andre/.cache/pypoetry/virtualenvs/rts-bWoRmFur-py3.10/lib/python3.10/site-packages (from asttokens>=2.1.0->stack-data->ipython>=6.1.0->ipywidgets) (1.16.0)\n",
      "Installing collected packages: widgetsnbextension, jupyterlab-widgets, ipywidgets\n",
      "Successfully installed ipywidgets-8.0.7 jupyterlab-widgets-3.0.8 widgetsnbextension-4.0.8\n",
      "\n",
      "\u001b[1m[\u001b[0m\u001b[34;49mnotice\u001b[0m\u001b[1;39;49m]\u001b[0m\u001b[39;49m A new release of pip is available: \u001b[0m\u001b[31;49m23.1\u001b[0m\u001b[39;49m -> \u001b[0m\u001b[32;49m23.1.2\u001b[0m\n",
      "\u001b[1m[\u001b[0m\u001b[34;49mnotice\u001b[0m\u001b[1;39;49m]\u001b[0m\u001b[39;49m To update, run: \u001b[0m\u001b[32;49mpip install --upgrade pip\u001b[0m\n"
     ]
    }
   ],
   "source": [
    "! pip install ipywidgets"
   ]
  },
  {
   "cell_type": "code",
   "execution_count": 48,
   "metadata": {},
   "outputs": [
    {
     "name": "stdout",
     "output_type": "stream",
     "text": [
      "/home/andre\n",
      "The autoreload extension is already loaded. To reload it, use:\n",
      "  %reload_ext autoreload\n"
     ]
    }
   ],
   "source": [
    "%cd ..\n",
    "%load_ext autoreload\n",
    "%autoreload 2\n",
    "\n",
    "REMOTE_RTS_DATA = \"/media/sinergia/RTS/\"\n",
    "REMOTE_VIDEOS = '/mnt/rts/'\n",
    "\n",
    "LOCAL_RTS_DATA = \"/media/data/rts/\"\n",
    "METADATA = LOCAL_RTS_DATA + 'metadata'\n",
    "LOCAL_VIDEOS = LOCAL_RTS_DATA + 'archive/'\n",
    "\n",
    "AIBOX = LOCAL_RTS_DATA + 'aibox-vectors'\n",
    "\n",
    "OUTDIR = 'data'"
   ]
  },
  {
   "cell_type": "code",
   "execution_count": 2,
   "metadata": {},
   "outputs": [],
   "source": [
    "from datetime import datetime\n",
    "import orjson\n",
    "import pandas as pd\n",
    "import zipfile\n",
    "import os\n",
    "import io\n",
    "from typing import Dict, List, Optional, Tuple\n",
    "from pathlib import Path\n",
    "import json"
   ]
  },
  {
   "cell_type": "code",
   "execution_count": 3,
   "metadata": {},
   "outputs": [],
   "source": [
    "# LOCAL imports\n",
    "import rts\n",
    "import rts.utils\n",
    "import rts.io.media\n",
    "\n",
    "\n",
    "LOG = rts.utils.get_logger()"
   ]
  },
  {
   "cell_type": "code",
   "execution_count": 4,
   "metadata": {},
   "outputs": [],
   "source": [
    "df = rts.utils.dataframe_from_hdf5(LOCAL_RTS_DATA + '/metadata', 'rts_aivectors')"
   ]
  },
  {
   "cell_type": "code",
   "execution_count": 5,
   "metadata": {},
   "outputs": [],
   "source": [
    "with open(\"/home/andre/rts/data/rts_sports_categories_umap.json\", \"r\") as f:\n",
    "    data = json.load(f)"
   ]
  },
  {
   "cell_type": "code",
   "execution_count": 6,
   "metadata": {},
   "outputs": [
    {
     "data": {
      "text/html": [
       "<div>\n",
       "<style scoped>\n",
       "    .dataframe tbody tr th:only-of-type {\n",
       "        vertical-align: middle;\n",
       "    }\n",
       "\n",
       "    .dataframe tbody tr th {\n",
       "        vertical-align: top;\n",
       "    }\n",
       "\n",
       "    .dataframe thead th {\n",
       "        text-align: right;\n",
       "    }\n",
       "</style>\n",
       "<table border=\"1\" class=\"dataframe\">\n",
       "  <thead>\n",
       "    <tr style=\"text-align: right;\">\n",
       "      <th></th>\n",
       "      <th>id_result</th>\n",
       "      <th>umid</th>\n",
       "      <th>path</th>\n",
       "      <th>sport</th>\n",
       "      <th>scenes_tc</th>\n",
       "      <th>embedding_coord</th>\n",
       "    </tr>\n",
       "  </thead>\n",
       "  <tbody>\n",
       "    <tr>\n",
       "      <th>0</th>\n",
       "      <td>47be596638b646dabcec3a7ba9510be8</td>\n",
       "      <td>ZB005015</td>\n",
       "      <td>R:/aibox-vectors/videos/8/e/b/47be596638b646da...</td>\n",
       "      <td>Résultats et magazines sportifs</td>\n",
       "      <td>[0, 15]</td>\n",
       "      <td>[0.42291563749313354, 0.7124888300895691, 0.99...</td>\n",
       "    </tr>\n",
       "    <tr>\n",
       "      <th>1</th>\n",
       "      <td>47be596638b646dabcec3a7ba9510be8</td>\n",
       "      <td>ZB005015</td>\n",
       "      <td>R:/aibox-vectors/videos/8/e/b/47be596638b646da...</td>\n",
       "      <td>Résultats et magazines sportifs</td>\n",
       "      <td>[16, 31]</td>\n",
       "      <td>[0.42267531156539917, 0.7122476100921631, 0.99...</td>\n",
       "    </tr>\n",
       "    <tr>\n",
       "      <th>2</th>\n",
       "      <td>47be596638b646dabcec3a7ba9510be8</td>\n",
       "      <td>ZB005015</td>\n",
       "      <td>R:/aibox-vectors/videos/8/e/b/47be596638b646da...</td>\n",
       "      <td>Résultats et magazines sportifs</td>\n",
       "      <td>[32, 47]</td>\n",
       "      <td>[0.42248374223709106, 0.7122003436088562, 0.99...</td>\n",
       "    </tr>\n",
       "    <tr>\n",
       "      <th>3</th>\n",
       "      <td>47be596638b646dabcec3a7ba9510be8</td>\n",
       "      <td>ZB005015</td>\n",
       "      <td>R:/aibox-vectors/videos/8/e/b/47be596638b646da...</td>\n",
       "      <td>Résultats et magazines sportifs</td>\n",
       "      <td>[48, 63]</td>\n",
       "      <td>[0.4229308068752289, 0.7124335765838623, 0.998...</td>\n",
       "    </tr>\n",
       "    <tr>\n",
       "      <th>4</th>\n",
       "      <td>47be596638b646dabcec3a7ba9510be8</td>\n",
       "      <td>ZB005015</td>\n",
       "      <td>R:/aibox-vectors/videos/8/e/b/47be596638b646da...</td>\n",
       "      <td>Résultats et magazines sportifs</td>\n",
       "      <td>[64, 79]</td>\n",
       "      <td>[0.42289605736732483, 0.712624192237854, 0.997...</td>\n",
       "    </tr>\n",
       "  </tbody>\n",
       "</table>\n",
       "</div>"
      ],
      "text/plain": [
       "                          id_result      umid  \\\n",
       "0  47be596638b646dabcec3a7ba9510be8  ZB005015   \n",
       "1  47be596638b646dabcec3a7ba9510be8  ZB005015   \n",
       "2  47be596638b646dabcec3a7ba9510be8  ZB005015   \n",
       "3  47be596638b646dabcec3a7ba9510be8  ZB005015   \n",
       "4  47be596638b646dabcec3a7ba9510be8  ZB005015   \n",
       "\n",
       "                                                path  \\\n",
       "0  R:/aibox-vectors/videos/8/e/b/47be596638b646da...   \n",
       "1  R:/aibox-vectors/videos/8/e/b/47be596638b646da...   \n",
       "2  R:/aibox-vectors/videos/8/e/b/47be596638b646da...   \n",
       "3  R:/aibox-vectors/videos/8/e/b/47be596638b646da...   \n",
       "4  R:/aibox-vectors/videos/8/e/b/47be596638b646da...   \n",
       "\n",
       "                             sport scenes_tc  \\\n",
       "0  Résultats et magazines sportifs   [0, 15]   \n",
       "1  Résultats et magazines sportifs  [16, 31]   \n",
       "2  Résultats et magazines sportifs  [32, 47]   \n",
       "3  Résultats et magazines sportifs  [48, 63]   \n",
       "4  Résultats et magazines sportifs  [64, 79]   \n",
       "\n",
       "                                     embedding_coord  \n",
       "0  [0.42291563749313354, 0.7124888300895691, 0.99...  \n",
       "1  [0.42267531156539917, 0.7122476100921631, 0.99...  \n",
       "2  [0.42248374223709106, 0.7122003436088562, 0.99...  \n",
       "3  [0.4229308068752289, 0.7124335765838623, 0.998...  \n",
       "4  [0.42289605736732483, 0.712624192237854, 0.997...  "
      ]
     },
     "execution_count": 6,
     "metadata": {},
     "output_type": "execute_result"
    }
   ],
   "source": [
    "df_emb = pd.DataFrame(data['embedding'])\n",
    "df_emb.head()"
   ]
  },
  {
   "cell_type": "code",
   "execution_count": 7,
   "metadata": {},
   "outputs": [
    {
     "data": {
      "text/html": [
       "<div>\n",
       "<style scoped>\n",
       "    .dataframe tbody tr th:only-of-type {\n",
       "        vertical-align: middle;\n",
       "    }\n",
       "\n",
       "    .dataframe tbody tr th {\n",
       "        vertical-align: top;\n",
       "    }\n",
       "\n",
       "    .dataframe thead th {\n",
       "        text-align: right;\n",
       "    }\n",
       "</style>\n",
       "<table border=\"1\" class=\"dataframe\">\n",
       "  <thead>\n",
       "    <tr style=\"text-align: right;\">\n",
       "      <th></th>\n",
       "      <th>id_result</th>\n",
       "      <th>umid</th>\n",
       "      <th>path</th>\n",
       "      <th>sport</th>\n",
       "      <th>scenes_tc</th>\n",
       "      <th>embedding_coord</th>\n",
       "    </tr>\n",
       "  </thead>\n",
       "  <tbody>\n",
       "    <tr>\n",
       "      <th>0</th>\n",
       "      <td>47be596638b646dabcec3a7ba9510be8</td>\n",
       "      <td>ZB005015</td>\n",
       "      <td>R:/aibox-vectors/videos/8/e/b/47be596638b646da...</td>\n",
       "      <td>Résultats et magazines sportifs</td>\n",
       "      <td>[0, 15]</td>\n",
       "      <td>[0.42291563749313354, 0.7124888300895691, 0.99...</td>\n",
       "    </tr>\n",
       "    <tr>\n",
       "      <th>1</th>\n",
       "      <td>47be596638b646dabcec3a7ba9510be8</td>\n",
       "      <td>ZB005015</td>\n",
       "      <td>R:/aibox-vectors/videos/8/e/b/47be596638b646da...</td>\n",
       "      <td>Résultats et magazines sportifs</td>\n",
       "      <td>[16, 31]</td>\n",
       "      <td>[0.42267531156539917, 0.7122476100921631, 0.99...</td>\n",
       "    </tr>\n",
       "    <tr>\n",
       "      <th>2</th>\n",
       "      <td>47be596638b646dabcec3a7ba9510be8</td>\n",
       "      <td>ZB005015</td>\n",
       "      <td>R:/aibox-vectors/videos/8/e/b/47be596638b646da...</td>\n",
       "      <td>Résultats et magazines sportifs</td>\n",
       "      <td>[32, 47]</td>\n",
       "      <td>[0.42248374223709106, 0.7122003436088562, 0.99...</td>\n",
       "    </tr>\n",
       "    <tr>\n",
       "      <th>3</th>\n",
       "      <td>47be596638b646dabcec3a7ba9510be8</td>\n",
       "      <td>ZB005015</td>\n",
       "      <td>R:/aibox-vectors/videos/8/e/b/47be596638b646da...</td>\n",
       "      <td>Résultats et magazines sportifs</td>\n",
       "      <td>[48, 63]</td>\n",
       "      <td>[0.4229308068752289, 0.7124335765838623, 0.998...</td>\n",
       "    </tr>\n",
       "    <tr>\n",
       "      <th>4</th>\n",
       "      <td>47be596638b646dabcec3a7ba9510be8</td>\n",
       "      <td>ZB005015</td>\n",
       "      <td>R:/aibox-vectors/videos/8/e/b/47be596638b646da...</td>\n",
       "      <td>Résultats et magazines sportifs</td>\n",
       "      <td>[64, 79]</td>\n",
       "      <td>[0.42289605736732483, 0.712624192237854, 0.997...</td>\n",
       "    </tr>\n",
       "    <tr>\n",
       "      <th>...</th>\n",
       "      <td>...</td>\n",
       "      <td>...</td>\n",
       "      <td>...</td>\n",
       "      <td>...</td>\n",
       "      <td>...</td>\n",
       "      <td>...</td>\n",
       "    </tr>\n",
       "    <tr>\n",
       "      <th>396</th>\n",
       "      <td>47be596638b646dabcec3a7ba9510be8</td>\n",
       "      <td>ZB005015</td>\n",
       "      <td>R:/aibox-vectors/videos/8/e/b/47be596638b646da...</td>\n",
       "      <td>Résultats et magazines sportifs</td>\n",
       "      <td>[3184, 3193]</td>\n",
       "      <td>[0.3959805369377136, 0.5536730289459229, 0.362...</td>\n",
       "    </tr>\n",
       "    <tr>\n",
       "      <th>397</th>\n",
       "      <td>47be596638b646dabcec3a7ba9510be8</td>\n",
       "      <td>ZB005015</td>\n",
       "      <td>R:/aibox-vectors/videos/8/e/b/47be596638b646da...</td>\n",
       "      <td>Résultats et magazines sportifs</td>\n",
       "      <td>[3194, 3197]</td>\n",
       "      <td>[0.42643970251083374, 0.5627828240394592, 0.36...</td>\n",
       "    </tr>\n",
       "    <tr>\n",
       "      <th>398</th>\n",
       "      <td>47be596638b646dabcec3a7ba9510be8</td>\n",
       "      <td>ZB005015</td>\n",
       "      <td>R:/aibox-vectors/videos/8/e/b/47be596638b646da...</td>\n",
       "      <td>Résultats et magazines sportifs</td>\n",
       "      <td>[3198, 3198]</td>\n",
       "      <td>[0.3702424466609955, 0.6820469498634338, 0.408...</td>\n",
       "    </tr>\n",
       "    <tr>\n",
       "      <th>399</th>\n",
       "      <td>47be596638b646dabcec3a7ba9510be8</td>\n",
       "      <td>ZB005015</td>\n",
       "      <td>R:/aibox-vectors/videos/8/e/b/47be596638b646da...</td>\n",
       "      <td>Résultats et magazines sportifs</td>\n",
       "      <td>[3199, 3205]</td>\n",
       "      <td>[0.3725535571575165, 0.5709545016288757, 0.416...</td>\n",
       "    </tr>\n",
       "    <tr>\n",
       "      <th>400</th>\n",
       "      <td>47be596638b646dabcec3a7ba9510be8</td>\n",
       "      <td>ZB005015</td>\n",
       "      <td>R:/aibox-vectors/videos/8/e/b/47be596638b646da...</td>\n",
       "      <td>Résultats et magazines sportifs</td>\n",
       "      <td>[3206, 3220]</td>\n",
       "      <td>[0.35028138756752014, 0.5785505771636963, 0.39...</td>\n",
       "    </tr>\n",
       "  </tbody>\n",
       "</table>\n",
       "<p>401 rows × 6 columns</p>\n",
       "</div>"
      ],
      "text/plain": [
       "                            id_result      umid  \\\n",
       "0    47be596638b646dabcec3a7ba9510be8  ZB005015   \n",
       "1    47be596638b646dabcec3a7ba9510be8  ZB005015   \n",
       "2    47be596638b646dabcec3a7ba9510be8  ZB005015   \n",
       "3    47be596638b646dabcec3a7ba9510be8  ZB005015   \n",
       "4    47be596638b646dabcec3a7ba9510be8  ZB005015   \n",
       "..                                ...       ...   \n",
       "396  47be596638b646dabcec3a7ba9510be8  ZB005015   \n",
       "397  47be596638b646dabcec3a7ba9510be8  ZB005015   \n",
       "398  47be596638b646dabcec3a7ba9510be8  ZB005015   \n",
       "399  47be596638b646dabcec3a7ba9510be8  ZB005015   \n",
       "400  47be596638b646dabcec3a7ba9510be8  ZB005015   \n",
       "\n",
       "                                                  path  \\\n",
       "0    R:/aibox-vectors/videos/8/e/b/47be596638b646da...   \n",
       "1    R:/aibox-vectors/videos/8/e/b/47be596638b646da...   \n",
       "2    R:/aibox-vectors/videos/8/e/b/47be596638b646da...   \n",
       "3    R:/aibox-vectors/videos/8/e/b/47be596638b646da...   \n",
       "4    R:/aibox-vectors/videos/8/e/b/47be596638b646da...   \n",
       "..                                                 ...   \n",
       "396  R:/aibox-vectors/videos/8/e/b/47be596638b646da...   \n",
       "397  R:/aibox-vectors/videos/8/e/b/47be596638b646da...   \n",
       "398  R:/aibox-vectors/videos/8/e/b/47be596638b646da...   \n",
       "399  R:/aibox-vectors/videos/8/e/b/47be596638b646da...   \n",
       "400  R:/aibox-vectors/videos/8/e/b/47be596638b646da...   \n",
       "\n",
       "                               sport     scenes_tc  \\\n",
       "0    Résultats et magazines sportifs       [0, 15]   \n",
       "1    Résultats et magazines sportifs      [16, 31]   \n",
       "2    Résultats et magazines sportifs      [32, 47]   \n",
       "3    Résultats et magazines sportifs      [48, 63]   \n",
       "4    Résultats et magazines sportifs      [64, 79]   \n",
       "..                               ...           ...   \n",
       "396  Résultats et magazines sportifs  [3184, 3193]   \n",
       "397  Résultats et magazines sportifs  [3194, 3197]   \n",
       "398  Résultats et magazines sportifs  [3198, 3198]   \n",
       "399  Résultats et magazines sportifs  [3199, 3205]   \n",
       "400  Résultats et magazines sportifs  [3206, 3220]   \n",
       "\n",
       "                                       embedding_coord  \n",
       "0    [0.42291563749313354, 0.7124888300895691, 0.99...  \n",
       "1    [0.42267531156539917, 0.7122476100921631, 0.99...  \n",
       "2    [0.42248374223709106, 0.7122003436088562, 0.99...  \n",
       "3    [0.4229308068752289, 0.7124335765838623, 0.998...  \n",
       "4    [0.42289605736732483, 0.712624192237854, 0.997...  \n",
       "..                                                 ...  \n",
       "396  [0.3959805369377136, 0.5536730289459229, 0.362...  \n",
       "397  [0.42643970251083374, 0.5627828240394592, 0.36...  \n",
       "398  [0.3702424466609955, 0.6820469498634338, 0.408...  \n",
       "399  [0.3725535571575165, 0.5709545016288757, 0.416...  \n",
       "400  [0.35028138756752014, 0.5785505771636963, 0.39...  \n",
       "\n",
       "[401 rows x 6 columns]"
      ]
     },
     "execution_count": 7,
     "metadata": {},
     "output_type": "execute_result"
    }
   ],
   "source": [
    "\n",
    "df_emb[df_emb.umid == \"ZB005015\"]"
   ]
  },
  {
   "cell_type": "code",
   "execution_count": 8,
   "metadata": {},
   "outputs": [
    {
     "data": {
      "text/plain": [
       "427"
      ]
     },
     "execution_count": 8,
     "metadata": {},
     "output_type": "execute_result"
    }
   ],
   "source": [
    "# Sanity check if we can find all videos\n",
    "\n",
    "count = 0\n",
    "\n",
    "for umid in df_emb.umid.unique():\n",
    "    media_path = LOCAL_VIDEOS + \"/\" + df.loc[umid].mediaFolderPath.split(\"/mnt/rts/\")[1] + \"/\" + umid + \".mp4\"\n",
    "    # print(media_path)\n",
    "    if os.path.isfile(media_path):\n",
    "        count += 1\n",
    "count"
   ]
  },
  {
   "cell_type": "code",
   "execution_count": 9,
   "metadata": {},
   "outputs": [
    {
     "data": {
      "text/plain": [
       "guid                                                     GE0403178015\n",
       "mediaFolderPath                               /mnt/rts/5/1/0/ZB005015\n",
       "mediaDuration                                                    3103\n",
       "ratio                                                             4:3\n",
       "formatResolution                                                   SD\n",
       "publishedDate                                    2004-04-04T00:00:00Z\n",
       "categoryName                                                Programme\n",
       "assetType                                                   Programme\n",
       "contentType                           Résultats et magazines sportifs\n",
       "backgoundType                                              [EMISSION]\n",
       "collection                                             Dimanche Sport\n",
       "publishedBy                                                     TSR 1\n",
       "rights                                          Restriction/Condition\n",
       "title                                                        04.04.04\n",
       "resume                                                           None\n",
       "geoTheme                                                         None\n",
       "resumeSequence      [DUPLEX LAUSANNE :\\r\\nROSSET, Marc, capitaine ...\n",
       "created                                                    1670505348\n",
       "published                                                  1081036800\n",
       "sequences           {'815067': {'guid': 'GE0403178015', 'mediaId':...\n",
       "aivector_id                          47be596638b646dabcec3a7ba9510be8\n",
       "aivector_path                  8/e/b/47be596638b646dabcec3a7ba9510be8\n",
       "Name: ZB005015, dtype: object"
      ]
     },
     "execution_count": 9,
     "metadata": {},
     "output_type": "execute_result"
    }
   ],
   "source": [
    "df.loc['ZB005015']"
   ]
  },
  {
   "cell_type": "code",
   "execution_count": 10,
   "metadata": {},
   "outputs": [],
   "source": [
    "def calculate_difference(row):\n",
    "    return row['scenes_tc'][1] - row['scenes_tc'][0]\n",
    "\n",
    "df_emb['difference'] = df_emb.apply(calculate_difference, axis=1)"
   ]
  },
  {
   "cell_type": "code",
   "execution_count": 11,
   "metadata": {},
   "outputs": [
    {
     "data": {
      "text/plain": [
       "<Axes: >"
      ]
     },
     "execution_count": 11,
     "metadata": {},
     "output_type": "execute_result"
    },
    {
     "data": {
      "image/png": "[encoded data removed]",
      "text/plain": [
       "<Figure size 640x480 with 1 Axes>"
      ]
     },
     "metadata": {},
     "output_type": "display_data"
    }
   ],
   "source": [
    "df_emb.difference.hist(bins=16)"
   ]
  },
  {
   "cell_type": "code",
   "execution_count": 12,
   "metadata": {},
   "outputs": [],
   "source": [
    "from tqdm.notebook import trange, tqdm"
   ]
  },
  {
   "cell_type": "code",
   "execution_count": 64,
   "metadata": {},
   "outputs": [],
   "source": [
    "import ffmpeg\n",
    "from io import BytesIO\n",
    "from typing import Union, List, Tuple\n",
    "from pathlib import Path\n",
    "\n",
    "\n",
    "\n",
    "\n",
    "def get_frame_rate(input_path: Union[str, Path]) -> float:\n",
    "    probe = ffmpeg.probe(str(input_path))\n",
    "    video_stream = next((stream for stream in probe['streams'] if stream['codec_type'] == 'video'), None)\n",
    "    if video_stream is None:\n",
    "        return None\n",
    "    \n",
    "    r_frame_rate = video_stream['r_frame_rate']\n",
    "    num, den = map(int, r_frame_rate.split('/'))\n",
    "    return num / den\n",
    "\n",
    "\n",
    "def get_number_of_frames(input_path: Union[str, Path]) -> int:\n",
    "    probe = ffmpeg.probe(str(input_path))\n",
    "    video_stream = next((stream for stream in probe['streams'] if stream['codec_type'] == 'video'), None)\n",
    "    if video_stream is None:\n",
    "        return None\n",
    "    \n",
    "    return int(video_stream['nb_frames'])\n"
   ]
  },
  {
   "cell_type": "code",
   "execution_count": 65,
   "metadata": {},
   "outputs": [],
   "source": [
    "\n",
    "def trim(input_path: Union[str, Path], timestamps: List[Tuple[float, float]]) -> List[BytesIO]:\n",
    "    buffers = []\n",
    "    try:\n",
    "        # frame_rate = get_frame_rate(input_path)\n",
    "        # number_of_frames = get_number_of_frames(input_path)\n",
    "        \n",
    "        # print(f\"Frame rate: {frame_rate} frames per second\")\n",
    "        # print(f\"Total number of frames: {number_of_frames}\")\n",
    "\n",
    "        for start_ts, end_ts in tqdm(timestamps):\n",
    "            # start = datetime.now()\n",
    "            out, _ = (\n",
    "                ffmpeg\n",
    "                .input(str(input_path), ss=start_ts)\n",
    "                .output(\n",
    "                    \"pipe:1\", \n",
    "                    format='mp4', \n",
    "                    vcodec='libx264', \n",
    "                    acodec='aac', \n",
    "                    ab='128k',\n",
    "                    t=end_ts - start_ts,\n",
    "                    strict='experimental', \n",
    "                    movflags='faststart+frag_keyframe+empty_moov'\n",
    "                )\n",
    "                .run(capture_stdout=True, capture_stderr=True)\n",
    "            )\n",
    "            # end = datetime.now()\n",
    "            # print(f'FFmpeg took {(end - start).total_seconds()} seconds to trim {i + 1} of {len(timestamps)}')\n",
    "            \n",
    "            buffers.append(BytesIO(out))\n",
    "\n",
    "    except ffmpeg.Error as e:\n",
    "        print(f'FFmpeg Error: {e.stderr.decode()}')\n",
    "    \n",
    "    return buffers"
   ]
  },
  {
   "cell_type": "code",
   "execution_count": 94,
   "metadata": {},
   "outputs": [],
   "source": [
    "from rts.db.dao import DataAccessObject\n",
    "from rts.db_settings import DATABASE_URL\n",
    "from rts.db.queries import get_library_id_from_name, read_media_by_source_media_id\n",
    "from rts.io.media import upload_media_files\n",
    "from rts.api.models import Media\n",
    "import os\n",
    "import hashlib\n",
    "from rts.db_settings import BUCKET_NAME\n",
    "from rts.db.queries import create_atlas, create_media, create_projection, read_media\n",
    "from rts.storage.storage import get_storage_client\n",
    "from rts.api.models import Atlas, Media, Projection\n",
    "import pandas as pd\n",
    "from dotenv import load_dotenv\n",
    "\n",
    "from sqlalchemy.exc import IntegrityError\n",
    "import logging\n",
    "\n",
    "logging.basicConfig(level=logging.INFO)\n",
    "\n",
    "load_dotenv()\n",
    "DataAccessObject().connect(DATABASE_URL)"
   ]
  },
  {
   "cell_type": "code",
   "execution_count": 61,
   "metadata": {},
   "outputs": [
    {
     "data": {
      "text/plain": [
       "1"
      ]
     },
     "execution_count": 61,
     "metadata": {},
     "output_type": "execute_result"
    }
   ],
   "source": [
    "# Setup before we can create media objects\n",
    "archive_name =  \"rts\"\n",
    "bucket_name =  archive_name\n",
    "library_id =  get_library_id_from_name(archive_name)\n",
    "library_id"
   ]
  },
  {
   "cell_type": "code",
   "execution_count": 79,
   "metadata": {},
   "outputs": [],
   "source": [
    "\n",
    "def trim(input_path: Union[str, Path], start_ts: int, end_ts: int) -> BytesIO:\n",
    "    try:\n",
    "        out, _ = (\n",
    "            ffmpeg\n",
    "            .input(str(input_path), ss=start_ts)\n",
    "            .output(\n",
    "                \"pipe:1\", \n",
    "                format='mp4', \n",
    "                vcodec='libx264', \n",
    "                acodec='aac', \n",
    "                ab='128k',\n",
    "                t=end_ts - start_ts,\n",
    "                strict='experimental', \n",
    "                movflags='faststart+frag_keyframe+empty_moov'\n",
    "            )\n",
    "            .run(capture_stdout=True, capture_stderr=True)\n",
    "        )\n",
    "        \n",
    "    except ffmpeg.Error as e:\n",
    "        print(f'FFmpeg Error: {e.stderr.decode()}')\n",
    "    \n",
    "    return BytesIO(out)"
   ]
  },
  {
   "cell_type": "code",
   "execution_count": 75,
   "metadata": {},
   "outputs": [],
   "source": [
    "frame_rates = {}\n",
    "clips = {}\n",
    "media_ids = {}\n",
    "\n",
    "for i, row in df_emb.iterrows():\n",
    "\n",
    "    media_id = row.umid + \"GA\" + str(i).zfill(5)\n",
    "    original_path = os.path.join(df.loc[row.umid].mediaFolderPath.replace(REMOTE_VIDEOS, LOCAL_VIDEOS), f\"{row.umid}.mp4\")\n",
    "    media_path = f\"videos/{row.umid}/{media_id}.mp4\"\n",
    "    \n",
    "    if frame_rates.get(original_path) is None:\n",
    "        frame_rates[original_path] = get_frame_rate(original_path)\n",
    "\n",
    "    metadata = {\n",
    "        'sport': row.sport,\n",
    "        'collection': df.loc[row.umid].collection,\n",
    "        'published_by': df.loc[row.umid].publishedBy,\n",
    "        'published_date': df.loc[row.umid].publishedDate,\n",
    "    }\n",
    "\n",
    "    media_ids[media_id] = row\n",
    "    \n",
    "    clips[media_id] = Media(**{\n",
    "        'media_id': media_id,\n",
    "        'original_path': original_path,\n",
    "        'original_id': row.umid,\n",
    "        'media_path': media_path, \n",
    "        'media_type': \"video\",\n",
    "        'sub_type': \"clip\", \n",
    "        'size': -1, # write size later when we process the clips \n",
    "        'metadata': metadata,\n",
    "        'library_id': library_id, \n",
    "        'hash': hashlib.md5(media_path.encode()).hexdigest(), \n",
    "        'parent_id': -1,\n",
    "        'start_ts': row.scenes_tc[0], 'end_ts': row.scenes_tc[0], \n",
    "        'start_frame': row.scenes_tc[0] * frame_rates[original_path], 'end_frame': row.scenes_tc[0] * frame_rates[original_path], 'frame_rate': frame_rates[original_path], \n",
    "    })"
   ]
  },
  {
   "cell_type": "code",
   "execution_count": 97,
   "metadata": {},
   "outputs": [
    {
     "name": "stdout",
     "output_type": "stream",
     "text": [
      "ZB005015GA00000 0 15\n",
      "{'media_id': 'ZB005015GA00000', 'media_path': 'videos/ZB005015/ZB005015GA00000.mp4', 'original_path': '/media/data/rts/archive/5/1/0/ZB005015/ZB005015.mp4', 'original_id': 'ZB005015', 'created_at': None, 'media_type': 'video', 'sub_type': 'clip', 'size': 708195, 'metadata': {'sport': 'Résultats et magazines sportifs', 'collection': 'Dimanche Sport', 'published_by': 'TSR 1', 'published_date': '2004-04-04T00:00:00Z'}, 'library_id': 1, 'hash': '6987eca9b63ae6bc3ffff64ba1e1253a', 'parent_id': '-1', 'start_ts': 0.0, 'end_ts': 0.0, 'start_frame': 0, 'end_frame': 0, 'frame_rate': 25.0}\n",
      "INFO:root:UniqueViolation: Duplicate media_id ZB005015GA00000\n"
     ]
    }
   ],
   "source": [
    "for key in media_ids:\n",
    "    print(key, media_ids[key].scenes_tc[0], media_ids[key].scenes_tc[1])\n",
    "    print(clips[key].dict())\n",
    "\n",
    "    if media_ids[key].scenes_tc[1] - media_ids[key].scenes_tc[0] < 4:\n",
    "        continue\n",
    "    buffer = trim(clips[key].original_path, media_ids[key].scenes_tc[0], media_ids[key].scenes_tc[1])\n",
    "    clips[key].size = len(buffer.getvalue())\n",
    "    get_storage_client().upload_binary(bucket_name, clips[key].media_path, buffer)\n",
    "    try:\n",
    "        create_media(clips[key])\n",
    "    except IntegrityError as e:\n",
    "        if \"duplicate key value violates unique constraint\" in str(e):\n",
    "            logging.info(f'UniqueViolation: Duplicate media_id {clips[key].media_id}')\n",
    "        else:\n",
    "            raise e\n",
    "    break"
   ]
  },
  {
   "cell_type": "code",
   "execution_count": 66,
   "metadata": {},
   "outputs": [
    {
     "name": "stdout",
     "output_type": "stream",
     "text": [
      "Frame rate: 25.0 frames per second\n",
      "Total number of frames: 80619\n"
     ]
    },
    {
     "data": {
      "application/vnd.jupyter.widget-view+json": {
       "model_id": "fa6c618ffa5c42e5ad88e8e8683105e6",
       "version_major": 2,
       "version_minor": 0
      },
      "text/plain": [
       "  0%|          | 0/10 [00:00<?, ?it/s]"
      ]
     },
     "metadata": {},
     "output_type": "display_data"
    }
   ],
   "source": [
    "# timestamps = [(x[0], x[1]) for x in df_emb[df_emb.umid == \"ZB005015\"].scenes_tc.values if x[1] - x[0] > 4][:10]\n",
    "# buffers = trim('/media/data/rts/archive/5/1/0/ZB005015/ZB005015.mp4', timestamps)"
   ]
  },
  {
   "cell_type": "code",
   "execution_count": null,
   "metadata": {},
   "outputs": [],
   "source": [
    "def upload_media(media: Media, data: BytesIO, bucket_name: str = BUCKET_NAME) -> Dict:\n",
    "    get_storage_client().upload_binary(bucket_name,\n",
    "                                media.media_path, data)\n",
    "\n",
    "    return create_media(media)\n",
    "\n",
    "\n",
    "def upload_media_files(media_files: List[Media], bucket_name: str = BUCKET_NAME) -> List[Dict]:\n",
    "    uploaded_clips = []\n",
    "\n",
    "    for mf in media_files:\n",
    "        uploaded_clips.append(upload_media(\n",
    "            media=mf,\n",
    "            bucket_name=bucket_name,\n",
    "        ))\n",
    "    return uploaded_clips"
   ]
  },
  {
   "cell_type": "code",
   "execution_count": 150,
   "metadata": {},
   "outputs": [],
   "source": [
    "# with open('output1.mp4', 'wb') as f:\n",
    "#     f.write(buffers[0].getvalue())\n",
    "# with open('output2.mp4', 'wb') as f:\n",
    "#     f.write(buffers[1].getvalue())"
   ]
  },
  {
   "cell_type": "code",
   "execution_count": 151,
   "metadata": {},
   "outputs": [],
   "source": []
  },
  {
   "cell_type": "code",
   "execution_count": 67,
   "metadata": {},
   "outputs": [
    {
     "name": "stdout",
     "output_type": "stream",
     "text": [
      "Video has variable frame rate: False\n"
     ]
    }
   ],
   "source": [
    "import ffmpeg\n",
    "\n",
    "def has_variable_frame_rate(input_path: str) -> bool:\n",
    "    try:\n",
    "        # Get the frame rate for each frame\n",
    "        result = (\n",
    "            ffmpeg\n",
    "            .input(input_path)\n",
    "            .filter('vfrdet')\n",
    "            .output('-', format='null')\n",
    "            .run(capture_stdout=True, capture_stderr=True)\n",
    "        )\n",
    "        \n",
    "        # Analyze the output to see if vfr was detected\n",
    "        stderr_output = result[1].decode()\n",
    "        vfr_line = next(line for line in stderr_output.split('\\n') if 'VFR:' in line)\n",
    "        is_vfr = 'VFR:1' in vfr_line\n",
    "\n",
    "        return is_vfr\n",
    "\n",
    "    except ffmpeg.Error as e:\n",
    "        print(f'FFmpeg Error: {e.stderr.decode()}')\n",
    "        return None\n",
    "\n",
    "# Example usage:\n",
    "video_path = '/media/data/rts/archive/5/1/0/ZB005015/ZB005015.mp4'\n",
    "print(f\"Video has variable frame rate: {has_variable_frame_rate(video_path)}\")\n"
   ]
  },
  {
   "cell_type": "code",
   "execution_count": null,
   "metadata": {},
   "outputs": [],
   "source": []
  }
 ],
 "metadata": {
  "kernelspec": {
   "display_name": "rts-bWoRmFur-py3.10",
   "language": "python",
   "name": "python3"
  },
  "language_info": {
   "codemirror_mode": {
    "name": "ipython",
    "version": 3
   },
   "file_extension": ".py",
   "mimetype": "text/x-python",
   "name": "python",
   "nbconvert_exporter": "python",
   "pygments_lexer": "ipython3",
   "version": "3.10.11"
  },
  "orig_nbformat": 4
 },
 "nbformat": 4,
 "nbformat_minor": 2
}
