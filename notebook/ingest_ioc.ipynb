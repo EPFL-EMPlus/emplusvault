{
 "cells": [
  {
   "cell_type": "code",
   "execution_count": 14,
   "metadata": {},
   "outputs": [
    {
     "name": "stdout",
     "output_type": "stream",
     "text": [
      "The autoreload extension is already loaded. To reload it, use:\n",
      "  %reload_ext autoreload\n"
     ]
    }
   ],
   "source": [
    "%load_ext autoreload\n",
    "%autoreload 2"
   ]
  },
  {
   "cell_type": "code",
   "execution_count": 2,
   "metadata": {},
   "outputs": [],
   "source": [
    "import pandas as pd\n",
    "from rts.db_settings import DATABASE_URL\n",
    "from rts.db.dao import DataAccessObject\n",
    "from rts.pipeline import PipelineIOC\n",
    "\n",
    "DataAccessObject().connect(DATABASE_URL)\n"
   ]
  },
  {
   "cell_type": "code",
   "execution_count": 4,
   "metadata": {},
   "outputs": [],
   "source": [
    "metadata = '../data/metadata.hdf5'\n",
    "with pd.HDFStore(metadata) as store:\n",
    "    keys = store.keys()\n",
    "    df = store.get(keys[0])  "
   ]
  },
  {
   "cell_type": "code",
   "execution_count": 5,
   "metadata": {},
   "outputs": [],
   "source": [
    "# This preprocessing step should be outside of the pipeline code and come with the dataframe\n",
    "def find_mp4_files(root_folder):\n",
    "    import os\n",
    "    mp4_files = []\n",
    "\n",
    "    for foldername, _, filenames in os.walk(root_folder):\n",
    "        for filename in filenames:\n",
    "            if filename.endswith('.mp4'):\n",
    "                mp4_files.append(os.path.join(foldername, filename))\n",
    "\n",
    "    return mp4_files\n",
    "\n",
    "mp4_files = find_mp4_files(\"/media/data/ioc/videos/\")\n",
    "file_map = {}\n",
    "for mp4 in mp4_files:\n",
    "    file_map[mp4.split('/')[-1].split('.')[0]] = mp4\n",
    "\n",
    "df['path'] = df['guid'].apply(lambda x: file_map[x] if x in file_map else None)"
   ]
  },
  {
   "cell_type": "code",
   "execution_count": null,
   "metadata": {},
   "outputs": [],
   "source": [
    "# Process a single video and upload clips. This funcction would also take a dataframe that has more than one video\n",
    "PipelineIOC().ingest(df[df.guid == 'MDA42810489'], notebook=True)"
   ]
  },
  {
   "cell_type": "code",
   "execution_count": null,
   "metadata": {},
   "outputs": [],
   "source": []
  }
 ],
 "metadata": {
  "kernelspec": {
   "display_name": "rts-bWoRmFur-py3.10",
   "language": "python",
   "name": "python3"
  },
  "language_info": {
   "codemirror_mode": {
    "name": "ipython",
    "version": 3
   },
   "file_extension": ".py",
   "mimetype": "text/x-python",
   "name": "python",
   "nbconvert_exporter": "python",
   "pygments_lexer": "ipython3",
   "version": "3.10.11"
  },
  "orig_nbformat": 4
 },
 "nbformat": 4,
 "nbformat_minor": 2
}
