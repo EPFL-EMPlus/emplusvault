{
 "cells": [
  {
   "cell_type": "code",
   "execution_count": null,
   "metadata": {},
   "outputs": [],
   "source": [
    "DATA = '/media/data/ioc/data'\n",
    "\n",
    "%cd ..\n",
    "%load_ext autoreload\n",
    "%autoreload 2"
   ]
  },
  {
   "cell_type": "code",
   "execution_count": null,
   "metadata": {},
   "outputs": [],
   "source": [
    "import pandas as pd\n",
    "from rts.settings import DATABASE_URL\n",
    "from rts.db.dao import DataAccessObject\n",
    "from rts.pipelines.ioc import PipelineIOC\n",
    "from rts.utils import dataframe_from_hdf5\n",
    "\n",
    "DataAccessObject().connect(DATABASE_URL)\n"
   ]
  },
  {
   "cell_type": "code",
   "execution_count": null,
   "metadata": {},
   "outputs": [],
   "source": [
    "# metadata = '../data/metadata.hdf5'\n",
    "df = dataframe_from_hdf5(DATA, 'metadata')"
   ]
  },
  {
   "cell_type": "code",
   "execution_count": null,
   "metadata": {},
   "outputs": [],
   "source": [
    "# This preprocessing step should be outside of the pipeline code and come with the dataframe\n",
    "def find_mp4_files(root_folder):\n",
    "    import os\n",
    "    mp4_files = []\n",
    "\n",
    "    for foldername, _, filenames in os.walk(root_folder):\n",
    "        for filename in filenames:\n",
    "            if filename.endswith('.mp4'):\n",
    "                mp4_files.append(os.path.join(foldername, filename))\n",
    "\n",
    "    return mp4_files\n",
    "\n",
    "mp4_files = find_mp4_files(\"/media/data/ioc/videos/\")\n",
    "file_map = {}\n",
    "for mp4 in mp4_files:\n",
    "    file_map[mp4.split('/')[-1].split('.')[0]] = mp4\n",
    "\n",
    "df['path'] = df['guid'].apply(lambda x: file_map[x] if x in file_map else None)\n",
    "# we need a path for each video, otherwise we can't process\n",
    "df = df[df['path'].notna()]"
   ]
  },
  {
   "cell_type": "code",
   "execution_count": null,
   "metadata": {},
   "outputs": [],
   "source": []
  },
  {
   "cell_type": "code",
   "execution_count": null,
   "metadata": {},
   "outputs": [],
   "source": [
    "# Process a single video and upload clips. This funcction would also take a dataframe that has more than one video\n",
    "pipeline = PipelineIOC(run_notebook=True)\n",
    "\n",
    "pipeline.ingest(df[df.guid == 'MDA42810489'])"
   ]
  },
  {
   "cell_type": "code",
   "execution_count": null,
   "metadata": {},
   "outputs": [],
   "source": [
    "def find_mp4_files(root_folder):\n",
    "    import os\n",
    "    mp4_files = []\n",
    "\n",
    "    for foldername, _, filenames in os.walk(root_folder):\n",
    "        for filename in filenames:\n",
    "            # if filename.endswith('.mp4'):\n",
    "            mp4_files.append(os.path.join(foldername, filename))\n",
    "\n",
    "    return mp4_files\n",
    "\n",
    "metadata_files = find_mp4_files(\"/media/data/ioc/metadata/\")\n",
    "file_map = {}\n",
    "for mp4 in mp4_files:\n",
    "    file_map[mp4.split('/')[-1].split('.')[0]] = mp4"
   ]
  },
  {
   "cell_type": "code",
   "execution_count": null,
   "metadata": {},
   "outputs": [],
   "source": [
    "for mp4 in mp4_files:\n",
    "    if 'MDA42710309' in mp4:\n",
    "        print(mp4)  "
   ]
  },
  {
   "cell_type": "code",
   "execution_count": null,
   "metadata": {},
   "outputs": [],
   "source": [
    "for mp4 in mp4_files:\n",
    "    if 'MDA42710309' in mp4:\n",
    "        print(mp4)  "
   ]
  },
  {
   "cell_type": "code",
   "execution_count": null,
   "metadata": {},
   "outputs": [],
   "source": [
    "len(metadata_files), len(mp4_files)"
   ]
  },
  {
   "cell_type": "code",
   "execution_count": null,
   "metadata": {},
   "outputs": [],
   "source": [
    "# clean up metadata and mp4 file IDs\n",
    "metadata_files = [x.split('/')[-1] for x in metadata_files]\n",
    "metadata_files.sort()\n",
    "mp4_files = [x.split('/')[-1] for x in mp4_files]\n",
    "mp4_files.sort()\n",
    "mp4_files = [x.split('.')[0] for x in mp4_files]\n",
    "metadata_files = [x.split('.')[0] for x in metadata_files]\n",
    "metadata_files = [x.split('_')[-1] for x in metadata_files]\n",
    "# count overlap between metadata and mp4 files\n",
    "len(set(metadata_files).intersection(set(mp4_files)))"
   ]
  },
  {
   "cell_type": "code",
   "execution_count": null,
   "metadata": {},
   "outputs": [],
   "source": []
  }
 ],
 "metadata": {
  "kernelspec": {
   "display_name": "rts-bWoRmFur-py3.10",
   "language": "python",
   "name": "python3"
  },
  "language_info": {
   "codemirror_mode": {
    "name": "ipython",
    "version": 3
   },
   "file_extension": ".py",
   "mimetype": "text/x-python",
   "name": "python",
   "nbconvert_exporter": "python",
   "pygments_lexer": "ipython3",
   "version": "3.10.11"
  },
  "orig_nbformat": 4
 },
 "nbformat": 4,
 "nbformat_minor": 2
}
