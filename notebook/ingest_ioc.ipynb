{
 "cells": [
  {
   "cell_type": "code",
   "execution_count": 1,
   "metadata": {},
   "outputs": [],
   "source": [
    "%load_ext autoreload\n",
    "%autoreload 2"
   ]
  },
  {
   "cell_type": "code",
   "execution_count": 2,
   "metadata": {},
   "outputs": [],
   "source": [
    "import pandas as pd\n",
    "from rts.db_settings import DATABASE_URL\n",
    "from rts.db.dao import DataAccessObject\n",
    "from rts.pipeline import PipelineIOC\n",
    "\n",
    "DataAccessObject().connect(DATABASE_URL)\n"
   ]
  },
  {
   "cell_type": "code",
   "execution_count": 3,
   "metadata": {},
   "outputs": [],
   "source": [
    "metadata = '../data/metadata.hdf5'\n",
    "with pd.HDFStore(metadata) as store:\n",
    "    keys = store.keys()\n",
    "    df = store.get(keys[0])  "
   ]
  },
  {
   "cell_type": "code",
   "execution_count": 17,
   "metadata": {},
   "outputs": [],
   "source": [
    "# This preprocessing step should be outside of the pipeline code and come with the dataframe\n",
    "def find_mp4_files(root_folder):\n",
    "    import os\n",
    "    mp4_files = []\n",
    "\n",
    "    for foldername, _, filenames in os.walk(root_folder):\n",
    "        for filename in filenames:\n",
    "            if filename.endswith('.mp4'):\n",
    "                mp4_files.append(os.path.join(foldername, filename))\n",
    "\n",
    "    return mp4_files\n",
    "\n",
    "mp4_files = find_mp4_files(\"/media/data/ioc/videos/\")\n",
    "file_map = {}\n",
    "for mp4 in mp4_files:\n",
    "    file_map[mp4.split('/')[-1].split('.')[0]] = mp4\n",
    "\n",
    "df['path'] = df['guid'].apply(lambda x: file_map[x] if x in file_map else None)"
   ]
  },
  {
   "cell_type": "code",
   "execution_count": 6,
   "metadata": {},
   "outputs": [],
   "source": [
    "# we need a path for each video, otherwise we can't process\n",
    "df = df[df['path'].notna()]"
   ]
  },
  {
   "cell_type": "code",
   "execution_count": null,
   "metadata": {},
   "outputs": [],
   "source": [
    "PipelineIOC().ingest(df, notebook=True)"
   ]
  },
  {
   "cell_type": "code",
   "execution_count": null,
   "metadata": {},
   "outputs": [],
   "source": [
    "# Process a single video and upload clips. This funcction would also take a dataframe that has more than one video\n",
    "PipelineIOC().ingest(df[df.guid == 'MDA42810489'], notebook=True)"
   ]
  },
  {
   "cell_type": "code",
   "execution_count": 16,
   "metadata": {},
   "outputs": [],
   "source": [
    "def find_mp4_files(root_folder):\n",
    "    import os\n",
    "    mp4_files = []\n",
    "\n",
    "    for foldername, _, filenames in os.walk(root_folder):\n",
    "        for filename in filenames:\n",
    "            # if filename.endswith('.mp4'):\n",
    "            mp4_files.append(os.path.join(foldername, filename))\n",
    "\n",
    "    return mp4_files\n",
    "\n",
    "metadata_files = find_mp4_files(\"/media/data/ioc/metadata/\")\n",
    "file_map = {}\n",
    "for mp4 in mp4_files:\n",
    "    file_map[mp4.split('/')[-1].split('.')[0]] = mp4"
   ]
  },
  {
   "cell_type": "code",
   "execution_count": 55,
   "metadata": {},
   "outputs": [
    {
     "name": "stdout",
     "output_type": "stream",
     "text": [
      "/media/data/ioc/metadata/9/0/20230512115012_OCS317087_MDA42710309.xml\n"
     ]
    }
   ],
   "source": [
    "for mp4 in mp4_files:\n",
    "    if 'MDA42710309' in mp4:\n",
    "        print(mp4)  "
   ]
  },
  {
   "cell_type": "code",
   "execution_count": 12,
   "metadata": {},
   "outputs": [
    {
     "name": "stdout",
     "output_type": "stream",
     "text": [
      "/media/data/ioc/videos/MP4_PROXY_HR/MDA42710309.LR.mp4\n"
     ]
    }
   ],
   "source": [
    "for mp4 in mp4_files:\n",
    "    if 'MDA42710309' in mp4:\n",
    "        print(mp4)  "
   ]
  },
  {
   "cell_type": "code",
   "execution_count": 18,
   "metadata": {},
   "outputs": [
    {
     "data": {
      "text/plain": [
       "(22348, 31304)"
      ]
     },
     "execution_count": 18,
     "metadata": {},
     "output_type": "execute_result"
    }
   ],
   "source": [
    "len(metadata_files), len(mp4_files)"
   ]
  },
  {
   "cell_type": "code",
   "execution_count": 20,
   "metadata": {},
   "outputs": [],
   "source": [
    "# clean up metadata and mp4 file IDs\n",
    "metadata_files = [x.split('/')[-1] for x in metadata_files]\n",
    "metadata_files.sort()\n",
    "mp4_files = [x.split('/')[-1] for x in mp4_files]\n",
    "mp4_files.sort()\n",
    "mp4_files = [x.split('.')[0] for x in mp4_files]\n",
    "metadata_files = [x.split('.')[0] for x in metadata_files]\n",
    "metadata_files = [x.split('_')[-1] for x in metadata_files]\n",
    "# count overlap between metadata and mp4 files\n",
    "len(set(metadata_files).intersection(set(mp4_files)))"
   ]
  },
  {
   "cell_type": "code",
   "execution_count": null,
   "metadata": {},
   "outputs": [],
   "source": []
  }
 ],
 "metadata": {
  "kernelspec": {
   "display_name": "rts-bWoRmFur-py3.10",
   "language": "python",
   "name": "python3"
  },
  "language_info": {
   "codemirror_mode": {
    "name": "ipython",
    "version": 3
   },
   "file_extension": ".py",
   "mimetype": "text/x-python",
   "name": "python",
   "nbconvert_exporter": "python",
   "pygments_lexer": "ipython3",
   "version": "3.10.11"
  },
  "orig_nbformat": 4
 },
 "nbformat": 4,
 "nbformat_minor": 2
}
