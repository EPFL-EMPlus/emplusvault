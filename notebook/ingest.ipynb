{
 "cells": [
  {
   "cell_type": "code",
   "execution_count": 1,
   "metadata": {},
   "outputs": [
    {
     "name": "stdout",
     "output_type": "stream",
     "text": [
      "/home/kikohs/work/rts\n"
     ]
    }
   ],
   "source": [
    "%cd ..\n",
    "%load_ext autoreload\n",
    "%autoreload 2\n",
    "\n",
    "RTS_DATA = \"/mnt/d/rts/\"\n",
    "METADATA = RTS_DATA + 'metadata'\n",
    "VIDEOS = RTS_DATA + '0'\n",
    "REMOTE_VIDEOS = \"/mnt/rts\"\n",
    "OUTDIR = 'data'\n",
    "\n"
   ]
  },
  {
   "cell_type": "code",
   "execution_count": 2,
   "metadata": {},
   "outputs": [],
   "source": [
    "from datetime import datetime\n",
    "import orjson\n",
    "import pandas as pd\n",
    "import zipfile\n",
    "import os\n",
    "import io\n",
    "from typing import Dict, List, Optional, Tuple"
   ]
  },
  {
   "cell_type": "code",
   "execution_count": 3,
   "metadata": {},
   "outputs": [
    {
     "name": "stderr",
     "output_type": "stream",
     "text": [
      "/home/kikohs/.cache/pypoetry/virtualenvs/rts-DIiCth0j-py3.8/lib/python3.8/site-packages/tqdm/auto.py:22: TqdmWarning: IProgress not found. Please update jupyter and ipywidgets. See https://ipywidgets.readthedocs.io/en/stable/user_install.html\n",
      "  from .autonotebook import tqdm as notebook_tqdm\n"
     ]
    }
   ],
   "source": [
    "# LOCAL imports\n",
    "import rts\n",
    "\n",
    "LOG = rts.utils.get_logger()"
   ]
  },
  {
   "cell_type": "code",
   "execution_count": null,
   "metadata": {},
   "outputs": [],
   "source": [
    "# vidx = rts.ingest.read_video_folder_index(os.path.join(OUTDIR, 'vidx.json'))\n",
    "# df = rts.ingest.read_all_metadata(METADATA, vidx)\n",
    "# rts.ingest.metadata_to_hdf5(OUTDIR, 'rts_metadata', df)\n",
    "\n",
    "df = rts.ingest.load_metadata_hdf5(OUTDIR, 'rts_metadata')"
   ]
  },
  {
   "cell_type": "code",
   "execution_count": null,
   "metadata": {},
   "outputs": [],
   "source": [
    "client = rts.db.fulltext.get_client()\n",
    "midx = rts.db.fulltext.get_or_create_media_index(client)\n",
    "midx.get_stats().number_of_documents"
   ]
  },
  {
   "cell_type": "code",
   "execution_count": null,
   "metadata": {},
   "outputs": [],
   "source": [
    "#TODO get unique geo, people, for the whole media"
   ]
  },
  {
   "cell_type": "code",
   "execution_count": null,
   "metadata": {},
   "outputs": [],
   "source": [
    "a = df.groupby('collection')['collection'].count().sort_values(ascending=False)\n",
    "a.to_csv(os.path.join(OUTDIR, 'collections.csv'))"
   ]
  },
  {
   "cell_type": "code",
   "execution_count": null,
   "metadata": {},
   "outputs": [],
   "source": [
    "a = df.groupby('contentType')['contentType'].count().sort_values(ascending=False)\n",
    "a.to_csv(os.path.join(OUTDIR, 'contentType.csv'))"
   ]
  },
  {
   "cell_type": "code",
   "execution_count": null,
   "metadata": {},
   "outputs": [],
   "source": [
    "midx.delete_all_documents()"
   ]
  },
  {
   "cell_type": "code",
   "execution_count": null,
   "metadata": {},
   "outputs": [],
   "source": [
    "rts.db.fulltext.index_media(df, midx)"
   ]
  },
  {
   "cell_type": "code",
   "execution_count": 34,
   "metadata": {},
   "outputs": [],
   "source": [
    "r = rts.io.archive.transcribe_media(os.path.join(OUTDIR, 'myaudio.m4a'))"
   ]
  },
  {
   "cell_type": "code",
   "execution_count": null,
   "metadata": {},
   "outputs": [],
   "source": [
    "df.publishedBy.apply(lambda x: len(x) if x else 0).unique()"
   ]
  },
  {
   "cell_type": "code",
   "execution_count": null,
   "metadata": {},
   "outputs": [],
   "source": [
    "# midx = rts.db.meilisearch.get_or_create_media_index(client)\n",
    "midx.get_stats().number_of_documents"
   ]
  },
  {
   "cell_type": "code",
   "execution_count": null,
   "metadata": {},
   "outputs": [],
   "source": [
    "%ls {VIDEOS}"
   ]
  },
  {
   "cell_type": "code",
   "execution_count": 47,
   "metadata": {},
   "outputs": [
    {
     "data": {
      "text/plain": [
       "'/mnt/d/rts/0/0/0/ZB001000/export'"
      ]
     },
     "execution_count": 47,
     "metadata": {},
     "output_type": "execute_result"
    }
   ],
   "source": [
    "video_part = os.path.join(VIDEOS, '0', '0', 'ZB001000')\n",
    "# video_part = os.path.join(VIDEOS, '0', '0', 'ZB002000')\n",
    "v, a = rts.io.archive.get_raw_video_audio_parts(video_part)\n",
    "\n",
    "rts.io.archive.create_optimized_media(video_part)\n"
   ]
  },
  {
   "cell_type": "code",
   "execution_count": 38,
   "metadata": {},
   "outputs": [
    {
     "name": "stdout",
     "output_type": "stream",
     "text": [
      "INFO:RTS:Load model: small\n"
     ]
    }
   ],
   "source": [
    "a = os.path.join(VIDEOS, '0', '0', 'ZB002000', 'export', 'ZB002000_audio.m4a')\n",
    "r = rts.io.archive.transcribe_media(a, 'small')"
   ]
  },
  {
   "cell_type": "code",
   "execution_count": 40,
   "metadata": {},
   "outputs": [
    {
     "data": {
      "text/plain": [
       "True"
      ]
     },
     "execution_count": 40,
     "metadata": {},
     "output_type": "execute_result"
    }
   ],
   "source": [
    "rts.utils.obj_to_json(r, os.path.join(OUTDIR, 'transcript.json'))"
   ]
  },
  {
   "cell_type": "code",
   "execution_count": 19,
   "metadata": {},
   "outputs": [
    {
     "name": "stdout",
     "output_type": "stream",
     "text": [
      "WARNING:libav.libmp3lame:4 frames left in the queue on closing\n",
      "INFO:RTS:to_mp3 => 59664.23749923706 ms\n"
     ]
    },
    {
     "data": {
      "text/plain": [
       "'data/audio.mp3'"
      ]
     },
     "execution_count": 19,
     "metadata": {},
     "output_type": "execute_result"
    }
   ],
   "source": [
    "rts.io.media.to_mp3(a, os.path.join(OUTDIR, 'audio.mp3'))"
   ]
  },
  {
   "cell_type": "code",
   "execution_count": 34,
   "metadata": {},
   "outputs": [
    {
     "name": "stdout",
     "output_type": "stream",
     "text": [
      "WARNING:libav.libmp3lame:5 frames left in the queue on closing\n",
      "INFO:RTS:to_mp3 => 59204.33855056763 ms\n"
     ]
    },
    {
     "data": {
      "text/plain": [
       "'data/audio.mp3'"
      ]
     },
     "execution_count": 34,
     "metadata": {},
     "output_type": "execute_result"
    }
   ],
   "source": [
    "rts.io.media.to_mp3(a, os.path.join(OUTDIR, 'audio.mp3'))"
   ]
  },
  {
   "cell_type": "code",
   "execution_count": 38,
   "metadata": {},
   "outputs": [
    {
     "name": "stdout",
     "output_type": "stream",
     "text": [
      "INFO:RTS:remux_audio => 343.6279296875 ms\n"
     ]
    },
    {
     "data": {
      "text/plain": [
       "'data/myaudio.m4a'"
      ]
     },
     "execution_count": 38,
     "metadata": {},
     "output_type": "execute_result"
    }
   ],
   "source": [
    "rts.io.media.extract_audio(a, os.path.join(OUTDIR, 'myaudio'))"
   ]
  },
  {
   "cell_type": "code",
   "execution_count": 7,
   "metadata": {},
   "outputs": [
    {
     "name": "stdout",
     "output_type": "stream",
     "text": [
      "/mnt/d/rts/0/0/0/ZB001000/ZB001000_track1_dashinit.mp4\n",
      "576\n"
     ]
    }
   ],
   "source": [
    "import av\n",
    "import av.datasets\n",
    "\n",
    "\n",
    "video_part = os.path.join(VIDEOS, '0', '0', 'ZB001000')\n",
    "# video_part = os.path.join(VIDEOS, '0', '0', 'ZB002000')\n",
    "v, a = rts.io.archive.get_raw_video_audio_parts(video_part)\n",
    "out_path = os.path.join(OUTDIR, 'thumbs')\n",
    "\n",
    "content = v\n",
    "\n",
    "print(content)\n",
    "\n",
    "with av.open(content) as container:\n",
    "    # Signal that we only want to look at keyframes.\n",
    "    stream = container.streams.video[0]\n",
    "    stream.codec_context.skip_frame = \"NONKEY\"\n",
    "\n",
    "    print(stream.codec_context.height)\n",
    "    # for frame in container.decode(stream):\n",
    "\n",
    "    #     print(frame)\n",
    "    #     print(frame.time, frame.time_base)\n",
    "    #     # We use `frame.pts` as `frame.index` won't make must sense with the `skip_frame`.\n",
    "    #     frame.to_image().save(\n",
    "    #         os.path.join(out_path, f\"night-sky.{frame.pts:04d}.jpg\"),\n",
    "    #         quality=80,\n",
    "    #     )"
   ]
  },
  {
   "cell_type": "code",
   "execution_count": null,
   "metadata": {},
   "outputs": [],
   "source": []
  }
 ],
 "metadata": {
  "kernelspec": {
   "display_name": "rts-DIiCth0j-py3.8",
   "language": "python",
   "name": "python3"
  },
  "language_info": {
   "codemirror_mode": {
    "name": "ipython",
    "version": 3
   },
   "file_extension": ".py",
   "mimetype": "text/x-python",
   "name": "python",
   "nbconvert_exporter": "python",
   "pygments_lexer": "ipython3",
   "version": "3.8.10"
  },
  "orig_nbformat": 4,
  "vscode": {
   "interpreter": {
    "hash": "e87cf5a392b1aecc4184d814192c5e20fd6a56d7b8ef491f6277e892591ee550"
   }
  }
 },
 "nbformat": 4,
 "nbformat_minor": 2
}
