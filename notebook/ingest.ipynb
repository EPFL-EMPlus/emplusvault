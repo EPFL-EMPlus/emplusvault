{
 "cells": [
  {
   "cell_type": "code",
   "execution_count": 1,
   "metadata": {},
   "outputs": [
    {
     "name": "stdout",
     "output_type": "stream",
     "text": [
      "/home/kirell/work/rts\n"
     ]
    }
   ],
   "source": [
    "%cd ..\n",
    "%load_ext autoreload\n",
    "%autoreload 2\n",
    "\n",
    "REMOTE_RTS_DATA = \"/media/sinergia/RTS/\"\n",
    "REMOTE_VIDEOS = '/mnt/rts/'\n",
    "\n",
    "LOCAL_RTS_DATA = \"/media/data/rts/\"\n",
    "METADATA = LOCAL_RTS_DATA + 'metadata'\n",
    "LOCAL_VIDEOS = LOCAL_RTS_DATA + 'archive'\n",
    "\n",
    "OUTDIR = 'data'\n"
   ]
  },
  {
   "cell_type": "code",
   "execution_count": 2,
   "metadata": {},
   "outputs": [],
   "source": [
    "from datetime import datetime\n",
    "import orjson\n",
    "import pandas as pd\n",
    "import zipfile\n",
    "import os\n",
    "import io\n",
    "from typing import Dict, List, Optional, Tuple\n",
    "from pathlib import Path"
   ]
  },
  {
   "cell_type": "code",
   "execution_count": 3,
   "metadata": {},
   "outputs": [
    {
     "name": "stderr",
     "output_type": "stream",
     "text": [
      "/home/kirell/.cache/pypoetry/virtualenvs/rts-506MfBOj-py3.10/lib/python3.10/site-packages/torch/cuda/__init__.py:497: UserWarning: Can't initialize NVML\n",
      "  warnings.warn(\"Can't initialize NVML\")\n"
     ]
    }
   ],
   "source": [
    "# LOCAL imports\n",
    "import rts\n",
    "import rts.pipeline\n",
    "import rts.utils\n",
    "import rts.io.media\n",
    "import rts.features.audio\n",
    "import rts.features.text\n",
    "\n",
    "LOG = rts.utils.get_logger()"
   ]
  },
  {
   "cell_type": "code",
   "execution_count": 4,
   "metadata": {},
   "outputs": [
    {
     "data": {
      "text/html": [
       "<div>\n",
       "<style scoped>\n",
       "    .dataframe tbody tr th:only-of-type {\n",
       "        vertical-align: middle;\n",
       "    }\n",
       "\n",
       "    .dataframe tbody tr th {\n",
       "        vertical-align: top;\n",
       "    }\n",
       "\n",
       "    .dataframe thead th {\n",
       "        text-align: right;\n",
       "    }\n",
       "</style>\n",
       "<table border=\"1\" class=\"dataframe\">\n",
       "  <thead>\n",
       "    <tr style=\"text-align: right;\">\n",
       "      <th></th>\n",
       "      <th>guid</th>\n",
       "      <th>mediaFolderPath</th>\n",
       "      <th>mediaDuration</th>\n",
       "      <th>ratio</th>\n",
       "      <th>formatResolution</th>\n",
       "      <th>publishedDate</th>\n",
       "      <th>categoryName</th>\n",
       "      <th>assetType</th>\n",
       "      <th>contentType</th>\n",
       "      <th>backgoundType</th>\n",
       "      <th>collection</th>\n",
       "      <th>publishedBy</th>\n",
       "      <th>rights</th>\n",
       "      <th>title</th>\n",
       "      <th>resume</th>\n",
       "      <th>geoTheme</th>\n",
       "      <th>resumeSequence</th>\n",
       "      <th>created</th>\n",
       "      <th>published</th>\n",
       "      <th>sequences</th>\n",
       "    </tr>\n",
       "    <tr>\n",
       "      <th>mediaId</th>\n",
       "      <th></th>\n",
       "      <th></th>\n",
       "      <th></th>\n",
       "      <th></th>\n",
       "      <th></th>\n",
       "      <th></th>\n",
       "      <th></th>\n",
       "      <th></th>\n",
       "      <th></th>\n",
       "      <th></th>\n",
       "      <th></th>\n",
       "      <th></th>\n",
       "      <th></th>\n",
       "      <th></th>\n",
       "      <th></th>\n",
       "      <th></th>\n",
       "      <th></th>\n",
       "      <th></th>\n",
       "      <th></th>\n",
       "      <th></th>\n",
       "    </tr>\n",
       "  </thead>\n",
       "  <tbody>\n",
       "    <tr>\n",
       "      <th>ZE002100</th>\n",
       "      <td>AA1101000770</td>\n",
       "      <td>/mnt/rts/0/0/1/ZE002100</td>\n",
       "      <td>1524</td>\n",
       "      <td>16:9</td>\n",
       "      <td>SD</td>\n",
       "      <td>2010-04-29T17:40:00Z</td>\n",
       "      <td>Programme</td>\n",
       "      <td>Programme</td>\n",
       "      <td>Emissions de conseil</td>\n",
       "      <td>None</td>\n",
       "      <td>Dolce vita</td>\n",
       "      <td>TSR 1</td>\n",
       "      <td>Restriction/Condition</td>\n",
       "      <td>CAMPING - 10.04.29</td>\n",
       "      <td>* Plateau : 20100429, SIKI Muriel reçoit ses i...</td>\n",
       "      <td>[LIEU INDÉTERMINÉ, VAUD, PLATEAU]</td>\n",
       "      <td>[00:01.24\\r\\nPlateau : diverses présentations ...</td>\n",
       "      <td>1670505072</td>\n",
       "      <td>1272562800</td>\n",
       "      <td>{'890511': {'guid': 'AA1101000770', 'mediaId':...</td>\n",
       "    </tr>\n",
       "    <tr>\n",
       "      <th>ZS009400</th>\n",
       "      <td>AA1106004840</td>\n",
       "      <td>/mnt/rts/0/0/4/ZS009400</td>\n",
       "      <td>530</td>\n",
       "      <td>16:9</td>\n",
       "      <td>SD</td>\n",
       "      <td>2011-03-05T00:00:00Z</td>\n",
       "      <td>Programme</td>\n",
       "      <td>Programme</td>\n",
       "      <td>Autres émissions religieuses</td>\n",
       "      <td>None</td>\n",
       "      <td>Faut pas croire</td>\n",
       "      <td>TSR 1</td>\n",
       "      <td>Restriction/Condition</td>\n",
       "      <td>11.03.05</td>\n",
       "      <td>* Plateau : 20110305, BOISSET Christophe reçoi...</td>\n",
       "      <td>[LIEU INDÉTERMINÉ, NEUVEVILLE, LA, PLATEAU]</td>\n",
       "      <td>[00:01.18\\r\\nPlateau : diverses présentations ...</td>\n",
       "      <td>1670505072</td>\n",
       "      <td>1299283200</td>\n",
       "      <td>{'897154': {'guid': 'AA1106004840', 'mediaId':...</td>\n",
       "    </tr>\n",
       "    <tr>\n",
       "      <th>ZM001400</th>\n",
       "      <td>AA1201021870</td>\n",
       "      <td>/mnt/rts/0/0/4/ZM001400</td>\n",
       "      <td>43</td>\n",
       "      <td>16:9</td>\n",
       "      <td>SD</td>\n",
       "      <td>2012-01-22T00:00:00Z</td>\n",
       "      <td>Programme</td>\n",
       "      <td>Programme</td>\n",
       "      <td>Bandes-annonces, lancements</td>\n",
       "      <td>None</td>\n",
       "      <td>Bande Annonce</td>\n",
       "      <td>TSR 2</td>\n",
       "      <td>Inconnu</td>\n",
       "      <td>Alain Delon. 2BLS CINEMA 2201</td>\n",
       "      <td>None</td>\n",
       "      <td>None</td>\n",
       "      <td>None</td>\n",
       "      <td>1670505073</td>\n",
       "      <td>1327190400</td>\n",
       "      <td>{}</td>\n",
       "    </tr>\n",
       "    <tr>\n",
       "      <th>ZT002200</th>\n",
       "      <td>AA1202023530</td>\n",
       "      <td>/mnt/rts/0/0/2/ZT002200</td>\n",
       "      <td>4445</td>\n",
       "      <td>16:9</td>\n",
       "      <td>SD</td>\n",
       "      <td>2012-04-08T00:00:00Z</td>\n",
       "      <td>Programme</td>\n",
       "      <td>Retransmission sportive</td>\n",
       "      <td>Retransmissions en direct</td>\n",
       "      <td>None</td>\n",
       "      <td>Motocyclisme</td>\n",
       "      <td>TSR 2</td>\n",
       "      <td>Restriction/Condition</td>\n",
       "      <td>MOTO3 - GRAND PRIX DU QATAR LOSAIL 2012</td>\n",
       "      <td>None</td>\n",
       "      <td>None</td>\n",
       "      <td>None</td>\n",
       "      <td>1670505073</td>\n",
       "      <td>1333843200</td>\n",
       "      <td>{}</td>\n",
       "    </tr>\n",
       "    <tr>\n",
       "      <th>ZM002200</th>\n",
       "      <td>AA1203026020</td>\n",
       "      <td>/mnt/rts/0/0/2/ZM002200</td>\n",
       "      <td>60</td>\n",
       "      <td>16:9</td>\n",
       "      <td>HD</td>\n",
       "      <td>2012-04-07T00:00:00Z</td>\n",
       "      <td>Programme</td>\n",
       "      <td>Programme</td>\n",
       "      <td>Bandes-annonces, lancements</td>\n",
       "      <td>None</td>\n",
       "      <td>Bande Annonce</td>\n",
       "      <td>None</td>\n",
       "      <td>Inconnu</td>\n",
       "      <td>BLS SAMEDI 0704</td>\n",
       "      <td>None</td>\n",
       "      <td>None</td>\n",
       "      <td>None</td>\n",
       "      <td>1670505073</td>\n",
       "      <td>1333756800</td>\n",
       "      <td>{}</td>\n",
       "    </tr>\n",
       "  </tbody>\n",
       "</table>\n",
       "</div>"
      ],
      "text/plain": [
       "                  guid          mediaFolderPath  mediaDuration ratio  \\\n",
       "mediaId                                                                \n",
       "ZE002100  AA1101000770  /mnt/rts/0/0/1/ZE002100           1524  16:9   \n",
       "ZS009400  AA1106004840  /mnt/rts/0/0/4/ZS009400            530  16:9   \n",
       "ZM001400  AA1201021870  /mnt/rts/0/0/4/ZM001400             43  16:9   \n",
       "ZT002200  AA1202023530  /mnt/rts/0/0/2/ZT002200           4445  16:9   \n",
       "ZM002200  AA1203026020  /mnt/rts/0/0/2/ZM002200             60  16:9   \n",
       "\n",
       "         formatResolution         publishedDate categoryName  \\\n",
       "mediaId                                                        \n",
       "ZE002100               SD  2010-04-29T17:40:00Z    Programme   \n",
       "ZS009400               SD  2011-03-05T00:00:00Z    Programme   \n",
       "ZM001400               SD  2012-01-22T00:00:00Z    Programme   \n",
       "ZT002200               SD  2012-04-08T00:00:00Z    Programme   \n",
       "ZM002200               HD  2012-04-07T00:00:00Z    Programme   \n",
       "\n",
       "                        assetType                   contentType backgoundType  \\\n",
       "mediaId                                                                         \n",
       "ZE002100                Programme          Emissions de conseil          None   \n",
       "ZS009400                Programme  Autres émissions religieuses          None   \n",
       "ZM001400                Programme   Bandes-annonces, lancements          None   \n",
       "ZT002200  Retransmission sportive     Retransmissions en direct          None   \n",
       "ZM002200                Programme   Bandes-annonces, lancements          None   \n",
       "\n",
       "               collection publishedBy                 rights  \\\n",
       "mediaId                                                        \n",
       "ZE002100       Dolce vita       TSR 1  Restriction/Condition   \n",
       "ZS009400  Faut pas croire       TSR 1  Restriction/Condition   \n",
       "ZM001400    Bande Annonce       TSR 2                Inconnu   \n",
       "ZT002200     Motocyclisme       TSR 2  Restriction/Condition   \n",
       "ZM002200    Bande Annonce        None                Inconnu   \n",
       "\n",
       "                                            title  \\\n",
       "mediaId                                             \n",
       "ZE002100                       CAMPING - 10.04.29   \n",
       "ZS009400                                 11.03.05   \n",
       "ZM001400            Alain Delon. 2BLS CINEMA 2201   \n",
       "ZT002200  MOTO3 - GRAND PRIX DU QATAR LOSAIL 2012   \n",
       "ZM002200                          BLS SAMEDI 0704   \n",
       "\n",
       "                                                     resume  \\\n",
       "mediaId                                                       \n",
       "ZE002100  * Plateau : 20100429, SIKI Muriel reçoit ses i...   \n",
       "ZS009400  * Plateau : 20110305, BOISSET Christophe reçoi...   \n",
       "ZM001400                                               None   \n",
       "ZT002200                                               None   \n",
       "ZM002200                                               None   \n",
       "\n",
       "                                             geoTheme  \\\n",
       "mediaId                                                 \n",
       "ZE002100            [LIEU INDÉTERMINÉ, VAUD, PLATEAU]   \n",
       "ZS009400  [LIEU INDÉTERMINÉ, NEUVEVILLE, LA, PLATEAU]   \n",
       "ZM001400                                         None   \n",
       "ZT002200                                         None   \n",
       "ZM002200                                         None   \n",
       "\n",
       "                                             resumeSequence     created  \\\n",
       "mediaId                                                                   \n",
       "ZE002100  [00:01.24\\r\\nPlateau : diverses présentations ...  1670505072   \n",
       "ZS009400  [00:01.18\\r\\nPlateau : diverses présentations ...  1670505072   \n",
       "ZM001400                                               None  1670505073   \n",
       "ZT002200                                               None  1670505073   \n",
       "ZM002200                                               None  1670505073   \n",
       "\n",
       "           published                                          sequences  \n",
       "mediaId                                                                  \n",
       "ZE002100  1272562800  {'890511': {'guid': 'AA1101000770', 'mediaId':...  \n",
       "ZS009400  1299283200  {'897154': {'guid': 'AA1106004840', 'mediaId':...  \n",
       "ZM001400  1327190400                                                 {}  \n",
       "ZT002200  1333843200                                                 {}  \n",
       "ZM002200  1333756800                                                 {}  "
      ]
     },
     "execution_count": 4,
     "metadata": {},
     "output_type": "execute_result"
    }
   ],
   "source": [
    "# vidx = rts.metadata.read_video_folder_index(os.path.join(OUTDIR, 'vidx.json'))\n",
    "# df = rts.metadata.read_all_metadata(METADATA, vidx)\n",
    "# rts.metadata.metadata_to_hdf5(OUTDIR, 'rts_metadata', df)\n",
    "\n",
    "df = rts.metadata.load_metadata_hdf5(METADATA, 'rts_metadata')\n",
    "sample_df = rts.metadata.get_one_percent_sample(df)\n",
    "# rts.metadata.export_metadata_stats(sample_df, Path(OUTDIR) / 'sample')\n",
    "# rts.metadata.export_metadata_stats(df, OUTDIR)\n",
    "sample_df.head()"
   ]
  },
  {
   "cell_type": "code",
   "execution_count": null,
   "metadata": {},
   "outputs": [],
   "source": [
    "client = rts.db.fulltext.get_client()\n",
    "midx = rts.db.fulltext.get_or_create_media_index(client)"
   ]
  },
  {
   "cell_type": "code",
   "execution_count": null,
   "metadata": {},
   "outputs": [],
   "source": [
    "# Fulltext Index from HDF5\n",
    "# midx.delete_all_documents()\n",
    "rts.db.fulltext.index_media(df, midx)\n",
    "# Wait 30 sec for full indexation\n",
    "midx.get_stats().number_of_documents  # 522103"
   ]
  },
  {
   "cell_type": "code",
   "execution_count": 6,
   "metadata": {},
   "outputs": [
    {
     "data": {
      "text/html": [
       "<div>\n",
       "<style scoped>\n",
       "    .dataframe tbody tr th:only-of-type {\n",
       "        vertical-align: middle;\n",
       "    }\n",
       "\n",
       "    .dataframe tbody tr th {\n",
       "        vertical-align: top;\n",
       "    }\n",
       "\n",
       "    .dataframe thead th {\n",
       "        text-align: right;\n",
       "    }\n",
       "</style>\n",
       "<table border=\"1\" class=\"dataframe\">\n",
       "  <thead>\n",
       "    <tr style=\"text-align: right;\">\n",
       "      <th></th>\n",
       "      <th>location</th>\n",
       "      <th>s</th>\n",
       "      <th>e</th>\n",
       "      <th>t</th>\n",
       "      <th>mediaFolderPath</th>\n",
       "      <th>publishedDate</th>\n",
       "      <th>title</th>\n",
       "      <th>collection</th>\n",
       "      <th>contentType</th>\n",
       "    </tr>\n",
       "    <tr>\n",
       "      <th>mediaId</th>\n",
       "      <th></th>\n",
       "      <th></th>\n",
       "      <th></th>\n",
       "      <th></th>\n",
       "      <th></th>\n",
       "      <th></th>\n",
       "      <th></th>\n",
       "      <th></th>\n",
       "      <th></th>\n",
       "    </tr>\n",
       "  </thead>\n",
       "  <tbody>\n",
       "    <tr>\n",
       "      <th>ZB080800</th>\n",
       "      <td>Genève</td>\n",
       "      <td>76.18</td>\n",
       "      <td>78.46</td>\n",
       "      <td>Tant à Berne qu'à Genève,</td>\n",
       "      <td>/mnt/rts/0/0/8/ZB080800</td>\n",
       "      <td>1990-06-28T00:00:00Z</td>\n",
       "      <td>90.06.28</td>\n",
       "      <td>Télé journal</td>\n",
       "      <td>None</td>\n",
       "    </tr>\n",
       "    <tr>\n",
       "      <th>ZB080800</th>\n",
       "      <td>Bern</td>\n",
       "      <td>76.18</td>\n",
       "      <td>78.46</td>\n",
       "      <td>Tant à Berne qu'à Genève,</td>\n",
       "      <td>/mnt/rts/0/0/8/ZB080800</td>\n",
       "      <td>1990-06-28T00:00:00Z</td>\n",
       "      <td>90.06.28</td>\n",
       "      <td>Télé journal</td>\n",
       "      <td>None</td>\n",
       "    </tr>\n",
       "    <tr>\n",
       "      <th>ZB066800</th>\n",
       "      <td>Genève</td>\n",
       "      <td>156.00</td>\n",
       "      <td>159.00</td>\n",
       "      <td>la voix de Genève et de la Suisse du sud.</td>\n",
       "      <td>/mnt/rts/0/0/8/ZB066800</td>\n",
       "      <td>1999-03-01T00:00:00Z</td>\n",
       "      <td>PETER GOLDMARK PAR FRANK PEEL - 99.03.01 - IN ...</td>\n",
       "      <td>Les grands entretiens</td>\n",
       "      <td>Rencontres, entretiens, portraits</td>\n",
       "    </tr>\n",
       "    <tr>\n",
       "      <th>ZB066800</th>\n",
       "      <td>Genève</td>\n",
       "      <td>284.00</td>\n",
       "      <td>286.00</td>\n",
       "      <td>ou beaucoup d'organisations basées sur la Genève,</td>\n",
       "      <td>/mnt/rts/0/0/8/ZB066800</td>\n",
       "      <td>1999-03-01T00:00:00Z</td>\n",
       "      <td>PETER GOLDMARK PAR FRANK PEEL - 99.03.01 - IN ...</td>\n",
       "      <td>Les grands entretiens</td>\n",
       "      <td>Rencontres, entretiens, portraits</td>\n",
       "    </tr>\n",
       "    <tr>\n",
       "      <th>ZB066800</th>\n",
       "      <td>Genève</td>\n",
       "      <td>1276.00</td>\n",
       "      <td>1277.00</td>\n",
       "      <td>de Genève.</td>\n",
       "      <td>/mnt/rts/0/0/8/ZB066800</td>\n",
       "      <td>1999-03-01T00:00:00Z</td>\n",
       "      <td>PETER GOLDMARK PAR FRANK PEEL - 99.03.01 - IN ...</td>\n",
       "      <td>Les grands entretiens</td>\n",
       "      <td>Rencontres, entretiens, portraits</td>\n",
       "    </tr>\n",
       "  </tbody>\n",
       "</table>\n",
       "</div>"
      ],
      "text/plain": [
       "         location        s        e  \\\n",
       "mediaId                               \n",
       "ZB080800   Genève    76.18    78.46   \n",
       "ZB080800     Bern    76.18    78.46   \n",
       "ZB066800   Genève   156.00   159.00   \n",
       "ZB066800   Genève   284.00   286.00   \n",
       "ZB066800   Genève  1276.00  1277.00   \n",
       "\n",
       "                                                          t  \\\n",
       "mediaId                                                       \n",
       "ZB080800                          Tant à Berne qu'à Genève,   \n",
       "ZB080800                          Tant à Berne qu'à Genève,   \n",
       "ZB066800          la voix de Genève et de la Suisse du sud.   \n",
       "ZB066800  ou beaucoup d'organisations basées sur la Genève,   \n",
       "ZB066800                                         de Genève.   \n",
       "\n",
       "                  mediaFolderPath         publishedDate  \\\n",
       "mediaId                                                   \n",
       "ZB080800  /mnt/rts/0/0/8/ZB080800  1990-06-28T00:00:00Z   \n",
       "ZB080800  /mnt/rts/0/0/8/ZB080800  1990-06-28T00:00:00Z   \n",
       "ZB066800  /mnt/rts/0/0/8/ZB066800  1999-03-01T00:00:00Z   \n",
       "ZB066800  /mnt/rts/0/0/8/ZB066800  1999-03-01T00:00:00Z   \n",
       "ZB066800  /mnt/rts/0/0/8/ZB066800  1999-03-01T00:00:00Z   \n",
       "\n",
       "                                                      title  \\\n",
       "mediaId                                                       \n",
       "ZB080800                                           90.06.28   \n",
       "ZB080800                                           90.06.28   \n",
       "ZB066800  PETER GOLDMARK PAR FRANK PEEL - 99.03.01 - IN ...   \n",
       "ZB066800  PETER GOLDMARK PAR FRANK PEEL - 99.03.01 - IN ...   \n",
       "ZB066800  PETER GOLDMARK PAR FRANK PEEL - 99.03.01 - IN ...   \n",
       "\n",
       "                     collection                        contentType  \n",
       "mediaId                                                             \n",
       "ZB080800           Télé journal                               None  \n",
       "ZB080800           Télé journal                               None  \n",
       "ZB066800  Les grands entretiens  Rencontres, entretiens, portraits  \n",
       "ZB066800  Les grands entretiens  Rencontres, entretiens, portraits  \n",
       "ZB066800  Les grands entretiens  Rencontres, entretiens, portraits  "
      ]
     },
     "execution_count": 6,
     "metadata": {},
     "output_type": "execute_result"
    }
   ],
   "source": [
    "# Extract location from transcripts and build dataframe\n",
    "ts = rts.pipeline.load_all_transcripts(LOCAL_VIDEOS)\n",
    "fts = rts.features.text.build_location_df(ts)\n",
    "fts = rts.metadata.merge_location_df_with_metadata(sample_df, fts)\n",
    "fts.head()"
   ]
  },
  {
   "cell_type": "code",
   "execution_count": null,
   "metadata": {},
   "outputs": [],
   "source": []
  },
  {
   "cell_type": "code",
   "execution_count": null,
   "metadata": {},
   "outputs": [],
   "source": [
    "import PIL\n",
    "import os\n",
    "from PIL import ImageOps, Image"
   ]
  },
  {
   "cell_type": "code",
   "execution_count": null,
   "metadata": {},
   "outputs": [],
   "source": [
    "im = Image.open(os.path.join(OUTDIR, 'test_image.jpg'))\n",
    "rts.io.media.save_image_pyramid(im, Path(OUTDIR) / 'test_image_pyramid', 'test_image', True)"
   ]
  },
  {
   "cell_type": "code",
   "execution_count": 7,
   "metadata": {},
   "outputs": [],
   "source": [
    "video_path = os.path.join(LOCAL_VIDEOS, '0', '0', '0', 'ZB001000', 'ZB001000.mp4')\n",
    "# rts.io.media.get_media_info(video_path)\n",
    "\n",
    "# scenes = rts.io.media.detect_scenes(video_path)\n",
    "# scenes = rts.io.media.filter_scenes(scenes, 5)\n",
    "# clips = rts.io.media.save_scenes_images(scenes, video_path, OUTDIR)\n",
    "# rts.pipeline.save_scenes(clips, OUTDIR)"
   ]
  },
  {
   "cell_type": "code",
   "execution_count": 5,
   "metadata": {},
   "outputs": [
    {
     "name": "stdout",
     "output_type": "stream",
     "text": [
      "INFO:RTS:Loading spacy model: fr_core_news_lg\n"
     ]
    }
   ],
   "source": [
    "transcript = rts.pipeline.transcribe_media(\n",
    "    OUTDIR,\n",
    "    None, \n",
    "    force=False\n",
    ")\n",
    "\n",
    "t = rts.features.text.find_locations(transcript)"
   ]
  },
  {
   "cell_type": "code",
   "execution_count": 13,
   "metadata": {},
   "outputs": [],
   "source": [
    "clips = rts.pipeline.extract_location_clips_from_transcript(transcript,\n",
    "    25,\n",
    "    OUTDIR,\n",
    "    video_path,\n",
    "    min_seconds=3,\n",
    "    extend_duration=6,\n",
    "    num_images=3,\n",
    "    force=True\n",
    ")"
   ]
  },
  {
   "cell_type": "code",
   "execution_count": 66,
   "metadata": {},
   "outputs": [
    {
     "name": "stdout",
     "output_type": "stream",
     "text": [
      "185.96 191.96  --  172.72 186.4\n",
      "{'t': 'Demain, le personnel rencontrera à Berne la task force chargée de la future Crocer.', 's': '185.96', 'e': '191.96', 'locations': 'Bern'}\n",
      "351.96 354.96  --  361.88 373.56\n",
      "{'t': \"à Bellinzone, le chauffeur turc qui est à l'origine\", 's': '351.96', 'e': '354.96', 'locations': 'Bellinzona'}\n",
      "1091.36 1094.36  --  1081.08 1090.88\n",
      "1091.36 1094.36  --  1103.48 1110.24\n",
      "{'t': 'à Genève, Bern, Baal et Saint-Gal.', 's': '1091.36', 'e': '1094.36', 'locations': 'Bern | Genève | Basel | Sankt Gallen'}\n"
     ]
    }
   ],
   "source": [
    "res = rts.features.text.enrich_scenes_with_transcript(clips.copy(), t)\n",
    "# res"
   ]
  },
  {
   "cell_type": "code",
   "execution_count": 51,
   "metadata": {},
   "outputs": [],
   "source": [
    "swiss_cities = rts.features.text.get_swiss_cities()"
   ]
  },
  {
   "cell_type": "code",
   "execution_count": 26,
   "metadata": {},
   "outputs": [
    {
     "name": "stdout",
     "output_type": "stream",
     "text": [
      "ERROR:RTS:input length is 0: line 1 column 1 (char 0)\n",
      "ERROR:RTS:Video file not found.\n",
      "ERROR:RTS:Type is not JSON serializable: FrameTimecode\n"
     ]
    },
    {
     "data": {
      "text/plain": [
       "{'mediaId': 'ZB001000', 'status': 'fail', 'error': 'Could not extract scenes'}"
      ]
     },
     "execution_count": 26,
     "metadata": {},
     "output_type": "execute_result"
    }
   ],
   "source": [
    "input_video_folder = os.path.join(REMOTE_VIDEOS, '0', '0', '0', 'ZB001000')\n",
    "# input_video_folder = os.path.join(VIDEOS, '0', '0', 'ZB002000')\n",
    "# v, a = rts.io.archive.get_raw_video_audio_parts(input_video_folder)\n",
    "\n",
    "# '/'.join(input_video_folder.split('/')[-4:])\n",
    "# remuxed = rts.pipeline.create_optimized_media(input_video_folder, LOCAL_VIDEOS, force=True)\n",
    "# print(remuxed)\n",
    "\n",
    "rts.pipeline.process_media(input_video_folder, LOCAL_VIDEOS, \n",
    "    compute_transcript=False, force_scene=False, force_trans=False)"
   ]
  },
  {
   "cell_type": "code",
   "execution_count": null,
   "metadata": {},
   "outputs": [],
   "source": [
    "%ls {remux_folder}"
   ]
  },
  {
   "cell_type": "code",
   "execution_count": null,
   "metadata": {},
   "outputs": [],
   "source": [
    "fts.groupby('mediaId').count().sort_values('location', ascending=False)"
   ]
  },
  {
   "cell_type": "code",
   "execution_count": null,
   "metadata": {},
   "outputs": [],
   "source": [
    "fts"
   ]
  },
  {
   "cell_type": "code",
   "execution_count": null,
   "metadata": {},
   "outputs": [],
   "source": [
    "import weaviate\n",
    "\n",
    "client = weaviate.Client(\"http://localhost:8080\") # or another location where your Weaviate instance is running\n",
    "\n",
    "client.schema.get() # get the full schema as example"
   ]
  },
  {
   "cell_type": "code",
   "execution_count": null,
   "metadata": {},
   "outputs": [],
   "source": [
    "swiss_cities = rts.features.text.get_swiss_cities()"
   ]
  },
  {
   "cell_type": "code",
   "execution_count": null,
   "metadata": {},
   "outputs": [],
   "source": [
    "swiss_cities['Genève']"
   ]
  },
  {
   "cell_type": "code",
   "execution_count": null,
   "metadata": {},
   "outputs": [],
   "source": [
    "rts.utils.obj_to_json(r, os.path.join(OUTDIR, 'transcript.json'))"
   ]
  },
  {
   "cell_type": "code",
   "execution_count": null,
   "metadata": {},
   "outputs": [],
   "source": [
    "rts.io.media.to_mp3(a, os.path.join(OUTDIR, 'audio.mp3'))"
   ]
  },
  {
   "cell_type": "code",
   "execution_count": null,
   "metadata": {},
   "outputs": [],
   "source": [
    "rts.io.media.to_mp3(a, os.path.join(OUTDIR, 'audio.mp3'))"
   ]
  },
  {
   "cell_type": "code",
   "execution_count": null,
   "metadata": {},
   "outputs": [],
   "source": [
    "rts.io.media.extract_audio(a, os.path.join(OUTDIR, 'myaudio'))"
   ]
  },
  {
   "cell_type": "code",
   "execution_count": null,
   "metadata": {},
   "outputs": [],
   "source": [
    "import av\n",
    "import av.datasets\n",
    "\n",
    "\n",
    "video_part = os.path.join(VIDEOS, '0', '0', 'ZB001000')\n",
    "# video_part = os.path.join(VIDEOS, '0', '0', 'ZB002000')\n",
    "v, a = rts.io.archive.get_raw_video_audio_parts(video_part)\n",
    "out_path = os.path.join(OUTDIR, 'thumbs')\n",
    "\n",
    "content = v\n",
    "\n",
    "print(content)\n",
    "\n",
    "with av.open(content) as container:\n",
    "    # Signal that we only want to look at keyframes.\n",
    "    stream = container.streams.video[0]\n",
    "    stream.codec_context.skip_frame = \"NONKEY\"\n",
    "\n",
    "    # print(stream.codec_context.height)\n",
    "    for i, frame in enumerate(container.decode(stream)):\n",
    "        if i % 4 != 0:\n",
    "            continue\n",
    "\n",
    "\n",
    "    #     print(frame)\n",
    "    #     print(frame.time, frame.time_base)\n",
    "        # We use `frame.pts` as `frame.index` won't make must sense with the `skip_frame`.\n",
    "        frame.to_image().save(\n",
    "            os.path.join(out_path, f\"f{frame.pts:04d}.jpg\"),\n",
    "            quality=80,\n",
    "        )"
   ]
  },
  {
   "cell_type": "code",
   "execution_count": null,
   "metadata": {},
   "outputs": [],
   "source": [
    "thumbs_dir = os.path.join(OUTDIR, 'thumbs')\n",
    "outfast = './notebook/fastdup'\n",
    "fastdup_data = './notebook/out'"
   ]
  },
  {
   "cell_type": "code",
   "execution_count": null,
   "metadata": {},
   "outputs": [],
   "source": [
    "import fastdup"
   ]
  },
  {
   "cell_type": "code",
   "execution_count": null,
   "metadata": {},
   "outputs": [],
   "source": [
    "\n",
    "fastdup.run(input_dir=thumbs_dir, work_dir=fastdup_data, nearest_neighbors_k=8, turi_param='ccthreshold=0.90')    #main running function.\n",
    "# fastdup.create_duplicates_gallery('out/similarity.csv', save_path=outfast)     #create a visual gallery of found duplicates\n",
    "# fastdup.create_outliers_gallery('out/outliers.csv',   save_path=outfast)       #create a visual gallery of anomalies\n",
    "# fastdup.create_components_gallery(fastdup_data, save_path=outfast)                    #create visualiaiton of connected components\n",
    "# fastdup.create_stats_gallery('out', save_path=outfast, metric='blur')          #create visualization of images stastics (for example blur)\n",
    "# fastdup.create_similarity_gallery('out', save_path=outfast,get_label_func=lambda x: x.split('/')[-2])     #create visualization of top_k similar images assuming data have labels which are in the folder name\n",
    "# fastdup.create_aspect_ratio_gallery('out', save_path=outfast)"
   ]
  },
  {
   "cell_type": "code",
   "execution_count": null,
   "metadata": {},
   "outputs": [],
   "source": [
    "config = fastdup.load_config(fastdup_data)\n",
    "df = fastdup.galleries.do_find_top_components(work_dir=fastdup_data, input_dir=config['input_dir'], kwargs={})"
   ]
  }
 ],
 "metadata": {
  "kernelspec": {
   "display_name": "rts-506MfBOj-py3.10",
   "language": "python",
   "name": "python3"
  },
  "language_info": {
   "codemirror_mode": {
    "name": "ipython",
    "version": 3
   },
   "file_extension": ".py",
   "mimetype": "text/x-python",
   "name": "python",
   "nbconvert_exporter": "python",
   "pygments_lexer": "ipython3",
   "version": "3.10.9"
  },
  "orig_nbformat": 4,
  "vscode": {
   "interpreter": {
    "hash": "c55d7be6a9e4fc63ebfe3b5367c35465c736ea2b46c6214c810346aec19fcece"
   }
  }
 },
 "nbformat": 4,
 "nbformat_minor": 2
}
