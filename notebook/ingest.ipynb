{
 "cells": [
  {
   "cell_type": "code",
   "execution_count": 1,
   "metadata": {},
   "outputs": [
    {
     "name": "stdout",
     "output_type": "stream",
     "text": [
      "/home/kikohs/work/rts\n"
     ]
    }
   ],
   "source": [
    "%cd ..\n",
    "%load_ext autoreload\n",
    "%autoreload 2\n",
    "\n",
    "RTS_DATA = \"/mnt/d/rts/\"\n",
    "METADATA = RTS_DATA + 'metadata'\n",
    "VIDEOS = RTS_DATA + '0'\n",
    "REMOTE_VIDEOS = \"/mnt/rts\"\n",
    "OUTDIR = 'data'\n",
    "\n"
   ]
  },
  {
   "cell_type": "code",
   "execution_count": 2,
   "metadata": {},
   "outputs": [],
   "source": [
    "from datetime import datetime\n",
    "import orjson\n",
    "import pandas as pd\n",
    "import zipfile\n",
    "import os\n",
    "import io\n",
    "from typing import Dict, List, Optional, Tuple"
   ]
  },
  {
   "cell_type": "code",
   "execution_count": 3,
   "metadata": {},
   "outputs": [
    {
     "name": "stderr",
     "output_type": "stream",
     "text": [
      "/home/kikohs/.cache/pypoetry/virtualenvs/rts-DIiCth0j-py3.8/lib/python3.8/site-packages/tqdm/auto.py:22: TqdmWarning: IProgress not found. Please update jupyter and ipywidgets. See https://ipywidgets.readthedocs.io/en/stable/user_install.html\n",
      "  from .autonotebook import tqdm as notebook_tqdm\n"
     ]
    }
   ],
   "source": [
    "# LOCAL imports\n",
    "import rts\n",
    "\n",
    "LOG = rts.utils.get_logger()"
   ]
  },
  {
   "cell_type": "code",
   "execution_count": null,
   "metadata": {},
   "outputs": [],
   "source": [
    "# vidx = rts.ingest.read_video_folder_index(os.path.join(OUTDIR, 'vidx.json'))\n",
    "# df = rts.ingest.read_all_metadata(METADATA, vidx)\n",
    "# rts.ingest.metadata_to_hdf5(OUTDIR, 'rts_metadata', df)\n",
    "\n",
    "df = rts.ingest.load_metadata_hdf5(OUTDIR, 'rts_metadata')"
   ]
  },
  {
   "cell_type": "code",
   "execution_count": null,
   "metadata": {},
   "outputs": [],
   "source": [
    "client = rts.db.fulltext.get_client()\n",
    "midx = rts.db.fulltext.get_or_create_media_index(client)\n",
    "midx.get_stats().number_of_documents"
   ]
  },
  {
   "cell_type": "code",
   "execution_count": null,
   "metadata": {},
   "outputs": [],
   "source": [
    "#TODO get unique geo, people, for the whole media"
   ]
  },
  {
   "cell_type": "code",
   "execution_count": null,
   "metadata": {},
   "outputs": [],
   "source": [
    "a = df.groupby('collection')['collection'].count().sort_values(ascending=False)\n",
    "a.to_csv(os.path.join(OUTDIR, 'collections.csv'))"
   ]
  },
  {
   "cell_type": "code",
   "execution_count": null,
   "metadata": {},
   "outputs": [],
   "source": [
    "a = df.groupby('contentType')['contentType'].count().sort_values(ascending=False)\n",
    "a.to_csv(os.path.join(OUTDIR, 'contentType.csv'))"
   ]
  },
  {
   "cell_type": "code",
   "execution_count": null,
   "metadata": {},
   "outputs": [],
   "source": [
    "midx.delete_all_documents()"
   ]
  },
  {
   "cell_type": "code",
   "execution_count": null,
   "metadata": {},
   "outputs": [],
   "source": [
    "rts.db.fulltext.index_media(df, midx)"
   ]
  },
  {
   "cell_type": "code",
   "execution_count": 34,
   "metadata": {},
   "outputs": [],
   "source": [
    "r = rts.io.archive.transcribe_media(os.path.join(OUTDIR, 'myaudio.m4a'))"
   ]
  },
  {
   "cell_type": "code",
   "execution_count": null,
   "metadata": {},
   "outputs": [],
   "source": [
    "df.publishedBy.apply(lambda x: len(x) if x else 0).unique()"
   ]
  },
  {
   "cell_type": "code",
   "execution_count": null,
   "metadata": {},
   "outputs": [],
   "source": [
    "# midx = rts.db.meilisearch.get_or_create_media_index(client)\n",
    "midx.get_stats().number_of_documents"
   ]
  },
  {
   "cell_type": "code",
   "execution_count": null,
   "metadata": {},
   "outputs": [],
   "source": [
    "%ls {VIDEOS}"
   ]
  },
  {
   "cell_type": "code",
   "execution_count": 47,
   "metadata": {},
   "outputs": [
    {
     "data": {
      "text/plain": [
       "'/mnt/d/rts/0/0/0/ZB001000/export'"
      ]
     },
     "execution_count": 47,
     "metadata": {},
     "output_type": "execute_result"
    }
   ],
   "source": [
    "video_part = os.path.join(VIDEOS, '0', '0', 'ZB001000')\n",
    "# video_part = os.path.join(VIDEOS, '0', '0', 'ZB002000')\n",
    "v, a = rts.io.archive.get_raw_video_audio_parts(video_part)\n",
    "\n",
    "rts.io.archive.create_optimized_media(video_part)\n"
   ]
  },
  {
   "cell_type": "code",
   "execution_count": 38,
   "metadata": {},
   "outputs": [
    {
     "name": "stdout",
     "output_type": "stream",
     "text": [
      "INFO:RTS:Load model: small\n"
     ]
    }
   ],
   "source": [
    "a = os.path.join(VIDEOS, '0', '0', 'ZB002000', 'export', 'ZB002000_audio.m4a')\n",
    "r = rts.io.archive.transcribe_media(a, 'small')"
   ]
  },
  {
   "cell_type": "code",
   "execution_count": 40,
   "metadata": {},
   "outputs": [
    {
     "data": {
      "text/plain": [
       "True"
      ]
     },
     "execution_count": 40,
     "metadata": {},
     "output_type": "execute_result"
    }
   ],
   "source": [
    "rts.utils.obj_to_json(r, os.path.join(OUTDIR, 'transcript.json'))"
   ]
  },
  {
   "cell_type": "code",
   "execution_count": 19,
   "metadata": {},
   "outputs": [
    {
     "name": "stdout",
     "output_type": "stream",
     "text": [
      "WARNING:libav.libmp3lame:4 frames left in the queue on closing\n",
      "INFO:RTS:to_mp3 => 59664.23749923706 ms\n"
     ]
    },
    {
     "data": {
      "text/plain": [
       "'data/audio.mp3'"
      ]
     },
     "execution_count": 19,
     "metadata": {},
     "output_type": "execute_result"
    }
   ],
   "source": [
    "rts.io.media.to_mp3(a, os.path.join(OUTDIR, 'audio.mp3'))"
   ]
  },
  {
   "cell_type": "code",
   "execution_count": 34,
   "metadata": {},
   "outputs": [
    {
     "name": "stdout",
     "output_type": "stream",
     "text": [
      "WARNING:libav.libmp3lame:5 frames left in the queue on closing\n",
      "INFO:RTS:to_mp3 => 59204.33855056763 ms\n"
     ]
    },
    {
     "data": {
      "text/plain": [
       "'data/audio.mp3'"
      ]
     },
     "execution_count": 34,
     "metadata": {},
     "output_type": "execute_result"
    }
   ],
   "source": [
    "rts.io.media.to_mp3(a, os.path.join(OUTDIR, 'audio.mp3'))"
   ]
  },
  {
   "cell_type": "code",
   "execution_count": 38,
   "metadata": {},
   "outputs": [
    {
     "name": "stdout",
     "output_type": "stream",
     "text": [
      "INFO:RTS:remux_audio => 343.6279296875 ms\n"
     ]
    },
    {
     "data": {
      "text/plain": [
       "'data/myaudio.m4a'"
      ]
     },
     "execution_count": 38,
     "metadata": {},
     "output_type": "execute_result"
    }
   ],
   "source": [
    "rts.io.media.extract_audio(a, os.path.join(OUTDIR, 'myaudio'))"
   ]
  },
  {
   "cell_type": "code",
   "execution_count": 37,
   "metadata": {},
   "outputs": [
    {
     "name": "stdout",
     "output_type": "stream",
     "text": [
      "/mnt/d/rts/0/0/0/ZB001000/ZB001000_track1_dashinit.mp4\n"
     ]
    }
   ],
   "source": [
    "import av\n",
    "import av.datasets\n",
    "\n",
    "\n",
    "video_part = os.path.join(VIDEOS, '0', '0', 'ZB001000')\n",
    "# video_part = os.path.join(VIDEOS, '0', '0', 'ZB002000')\n",
    "v, a = rts.io.archive.get_raw_video_audio_parts(video_part)\n",
    "out_path = os.path.join(OUTDIR, 'thumbs')\n",
    "\n",
    "content = v\n",
    "\n",
    "print(content)\n",
    "\n",
    "with av.open(content) as container:\n",
    "    # Signal that we only want to look at keyframes.\n",
    "    stream = container.streams.video[0]\n",
    "    stream.codec_context.skip_frame = \"NONKEY\"\n",
    "\n",
    "    # print(stream.codec_context.height)\n",
    "    for i, frame in enumerate(container.decode(stream)):\n",
    "        if i % 4 != 0:\n",
    "            continue\n",
    "\n",
    "\n",
    "    #     print(frame)\n",
    "    #     print(frame.time, frame.time_base)\n",
    "        # We use `frame.pts` as `frame.index` won't make must sense with the `skip_frame`.\n",
    "        frame.to_image().save(\n",
    "            os.path.join(out_path, f\"f{frame.pts:04d}.jpg\"),\n",
    "            quality=80,\n",
    "        )"
   ]
  },
  {
   "cell_type": "code",
   "execution_count": 15,
   "metadata": {},
   "outputs": [],
   "source": [
    "thumbs_dir = os.path.join(OUTDIR, 'thumbs')\n",
    "outfast = './notebook/fastdup'\n",
    "fastdup_data = './notebook/out'"
   ]
  },
  {
   "cell_type": "code",
   "execution_count": null,
   "metadata": {},
   "outputs": [],
   "source": [
    "import fastdup"
   ]
  },
  {
   "cell_type": "code",
   "execution_count": 30,
   "metadata": {},
   "outputs": [
    {
     "name": "stdout",
     "output_type": "stream",
     "text": [
      "FastDup Software, (C) copyright 2022 Dr. Amir Alush and Dr. Danny Bickson.\n",
      "Going to loop over dir data/thumbs\n",
      "Found total 1349 images to run on\n",
      "Found total 1349 images to run on■■■■■■■■■■■■■■■■■■] 100% Estimated: 0 Minutes 0 Features Minutes 0 Features\n",
      "93) Finished write_index() NN model\n",
      "Stored nn model index file notebook/out/nnf.index\n",
      "Total time took 2154 ms\n",
      "Found a total of 653 fully identical images (d>0.990), which are 5.38 %\n",
      "Found a total of 1089 nearly identical images(d>0.980), which are 8.97 %\n",
      "Found a total of 5126 above threshold images (d>0.900), which are 42.22 %\n",
      "Found a total of 539 outlier images         (d<0.050), which are 4.44 %\n",
      "Min distance found 0.373 max distance 1.000\n",
      "\u001b[1;32m1671538480 : INFO:     (add_vertices:460): Num vertices for group 0: 1349\n",
      "\u001b[0m\u001b[1;32m1671538480 : INFO:     (commit_edge_buffer:609): In commit edge buffer (0,0)\n",
      "\u001b[0m\u001b[1;32m1671538480 : INFO:     (commit_edge_buffer:680): Shuffling edges ...\n",
      "\u001b[0m\u001b[1;32m1671538480 : INFO:     (commit_edge_buffer:688): Done shuffling edges in 0.005069 secs\n",
      "\u001b[0m\u001b[1;32m1671538480 : INFO:     (commit_edge_buffer:692): Aggregating unique vertices...\n",
      "\u001b[0m\u001b[1;32m1671538480 : INFO:     (commit_edge_buffer:705): Done aggregating unique vertex in 0.001483 secs\n",
      "\u001b[0m\u001b[1;32m1671538480 : INFO:     (commit_edge_buffer:713): Combine vertex data\n",
      "\u001b[0m\u001b[1;32m1671538480 : INFO:     (commit_edge_buffer:779): Done phase 2 in 0.001526 secs\n",
      "\u001b[0m\u001b[1;32m1671538480 : INFO:     (commit_edge_buffer:787): Rename id columns \n",
      "\u001b[0m\u001b[1;32m1671538480 : INFO:     (commit_edge_buffer:890): Done in 0.012666 secs\n",
      "\u001b[0m\u001b[1;32m1671538480 : INFO:     (commit_edge_buffer:892): Finish committing edge in 0.020864 secs\n",
      "\u001b[0m\u001b[1;32m1671538480 : INFO:     (add_edges:584): Num vertices for group 0: 1349\n",
      "\u001b[0m\u001b[1;32mNum vertices for group 0: 1349\n",
      "\u001b[0m\u001b[1;32mNum edges 0 -> 0: 5135\n",
      "\u001b[0m1671538480 : PROGRESS: (_p:516): +-----------------------------+\n",
      "\u001b[0m1671538480 : PROGRESS: (_p:516): | Number of components merged |\n",
      "\u001b[0m1671538480 : PROGRESS: (_p:516): +-----------------------------+\n",
      "\u001b[0m1671538480 : PROGRESS: (_p:516): | 4259                        |\n",
      "\u001b[0m1671538480 : PROGRESS: (_p:516): | 0                           |\n",
      "\u001b[0m1671538480 : PROGRESS: (_p:516): +-----------------------------+\n",
      "\u001b[0m1671538480 : PROGRESS: (triple_apply_pagerank:69): Counting out degree\n",
      "\u001b[0m1671538480 : PROGRESS: (triple_apply_pagerank:78): Done counting out degree\n",
      "\u001b[0m1671538480 : PROGRESS: (_p:516): +-----------+-----------------------+\n",
      "\u001b[0m1671538480 : PROGRESS: (_p:516): | Iteration | L1 change in pagerank |\n",
      "\u001b[0m1671538480 : PROGRESS: (_p:516): +-----------+-----------------------+\n",
      "\u001b[0m1671538480 : PROGRESS: (_p:516): | 1         | 515.157               |\n",
      "\u001b[0m1671538481 : PROGRESS: (_p:516): | 2         | 70.9576               |\n",
      "\u001b[0m1671538481 : PROGRESS: (_p:516): | 3         | 33.8131               |\n",
      "\u001b[0m1671538481 : PROGRESS: (_p:516): | 4         | 20.0152               |\n",
      "\u001b[0m1671538481 : PROGRESS: (_p:516): | 5         | 13.1083               |\n",
      "\u001b[0m1671538481 : PROGRESS: (_p:516): | 6         | 9.16161               |\n",
      "\u001b[0m1671538481 : PROGRESS: (_p:516): | 7         | 6.80721               |\n",
      "\u001b[0m1671538481 : PROGRESS: (_p:516): | 8         | 5.19874               |\n",
      "\u001b[0m1671538482 : PROGRESS: (_p:516): | 9         | 4.08732               |\n",
      "\u001b[0m1671538482 : PROGRESS: (_p:516): | 10        | 3.24744               |\n",
      "\u001b[0m1671538482 : PROGRESS: (_p:516): | 11        | 2.61431               |\n",
      "\u001b[0m1671538482 : PROGRESS: (_p:516): | 12        | 2.11933               |\n",
      "\u001b[0m1671538482 : PROGRESS: (_p:516): | 13        | 1.73349               |\n",
      "\u001b[0m1671538482 : PROGRESS: (_p:516): | 14        | 1.4231                |\n",
      "\u001b[0m1671538482 : PROGRESS: (_p:516): | 15        | 1.17354               |\n",
      "\u001b[0m1671538483 : PROGRESS: (_p:516): | 16        | 0.97048               |\n",
      "\u001b[0m1671538483 : PROGRESS: (_p:516): | 17        | 0.805255              |\n",
      "\u001b[0m1671538483 : PROGRESS: (_p:516): | 18        | 0.669843              |\n",
      "\u001b[0m1671538483 : PROGRESS: (_p:516): | 19        | 0.5586                |\n",
      "\u001b[0m1671538483 : PROGRESS: (_p:516): | 20        | 0.466758              |\n",
      "\u001b[0m1671538483 : PROGRESS: (_p:516): +-----------+-----------------------+\n",
      "\u001b[0mWrote total of 1349 components \n"
     ]
    },
    {
     "data": {
      "text/plain": [
       "0"
      ]
     },
     "execution_count": 30,
     "metadata": {},
     "output_type": "execute_result"
    }
   ],
   "source": [
    "\n",
    "fastdup.run(input_dir=thumbs_dir, work_dir=fastdup_data, nearest_neighbors_k=8, turi_param='ccthreshold=0.90')    #main running function.\n",
    "# fastdup.create_duplicates_gallery('out/similarity.csv', save_path=outfast)     #create a visual gallery of found duplicates\n",
    "# fastdup.create_outliers_gallery('out/outliers.csv',   save_path=outfast)       #create a visual gallery of anomalies\n",
    "# fastdup.create_components_gallery(fastdup_data, save_path=outfast)                    #create visualiaiton of connected components\n",
    "# fastdup.create_stats_gallery('out', save_path=outfast, metric='blur')          #create visualization of images stastics (for example blur)\n",
    "# fastdup.create_similarity_gallery('out', save_path=outfast,get_label_func=lambda x: x.split('/')[-2])     #create visualization of top_k similar images assuming data have labels which are in the folder name\n",
    "# fastdup.create_aspect_ratio_gallery('out', save_path=outfast)"
   ]
  },
  {
   "cell_type": "code",
   "execution_count": 31,
   "metadata": {},
   "outputs": [],
   "source": [
    "config = fastdup.load_config(fastdup_data)\n",
    "df = fastdup.galleries.do_find_top_components(work_dir=fastdup_data, input_dir=config['input_dir'], kwargs={})"
   ]
  },
  {
   "cell_type": "code",
   "execution_count": 32,
   "metadata": {},
   "outputs": [
    {
     "data": {
      "text/plain": [
       "986"
      ]
     },
     "execution_count": 32,
     "metadata": {},
     "output_type": "execute_result"
    }
   ],
   "source": [
    "df.len.sum()"
   ]
  },
  {
   "cell_type": "code",
   "execution_count": 35,
   "metadata": {},
   "outputs": [
    {
     "data": {
      "text/html": [
       "<div>\n",
       "<style scoped>\n",
       "    .dataframe tbody tr th:only-of-type {\n",
       "        vertical-align: middle;\n",
       "    }\n",
       "\n",
       "    .dataframe tbody tr th {\n",
       "        vertical-align: top;\n",
       "    }\n",
       "\n",
       "    .dataframe thead th {\n",
       "        text-align: right;\n",
       "    }\n",
       "</style>\n",
       "<table border=\"1\" class=\"dataframe\">\n",
       "  <thead>\n",
       "    <tr style=\"text-align: right;\">\n",
       "      <th></th>\n",
       "      <th>component_id</th>\n",
       "      <th>files</th>\n",
       "      <th>distance</th>\n",
       "      <th>len</th>\n",
       "    </tr>\n",
       "  </thead>\n",
       "  <tbody>\n",
       "    <tr>\n",
       "      <th>183</th>\n",
       "      <td>451</td>\n",
       "      <td>[data/thumbs/night-sky.10600448.jpg, data/thumbs/night-sky.10626048.jpg, data/thumbs/night-sky.10651648.jpg, data/thumbs/night-sky.10677248.jpg, data/thumbs/night-sky.10702848.jpg, data/thumbs/night-sky.10728448.jpg, data/thumbs/night-sky.10754048.jpg, data/thumbs/night-sky.10779648.jpg, data/thumbs/night-sky.10805248.jpg, data/thumbs/night-sky.10830848.jpg, data/thumbs/night-sky.10856448.jpg, data/thumbs/night-sky.10882048.jpg, data/thumbs/night-sky.10907648.jpg, data/thumbs/night-sky.10933248.jpg, data/thumbs/night-sky.1221632.jpg, data/thumbs/night-sky.1247232.jpg, data/thumbs/night-sky.1272832.jpg, data/thumbs/night-sky.12982272.jpg, data/thumbs/night-sky.1298432.jpg, data/thumbs/night-sky.13007872.jpg, data/thumbs/night-sky.13033472.jpg, data/thumbs/night-sky.13059072.jpg, data/thumbs/night-sky.1324032.jpg, data/thumbs/night-sky.13353984.jpg, data/thumbs/night-sky.13379584.jpg, data/thumbs/night-sky.13405184.jpg, data/thumbs/night-sky.13430784.jpg, data/thumbs/night-sky.13456384.jpg, data/thumbs/night-sky.13481984.jpg, data/thumbs/night-sky.1349632.jpg, data/thumbs/night-sky.13507584.jpg, data/thumbs/night-sky.13533184.jpg, data/thumbs/night-sky.13558784.jpg, data/thumbs/night-sky.13584384.jpg, data/thumbs/night-sky.13609984.jpg, data/thumbs/night-sky.13635584.jpg, data/thumbs/night-sky.13661184.jpg, data/thumbs/night-sky.1375232.jpg, data/thumbs/night-sky.1400832.jpg, data/thumbs/night-sky.1426432.jpg, data/thumbs/night-sky.15896576.jpg, data/thumbs/night-sky.15922176.jpg, data/thumbs/night-sky.15947776.jpg, data/thumbs/night-sky.15973376.jpg, data/thumbs/night-sky.15998976.jpg, data/thumbs/night-sky.16231424.jpg, data/thumbs/night-sky.16257024.jpg, data/thumbs/night-sky.16282624.jpg, data/thumbs/night-sky.16308224.jpg, data/thumbs/night-sky.16333824.jpg, data/thumbs/night-sky.16359424.jpg, data/thumbs/night-sky.16385024.jpg, data/thumbs/night-sky.16410624.jpg, data/thumbs/night-sky.16436224.jpg, data/thumbs/night-sky.17835520.jpg, data/thumbs/night-sky.17861120.jpg, data/thumbs/night-sky.17886720.jpg, data/thumbs/night-sky.17912320.jpg, data/thumbs/night-sky.17937920.jpg, data/thumbs/night-sky.17963520.jpg, data/thumbs/night-sky.18614784.jpg, data/thumbs/night-sky.18640384.jpg, data/thumbs/night-sky.18665984.jpg, data/thumbs/night-sky.18691584.jpg, data/thumbs/night-sky.18717184.jpg, data/thumbs/night-sky.18742784.jpg, data/thumbs/night-sky.18768384.jpg, data/thumbs/night-sky.18793984.jpg, data/thumbs/night-sky.18819584.jpg, data/thumbs/night-sky.18845184.jpg, data/thumbs/night-sky.18870784.jpg, data/thumbs/night-sky.20907008.jpg, data/thumbs/night-sky.20932608.jpg, data/thumbs/night-sky.20958208.jpg, data/thumbs/night-sky.20983808.jpg, data/thumbs/night-sky.21009408.jpg, data/thumbs/night-sky.21035008.jpg, data/thumbs/night-sky.21060608.jpg, data/thumbs/night-sky.21086208.jpg, data/thumbs/night-sky.21111808.jpg, data/thumbs/night-sky.21137408.jpg, data/thumbs/night-sky.21163008.jpg, data/thumbs/night-sky.4319232.jpg, data/thumbs/night-sky.4344832.jpg, data/thumbs/night-sky.4370432.jpg, data/thumbs/night-sky.4396032.jpg, data/thumbs/night-sky.4421632.jpg, data/thumbs/night-sky.4447232.jpg, data/thumbs/night-sky.5489664.jpg, data/thumbs/night-sky.5515264.jpg, data/thumbs/night-sky.5540864.jpg, data/thumbs/night-sky.5566464.jpg]</td>\n",
       "      <td>0.900418</td>\n",
       "      <td>92</td>\n",
       "    </tr>\n",
       "    <tr>\n",
       "      <th>191</th>\n",
       "      <td>471</td>\n",
       "      <td>[data/thumbs/night-sky.10011648.jpg, data/thumbs/night-sky.10037248.jpg, data/thumbs/night-sky.10062848.jpg, data/thumbs/night-sky.10088448.jpg, data/thumbs/night-sky.10114048.jpg, data/thumbs/night-sky.10139648.jpg, data/thumbs/night-sky.10165248.jpg, data/thumbs/night-sky.10190848.jpg, data/thumbs/night-sky.10216448.jpg, data/thumbs/night-sky.10242048.jpg, data/thumbs/night-sky.10267648.jpg, data/thumbs/night-sky.10293248.jpg, data/thumbs/night-sky.10318848.jpg, data/thumbs/night-sky.10344448.jpg, data/thumbs/night-sky.10370048.jpg, data/thumbs/night-sky.10395648.jpg, data/thumbs/night-sky.10421248.jpg, data/thumbs/night-sky.10446848.jpg, data/thumbs/night-sky.10472448.jpg, data/thumbs/night-sky.10498048.jpg, data/thumbs/night-sky.10523648.jpg, data/thumbs/night-sky.10549248.jpg, data/thumbs/night-sky.10574848.jpg, data/thumbs/night-sky.8357376.jpg, data/thumbs/night-sky.8382976.jpg, data/thumbs/night-sky.8408576.jpg, data/thumbs/night-sky.8434176.jpg, data/thumbs/night-sky.8459776.jpg, data/thumbs/night-sky.8485376.jpg, data/thumbs/night-sky.8510976.jpg, data/thumbs/night-sky.8536576.jpg, data/thumbs/night-sky.8562176.jpg, data/thumbs/night-sky.8587776.jpg, data/thumbs/night-sky.8613376.jpg, data/thumbs/night-sky.8638976.jpg, data/thumbs/night-sky.8664576.jpg, data/thumbs/night-sky.8690176.jpg, data/thumbs/night-sky.8715776.jpg, data/thumbs/night-sky.8741376.jpg, data/thumbs/night-sky.8766976.jpg, data/thumbs/night-sky.8792576.jpg, data/thumbs/night-sky.8818176.jpg, data/thumbs/night-sky.8843776.jpg, data/thumbs/night-sky.8869376.jpg, data/thumbs/night-sky.8894976.jpg, data/thumbs/night-sky.8920576.jpg, data/thumbs/night-sky.8946176.jpg, data/thumbs/night-sky.8971776.jpg, data/thumbs/night-sky.8997376.jpg, data/thumbs/night-sky.9022976.jpg, data/thumbs/night-sky.9048576.jpg, data/thumbs/night-sky.9266176.jpg, data/thumbs/night-sky.9291776.jpg, data/thumbs/night-sky.9317376.jpg, data/thumbs/night-sky.9342976.jpg, data/thumbs/night-sky.9368576.jpg, data/thumbs/night-sky.9394176.jpg, data/thumbs/night-sky.9419776.jpg, data/thumbs/night-sky.9445376.jpg, data/thumbs/night-sky.9470976.jpg, data/thumbs/night-sky.9496576.jpg, data/thumbs/night-sky.9522176.jpg, data/thumbs/night-sky.9547776.jpg, data/thumbs/night-sky.9573376.jpg, data/thumbs/night-sky.9598976.jpg, data/thumbs/night-sky.9624576.jpg, data/thumbs/night-sky.9650176.jpg, data/thumbs/night-sky.9701376.jpg, data/thumbs/night-sky.9726976.jpg, data/thumbs/night-sky.9752576.jpg, data/thumbs/night-sky.9986048.jpg]</td>\n",
       "      <td>0.939749</td>\n",
       "      <td>71</td>\n",
       "    </tr>\n",
       "    <tr>\n",
       "      <th>268</th>\n",
       "      <td>648</td>\n",
       "      <td>[data/thumbs/night-sky.1009664.jpg, data/thumbs/night-sky.1035264.jpg, data/thumbs/night-sky.1060864.jpg, data/thumbs/night-sky.2841600.jpg, data/thumbs/night-sky.2867200.jpg, data/thumbs/night-sky.2892800.jpg, data/thumbs/night-sky.2918400.jpg, data/thumbs/night-sky.2944000.jpg, data/thumbs/night-sky.2969600.jpg, data/thumbs/night-sky.3141120.jpg, data/thumbs/night-sky.3166720.jpg, data/thumbs/night-sky.4776448.jpg, data/thumbs/night-sky.4802048.jpg, data/thumbs/night-sky.4827648.jpg, data/thumbs/night-sky.4853248.jpg, data/thumbs/night-sky.4878848.jpg, data/thumbs/night-sky.4904448.jpg, data/thumbs/night-sky.4930048.jpg, data/thumbs/night-sky.4955648.jpg, data/thumbs/night-sky.4981248.jpg, data/thumbs/night-sky.5006848.jpg, data/thumbs/night-sky.6266368.jpg, data/thumbs/night-sky.6291968.jpg, data/thumbs/night-sky.6317568.jpg, data/thumbs/night-sky.6343168.jpg, data/thumbs/night-sky.6368768.jpg, data/thumbs/night-sky.6394368.jpg, data/thumbs/night-sky.6419968.jpg, data/thumbs/night-sky.6445568.jpg, data/thumbs/night-sky.6471168.jpg, data/thumbs/night-sky.856064.jpg, data/thumbs/night-sky.881664.jpg, data/thumbs/night-sky.907264.jpg, data/thumbs/night-sky.932864.jpg, data/thumbs/night-sky.958464.jpg, data/thumbs/night-sky.984064.jpg]</td>\n",
       "      <td>0.931198</td>\n",
       "      <td>36</td>\n",
       "    </tr>\n",
       "    <tr>\n",
       "      <th>57</th>\n",
       "      <td>142</td>\n",
       "      <td>[data/thumbs/night-sky.109056.jpg, data/thumbs/night-sky.134656.jpg, data/thumbs/night-sky.160256.jpg, data/thumbs/night-sky.185856.jpg, data/thumbs/night-sky.211456.jpg, data/thumbs/night-sky.237056.jpg, data/thumbs/night-sky.262656.jpg, data/thumbs/night-sky.288256.jpg, data/thumbs/night-sky.313856.jpg, data/thumbs/night-sky.32256.jpg, data/thumbs/night-sky.339456.jpg, data/thumbs/night-sky.365056.jpg, data/thumbs/night-sky.390656.jpg, data/thumbs/night-sky.416256.jpg, data/thumbs/night-sky.441856.jpg, data/thumbs/night-sky.467456.jpg, data/thumbs/night-sky.493056.jpg, data/thumbs/night-sky.518656.jpg, data/thumbs/night-sky.544256.jpg, data/thumbs/night-sky.569856.jpg, data/thumbs/night-sky.57856.jpg, data/thumbs/night-sky.595456.jpg, data/thumbs/night-sky.621056.jpg, data/thumbs/night-sky.646656.jpg, data/thumbs/night-sky.6656.jpg, data/thumbs/night-sky.672256.jpg, data/thumbs/night-sky.689152.jpg, data/thumbs/night-sky.694272.jpg, data/thumbs/night-sky.701952.jpg, data/thumbs/night-sky.705024.jpg, data/thumbs/night-sky.7401984.jpg, data/thumbs/night-sky.7427584.jpg, data/thumbs/night-sky.768512.jpg, data/thumbs/night-sky.800768.jpg, data/thumbs/night-sky.83456.jpg]</td>\n",
       "      <td>0.900983</td>\n",
       "      <td>35</td>\n",
       "    </tr>\n",
       "    <tr>\n",
       "      <th>32</th>\n",
       "      <td>79</td>\n",
       "      <td>[data/thumbs/night-sky.1196032.jpg, data/thumbs/night-sky.13889024.jpg, data/thumbs/night-sky.13914624.jpg, data/thumbs/night-sky.13940224.jpg, data/thumbs/night-sky.14211072.jpg, data/thumbs/night-sky.14236672.jpg, data/thumbs/night-sky.14262272.jpg, data/thumbs/night-sky.14287872.jpg, data/thumbs/night-sky.14313472.jpg, data/thumbs/night-sky.14339072.jpg, data/thumbs/night-sky.14364672.jpg, data/thumbs/night-sky.18210304.jpg, data/thumbs/night-sky.18235904.jpg, data/thumbs/night-sky.18261504.jpg, data/thumbs/night-sky.18287104.jpg, data/thumbs/night-sky.18312704.jpg, data/thumbs/night-sky.18338304.jpg, data/thumbs/night-sky.20532224.jpg, data/thumbs/night-sky.20557824.jpg, data/thumbs/night-sky.20583424.jpg, data/thumbs/night-sky.20609024.jpg, data/thumbs/night-sky.2554880.jpg, data/thumbs/night-sky.2580480.jpg, data/thumbs/night-sky.2606080.jpg, data/thumbs/night-sky.2631680.jpg, data/thumbs/night-sky.2657280.jpg, data/thumbs/night-sky.2682880.jpg, data/thumbs/night-sky.2708480.jpg, data/thumbs/night-sky.2734080.jpg, data/thumbs/night-sky.2759680.jpg, data/thumbs/night-sky.2785280.jpg, data/thumbs/night-sky.2810880.jpg]</td>\n",
       "      <td>0.936055</td>\n",
       "      <td>32</td>\n",
       "    </tr>\n",
       "    <tr>\n",
       "      <th>...</th>\n",
       "      <td>...</td>\n",
       "      <td>...</td>\n",
       "      <td>...</td>\n",
       "      <td>...</td>\n",
       "    </tr>\n",
       "    <tr>\n",
       "      <th>285</th>\n",
       "      <td>693</td>\n",
       "      <td>[data/thumbs/night-sky.6403072.jpg, data/thumbs/night-sky.6428160.jpg]</td>\n",
       "      <td>0.919683</td>\n",
       "      <td>2</td>\n",
       "    </tr>\n",
       "    <tr>\n",
       "      <th>276</th>\n",
       "      <td>671</td>\n",
       "      <td>[data/thumbs/night-sky.5058560.jpg, data/thumbs/night-sky.5084160.jpg]</td>\n",
       "      <td>0.990013</td>\n",
       "      <td>2</td>\n",
       "    </tr>\n",
       "    <tr>\n",
       "      <th>113</th>\n",
       "      <td>278</td>\n",
       "      <td>[data/thumbs/night-sky.13252096.jpg, data/thumbs/night-sky.13277696.jpg]</td>\n",
       "      <td>0.944915</td>\n",
       "      <td>2</td>\n",
       "    </tr>\n",
       "    <tr>\n",
       "      <th>114</th>\n",
       "      <td>279</td>\n",
       "      <td>[data/thumbs/night-sky.1148928.jpg, data/thumbs/night-sky.1174528.jpg]</td>\n",
       "      <td>0.909330</td>\n",
       "      <td>2</td>\n",
       "    </tr>\n",
       "    <tr>\n",
       "      <th>549</th>\n",
       "      <td>1348</td>\n",
       "      <td>[data/thumbs/night-sky.573440.jpg, data/thumbs/night-sky.577536.jpg]</td>\n",
       "      <td>0.939750</td>\n",
       "      <td>2</td>\n",
       "    </tr>\n",
       "  </tbody>\n",
       "</table>\n",
       "<p>187 rows × 4 columns</p>\n",
       "</div>"
      ],
      "text/plain": [
       "     component_id  \\\n",
       "183           451   \n",
       "191           471   \n",
       "268           648   \n",
       "57            142   \n",
       "32             79   \n",
       "..            ...   \n",
       "285           693   \n",
       "276           671   \n",
       "113           278   \n",
       "114           279   \n",
       "549          1348   \n",
       "\n",
       "                                                                                                                                                                                                                                                                                                                                                                                                                                                                                                                                                                                                                                                                                                                                                                                                                                                                                                                                                                                                                                                                                                                                                                                                                                                                                                                                                                                                                                                                                                                                                                                                                                                                                                                                                                                                                                                                                                                                                                                                                                                                                                                                                                                                                                                                                                                                                                                                                                                                                                                                                                                                                                                                                                                                                                                                                                                                                                                                                                                                                                                                                                                                                                                                                                                                                                                                                                                                                             files  \\\n",
       "183  [data/thumbs/night-sky.10600448.jpg, data/thumbs/night-sky.10626048.jpg, data/thumbs/night-sky.10651648.jpg, data/thumbs/night-sky.10677248.jpg, data/thumbs/night-sky.10702848.jpg, data/thumbs/night-sky.10728448.jpg, data/thumbs/night-sky.10754048.jpg, data/thumbs/night-sky.10779648.jpg, data/thumbs/night-sky.10805248.jpg, data/thumbs/night-sky.10830848.jpg, data/thumbs/night-sky.10856448.jpg, data/thumbs/night-sky.10882048.jpg, data/thumbs/night-sky.10907648.jpg, data/thumbs/night-sky.10933248.jpg, data/thumbs/night-sky.1221632.jpg, data/thumbs/night-sky.1247232.jpg, data/thumbs/night-sky.1272832.jpg, data/thumbs/night-sky.12982272.jpg, data/thumbs/night-sky.1298432.jpg, data/thumbs/night-sky.13007872.jpg, data/thumbs/night-sky.13033472.jpg, data/thumbs/night-sky.13059072.jpg, data/thumbs/night-sky.1324032.jpg, data/thumbs/night-sky.13353984.jpg, data/thumbs/night-sky.13379584.jpg, data/thumbs/night-sky.13405184.jpg, data/thumbs/night-sky.13430784.jpg, data/thumbs/night-sky.13456384.jpg, data/thumbs/night-sky.13481984.jpg, data/thumbs/night-sky.1349632.jpg, data/thumbs/night-sky.13507584.jpg, data/thumbs/night-sky.13533184.jpg, data/thumbs/night-sky.13558784.jpg, data/thumbs/night-sky.13584384.jpg, data/thumbs/night-sky.13609984.jpg, data/thumbs/night-sky.13635584.jpg, data/thumbs/night-sky.13661184.jpg, data/thumbs/night-sky.1375232.jpg, data/thumbs/night-sky.1400832.jpg, data/thumbs/night-sky.1426432.jpg, data/thumbs/night-sky.15896576.jpg, data/thumbs/night-sky.15922176.jpg, data/thumbs/night-sky.15947776.jpg, data/thumbs/night-sky.15973376.jpg, data/thumbs/night-sky.15998976.jpg, data/thumbs/night-sky.16231424.jpg, data/thumbs/night-sky.16257024.jpg, data/thumbs/night-sky.16282624.jpg, data/thumbs/night-sky.16308224.jpg, data/thumbs/night-sky.16333824.jpg, data/thumbs/night-sky.16359424.jpg, data/thumbs/night-sky.16385024.jpg, data/thumbs/night-sky.16410624.jpg, data/thumbs/night-sky.16436224.jpg, data/thumbs/night-sky.17835520.jpg, data/thumbs/night-sky.17861120.jpg, data/thumbs/night-sky.17886720.jpg, data/thumbs/night-sky.17912320.jpg, data/thumbs/night-sky.17937920.jpg, data/thumbs/night-sky.17963520.jpg, data/thumbs/night-sky.18614784.jpg, data/thumbs/night-sky.18640384.jpg, data/thumbs/night-sky.18665984.jpg, data/thumbs/night-sky.18691584.jpg, data/thumbs/night-sky.18717184.jpg, data/thumbs/night-sky.18742784.jpg, data/thumbs/night-sky.18768384.jpg, data/thumbs/night-sky.18793984.jpg, data/thumbs/night-sky.18819584.jpg, data/thumbs/night-sky.18845184.jpg, data/thumbs/night-sky.18870784.jpg, data/thumbs/night-sky.20907008.jpg, data/thumbs/night-sky.20932608.jpg, data/thumbs/night-sky.20958208.jpg, data/thumbs/night-sky.20983808.jpg, data/thumbs/night-sky.21009408.jpg, data/thumbs/night-sky.21035008.jpg, data/thumbs/night-sky.21060608.jpg, data/thumbs/night-sky.21086208.jpg, data/thumbs/night-sky.21111808.jpg, data/thumbs/night-sky.21137408.jpg, data/thumbs/night-sky.21163008.jpg, data/thumbs/night-sky.4319232.jpg, data/thumbs/night-sky.4344832.jpg, data/thumbs/night-sky.4370432.jpg, data/thumbs/night-sky.4396032.jpg, data/thumbs/night-sky.4421632.jpg, data/thumbs/night-sky.4447232.jpg, data/thumbs/night-sky.5489664.jpg, data/thumbs/night-sky.5515264.jpg, data/thumbs/night-sky.5540864.jpg, data/thumbs/night-sky.5566464.jpg]   \n",
       "191                                                                                                                                                                                                                                                                                                                                                                                                                                                                                                                                                                                                                                                                                                                                                                                                                   [data/thumbs/night-sky.10011648.jpg, data/thumbs/night-sky.10037248.jpg, data/thumbs/night-sky.10062848.jpg, data/thumbs/night-sky.10088448.jpg, data/thumbs/night-sky.10114048.jpg, data/thumbs/night-sky.10139648.jpg, data/thumbs/night-sky.10165248.jpg, data/thumbs/night-sky.10190848.jpg, data/thumbs/night-sky.10216448.jpg, data/thumbs/night-sky.10242048.jpg, data/thumbs/night-sky.10267648.jpg, data/thumbs/night-sky.10293248.jpg, data/thumbs/night-sky.10318848.jpg, data/thumbs/night-sky.10344448.jpg, data/thumbs/night-sky.10370048.jpg, data/thumbs/night-sky.10395648.jpg, data/thumbs/night-sky.10421248.jpg, data/thumbs/night-sky.10446848.jpg, data/thumbs/night-sky.10472448.jpg, data/thumbs/night-sky.10498048.jpg, data/thumbs/night-sky.10523648.jpg, data/thumbs/night-sky.10549248.jpg, data/thumbs/night-sky.10574848.jpg, data/thumbs/night-sky.8357376.jpg, data/thumbs/night-sky.8382976.jpg, data/thumbs/night-sky.8408576.jpg, data/thumbs/night-sky.8434176.jpg, data/thumbs/night-sky.8459776.jpg, data/thumbs/night-sky.8485376.jpg, data/thumbs/night-sky.8510976.jpg, data/thumbs/night-sky.8536576.jpg, data/thumbs/night-sky.8562176.jpg, data/thumbs/night-sky.8587776.jpg, data/thumbs/night-sky.8613376.jpg, data/thumbs/night-sky.8638976.jpg, data/thumbs/night-sky.8664576.jpg, data/thumbs/night-sky.8690176.jpg, data/thumbs/night-sky.8715776.jpg, data/thumbs/night-sky.8741376.jpg, data/thumbs/night-sky.8766976.jpg, data/thumbs/night-sky.8792576.jpg, data/thumbs/night-sky.8818176.jpg, data/thumbs/night-sky.8843776.jpg, data/thumbs/night-sky.8869376.jpg, data/thumbs/night-sky.8894976.jpg, data/thumbs/night-sky.8920576.jpg, data/thumbs/night-sky.8946176.jpg, data/thumbs/night-sky.8971776.jpg, data/thumbs/night-sky.8997376.jpg, data/thumbs/night-sky.9022976.jpg, data/thumbs/night-sky.9048576.jpg, data/thumbs/night-sky.9266176.jpg, data/thumbs/night-sky.9291776.jpg, data/thumbs/night-sky.9317376.jpg, data/thumbs/night-sky.9342976.jpg, data/thumbs/night-sky.9368576.jpg, data/thumbs/night-sky.9394176.jpg, data/thumbs/night-sky.9419776.jpg, data/thumbs/night-sky.9445376.jpg, data/thumbs/night-sky.9470976.jpg, data/thumbs/night-sky.9496576.jpg, data/thumbs/night-sky.9522176.jpg, data/thumbs/night-sky.9547776.jpg, data/thumbs/night-sky.9573376.jpg, data/thumbs/night-sky.9598976.jpg, data/thumbs/night-sky.9624576.jpg, data/thumbs/night-sky.9650176.jpg, data/thumbs/night-sky.9701376.jpg, data/thumbs/night-sky.9726976.jpg, data/thumbs/night-sky.9752576.jpg, data/thumbs/night-sky.9986048.jpg]   \n",
       "268                                                                                                                                                                                                                                                                                                                                                                                                                                                                                                                                                                                                                                                                                                                                                                                                                                                                                                                                                                                                                                                                                                                                                                                                                                                                                                                                                                                                                                                                                                                                                                                                                                                                                                                                                                                                                                                                                                                                                                                                                                                                                                                         [data/thumbs/night-sky.1009664.jpg, data/thumbs/night-sky.1035264.jpg, data/thumbs/night-sky.1060864.jpg, data/thumbs/night-sky.2841600.jpg, data/thumbs/night-sky.2867200.jpg, data/thumbs/night-sky.2892800.jpg, data/thumbs/night-sky.2918400.jpg, data/thumbs/night-sky.2944000.jpg, data/thumbs/night-sky.2969600.jpg, data/thumbs/night-sky.3141120.jpg, data/thumbs/night-sky.3166720.jpg, data/thumbs/night-sky.4776448.jpg, data/thumbs/night-sky.4802048.jpg, data/thumbs/night-sky.4827648.jpg, data/thumbs/night-sky.4853248.jpg, data/thumbs/night-sky.4878848.jpg, data/thumbs/night-sky.4904448.jpg, data/thumbs/night-sky.4930048.jpg, data/thumbs/night-sky.4955648.jpg, data/thumbs/night-sky.4981248.jpg, data/thumbs/night-sky.5006848.jpg, data/thumbs/night-sky.6266368.jpg, data/thumbs/night-sky.6291968.jpg, data/thumbs/night-sky.6317568.jpg, data/thumbs/night-sky.6343168.jpg, data/thumbs/night-sky.6368768.jpg, data/thumbs/night-sky.6394368.jpg, data/thumbs/night-sky.6419968.jpg, data/thumbs/night-sky.6445568.jpg, data/thumbs/night-sky.6471168.jpg, data/thumbs/night-sky.856064.jpg, data/thumbs/night-sky.881664.jpg, data/thumbs/night-sky.907264.jpg, data/thumbs/night-sky.932864.jpg, data/thumbs/night-sky.958464.jpg, data/thumbs/night-sky.984064.jpg]   \n",
       "57                                                                                                                                                                                                                                                                                                                                                                                                                                                                                                                                                                                                                                                                                                                                                                                                                                                                                                                                                                                                                                                                                                                                                                                                                                                                                                                                                                                                                                                                                                                                                                                                                                                                                                                                                                                                                                                                                                                                                                                                                                                                                                                                                                                             [data/thumbs/night-sky.109056.jpg, data/thumbs/night-sky.134656.jpg, data/thumbs/night-sky.160256.jpg, data/thumbs/night-sky.185856.jpg, data/thumbs/night-sky.211456.jpg, data/thumbs/night-sky.237056.jpg, data/thumbs/night-sky.262656.jpg, data/thumbs/night-sky.288256.jpg, data/thumbs/night-sky.313856.jpg, data/thumbs/night-sky.32256.jpg, data/thumbs/night-sky.339456.jpg, data/thumbs/night-sky.365056.jpg, data/thumbs/night-sky.390656.jpg, data/thumbs/night-sky.416256.jpg, data/thumbs/night-sky.441856.jpg, data/thumbs/night-sky.467456.jpg, data/thumbs/night-sky.493056.jpg, data/thumbs/night-sky.518656.jpg, data/thumbs/night-sky.544256.jpg, data/thumbs/night-sky.569856.jpg, data/thumbs/night-sky.57856.jpg, data/thumbs/night-sky.595456.jpg, data/thumbs/night-sky.621056.jpg, data/thumbs/night-sky.646656.jpg, data/thumbs/night-sky.6656.jpg, data/thumbs/night-sky.672256.jpg, data/thumbs/night-sky.689152.jpg, data/thumbs/night-sky.694272.jpg, data/thumbs/night-sky.701952.jpg, data/thumbs/night-sky.705024.jpg, data/thumbs/night-sky.7401984.jpg, data/thumbs/night-sky.7427584.jpg, data/thumbs/night-sky.768512.jpg, data/thumbs/night-sky.800768.jpg, data/thumbs/night-sky.83456.jpg]   \n",
       "32                                                                                                                                                                                                                                                                                                                                                                                                                                                                                                                                                                                                                                                                                                                                                                                                                                                                                                                                                                                                                                                                                                                                                                                                                                                                                                                                                                                                                                                                                                                                                                                                                                                                                                                                                                                                                                                                                                                                                                                                                                                                                                                                                                                                                                            [data/thumbs/night-sky.1196032.jpg, data/thumbs/night-sky.13889024.jpg, data/thumbs/night-sky.13914624.jpg, data/thumbs/night-sky.13940224.jpg, data/thumbs/night-sky.14211072.jpg, data/thumbs/night-sky.14236672.jpg, data/thumbs/night-sky.14262272.jpg, data/thumbs/night-sky.14287872.jpg, data/thumbs/night-sky.14313472.jpg, data/thumbs/night-sky.14339072.jpg, data/thumbs/night-sky.14364672.jpg, data/thumbs/night-sky.18210304.jpg, data/thumbs/night-sky.18235904.jpg, data/thumbs/night-sky.18261504.jpg, data/thumbs/night-sky.18287104.jpg, data/thumbs/night-sky.18312704.jpg, data/thumbs/night-sky.18338304.jpg, data/thumbs/night-sky.20532224.jpg, data/thumbs/night-sky.20557824.jpg, data/thumbs/night-sky.20583424.jpg, data/thumbs/night-sky.20609024.jpg, data/thumbs/night-sky.2554880.jpg, data/thumbs/night-sky.2580480.jpg, data/thumbs/night-sky.2606080.jpg, data/thumbs/night-sky.2631680.jpg, data/thumbs/night-sky.2657280.jpg, data/thumbs/night-sky.2682880.jpg, data/thumbs/night-sky.2708480.jpg, data/thumbs/night-sky.2734080.jpg, data/thumbs/night-sky.2759680.jpg, data/thumbs/night-sky.2785280.jpg, data/thumbs/night-sky.2810880.jpg]   \n",
       "..                                                                                                                                                                                                                                                                                                                                                                                                                                                                                                                                                                                                                                                                                                                                                                                                                                                                                                                                                                                                                                                                                                                                                                                                                                                                                                                                                                                                                                                                                                                                                                                                                                                                                                                                                                                                                                                                                                                                                                                                                                                                                                                                                                                                                                                                                                                                                                                                                                                                                                                                                                                                                                                                                                                                                                                                                                                                                                                                                                                                                                                                                                                                                                                                                                                                                                                                                                                                                             ...   \n",
       "285                                                                                                                                                                                                                                                                                                                                                                                                                                                                                                                                                                                                                                                                                                                                                                                                                                                                                                                                                                                                                                                                                                                                                                                                                                                                                                                                                                                                                                                                                                                                                                                                                                                                                                                                                                                                                                                                                                                                                                                                                                                                                                                                                                                                                                                                                                                                                                                                                                                                                                                                                                                                                                                                                                                                                                                                                                                                                                                                                                                                                                                                                                                                                                                                                                                                                                                                                         [data/thumbs/night-sky.6403072.jpg, data/thumbs/night-sky.6428160.jpg]   \n",
       "276                                                                                                                                                                                                                                                                                                                                                                                                                                                                                                                                                                                                                                                                                                                                                                                                                                                                                                                                                                                                                                                                                                                                                                                                                                                                                                                                                                                                                                                                                                                                                                                                                                                                                                                                                                                                                                                                                                                                                                                                                                                                                                                                                                                                                                                                                                                                                                                                                                                                                                                                                                                                                                                                                                                                                                                                                                                                                                                                                                                                                                                                                                                                                                                                                                                                                                                                                         [data/thumbs/night-sky.5058560.jpg, data/thumbs/night-sky.5084160.jpg]   \n",
       "113                                                                                                                                                                                                                                                                                                                                                                                                                                                                                                                                                                                                                                                                                                                                                                                                                                                                                                                                                                                                                                                                                                                                                                                                                                                                                                                                                                                                                                                                                                                                                                                                                                                                                                                                                                                                                                                                                                                                                                                                                                                                                                                                                                                                                                                                                                                                                                                                                                                                                                                                                                                                                                                                                                                                                                                                                                                                                                                                                                                                                                                                                                                                                                                                                                                                                                                                                       [data/thumbs/night-sky.13252096.jpg, data/thumbs/night-sky.13277696.jpg]   \n",
       "114                                                                                                                                                                                                                                                                                                                                                                                                                                                                                                                                                                                                                                                                                                                                                                                                                                                                                                                                                                                                                                                                                                                                                                                                                                                                                                                                                                                                                                                                                                                                                                                                                                                                                                                                                                                                                                                                                                                                                                                                                                                                                                                                                                                                                                                                                                                                                                                                                                                                                                                                                                                                                                                                                                                                                                                                                                                                                                                                                                                                                                                                                                                                                                                                                                                                                                                                                         [data/thumbs/night-sky.1148928.jpg, data/thumbs/night-sky.1174528.jpg]   \n",
       "549                                                                                                                                                                                                                                                                                                                                                                                                                                                                                                                                                                                                                                                                                                                                                                                                                                                                                                                                                                                                                                                                                                                                                                                                                                                                                                                                                                                                                                                                                                                                                                                                                                                                                                                                                                                                                                                                                                                                                                                                                                                                                                                                                                                                                                                                                                                                                                                                                                                                                                                                                                                                                                                                                                                                                                                                                                                                                                                                                                                                                                                                                                                                                                                                                                                                                                                                                           [data/thumbs/night-sky.573440.jpg, data/thumbs/night-sky.577536.jpg]   \n",
       "\n",
       "     distance  len  \n",
       "183  0.900418   92  \n",
       "191  0.939749   71  \n",
       "268  0.931198   36  \n",
       "57   0.900983   35  \n",
       "32   0.936055   32  \n",
       "..        ...  ...  \n",
       "285  0.919683    2  \n",
       "276  0.990013    2  \n",
       "113  0.944915    2  \n",
       "114  0.909330    2  \n",
       "549  0.939750    2  \n",
       "\n",
       "[187 rows x 4 columns]"
      ]
     },
     "execution_count": 35,
     "metadata": {},
     "output_type": "execute_result"
    }
   ],
   "source": [
    "df"
   ]
  },
  {
   "cell_type": "code",
   "execution_count": null,
   "metadata": {},
   "outputs": [],
   "source": []
  }
 ],
 "metadata": {
  "kernelspec": {
   "display_name": "rts-DIiCth0j-py3.8",
   "language": "python",
   "name": "python3"
  },
  "language_info": {
   "codemirror_mode": {
    "name": "ipython",
    "version": 3
   },
   "file_extension": ".py",
   "mimetype": "text/x-python",
   "name": "python",
   "nbconvert_exporter": "python",
   "pygments_lexer": "ipython3",
   "version": "3.8.10"
  },
  "orig_nbformat": 4,
  "vscode": {
   "interpreter": {
    "hash": "e87cf5a392b1aecc4184d814192c5e20fd6a56d7b8ef491f6277e892591ee550"
   }
  }
 },
 "nbformat": 4,
 "nbformat_minor": 2
}
