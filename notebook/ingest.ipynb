{
 "cells": [
  {
   "cell_type": "code",
   "execution_count": null,
   "metadata": {},
   "outputs": [],
   "source": [
    "%cd ..\n",
    "%load_ext autoreload\n",
    "%autoreload 2\n",
    "\n",
    "REMOTE_RTS_DATA = \"/media/sinergia/RTS/\"\n",
    "REMOTE_VIDEOS = '/mnt/rts/'\n",
    "\n",
    "LOCAL_RTS_DATA = \"/media/data/rts/\"\n",
    "METADATA = LOCAL_RTS_DATA + 'metadata'\n",
    "LOCAL_VIDEOS = LOCAL_RTS_DATA + 'archive'\n",
    "\n",
    "OUTDIR = 'data'\n"
   ]
  },
  {
   "cell_type": "code",
   "execution_count": null,
   "metadata": {},
   "outputs": [],
   "source": [
    "from datetime import datetime\n",
    "import orjson\n",
    "import pandas as pd\n",
    "import zipfile\n",
    "import os\n",
    "import io\n",
    "from typing import Dict, List, Optional, Tuple\n",
    "from pathlib import Path"
   ]
  },
  {
   "cell_type": "code",
   "execution_count": null,
   "metadata": {},
   "outputs": [],
   "source": [
    "# LOCAL imports\n",
    "import rts\n",
    "import rts.pipeline\n",
    "import rts.utils\n",
    "import rts.io.media\n",
    "import rts.features.audio\n",
    "import rts.features.text\n",
    "\n",
    "LOG = rts.utils.get_logger()"
   ]
  },
  {
   "cell_type": "code",
   "execution_count": null,
   "metadata": {},
   "outputs": [],
   "source": [
    "# vidx = rts.metadata.read_video_folder_index(os.path.join(OUTDIR, 'vidx.json'))\n",
    "# df = rts.metadata.read_all_metadata(METADATA, vidx)\n",
    "# rts.metadata.metadata_to_hdf5(OUTDIR, 'rts_metadata', df)\n",
    "\n",
    "# df = rts.metadata.load_metadata_hdf5(METADATA, 'rts_metadata')\n",
    "# sample_df = rts.metadata.get_one_percent_sample(df)\n",
    "# # rts.metadata.export_metadata_stats(sample_df, Path(OUTDIR) / 'sample')\n",
    "# # rts.metadata.export_metadata_stats(df, OUTDIR)\n",
    "# sample_df.head()\n",
    "\n",
    "medias = rts.metadata.load_all_media_info(LOCAL_VIDEOS)\n",
    "# clips = rts.metadata.load_all_clips(LOCAL_VIDEOS)\n",
    "\n",
    "df = rts.metadata.create_clips_df(LOCAL_VIDEOS)"
   ]
  },
  {
   "cell_type": "code",
   "execution_count": null,
   "metadata": {},
   "outputs": [],
   "source": [
    "# Database fulltext"
   ]
  },
  {
   "cell_type": "code",
   "execution_count": null,
   "metadata": {},
   "outputs": [],
   "source": [
    "client = rts.db.fulltext.get_client()\n",
    "midx = rts.db.fulltext.get_or_create_media_index(client)\n",
    "# Fulltext Index from HDF5\n",
    "# midx.delete_all_documents()\n",
    "rts.db.fulltext.index_media(df, midx)\n",
    "# Wait 30 sec for full indexation\n",
    "midx.get_stats().number_of_documents  # 522103"
   ]
  },
  {
   "cell_type": "code",
   "execution_count": null,
   "metadata": {},
   "outputs": [],
   "source": []
  },
  {
   "cell_type": "code",
   "execution_count": 69,
   "metadata": {},
   "outputs": [],
   "source": [
    "medias = rts.metadata.load_all_media_info(LOCAL_VIDEOS)"
   ]
  },
  {
   "cell_type": "code",
   "execution_count": 71,
   "metadata": {},
   "outputs": [],
   "source": [
    "clips = rts.metadata.load_all_clips(LOCAL_VIDEOS)"
   ]
  },
  {
   "cell_type": "code",
   "execution_count": 73,
   "metadata": {},
   "outputs": [],
   "source": [
    "df = rts.metadata.create_clips_df(LOCAL_VIDEOS)"
   ]
  },
  {
   "cell_type": "code",
   "execution_count": 83,
   "metadata": {},
   "outputs": [],
   "source": [
    "atlases = rts.metadata.create_clip_texture_atlases(df, LOCAL_RTS_DATA, tile_size=128, format='jpg')"
   ]
  },
  {
   "cell_type": "code",
   "execution_count": null,
   "metadata": {},
   "outputs": [],
   "source": [
    "import PIL\n",
    "import os\n",
    "from PIL import ImageOps, Image"
   ]
  },
  {
   "cell_type": "code",
   "execution_count": null,
   "metadata": {},
   "outputs": [],
   "source": []
  },
  {
   "cell_type": "code",
   "execution_count": 15,
   "metadata": {},
   "outputs": [],
   "source": [
    "test_im_path = os.path.join(OUTDIR, 'test_image.jpg')\n",
    "im = Image.open(test_im_path)\n",
    "# rts.io.media.save_image_pyramid(im, Path(OUTDIR) / 'test_image_pyramid', 'test_image', True)"
   ]
  },
  {
   "cell_type": "code",
   "execution_count": null,
   "metadata": {},
   "outputs": [],
   "source": [
    "video_path = os.path.join(LOCAL_VIDEOS, '0', '0', '0', 'ZB001000', 'ZB001000.mp4')\n",
    "# rts.io.media.get_media_info(video_path)\n",
    "\n",
    "# scenes = rts.io.media.detect_scenes(video_path)\n",
    "# scenes = rts.io.media.filter_scenes(scenes, 5)\n",
    "# clips = rts.io.media.save_scenes_images(scenes, video_path, OUTDIR)\n",
    "# rts.pipeline.save_scenes(clips, OUTDIR)"
   ]
  },
  {
   "cell_type": "code",
   "execution_count": null,
   "metadata": {},
   "outputs": [],
   "source": [
    "transcript = rts.pipeline.transcribe_media(\n",
    "    OUTDIR,\n",
    "    None, \n",
    "    force=False\n",
    ")\n",
    "\n",
    "t = rts.features.text.find_locations(transcript)"
   ]
  },
  {
   "cell_type": "code",
   "execution_count": null,
   "metadata": {},
   "outputs": [],
   "source": [
    "clips = rts.pipeline.extract_location_clips_from_transcript(transcript,\n",
    "    25,\n",
    "    OUTDIR,\n",
    "    video_path,\n",
    "    min_seconds=3,\n",
    "    extend_duration=6,\n",
    "    num_images=3,\n",
    "    force=True\n",
    ")"
   ]
  },
  {
   "cell_type": "code",
   "execution_count": 64,
   "metadata": {},
   "outputs": [],
   "source": [
    "i1 = os.path.join(OUTDIR, 'test128px.jpg')\n",
    "i2 = os.path.join(OUTDIR, 'test128px2.jpg')\n",
    "\n",
    "ori1 = os.path.join(OUTDIR, 'testori1.jpg')\n",
    "ori2 = os.path.join(OUTDIR, 'testori2.jpg')\n",
    "imgs = [i1, i2, ori1, ori2]\n",
    "# imgs = [i1, i2, i1, i2]\n",
    "\n",
    "# rts.io.media.create_image_grid(\n",
    "#     imgs,\n",
    "#     Path(OUTDIR) / 'grid.jpg',\n",
    "#     grid_size=(2, 1),\n",
    "#     grid_border=0,\n",
    "# )"
   ]
  },
  {
   "cell_type": "code",
   "execution_count": 50,
   "metadata": {},
   "outputs": [
    {
     "data": {
      "text/plain": [
       "{'images': ['data/test128px.jpg',\n",
       "  'data/test128px2.jpg',\n",
       "  'data/testori1.jpg',\n",
       "  'data/testori2.jpg'],\n",
       " 'image_count': 4,\n",
       " 'tile_size': (128, 128),\n",
       " 'atlas_size': (1024, 1024),\n",
       " 'rows': 8,\n",
       " 'cols': 8}"
      ]
     },
     "execution_count": 50,
     "metadata": {},
     "output_type": "execute_result"
    }
   ],
   "source": [
    "rts.io.media.create_atlas_texture(\n",
    "    imgs,\n",
    "    Path(OUTDIR) / 'atlas' / 'atlas.png',\n",
    "    max_width=1024,\n",
    "    max_tile_size=512,\n",
    "    square=True\n",
    ")"
   ]
  },
  {
   "cell_type": "code",
   "execution_count": 66,
   "metadata": {},
   "outputs": [
    {
     "data": {
      "text/plain": [
       "{'0': {'images': ['data/test128px.jpg',\n",
       "   'data/test128px2.jpg',\n",
       "   'data/testori1.jpg',\n",
       "   'data/testori2.jpg'],\n",
       "  'image_count': 4,\n",
       "  'tile_size': (128, 128),\n",
       "  'atlas_size': (256, 256),\n",
       "  'rows': 2,\n",
       "  'cols': 2,\n",
       "  'path': 'data/atlas/atlas000.png'}}"
      ]
     },
     "execution_count": 66,
     "metadata": {},
     "output_type": "execute_result"
    }
   ],
   "source": [
    "rts.io.media.create_square_atlases(\n",
    "    imgs,\n",
    "    Path(OUTDIR) / 'atlas',\n",
    "    width=256,\n",
    "    max_tile_size=128,\n",
    "    bg_color=(255, 255, 255, 255)\n",
    ")"
   ]
  },
  {
   "cell_type": "code",
   "execution_count": null,
   "metadata": {},
   "outputs": [],
   "source": [
    "res = rts.features.text.enrich_scenes_with_transcript(clips.copy(), t)\n",
    "# res"
   ]
  },
  {
   "cell_type": "code",
   "execution_count": null,
   "metadata": {},
   "outputs": [],
   "source": [
    "swiss_cities = rts.features.text.get_swiss_cities()"
   ]
  },
  {
   "cell_type": "code",
   "execution_count": null,
   "metadata": {},
   "outputs": [],
   "source": [
    "input_video_folder = os.path.join(REMOTE_VIDEOS, '0', '0', '0', 'ZB001000')\n",
    "# input_video_folder = os.path.join(VIDEOS, '0', '0', 'ZB002000')\n",
    "# v, a = rts.io.archive.get_raw_video_audio_parts(input_video_folder)\n",
    "\n",
    "# '/'.join(input_video_folder.split('/')[-4:])\n",
    "# remuxed = rts.pipeline.create_optimized_media(input_video_folder, LOCAL_VIDEOS, force=True)\n",
    "# print(remuxed)\n",
    "\n",
    "rts.pipeline.process_media(input_video_folder, LOCAL_VIDEOS, \n",
    "    compute_transcript=True, force_scene=False, force_trans=False)"
   ]
  },
  {
   "cell_type": "code",
   "execution_count": null,
   "metadata": {},
   "outputs": [],
   "source": [
    "%ls {remux_folder}"
   ]
  },
  {
   "cell_type": "code",
   "execution_count": null,
   "metadata": {},
   "outputs": [],
   "source": [
    "fts.groupby('mediaId').count().sort_values('location', ascending=False)"
   ]
  },
  {
   "cell_type": "code",
   "execution_count": null,
   "metadata": {},
   "outputs": [],
   "source": [
    "fts"
   ]
  },
  {
   "cell_type": "code",
   "execution_count": null,
   "metadata": {},
   "outputs": [],
   "source": [
    "import weaviate\n",
    "\n",
    "client = weaviate.Client(\"http://localhost:8080\") # or another location where your Weaviate instance is running\n",
    "\n",
    "client.schema.get() # get the full schema as example"
   ]
  },
  {
   "cell_type": "code",
   "execution_count": null,
   "metadata": {},
   "outputs": [],
   "source": [
    "swiss_cities = rts.features.text.get_swiss_cities()"
   ]
  },
  {
   "cell_type": "code",
   "execution_count": null,
   "metadata": {},
   "outputs": [],
   "source": [
    "swiss_cities['Genève']"
   ]
  },
  {
   "cell_type": "code",
   "execution_count": null,
   "metadata": {},
   "outputs": [],
   "source": [
    "rts.utils.obj_to_json(r, os.path.join(OUTDIR, 'transcript.json'))"
   ]
  },
  {
   "cell_type": "code",
   "execution_count": null,
   "metadata": {},
   "outputs": [],
   "source": [
    "rts.io.media.to_mp3(a, os.path.join(OUTDIR, 'audio.mp3'))"
   ]
  },
  {
   "cell_type": "code",
   "execution_count": null,
   "metadata": {},
   "outputs": [],
   "source": [
    "rts.io.media.to_mp3(a, os.path.join(OUTDIR, 'audio.mp3'))"
   ]
  },
  {
   "cell_type": "code",
   "execution_count": null,
   "metadata": {},
   "outputs": [],
   "source": [
    "rts.io.media.extract_audio(a, os.path.join(OUTDIR, 'myaudio'))"
   ]
  },
  {
   "cell_type": "code",
   "execution_count": null,
   "metadata": {},
   "outputs": [],
   "source": [
    "import av\n",
    "import av.datasets\n",
    "\n",
    "\n",
    "video_part = os.path.join(VIDEOS, '0', '0', 'ZB001000')\n",
    "# video_part = os.path.join(VIDEOS, '0', '0', 'ZB002000')\n",
    "v, a = rts.io.archive.get_raw_video_audio_parts(video_part)\n",
    "out_path = os.path.join(OUTDIR, 'thumbs')\n",
    "\n",
    "content = v\n",
    "\n",
    "print(content)\n",
    "\n",
    "with av.open(content) as container:\n",
    "    # Signal that we only want to look at keyframes.\n",
    "    stream = container.streams.video[0]\n",
    "    stream.codec_context.skip_frame = \"NONKEY\"\n",
    "\n",
    "    # print(stream.codec_context.height)\n",
    "    for i, frame in enumerate(container.decode(stream)):\n",
    "        if i % 4 != 0:\n",
    "            continue\n",
    "\n",
    "\n",
    "    #     print(frame)\n",
    "    #     print(frame.time, frame.time_base)\n",
    "        # We use `frame.pts` as `frame.index` won't make must sense with the `skip_frame`.\n",
    "        frame.to_image().save(\n",
    "            os.path.join(out_path, f\"f{frame.pts:04d}.jpg\"),\n",
    "            quality=80,\n",
    "        )"
   ]
  },
  {
   "cell_type": "code",
   "execution_count": null,
   "metadata": {},
   "outputs": [],
   "source": [
    "thumbs_dir = os.path.join(OUTDIR, 'thumbs')\n",
    "outfast = './notebook/fastdup'\n",
    "fastdup_data = './notebook/out'"
   ]
  },
  {
   "cell_type": "code",
   "execution_count": null,
   "metadata": {},
   "outputs": [],
   "source": [
    "import fastdup"
   ]
  },
  {
   "cell_type": "code",
   "execution_count": null,
   "metadata": {},
   "outputs": [],
   "source": [
    "\n",
    "fastdup.run(input_dir=thumbs_dir, work_dir=fastdup_data, nearest_neighbors_k=8, turi_param='ccthreshold=0.90')    #main running function.\n",
    "# fastdup.create_duplicates_gallery('out/similarity.csv', save_path=outfast)     #create a visual gallery of found duplicates\n",
    "# fastdup.create_outliers_gallery('out/outliers.csv',   save_path=outfast)       #create a visual gallery of anomalies\n",
    "# fastdup.create_components_gallery(fastdup_data, save_path=outfast)                    #create visualiaiton of connected components\n",
    "# fastdup.create_stats_gallery('out', save_path=outfast, metric='blur')          #create visualization of images stastics (for example blur)\n",
    "# fastdup.create_similarity_gallery('out', save_path=outfast,get_label_func=lambda x: x.split('/')[-2])     #create visualization of top_k similar images assuming data have labels which are in the folder name\n",
    "# fastdup.create_aspect_ratio_gallery('out', save_path=outfast)"
   ]
  },
  {
   "cell_type": "code",
   "execution_count": null,
   "metadata": {},
   "outputs": [],
   "source": [
    "config = fastdup.load_config(fastdup_data)\n",
    "df = fastdup.galleries.do_find_top_components(work_dir=fastdup_data, input_dir=config['input_dir'], kwargs={})"
   ]
  }
 ],
 "metadata": {
  "kernelspec": {
   "display_name": "rts-506MfBOj-py3.10",
   "language": "python",
   "name": "python3"
  },
  "language_info": {
   "codemirror_mode": {
    "name": "ipython",
    "version": 3
   },
   "file_extension": ".py",
   "mimetype": "text/x-python",
   "name": "python",
   "nbconvert_exporter": "python",
   "pygments_lexer": "ipython3",
   "version": "3.10.10"
  },
  "orig_nbformat": 4,
  "vscode": {
   "interpreter": {
    "hash": "c55d7be6a9e4fc63ebfe3b5367c35465c736ea2b46c6214c810346aec19fcece"
   }
  }
 },
 "nbformat": 4,
 "nbformat_minor": 2
}
