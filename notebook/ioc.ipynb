{
 "cells": [
  {
   "cell_type": "code",
   "execution_count": 19,
   "metadata": {},
   "outputs": [],
   "source": [
    "from rts.db.dao import DataAccessObject\n",
    "from rts.db_settings import DATABASE_URL\n",
    "from rts.db.queries import get_library_id_from_name, read_media_by_source_media_id\n",
    "from rts.io.media import upload_media_files\n",
    "from rts.api.models import Media\n",
    "import os\n",
    "import hashlib\n",
    "from rts.db_settings import BUCKET_NAME\n",
    "from rts.db.queries import create_atlas, create_media, create_projection, read_media\n",
    "from rts.storage.storage import get_storage_client\n",
    "from rts.api.models import Atlas, Media, Projection\n",
    "import pandas as pd\n",
    "from dotenv import load_dotenv\n",
    "\n",
    "from sqlalchemy.exc import IntegrityError\n",
    "import logging\n",
    "\n",
    "import ffmpeg\n",
    "from io import BytesIO\n",
    "from typing import Union, List, Tuple\n",
    "from pathlib import Path\n",
    "from datetime import datetime\n",
    "\n",
    "logging.basicConfig(level=logging.INFO)\n",
    "\n",
    "load_dotenv()\n",
    "DataAccessObject().connect(DATABASE_URL)"
   ]
  },
  {
   "cell_type": "code",
   "execution_count": 76,
   "metadata": {},
   "outputs": [],
   "source": [
    "from tqdm.notebook import trange, tqdm"
   ]
  },
  {
   "cell_type": "code",
   "execution_count": 70,
   "metadata": {},
   "outputs": [
    {
     "data": {
      "text/plain": [
       "3"
      ]
     },
     "execution_count": 70,
     "metadata": {},
     "output_type": "execute_result"
    }
   ],
   "source": [
    "# Setup before we can create media objects\n",
    "archive_name =  \"ioc\"\n",
    "bucket_name =  archive_name\n",
    "library_id =  get_library_id_from_name(archive_name)\n",
    "library_id"
   ]
  },
  {
   "cell_type": "code",
   "execution_count": 20,
   "metadata": {},
   "outputs": [
    {
     "name": "stdout",
     "output_type": "stream",
     "text": [
      "data  metadata\tmetadata.zip  videos\n"
     ]
    }
   ],
   "source": [
    "! ls /media/data/ioc"
   ]
  },
  {
   "cell_type": "code",
   "execution_count": 21,
   "metadata": {},
   "outputs": [
    {
     "name": "stdout",
     "output_type": "stream",
     "text": [
      "Requirement already satisfied: lxml in /home/andre/.cache/pypoetry/virtualenvs/rts-bWoRmFur-py3.10/lib/python3.10/site-packages (4.9.3)\n",
      "\n",
      "\u001b[1m[\u001b[0m\u001b[34;49mnotice\u001b[0m\u001b[1;39;49m]\u001b[0m\u001b[39;49m A new release of pip is available: \u001b[0m\u001b[31;49m23.1\u001b[0m\u001b[39;49m -> \u001b[0m\u001b[32;49m23.1.2\u001b[0m\n",
      "\u001b[1m[\u001b[0m\u001b[34;49mnotice\u001b[0m\u001b[1;39;49m]\u001b[0m\u001b[39;49m To update, run: \u001b[0m\u001b[32;49mpip install --upgrade pip\u001b[0m\n"
     ]
    }
   ],
   "source": [
    "! pip install lxml"
   ]
  },
  {
   "cell_type": "code",
   "execution_count": 22,
   "metadata": {},
   "outputs": [],
   "source": [
    "import os\n",
    "import pandas as pd"
   ]
  },
  {
   "cell_type": "code",
   "execution_count": 23,
   "metadata": {},
   "outputs": [],
   "source": [
    "metadata = '/home/andre/rts/metadata.hdf5'"
   ]
  },
  {
   "cell_type": "code",
   "execution_count": 3,
   "metadata": {},
   "outputs": [
    {
     "name": "stdout",
     "output_type": "stream",
     "text": [
      "['/df']\n"
     ]
    }
   ],
   "source": [
    "with pd.HDFStore(metadata) as store:\n",
    "    keys = store.keys()\n",
    "    print(keys)\n",
    "    data = store.get(keys[0])  # getting the first dataset"
   ]
  },
  {
   "cell_type": "code",
   "execution_count": 5,
   "metadata": {},
   "outputs": [],
   "source": [
    "data.to_csv('metadata.csv')"
   ]
  },
  {
   "cell_type": "code",
   "execution_count": 24,
   "metadata": {},
   "outputs": [],
   "source": [
    "df = pd.read_csv('metadata.csv')\n",
    "data = df"
   ]
  },
  {
   "cell_type": "code",
   "execution_count": 25,
   "metadata": {},
   "outputs": [
    {
     "data": {
      "text/html": [
       "<div>\n",
       "<style scoped>\n",
       "    .dataframe tbody tr th:only-of-type {\n",
       "        vertical-align: middle;\n",
       "    }\n",
       "\n",
       "    .dataframe tbody tr th {\n",
       "        vertical-align: top;\n",
       "    }\n",
       "\n",
       "    .dataframe thead th {\n",
       "        text-align: right;\n",
       "    }\n",
       "</style>\n",
       "<table border=\"1\" class=\"dataframe\">\n",
       "  <thead>\n",
       "    <tr style=\"text-align: right;\">\n",
       "      <th></th>\n",
       "      <th>Unnamed: 0</th>\n",
       "      <th>guid</th>\n",
       "      <th>seq_id</th>\n",
       "      <th>date</th>\n",
       "      <th>duration</th>\n",
       "      <th>start</th>\n",
       "      <th>end</th>\n",
       "      <th>description</th>\n",
       "      <th>event</th>\n",
       "      <th>extra</th>\n",
       "      <th>duration_sec</th>\n",
       "      <th>sport</th>\n",
       "      <th>category</th>\n",
       "      <th>raw_round</th>\n",
       "      <th>details</th>\n",
       "      <th>round</th>\n",
       "    </tr>\n",
       "  </thead>\n",
       "  <tbody>\n",
       "    <tr>\n",
       "      <th>0</th>\n",
       "      <td>0</td>\n",
       "      <td>MDA30000800</td>\n",
       "      <td>SEQ30097620</td>\n",
       "      <td>1996-07-30</td>\n",
       "      <td>0 days 00:04:57</td>\n",
       "      <td>19:55:05</td>\n",
       "      <td>20:00:02</td>\n",
       "      <td>START OF TRANSMISSION EVENT: DIVING WOMEN'S 3M...</td>\n",
       "      <td>Diving/Women's 3m Springboard[W]/Preliminary</td>\n",
       "      <td>{}</td>\n",
       "      <td>297.0</td>\n",
       "      <td>Diving</td>\n",
       "      <td>Women's 3m Springboard[W]</td>\n",
       "      <td>Preliminary</td>\n",
       "      <td>NaN</td>\n",
       "      <td>Preliminary</td>\n",
       "    </tr>\n",
       "    <tr>\n",
       "      <th>1</th>\n",
       "      <td>1</td>\n",
       "      <td>MDA30000800</td>\n",
       "      <td>SEQ30097621</td>\n",
       "      <td>1996-07-30</td>\n",
       "      <td>0 days 00:00:07</td>\n",
       "      <td>20:00:02</td>\n",
       "      <td>20:00:09</td>\n",
       "      <td>START: DIVE 1</td>\n",
       "      <td>Diving/Women's 3m Springboard[W]/Preliminary</td>\n",
       "      <td>{}</td>\n",
       "      <td>7.0</td>\n",
       "      <td>Diving</td>\n",
       "      <td>Women's 3m Springboard[W]</td>\n",
       "      <td>Preliminary</td>\n",
       "      <td>NaN</td>\n",
       "      <td>Preliminary</td>\n",
       "    </tr>\n",
       "    <tr>\n",
       "      <th>2</th>\n",
       "      <td>2</td>\n",
       "      <td>MDA30000800</td>\n",
       "      <td>SEQ30097622</td>\n",
       "      <td>1996-07-30</td>\n",
       "      <td>0 days 00:01:42</td>\n",
       "      <td>20:00:09</td>\n",
       "      <td>20:01:51</td>\n",
       "      <td>DIVE: JPN MOTOBUCHI SCORE: 51.12</td>\n",
       "      <td>Diving/Women's 3m Springboard[W]/Preliminary</td>\n",
       "      <td>{}</td>\n",
       "      <td>102.0</td>\n",
       "      <td>Diving</td>\n",
       "      <td>Women's 3m Springboard[W]</td>\n",
       "      <td>Preliminary</td>\n",
       "      <td>NaN</td>\n",
       "      <td>Preliminary</td>\n",
       "    </tr>\n",
       "    <tr>\n",
       "      <th>3</th>\n",
       "      <td>3</td>\n",
       "      <td>MDA30000800</td>\n",
       "      <td>SEQ30097623</td>\n",
       "      <td>1996-07-30</td>\n",
       "      <td>0 days 00:01:04</td>\n",
       "      <td>20:01:51</td>\n",
       "      <td>20:02:55</td>\n",
       "      <td>DIVE: CAN PELLETIER SCORE: 61.38</td>\n",
       "      <td>Diving/Women's 3m Springboard[W]/Preliminary</td>\n",
       "      <td>{}</td>\n",
       "      <td>64.0</td>\n",
       "      <td>Diving</td>\n",
       "      <td>Women's 3m Springboard[W]</td>\n",
       "      <td>Preliminary</td>\n",
       "      <td>NaN</td>\n",
       "      <td>Preliminary</td>\n",
       "    </tr>\n",
       "    <tr>\n",
       "      <th>4</th>\n",
       "      <td>4</td>\n",
       "      <td>MDA30000800</td>\n",
       "      <td>SEQ30097624</td>\n",
       "      <td>1996-07-30</td>\n",
       "      <td>0 days 00:00:58</td>\n",
       "      <td>20:02:55</td>\n",
       "      <td>20:03:53</td>\n",
       "      <td>DIVE: USA MOSES SCORE: 51.03</td>\n",
       "      <td>Diving/Women's 3m Springboard[W]/Preliminary</td>\n",
       "      <td>{}</td>\n",
       "      <td>58.0</td>\n",
       "      <td>Diving</td>\n",
       "      <td>Women's 3m Springboard[W]</td>\n",
       "      <td>Preliminary</td>\n",
       "      <td>NaN</td>\n",
       "      <td>Preliminary</td>\n",
       "    </tr>\n",
       "  </tbody>\n",
       "</table>\n",
       "</div>"
      ],
      "text/plain": [
       "   Unnamed: 0         guid       seq_id        date         duration  \\\n",
       "0           0  MDA30000800  SEQ30097620  1996-07-30  0 days 00:04:57   \n",
       "1           1  MDA30000800  SEQ30097621  1996-07-30  0 days 00:00:07   \n",
       "2           2  MDA30000800  SEQ30097622  1996-07-30  0 days 00:01:42   \n",
       "3           3  MDA30000800  SEQ30097623  1996-07-30  0 days 00:01:04   \n",
       "4           4  MDA30000800  SEQ30097624  1996-07-30  0 days 00:00:58   \n",
       "\n",
       "      start       end                                        description  \\\n",
       "0  19:55:05  20:00:02  START OF TRANSMISSION EVENT: DIVING WOMEN'S 3M...   \n",
       "1  20:00:02  20:00:09                                      START: DIVE 1   \n",
       "2  20:00:09  20:01:51                   DIVE: JPN MOTOBUCHI SCORE: 51.12   \n",
       "3  20:01:51  20:02:55                   DIVE: CAN PELLETIER SCORE: 61.38   \n",
       "4  20:02:55  20:03:53                       DIVE: USA MOSES SCORE: 51.03   \n",
       "\n",
       "                                          event extra  duration_sec   sport  \\\n",
       "0  Diving/Women's 3m Springboard[W]/Preliminary    {}         297.0  Diving   \n",
       "1  Diving/Women's 3m Springboard[W]/Preliminary    {}           7.0  Diving   \n",
       "2  Diving/Women's 3m Springboard[W]/Preliminary    {}         102.0  Diving   \n",
       "3  Diving/Women's 3m Springboard[W]/Preliminary    {}          64.0  Diving   \n",
       "4  Diving/Women's 3m Springboard[W]/Preliminary    {}          58.0  Diving   \n",
       "\n",
       "                    category    raw_round details        round  \n",
       "0  Women's 3m Springboard[W]  Preliminary     NaN  Preliminary  \n",
       "1  Women's 3m Springboard[W]  Preliminary     NaN  Preliminary  \n",
       "2  Women's 3m Springboard[W]  Preliminary     NaN  Preliminary  \n",
       "3  Women's 3m Springboard[W]  Preliminary     NaN  Preliminary  \n",
       "4  Women's 3m Springboard[W]  Preliminary     NaN  Preliminary  "
      ]
     },
     "execution_count": 25,
     "metadata": {},
     "output_type": "execute_result"
    }
   ],
   "source": [
    "data.head()"
   ]
  },
  {
   "cell_type": "code",
   "execution_count": 26,
   "metadata": {},
   "outputs": [],
   "source": [
    "def find_mp4_files(root_folder):\n",
    "    mp4_files = []\n",
    "\n",
    "    for foldername, subfolders, filenames in os.walk(root_folder):\n",
    "        for filename in filenames:\n",
    "            if filename.endswith('.mp4'):\n",
    "                mp4_files.append(os.path.join(foldername, filename))\n",
    "\n",
    "    return mp4_files"
   ]
  },
  {
   "cell_type": "code",
   "execution_count": 27,
   "metadata": {},
   "outputs": [
    {
     "name": "stdout",
     "output_type": "stream",
     "text": [
      "Found 31304 mp4 files\n",
      "Found 21712 unique guids\n"
     ]
    }
   ],
   "source": [
    "mp4_files = find_mp4_files(\"/media/data/ioc/videos/\")\n",
    "print(f\"Found {len(mp4_files)} mp4 files\")\n",
    "print(f\"Found {df.guid.nunique()} unique guids\")"
   ]
  },
  {
   "cell_type": "code",
   "execution_count": 28,
   "metadata": {},
   "outputs": [],
   "source": [
    "file_map = {}\n",
    "for mp4 in mp4_files:\n",
    "    file_map[mp4.split('/')[-1].split('.')[0]] = mp4\n",
    "mp4_short = [key[4:] for key in file_map.keys()]"
   ]
  },
  {
   "cell_type": "code",
   "execution_count": 29,
   "metadata": {},
   "outputs": [
    {
     "data": {
      "text/plain": [
       "21712"
      ]
     },
     "execution_count": 29,
     "metadata": {},
     "output_type": "execute_result"
    }
   ],
   "source": [
    "guids = set(data['guid'].tolist())\n",
    "guid_short = [guid[4:] for guid in guids]\n",
    "len(guids)"
   ]
  },
  {
   "cell_type": "code",
   "execution_count": 30,
   "metadata": {},
   "outputs": [
    {
     "name": "stdout",
     "output_type": "stream",
     "text": [
      "Missing 13527 files\n",
      "Missing 18486 guids\n"
     ]
    }
   ],
   "source": [
    "# check if guids are in the file map\n",
    "\n",
    "counter = 0\n",
    "\n",
    "for key in file_map.keys():\n",
    "    if key not in guids:\n",
    "        counter += 1\n",
    "print(f\"Missing {counter} files\")\n",
    "\n",
    "# check the other way around\n",
    "\n",
    "counter = 0\n",
    "for guid in guids:\n",
    "    if guid not in file_map.keys():\n",
    "        counter += 1\n",
    "print(f\"Missing {counter} guids\")\n",
    "\n"
   ]
  },
  {
   "cell_type": "code",
   "execution_count": 31,
   "metadata": {},
   "outputs": [
    {
     "data": {
      "text/html": [
       "<div>\n",
       "<style scoped>\n",
       "    .dataframe tbody tr th:only-of-type {\n",
       "        vertical-align: middle;\n",
       "    }\n",
       "\n",
       "    .dataframe tbody tr th {\n",
       "        vertical-align: top;\n",
       "    }\n",
       "\n",
       "    .dataframe thead th {\n",
       "        text-align: right;\n",
       "    }\n",
       "</style>\n",
       "<table border=\"1\" class=\"dataframe\">\n",
       "  <thead>\n",
       "    <tr style=\"text-align: right;\">\n",
       "      <th></th>\n",
       "      <th>Unnamed: 0</th>\n",
       "      <th>guid</th>\n",
       "      <th>seq_id</th>\n",
       "      <th>date</th>\n",
       "      <th>duration</th>\n",
       "      <th>start</th>\n",
       "      <th>end</th>\n",
       "      <th>description</th>\n",
       "      <th>event</th>\n",
       "      <th>extra</th>\n",
       "      <th>duration_sec</th>\n",
       "      <th>sport</th>\n",
       "      <th>category</th>\n",
       "      <th>raw_round</th>\n",
       "      <th>details</th>\n",
       "      <th>round</th>\n",
       "    </tr>\n",
       "  </thead>\n",
       "  <tbody>\n",
       "    <tr>\n",
       "      <th>1991801</th>\n",
       "      <td>2027094</td>\n",
       "      <td>MDA43417188</td>\n",
       "      <td>SEQ43417876</td>\n",
       "      <td>2021-07-26</td>\n",
       "      <td>0 days 02:46:26</td>\n",
       "      <td>20:06:54</td>\n",
       "      <td>22:53:21</td>\n",
       "      <td>Tokyo 2020 Summer OG, Multi Clip Feeds, Table ...</td>\n",
       "      <td>Table Tennis/Mixed Doubles[X]/Finals</td>\n",
       "      <td>{}</td>\n",
       "      <td>9986.0</td>\n",
       "      <td>Table Tennis</td>\n",
       "      <td>Mixed Doubles[X]</td>\n",
       "      <td>Finals</td>\n",
       "      <td>NaN</td>\n",
       "      <td>Final</td>\n",
       "    </tr>\n",
       "  </tbody>\n",
       "</table>\n",
       "</div>"
      ],
      "text/plain": [
       "         Unnamed: 0         guid       seq_id        date         duration  \\\n",
       "1991801     2027094  MDA43417188  SEQ43417876  2021-07-26  0 days 02:46:26   \n",
       "\n",
       "            start       end  \\\n",
       "1991801  20:06:54  22:53:21   \n",
       "\n",
       "                                               description  \\\n",
       "1991801  Tokyo 2020 Summer OG, Multi Clip Feeds, Table ...   \n",
       "\n",
       "                                        event extra  duration_sec  \\\n",
       "1991801  Table Tennis/Mixed Doubles[X]/Finals    {}        9986.0   \n",
       "\n",
       "                sport          category raw_round details  round  \n",
       "1991801  Table Tennis  Mixed Doubles[X]    Finals     NaN  Final  "
      ]
     },
     "execution_count": 31,
     "metadata": {},
     "output_type": "execute_result"
    }
   ],
   "source": [
    "data[data.guid == list(file_map.keys())[0]]"
   ]
  },
  {
   "cell_type": "code",
   "execution_count": 32,
   "metadata": {},
   "outputs": [
    {
     "name": "stdout",
     "output_type": "stream",
     "text": [
      "Found 3226 matches\n"
     ]
    }
   ],
   "source": [
    "len(set(data.guid.tolist()) & set(file_map.keys()))\n",
    "print(f\"Found {len(set(data.guid.tolist()) & set(file_map.keys()))} matches\")"
   ]
  },
  {
   "cell_type": "code",
   "execution_count": 33,
   "metadata": {},
   "outputs": [
    {
     "name": "stdout",
     "output_type": "stream",
     "text": [
      "Found 3226 matches\n"
     ]
    }
   ],
   "source": [
    "len(set(guid_short) & set(mp4_short))\n",
    "print(f\"Found {len(set(guid_short) & set(mp4_short))} matches\")"
   ]
  },
  {
   "cell_type": "code",
   "execution_count": 34,
   "metadata": {},
   "outputs": [
    {
     "data": {
      "text/plain": [
       "'0020122'"
      ]
     },
     "execution_count": 34,
     "metadata": {},
     "output_type": "execute_result"
    }
   ],
   "source": [
    "guid_short[0]"
   ]
  },
  {
   "cell_type": "code",
   "execution_count": 35,
   "metadata": {},
   "outputs": [
    {
     "data": {
      "text/plain": [
       "['MDA43014387',\n",
       " 'MDA42737422',\n",
       " 'MDA43417806',\n",
       " 'MDA43312139',\n",
       " 'MDA43015068',\n",
       " 'MDA43273360',\n",
       " 'MDA42918446',\n",
       " 'MDA42737220',\n",
       " 'MDA43071835',\n",
       " 'MDA43339538']"
      ]
     },
     "execution_count": 35,
     "metadata": {},
     "output_type": "execute_result"
    }
   ],
   "source": [
    "list(set(data.guid.tolist()) & set(file_map.keys()))[:10]"
   ]
  },
  {
   "cell_type": "code",
   "execution_count": 36,
   "metadata": {},
   "outputs": [],
   "source": [
    "df_seq = data[data.guid.isin(list(set(data.guid.tolist()) & set(file_map.keys())))]"
   ]
  },
  {
   "cell_type": "code",
   "execution_count": 37,
   "metadata": {},
   "outputs": [],
   "source": [
    "from collections import Counter"
   ]
  },
  {
   "cell_type": "code",
   "execution_count": 38,
   "metadata": {},
   "outputs": [
    {
     "name": "stdout",
     "output_type": "stream",
     "text": [
      "Most common guids in DataFrame: [('MDA3', 11791), ('MDA4', 9921)]\n",
      "Most common guids for the MP4 Files: [('MDA4', 16724), ('MDA3', 18), ('MDA2', 11)]\n"
     ]
    }
   ],
   "source": [
    "guid_counter = Counter()\n",
    "\n",
    "for guid in data.guid.unique().tolist():\n",
    "    guid_counter[guid[:4]] += 1\n",
    "\n",
    "print(f\"Most common guids in DataFrame: {guid_counter.most_common(10)}\")\n",
    "\n",
    "file_counter = Counter()\n",
    "\n",
    "for guid in file_map.keys():\n",
    "    file_counter[guid[:4]] += 1\n",
    "\n",
    "print(f\"Most common guids for the MP4 Files: {file_counter.most_common(10)}\")"
   ]
  },
  {
   "cell_type": "code",
   "execution_count": 32,
   "metadata": {},
   "outputs": [
    {
     "data": {
      "text/plain": [
       "[('MDA4', 16724), ('MDA3', 18), ('MDA2', 11)]"
      ]
     },
     "execution_count": 32,
     "metadata": {},
     "output_type": "execute_result"
    }
   ],
   "source": []
  },
  {
   "cell_type": "code",
   "execution_count": 40,
   "metadata": {},
   "outputs": [],
   "source": [
    "\n",
    "def trim(input_path: Union[str, Path], start_ts: int, end_ts: int) -> BytesIO:\n",
    "    try:\n",
    "        out, _ = (\n",
    "            ffmpeg\n",
    "            .input(str(input_path), ss=start_ts)\n",
    "            .output(\n",
    "                \"pipe:1\", \n",
    "                format='mp4', \n",
    "                vcodec='libx264', \n",
    "                acodec='aac', \n",
    "                ab='128k',\n",
    "                t=end_ts - start_ts,\n",
    "                strict='experimental', \n",
    "                movflags='faststart+frag_keyframe+empty_moov'\n",
    "            )\n",
    "            .run(capture_stdout=True, capture_stderr=True)\n",
    "        )\n",
    "        return BytesIO(out)\n",
    "    except ffmpeg.Error as e:\n",
    "        print(f'FFmpeg Error: {e.stderr.decode()}')\n",
    "    \n",
    "    return None"
   ]
  },
  {
   "cell_type": "code",
   "execution_count": 149,
   "metadata": {},
   "outputs": [
    {
     "data": {
      "text/plain": [
       "array(['MDA42998500', 'MDA43015200', 'MDA43017500', 'MDA43032700',\n",
       "       'MDA43037600', 'MDA43038500', 'MDA43060000', 'MDA43089500',\n",
       "       'MDA43089600', 'MDA43094600', 'MDA43155300', 'MDA43169600',\n",
       "       'MDA43214200', 'MDA43221100', 'MDA43225400', 'MDA43292400',\n",
       "       'MDA43296000', 'MDA43312900', 'MDA43328900', 'MDA43339200'],\n",
       "      dtype=object)"
      ]
     },
     "execution_count": 149,
     "metadata": {},
     "output_type": "execute_result"
    }
   ],
   "source": [
    "df_seq.guid.unique()[:20\n",
    "]"
   ]
  },
  {
   "cell_type": "code",
   "execution_count": 152,
   "metadata": {},
   "outputs": [],
   "source": [
    "clip = df_seq.iloc[0].to_dict()"
   ]
  },
  {
   "cell_type": "code",
   "execution_count": 153,
   "metadata": {},
   "outputs": [
    {
     "data": {
      "text/plain": [
       "(386, 16)"
      ]
     },
     "execution_count": 153,
     "metadata": {},
     "output_type": "execute_result"
    }
   ],
   "source": [
    "df_norm = df_seq[df_seq.guid == 'MDA43169600']\n",
    "df_norm.shape"
   ]
  },
  {
   "cell_type": "code",
   "execution_count": 154,
   "metadata": {},
   "outputs": [
    {
     "data": {
      "text/html": [
       "<div>\n",
       "<style scoped>\n",
       "    .dataframe tbody tr th:only-of-type {\n",
       "        vertical-align: middle;\n",
       "    }\n",
       "\n",
       "    .dataframe tbody tr th {\n",
       "        vertical-align: top;\n",
       "    }\n",
       "\n",
       "    .dataframe thead th {\n",
       "        text-align: right;\n",
       "    }\n",
       "</style>\n",
       "<table border=\"1\" class=\"dataframe\">\n",
       "  <thead>\n",
       "    <tr style=\"text-align: right;\">\n",
       "      <th></th>\n",
       "      <th>Unnamed: 0</th>\n",
       "      <th>guid</th>\n",
       "      <th>seq_id</th>\n",
       "      <th>date</th>\n",
       "      <th>duration</th>\n",
       "      <th>start</th>\n",
       "      <th>end</th>\n",
       "      <th>description</th>\n",
       "      <th>event</th>\n",
       "      <th>extra</th>\n",
       "      <th>duration_sec</th>\n",
       "      <th>sport</th>\n",
       "      <th>category</th>\n",
       "      <th>raw_round</th>\n",
       "      <th>details</th>\n",
       "      <th>round</th>\n",
       "    </tr>\n",
       "  </thead>\n",
       "  <tbody>\n",
       "    <tr>\n",
       "      <th>19714</th>\n",
       "      <td>20224</td>\n",
       "      <td>MDA43169600</td>\n",
       "      <td>SEQ43195661</td>\n",
       "      <td>2021-07-28</td>\n",
       "      <td>0 days 00:00:27</td>\n",
       "      <td>13:30:36</td>\n",
       "      <td>13:31:04</td>\n",
       "      <td>Basketball ; Men's Preliminary Round Group A ;...</td>\n",
       "      <td>Basketball/Men[M]/Preliminary Round Group A/Pr...</td>\n",
       "      <td>{}</td>\n",
       "      <td>27.0</td>\n",
       "      <td>Basketball</td>\n",
       "      <td>Men[M]</td>\n",
       "      <td>Preliminary Round Group A</td>\n",
       "      <td>Preliminary Round Group A</td>\n",
       "      <td>Preliminary</td>\n",
       "    </tr>\n",
       "    <tr>\n",
       "      <th>19715</th>\n",
       "      <td>20225</td>\n",
       "      <td>MDA43169600</td>\n",
       "      <td>SEQ43195662</td>\n",
       "      <td>2021-07-28</td>\n",
       "      <td>0 days 00:00:09</td>\n",
       "      <td>13:31:04</td>\n",
       "      <td>13:31:14</td>\n",
       "      <td>Basketball ; Men's ; Preliminary Round Group A...</td>\n",
       "      <td>Basketball/Men[M]/Preliminary Round Group A/Pr...</td>\n",
       "      <td>{}</td>\n",
       "      <td>9.0</td>\n",
       "      <td>Basketball</td>\n",
       "      <td>Men[M]</td>\n",
       "      <td>Preliminary Round Group A</td>\n",
       "      <td>Preliminary Round Group A</td>\n",
       "      <td>Preliminary</td>\n",
       "    </tr>\n",
       "    <tr>\n",
       "      <th>19716</th>\n",
       "      <td>20226</td>\n",
       "      <td>MDA43169600</td>\n",
       "      <td>SEQ43195663</td>\n",
       "      <td>2021-07-28</td>\n",
       "      <td>0 days 00:00:07</td>\n",
       "      <td>13:31:14</td>\n",
       "      <td>13:31:21</td>\n",
       "      <td>Basketball ; Men's ; Preliminary Round Group A...</td>\n",
       "      <td>Basketball/Men[M]/Preliminary Round Group A/Pr...</td>\n",
       "      <td>{}</td>\n",
       "      <td>7.0</td>\n",
       "      <td>Basketball</td>\n",
       "      <td>Men[M]</td>\n",
       "      <td>Preliminary Round Group A</td>\n",
       "      <td>Preliminary Round Group A</td>\n",
       "      <td>Preliminary</td>\n",
       "    </tr>\n",
       "    <tr>\n",
       "      <th>19717</th>\n",
       "      <td>20227</td>\n",
       "      <td>MDA43169600</td>\n",
       "      <td>SEQ43195664</td>\n",
       "      <td>2021-07-28</td>\n",
       "      <td>0 days 00:00:42</td>\n",
       "      <td>13:31:21</td>\n",
       "      <td>13:32:04</td>\n",
       "      <td>Basketball ; Men's ; Preliminary Round Group A...</td>\n",
       "      <td>Basketball/Men[M]/Preliminary Round Group A/Pr...</td>\n",
       "      <td>{}</td>\n",
       "      <td>42.0</td>\n",
       "      <td>Basketball</td>\n",
       "      <td>Men[M]</td>\n",
       "      <td>Preliminary Round Group A</td>\n",
       "      <td>Preliminary Round Group A</td>\n",
       "      <td>Preliminary</td>\n",
       "    </tr>\n",
       "    <tr>\n",
       "      <th>19718</th>\n",
       "      <td>20228</td>\n",
       "      <td>MDA43169600</td>\n",
       "      <td>SEQ43195665</td>\n",
       "      <td>2021-07-28</td>\n",
       "      <td>0 days 00:00:06</td>\n",
       "      <td>13:32:04</td>\n",
       "      <td>13:32:10</td>\n",
       "      <td>Basketball ; Men's ; Preliminary Round Group A...</td>\n",
       "      <td>Basketball/Men[M]/Preliminary Round Group A/Pr...</td>\n",
       "      <td>{}</td>\n",
       "      <td>6.0</td>\n",
       "      <td>Basketball</td>\n",
       "      <td>Men[M]</td>\n",
       "      <td>Preliminary Round Group A</td>\n",
       "      <td>Preliminary Round Group A</td>\n",
       "      <td>Preliminary</td>\n",
       "    </tr>\n",
       "  </tbody>\n",
       "</table>\n",
       "</div>"
      ],
      "text/plain": [
       "       Unnamed: 0         guid       seq_id        date         duration  \\\n",
       "19714       20224  MDA43169600  SEQ43195661  2021-07-28  0 days 00:00:27   \n",
       "19715       20225  MDA43169600  SEQ43195662  2021-07-28  0 days 00:00:09   \n",
       "19716       20226  MDA43169600  SEQ43195663  2021-07-28  0 days 00:00:07   \n",
       "19717       20227  MDA43169600  SEQ43195664  2021-07-28  0 days 00:00:42   \n",
       "19718       20228  MDA43169600  SEQ43195665  2021-07-28  0 days 00:00:06   \n",
       "\n",
       "          start       end                                        description  \\\n",
       "19714  13:30:36  13:31:04  Basketball ; Men's Preliminary Round Group A ;...   \n",
       "19715  13:31:04  13:31:14  Basketball ; Men's ; Preliminary Round Group A...   \n",
       "19716  13:31:14  13:31:21  Basketball ; Men's ; Preliminary Round Group A...   \n",
       "19717  13:31:21  13:32:04  Basketball ; Men's ; Preliminary Round Group A...   \n",
       "19718  13:32:04  13:32:10  Basketball ; Men's ; Preliminary Round Group A...   \n",
       "\n",
       "                                                   event extra  duration_sec  \\\n",
       "19714  Basketball/Men[M]/Preliminary Round Group A/Pr...    {}          27.0   \n",
       "19715  Basketball/Men[M]/Preliminary Round Group A/Pr...    {}           9.0   \n",
       "19716  Basketball/Men[M]/Preliminary Round Group A/Pr...    {}           7.0   \n",
       "19717  Basketball/Men[M]/Preliminary Round Group A/Pr...    {}          42.0   \n",
       "19718  Basketball/Men[M]/Preliminary Round Group A/Pr...    {}           6.0   \n",
       "\n",
       "            sport category                  raw_round  \\\n",
       "19714  Basketball   Men[M]  Preliminary Round Group A   \n",
       "19715  Basketball   Men[M]  Preliminary Round Group A   \n",
       "19716  Basketball   Men[M]  Preliminary Round Group A   \n",
       "19717  Basketball   Men[M]  Preliminary Round Group A   \n",
       "19718  Basketball   Men[M]  Preliminary Round Group A   \n",
       "\n",
       "                         details        round  \n",
       "19714  Preliminary Round Group A  Preliminary  \n",
       "19715  Preliminary Round Group A  Preliminary  \n",
       "19716  Preliminary Round Group A  Preliminary  \n",
       "19717  Preliminary Round Group A  Preliminary  \n",
       "19718  Preliminary Round Group A  Preliminary  "
      ]
     },
     "execution_count": 154,
     "metadata": {},
     "output_type": "execute_result"
    }
   ],
   "source": [
    "df_norm.head()"
   ]
  },
  {
   "cell_type": "code",
   "execution_count": 155,
   "metadata": {},
   "outputs": [
    {
     "name": "stderr",
     "output_type": "stream",
     "text": [
      "/tmp/ipykernel_41647/4058683711.py:3: SettingWithCopyWarning: \n",
      "A value is trying to be set on a copy of a slice from a DataFrame.\n",
      "Try using .loc[row_indexer,col_indexer] = value instead\n",
      "\n",
      "See the caveats in the documentation: https://pandas.pydata.org/pandas-docs/stable/user_guide/indexing.html#returning-a-view-versus-a-copy\n",
      "  df_norm.loc[:, 'start_ts'] = df_norm.start.apply(lambda x: (datetime.strptime(x, '%H:%M:%S') - datetime(1900, 1, 1)).total_seconds())\n",
      "/tmp/ipykernel_41647/4058683711.py:4: SettingWithCopyWarning: \n",
      "A value is trying to be set on a copy of a slice from a DataFrame.\n",
      "Try using .loc[row_indexer,col_indexer] = value instead\n",
      "\n",
      "See the caveats in the documentation: https://pandas.pydata.org/pandas-docs/stable/user_guide/indexing.html#returning-a-view-versus-a-copy\n",
      "  df_norm.loc[:, 'end_ts'] = df_norm.end.apply(lambda x: (datetime.strptime(x, '%H:%M:%S') - datetime(1900, 1, 1)).total_seconds())\n"
     ]
    }
   ],
   "source": [
    "# Normalize the timestamps for the clips\n",
    "\n",
    "df_norm.loc[:, 'start_ts'] = df_norm.start.apply(lambda x: (datetime.strptime(x, '%H:%M:%S') - datetime(1900, 1, 1)).total_seconds())\n",
    "df_norm.loc[:, 'end_ts'] = df_norm.end.apply(lambda x: (datetime.strptime(x, '%H:%M:%S') - datetime(1900, 1, 1)).total_seconds())\n",
    "df_norm.loc[:, 'end_ts'] = df_norm.end_ts - df_norm.start_ts.min()\n",
    "df_norm.loc[:, 'start_ts'] = df_norm.start_ts - df_norm.start_ts.min()"
   ]
  },
  {
   "cell_type": "code",
   "execution_count": 156,
   "metadata": {},
   "outputs": [
    {
     "name": "stdout",
     "output_type": "stream",
     "text": [
      "Trimming /media/data/ioc/videos/0/0/MDA43169600/MDA43169600.mp4 from 0.0 to 28.0\n"
     ]
    }
   ],
   "source": [
    "i = 0\n",
    "\n",
    "clip_path = file_map[df_norm.guid.iloc[i]]\n",
    "start = df_norm.start_ts.iloc[i]\n",
    "end = df_norm.end_ts.iloc[i]\n",
    "print(f\"Trimming {clip_path} from {start} to {end}\")\n",
    "# buffer = trim(file_map[clip['guid']], start, end)"
   ]
  },
  {
   "cell_type": "code",
   "execution_count": 157,
   "metadata": {},
   "outputs": [],
   "source": [
    "row = df_norm.iloc[i]"
   ]
  },
  {
   "cell_type": "code",
   "execution_count": 158,
   "metadata": {},
   "outputs": [
    {
     "data": {
      "text/plain": [
       "'/media/data/ioc/videos/0/0/MDA43169600/MDA43169600.mp4'"
      ]
     },
     "execution_count": 158,
     "metadata": {},
     "output_type": "execute_result"
    }
   ],
   "source": [
    "file_map[row.guid]"
   ]
  },
  {
   "cell_type": "code",
   "execution_count": 159,
   "metadata": {},
   "outputs": [],
   "source": [
    "def get_frame_rate(input_path: Union[str, Path]) -> float:\n",
    "    probe = ffmpeg.probe(str(input_path))\n",
    "    video_stream = next((stream for stream in probe['streams'] if stream['codec_type'] == 'video'), None)\n",
    "    if video_stream is None:\n",
    "        return None\n",
    "    \n",
    "    r_frame_rate = video_stream['r_frame_rate']\n",
    "    num, den = map(int, r_frame_rate.split('/'))\n",
    "    return num / den"
   ]
  },
  {
   "cell_type": "code",
   "execution_count": 165,
   "metadata": {},
   "outputs": [
    {
     "data": {
      "text/plain": [
       "2244619"
      ]
     },
     "execution_count": 165,
     "metadata": {},
     "output_type": "execute_result"
    }
   ],
   "source": [
    "df.seq_id.nunique()"
   ]
  },
  {
   "cell_type": "code",
   "execution_count": 166,
   "metadata": {},
   "outputs": [
    {
     "data": {
      "text/plain": [
       "(2244620, 16)"
      ]
     },
     "execution_count": 166,
     "metadata": {},
     "output_type": "execute_result"
    }
   ],
   "source": [
    "df.shape"
   ]
  },
  {
   "cell_type": "code",
   "execution_count": 160,
   "metadata": {},
   "outputs": [
    {
     "data": {
      "text/plain": [
       "Unnamed: 0                                                  20224\n",
       "guid                                                  MDA43169600\n",
       "seq_id                                                SEQ43195661\n",
       "date                                                   2021-07-28\n",
       "duration                                          0 days 00:00:27\n",
       "start                                                    13:30:36\n",
       "end                                                      13:31:04\n",
       "description     Basketball ; Men's Preliminary Round Group A ;...\n",
       "event           Basketball/Men[M]/Preliminary Round Group A/Pr...\n",
       "extra                                                          {}\n",
       "duration_sec                                                 27.0\n",
       "sport                                                  Basketball\n",
       "category                                                   Men[M]\n",
       "raw_round                               Preliminary Round Group A\n",
       "details                                 Preliminary Round Group A\n",
       "round                                                 Preliminary\n",
       "start_ts                                                      0.0\n",
       "end_ts                                                       28.0\n",
       "Name: 19714, dtype: object"
      ]
     },
     "execution_count": 160,
     "metadata": {},
     "output_type": "execute_result"
    }
   ],
   "source": [
    "row"
   ]
  },
  {
   "cell_type": "code",
   "execution_count": 161,
   "metadata": {},
   "outputs": [],
   "source": [
    "frame_rates = {}\n",
    "clips = {}\n",
    "media_ids = {}\n",
    "\n",
    "for i, row in df_norm.iterrows():\n",
    "\n",
    "    media_id = row.guid + \"IOC\" + str(i).zfill(5)\n",
    "    original_path = file_map[row.guid]\n",
    "    media_path = f\"videos/{row.guid}/{media_id}.mp4\"\n",
    "    \n",
    "    if frame_rates.get(original_path) is None:\n",
    "        frame_rates[original_path] = get_frame_rate(original_path)\n",
    "\n",
    "    metadata = {\n",
    "        'sport': row.sport,\n",
    "        'description': row.description,\n",
    "        'event': row.event,\n",
    "        'category': row.category,\n",
    "        'round': row['round'],\n",
    "        'raw_round': row.raw_round,\n",
    "    }\n",
    "\n",
    "    media_ids[media_id] = row\n",
    "    \n",
    "    clips[media_id] = Media(**{\n",
    "        'media_id': row.seq_id,\n",
    "        'original_path': original_path,\n",
    "        'original_id': row.guid,\n",
    "        'media_path': media_path, \n",
    "        'media_type': \"video\",\n",
    "        'sub_type': \"clip\", \n",
    "        'size': -1, # write size later when we process the clips \n",
    "        'metadata': metadata,\n",
    "        'library_id': library_id, \n",
    "        'hash': hashlib.md5(media_path.encode()).hexdigest(), \n",
    "        'parent_id': -1,\n",
    "        'start_ts': row.start_ts, 'end_ts': row.end_ts, \n",
    "        'start_frame': row.start_ts * frame_rates[original_path], 'end_frame': row.end_ts * frame_rates[original_path], 'frame_rate': frame_rates[original_path], \n",
    "    })"
   ]
  },
  {
   "cell_type": "code",
   "execution_count": 167,
   "metadata": {},
   "outputs": [
    {
     "data": {
      "text/plain": [
       "'SEQ43196046'"
      ]
     },
     "execution_count": 167,
     "metadata": {},
     "output_type": "execute_result"
    }
   ],
   "source": [
    "row.seq_id"
   ]
  },
  {
   "cell_type": "code",
   "execution_count": 162,
   "metadata": {},
   "outputs": [
    {
     "data": {
      "text/plain": [
       "dict_keys(['MDA43169600IOC19714', 'MDA43169600IOC19715', 'MDA43169600IOC19716', 'MDA43169600IOC19717', 'MDA43169600IOC19718', 'MDA43169600IOC19719', 'MDA43169600IOC19720', 'MDA43169600IOC19721', 'MDA43169600IOC19722', 'MDA43169600IOC19723', 'MDA43169600IOC19724', 'MDA43169600IOC19725', 'MDA43169600IOC19726', 'MDA43169600IOC19727', 'MDA43169600IOC19728', 'MDA43169600IOC19729', 'MDA43169600IOC19730', 'MDA43169600IOC19731', 'MDA43169600IOC19732', 'MDA43169600IOC19733', 'MDA43169600IOC19734', 'MDA43169600IOC19735', 'MDA43169600IOC19736', 'MDA43169600IOC19737', 'MDA43169600IOC19738', 'MDA43169600IOC19739', 'MDA43169600IOC19740', 'MDA43169600IOC19741', 'MDA43169600IOC19742', 'MDA43169600IOC19743', 'MDA43169600IOC19744', 'MDA43169600IOC19745', 'MDA43169600IOC19746', 'MDA43169600IOC19747', 'MDA43169600IOC19748', 'MDA43169600IOC19749', 'MDA43169600IOC19750', 'MDA43169600IOC19751', 'MDA43169600IOC19752', 'MDA43169600IOC19753', 'MDA43169600IOC19754', 'MDA43169600IOC19755', 'MDA43169600IOC19756', 'MDA43169600IOC19757', 'MDA43169600IOC19758', 'MDA43169600IOC19759', 'MDA43169600IOC19760', 'MDA43169600IOC19761', 'MDA43169600IOC19762', 'MDA43169600IOC19763', 'MDA43169600IOC19764', 'MDA43169600IOC19765', 'MDA43169600IOC19766', 'MDA43169600IOC19767', 'MDA43169600IOC19768', 'MDA43169600IOC19769', 'MDA43169600IOC19770', 'MDA43169600IOC19771', 'MDA43169600IOC19772', 'MDA43169600IOC19773', 'MDA43169600IOC19774', 'MDA43169600IOC19775', 'MDA43169600IOC19776', 'MDA43169600IOC19777', 'MDA43169600IOC19778', 'MDA43169600IOC19779', 'MDA43169600IOC19780', 'MDA43169600IOC19781', 'MDA43169600IOC19782', 'MDA43169600IOC19783', 'MDA43169600IOC19784', 'MDA43169600IOC19785', 'MDA43169600IOC19786', 'MDA43169600IOC19787', 'MDA43169600IOC19788', 'MDA43169600IOC19789', 'MDA43169600IOC19790', 'MDA43169600IOC19791', 'MDA43169600IOC19792', 'MDA43169600IOC19793', 'MDA43169600IOC19794', 'MDA43169600IOC19795', 'MDA43169600IOC19796', 'MDA43169600IOC19797', 'MDA43169600IOC19798', 'MDA43169600IOC19799', 'MDA43169600IOC19800', 'MDA43169600IOC19801', 'MDA43169600IOC19802', 'MDA43169600IOC19803', 'MDA43169600IOC19804', 'MDA43169600IOC19805', 'MDA43169600IOC19806', 'MDA43169600IOC19807', 'MDA43169600IOC19808', 'MDA43169600IOC19809', 'MDA43169600IOC19810', 'MDA43169600IOC19811', 'MDA43169600IOC19812', 'MDA43169600IOC19813', 'MDA43169600IOC19814', 'MDA43169600IOC19815', 'MDA43169600IOC19816', 'MDA43169600IOC19817', 'MDA43169600IOC19818', 'MDA43169600IOC19819', 'MDA43169600IOC19820', 'MDA43169600IOC19821', 'MDA43169600IOC19822', 'MDA43169600IOC19823', 'MDA43169600IOC19824', 'MDA43169600IOC19825', 'MDA43169600IOC19826', 'MDA43169600IOC19827', 'MDA43169600IOC19828', 'MDA43169600IOC19829', 'MDA43169600IOC19830', 'MDA43169600IOC19831', 'MDA43169600IOC19832', 'MDA43169600IOC19833', 'MDA43169600IOC19834', 'MDA43169600IOC19835', 'MDA43169600IOC19836', 'MDA43169600IOC19837', 'MDA43169600IOC19838', 'MDA43169600IOC19839', 'MDA43169600IOC19840', 'MDA43169600IOC19841', 'MDA43169600IOC19842', 'MDA43169600IOC19843', 'MDA43169600IOC19844', 'MDA43169600IOC19845', 'MDA43169600IOC19846', 'MDA43169600IOC19847', 'MDA43169600IOC19848', 'MDA43169600IOC19849', 'MDA43169600IOC19850', 'MDA43169600IOC19851', 'MDA43169600IOC19852', 'MDA43169600IOC19853', 'MDA43169600IOC19854', 'MDA43169600IOC19855', 'MDA43169600IOC19856', 'MDA43169600IOC19857', 'MDA43169600IOC19858', 'MDA43169600IOC19859', 'MDA43169600IOC19860', 'MDA43169600IOC19861', 'MDA43169600IOC19862', 'MDA43169600IOC19863', 'MDA43169600IOC19864', 'MDA43169600IOC19865', 'MDA43169600IOC19866', 'MDA43169600IOC19867', 'MDA43169600IOC19868', 'MDA43169600IOC19869', 'MDA43169600IOC19870', 'MDA43169600IOC19871', 'MDA43169600IOC19872', 'MDA43169600IOC19873', 'MDA43169600IOC19874', 'MDA43169600IOC19875', 'MDA43169600IOC19876', 'MDA43169600IOC19877', 'MDA43169600IOC19878', 'MDA43169600IOC19879', 'MDA43169600IOC19880', 'MDA43169600IOC19881', 'MDA43169600IOC19882', 'MDA43169600IOC19883', 'MDA43169600IOC19884', 'MDA43169600IOC19885', 'MDA43169600IOC19886', 'MDA43169600IOC19887', 'MDA43169600IOC19888', 'MDA43169600IOC19889', 'MDA43169600IOC19890', 'MDA43169600IOC19891', 'MDA43169600IOC19892', 'MDA43169600IOC19893', 'MDA43169600IOC19894', 'MDA43169600IOC19895', 'MDA43169600IOC19896', 'MDA43169600IOC19897', 'MDA43169600IOC19898', 'MDA43169600IOC19899', 'MDA43169600IOC19900', 'MDA43169600IOC19901', 'MDA43169600IOC19902', 'MDA43169600IOC19903', 'MDA43169600IOC19904', 'MDA43169600IOC19905', 'MDA43169600IOC19906', 'MDA43169600IOC19907', 'MDA43169600IOC19908', 'MDA43169600IOC19909', 'MDA43169600IOC19910', 'MDA43169600IOC19911', 'MDA43169600IOC19912', 'MDA43169600IOC19913', 'MDA43169600IOC19914', 'MDA43169600IOC19915', 'MDA43169600IOC19916', 'MDA43169600IOC19917', 'MDA43169600IOC19918', 'MDA43169600IOC19919', 'MDA43169600IOC19920', 'MDA43169600IOC19921', 'MDA43169600IOC19922', 'MDA43169600IOC19923', 'MDA43169600IOC19924', 'MDA43169600IOC19925', 'MDA43169600IOC19926', 'MDA43169600IOC19927', 'MDA43169600IOC19928', 'MDA43169600IOC19929', 'MDA43169600IOC19930', 'MDA43169600IOC19931', 'MDA43169600IOC19932', 'MDA43169600IOC19933', 'MDA43169600IOC19934', 'MDA43169600IOC19935', 'MDA43169600IOC19936', 'MDA43169600IOC19937', 'MDA43169600IOC19938', 'MDA43169600IOC19939', 'MDA43169600IOC19940', 'MDA43169600IOC19941', 'MDA43169600IOC19942', 'MDA43169600IOC19943', 'MDA43169600IOC19944', 'MDA43169600IOC19945', 'MDA43169600IOC19946', 'MDA43169600IOC19947', 'MDA43169600IOC19948', 'MDA43169600IOC19949', 'MDA43169600IOC19950', 'MDA43169600IOC19951', 'MDA43169600IOC19952', 'MDA43169600IOC19953', 'MDA43169600IOC19954', 'MDA43169600IOC19955', 'MDA43169600IOC19956', 'MDA43169600IOC19957', 'MDA43169600IOC19958', 'MDA43169600IOC19959', 'MDA43169600IOC19960', 'MDA43169600IOC19961', 'MDA43169600IOC19962', 'MDA43169600IOC19963', 'MDA43169600IOC19964', 'MDA43169600IOC19965', 'MDA43169600IOC19966', 'MDA43169600IOC19967', 'MDA43169600IOC19968', 'MDA43169600IOC19969', 'MDA43169600IOC19970', 'MDA43169600IOC19971', 'MDA43169600IOC19972', 'MDA43169600IOC19973', 'MDA43169600IOC19974', 'MDA43169600IOC19975', 'MDA43169600IOC19976', 'MDA43169600IOC19977', 'MDA43169600IOC19978', 'MDA43169600IOC19979', 'MDA43169600IOC19980', 'MDA43169600IOC19981', 'MDA43169600IOC19982', 'MDA43169600IOC19983', 'MDA43169600IOC19984', 'MDA43169600IOC19985', 'MDA43169600IOC19986', 'MDA43169600IOC19987', 'MDA43169600IOC19988', 'MDA43169600IOC19989', 'MDA43169600IOC19990', 'MDA43169600IOC19991', 'MDA43169600IOC19992', 'MDA43169600IOC19993', 'MDA43169600IOC19994', 'MDA43169600IOC19995', 'MDA43169600IOC19996', 'MDA43169600IOC19997', 'MDA43169600IOC19998', 'MDA43169600IOC19999', 'MDA43169600IOC20000', 'MDA43169600IOC20001', 'MDA43169600IOC20002', 'MDA43169600IOC20003', 'MDA43169600IOC20004', 'MDA43169600IOC20005', 'MDA43169600IOC20006', 'MDA43169600IOC20007', 'MDA43169600IOC20008', 'MDA43169600IOC20009', 'MDA43169600IOC20010', 'MDA43169600IOC20011', 'MDA43169600IOC20012', 'MDA43169600IOC20013', 'MDA43169600IOC20014', 'MDA43169600IOC20015', 'MDA43169600IOC20016', 'MDA43169600IOC20017', 'MDA43169600IOC20018', 'MDA43169600IOC20019', 'MDA43169600IOC20020', 'MDA43169600IOC20021', 'MDA43169600IOC20022', 'MDA43169600IOC20023', 'MDA43169600IOC20024', 'MDA43169600IOC20025', 'MDA43169600IOC20026', 'MDA43169600IOC20027', 'MDA43169600IOC20028', 'MDA43169600IOC20029', 'MDA43169600IOC20030', 'MDA43169600IOC20031', 'MDA43169600IOC20032', 'MDA43169600IOC20033', 'MDA43169600IOC20034', 'MDA43169600IOC20035', 'MDA43169600IOC20036', 'MDA43169600IOC20037', 'MDA43169600IOC20038', 'MDA43169600IOC20039', 'MDA43169600IOC20040', 'MDA43169600IOC20041', 'MDA43169600IOC20042', 'MDA43169600IOC20043', 'MDA43169600IOC20044', 'MDA43169600IOC20045', 'MDA43169600IOC20046', 'MDA43169600IOC20047', 'MDA43169600IOC20048', 'MDA43169600IOC20049', 'MDA43169600IOC20050', 'MDA43169600IOC20051', 'MDA43169600IOC20052', 'MDA43169600IOC20053', 'MDA43169600IOC20054', 'MDA43169600IOC20055', 'MDA43169600IOC20056', 'MDA43169600IOC20057', 'MDA43169600IOC20058', 'MDA43169600IOC20059', 'MDA43169600IOC20060', 'MDA43169600IOC20061', 'MDA43169600IOC20062', 'MDA43169600IOC20063', 'MDA43169600IOC20064', 'MDA43169600IOC20065', 'MDA43169600IOC20066', 'MDA43169600IOC20067', 'MDA43169600IOC20068', 'MDA43169600IOC20069', 'MDA43169600IOC20070', 'MDA43169600IOC20071', 'MDA43169600IOC20072', 'MDA43169600IOC20073', 'MDA43169600IOC20074', 'MDA43169600IOC20075', 'MDA43169600IOC20076', 'MDA43169600IOC20077', 'MDA43169600IOC20078', 'MDA43169600IOC20079', 'MDA43169600IOC20080', 'MDA43169600IOC20081', 'MDA43169600IOC20082', 'MDA43169600IOC20083', 'MDA43169600IOC20084', 'MDA43169600IOC20085', 'MDA43169600IOC20086', 'MDA43169600IOC20087', 'MDA43169600IOC20088', 'MDA43169600IOC20089', 'MDA43169600IOC20090', 'MDA43169600IOC20091', 'MDA43169600IOC20092', 'MDA43169600IOC20093', 'MDA43169600IOC20094', 'MDA43169600IOC20095', 'MDA43169600IOC20096', 'MDA43169600IOC20097', 'MDA43169600IOC20098', 'MDA43169600IOC20099'])"
      ]
     },
     "execution_count": 162,
     "metadata": {},
     "output_type": "execute_result"
    }
   ],
   "source": [
    "clips.keys()"
   ]
  },
  {
   "cell_type": "code",
   "execution_count": null,
   "metadata": {},
   "outputs": [],
   "source": [
    "for key in tqdm(media_ids):\n",
    "    # if media_ids[key].scenes_tc[1] - media_ids[key].scenes_tc[0] < 4:\n",
    "    #     continue\n",
    "\n",
    "    try:\n",
    "        print(clips[key].original_path, media_ids[key].start_ts, media_ids[key].end_ts)\n",
    "        buffer = trim(clips[key].original_path, media_ids[key].start_ts, media_ids[key].end_ts)\n",
    "        clips[key].size = len(buffer.getvalue())\n",
    "        get_storage_client().upload_binary(bucket_name, clips[key].media_path, buffer)\n",
    "        create_media(clips[key])\n",
    "    except IntegrityError as e:\n",
    "        if \"duplicate key value violates unique constraint\" in str(e):\n",
    "            pass\n",
    "            # logging.info(f'UniqueViolation: Duplicate media_id {clips[key].media_id}')\n",
    "        else:\n",
    "            raise e\n"
   ]
  },
  {
   "cell_type": "code",
   "execution_count": null,
   "metadata": {},
   "outputs": [],
   "source": []
  },
  {
   "cell_type": "code",
   "execution_count": 71,
   "metadata": {},
   "outputs": [],
   "source": [
    "\n",
    "buffer = trim(file_map[clip['guid']], start, end)"
   ]
  },
  {
   "cell_type": "code",
   "execution_count": 68,
   "metadata": {},
   "outputs": [],
   "source": [
    "with open('test.mp4', 'wb') as f:\n",
    "    f.write(buffer.read())"
   ]
  },
  {
   "cell_type": "code",
   "execution_count": 170,
   "metadata": {},
   "outputs": [
    {
     "name": "stderr",
     "output_type": "stream",
     "text": [
      "/tmp/ipykernel_41647/2917326498.py:4: SettingWithCopyWarning: \n",
      "A value is trying to be set on a copy of a slice from a DataFrame.\n",
      "Try using .loc[row_indexer,col_indexer] = value instead\n",
      "\n",
      "See the caveats in the documentation: https://pandas.pydata.org/pandas-docs/stable/user_guide/indexing.html#returning-a-view-versus-a-copy\n",
      "  df_norm['difference'] = df_norm.apply(calculate_difference, axis=1)\n"
     ]
    }
   ],
   "source": [
    "def calculate_difference(row):\n",
    "    return row['end_ts'] - row['start_ts']\n",
    "\n",
    "df_norm['difference'] = df_norm.apply(calculate_difference, axis=1)"
   ]
  },
  {
   "cell_type": "code",
   "execution_count": 171,
   "metadata": {},
   "outputs": [
    {
     "data": {
      "text/html": [
       "<div>\n",
       "<style scoped>\n",
       "    .dataframe tbody tr th:only-of-type {\n",
       "        vertical-align: middle;\n",
       "    }\n",
       "\n",
       "    .dataframe tbody tr th {\n",
       "        vertical-align: top;\n",
       "    }\n",
       "\n",
       "    .dataframe thead th {\n",
       "        text-align: right;\n",
       "    }\n",
       "</style>\n",
       "<table border=\"1\" class=\"dataframe\">\n",
       "  <thead>\n",
       "    <tr style=\"text-align: right;\">\n",
       "      <th></th>\n",
       "      <th>Unnamed: 0</th>\n",
       "      <th>guid</th>\n",
       "      <th>seq_id</th>\n",
       "      <th>date</th>\n",
       "      <th>duration</th>\n",
       "      <th>start</th>\n",
       "      <th>end</th>\n",
       "      <th>description</th>\n",
       "      <th>event</th>\n",
       "      <th>extra</th>\n",
       "      <th>duration_sec</th>\n",
       "      <th>sport</th>\n",
       "      <th>category</th>\n",
       "      <th>raw_round</th>\n",
       "      <th>details</th>\n",
       "      <th>round</th>\n",
       "      <th>start_ts</th>\n",
       "      <th>end_ts</th>\n",
       "      <th>difference</th>\n",
       "    </tr>\n",
       "  </thead>\n",
       "  <tbody>\n",
       "    <tr>\n",
       "      <th>19714</th>\n",
       "      <td>20224</td>\n",
       "      <td>MDA43169600</td>\n",
       "      <td>SEQ43195661</td>\n",
       "      <td>2021-07-28</td>\n",
       "      <td>0 days 00:00:27</td>\n",
       "      <td>13:30:36</td>\n",
       "      <td>13:31:04</td>\n",
       "      <td>Basketball ; Men's Preliminary Round Group A ;...</td>\n",
       "      <td>Basketball/Men[M]/Preliminary Round Group A/Pr...</td>\n",
       "      <td>{}</td>\n",
       "      <td>27.0</td>\n",
       "      <td>Basketball</td>\n",
       "      <td>Men[M]</td>\n",
       "      <td>Preliminary Round Group A</td>\n",
       "      <td>Preliminary Round Group A</td>\n",
       "      <td>Preliminary</td>\n",
       "      <td>0.0</td>\n",
       "      <td>28.0</td>\n",
       "      <td>28.0</td>\n",
       "    </tr>\n",
       "    <tr>\n",
       "      <th>19715</th>\n",
       "      <td>20225</td>\n",
       "      <td>MDA43169600</td>\n",
       "      <td>SEQ43195662</td>\n",
       "      <td>2021-07-28</td>\n",
       "      <td>0 days 00:00:09</td>\n",
       "      <td>13:31:04</td>\n",
       "      <td>13:31:14</td>\n",
       "      <td>Basketball ; Men's ; Preliminary Round Group A...</td>\n",
       "      <td>Basketball/Men[M]/Preliminary Round Group A/Pr...</td>\n",
       "      <td>{}</td>\n",
       "      <td>9.0</td>\n",
       "      <td>Basketball</td>\n",
       "      <td>Men[M]</td>\n",
       "      <td>Preliminary Round Group A</td>\n",
       "      <td>Preliminary Round Group A</td>\n",
       "      <td>Preliminary</td>\n",
       "      <td>28.0</td>\n",
       "      <td>38.0</td>\n",
       "      <td>10.0</td>\n",
       "    </tr>\n",
       "    <tr>\n",
       "      <th>19716</th>\n",
       "      <td>20226</td>\n",
       "      <td>MDA43169600</td>\n",
       "      <td>SEQ43195663</td>\n",
       "      <td>2021-07-28</td>\n",
       "      <td>0 days 00:00:07</td>\n",
       "      <td>13:31:14</td>\n",
       "      <td>13:31:21</td>\n",
       "      <td>Basketball ; Men's ; Preliminary Round Group A...</td>\n",
       "      <td>Basketball/Men[M]/Preliminary Round Group A/Pr...</td>\n",
       "      <td>{}</td>\n",
       "      <td>7.0</td>\n",
       "      <td>Basketball</td>\n",
       "      <td>Men[M]</td>\n",
       "      <td>Preliminary Round Group A</td>\n",
       "      <td>Preliminary Round Group A</td>\n",
       "      <td>Preliminary</td>\n",
       "      <td>38.0</td>\n",
       "      <td>45.0</td>\n",
       "      <td>7.0</td>\n",
       "    </tr>\n",
       "    <tr>\n",
       "      <th>19717</th>\n",
       "      <td>20227</td>\n",
       "      <td>MDA43169600</td>\n",
       "      <td>SEQ43195664</td>\n",
       "      <td>2021-07-28</td>\n",
       "      <td>0 days 00:00:42</td>\n",
       "      <td>13:31:21</td>\n",
       "      <td>13:32:04</td>\n",
       "      <td>Basketball ; Men's ; Preliminary Round Group A...</td>\n",
       "      <td>Basketball/Men[M]/Preliminary Round Group A/Pr...</td>\n",
       "      <td>{}</td>\n",
       "      <td>42.0</td>\n",
       "      <td>Basketball</td>\n",
       "      <td>Men[M]</td>\n",
       "      <td>Preliminary Round Group A</td>\n",
       "      <td>Preliminary Round Group A</td>\n",
       "      <td>Preliminary</td>\n",
       "      <td>45.0</td>\n",
       "      <td>88.0</td>\n",
       "      <td>43.0</td>\n",
       "    </tr>\n",
       "    <tr>\n",
       "      <th>19718</th>\n",
       "      <td>20228</td>\n",
       "      <td>MDA43169600</td>\n",
       "      <td>SEQ43195665</td>\n",
       "      <td>2021-07-28</td>\n",
       "      <td>0 days 00:00:06</td>\n",
       "      <td>13:32:04</td>\n",
       "      <td>13:32:10</td>\n",
       "      <td>Basketball ; Men's ; Preliminary Round Group A...</td>\n",
       "      <td>Basketball/Men[M]/Preliminary Round Group A/Pr...</td>\n",
       "      <td>{}</td>\n",
       "      <td>6.0</td>\n",
       "      <td>Basketball</td>\n",
       "      <td>Men[M]</td>\n",
       "      <td>Preliminary Round Group A</td>\n",
       "      <td>Preliminary Round Group A</td>\n",
       "      <td>Preliminary</td>\n",
       "      <td>88.0</td>\n",
       "      <td>94.0</td>\n",
       "      <td>6.0</td>\n",
       "    </tr>\n",
       "  </tbody>\n",
       "</table>\n",
       "</div>"
      ],
      "text/plain": [
       "       Unnamed: 0         guid       seq_id        date         duration  \\\n",
       "19714       20224  MDA43169600  SEQ43195661  2021-07-28  0 days 00:00:27   \n",
       "19715       20225  MDA43169600  SEQ43195662  2021-07-28  0 days 00:00:09   \n",
       "19716       20226  MDA43169600  SEQ43195663  2021-07-28  0 days 00:00:07   \n",
       "19717       20227  MDA43169600  SEQ43195664  2021-07-28  0 days 00:00:42   \n",
       "19718       20228  MDA43169600  SEQ43195665  2021-07-28  0 days 00:00:06   \n",
       "\n",
       "          start       end                                        description  \\\n",
       "19714  13:30:36  13:31:04  Basketball ; Men's Preliminary Round Group A ;...   \n",
       "19715  13:31:04  13:31:14  Basketball ; Men's ; Preliminary Round Group A...   \n",
       "19716  13:31:14  13:31:21  Basketball ; Men's ; Preliminary Round Group A...   \n",
       "19717  13:31:21  13:32:04  Basketball ; Men's ; Preliminary Round Group A...   \n",
       "19718  13:32:04  13:32:10  Basketball ; Men's ; Preliminary Round Group A...   \n",
       "\n",
       "                                                   event extra  duration_sec  \\\n",
       "19714  Basketball/Men[M]/Preliminary Round Group A/Pr...    {}          27.0   \n",
       "19715  Basketball/Men[M]/Preliminary Round Group A/Pr...    {}           9.0   \n",
       "19716  Basketball/Men[M]/Preliminary Round Group A/Pr...    {}           7.0   \n",
       "19717  Basketball/Men[M]/Preliminary Round Group A/Pr...    {}          42.0   \n",
       "19718  Basketball/Men[M]/Preliminary Round Group A/Pr...    {}           6.0   \n",
       "\n",
       "            sport category                  raw_round  \\\n",
       "19714  Basketball   Men[M]  Preliminary Round Group A   \n",
       "19715  Basketball   Men[M]  Preliminary Round Group A   \n",
       "19716  Basketball   Men[M]  Preliminary Round Group A   \n",
       "19717  Basketball   Men[M]  Preliminary Round Group A   \n",
       "19718  Basketball   Men[M]  Preliminary Round Group A   \n",
       "\n",
       "                         details        round  start_ts  end_ts  difference  \n",
       "19714  Preliminary Round Group A  Preliminary       0.0    28.0        28.0  \n",
       "19715  Preliminary Round Group A  Preliminary      28.0    38.0        10.0  \n",
       "19716  Preliminary Round Group A  Preliminary      38.0    45.0         7.0  \n",
       "19717  Preliminary Round Group A  Preliminary      45.0    88.0        43.0  \n",
       "19718  Preliminary Round Group A  Preliminary      88.0    94.0         6.0  "
      ]
     },
     "execution_count": 171,
     "metadata": {},
     "output_type": "execute_result"
    }
   ],
   "source": [
    "df_norm.head()"
   ]
  },
  {
   "cell_type": "code",
   "execution_count": 172,
   "metadata": {},
   "outputs": [
    {
     "data": {
      "text/plain": [
       "<Axes: >"
      ]
     },
     "execution_count": 172,
     "metadata": {},
     "output_type": "execute_result"
    },
    {
     "data": {
      "image/png": "[encoded data removed]",
      "text/plain": [
       "<Figure size 640x480 with 1 Axes>"
      ]
     },
     "metadata": {},
     "output_type": "display_data"
    }
   ],
   "source": [
    "df_norm[df_norm.difference < 80].difference.hist(bins=21)"
   ]
  },
  {
   "cell_type": "code",
   "execution_count": 173,
   "metadata": {},
   "outputs": [
    {
     "data": {
      "text/plain": [
       "count    386.000000\n",
       "mean      18.370466\n",
       "std       27.199600\n",
       "min        0.000000\n",
       "25%        7.000000\n",
       "50%       12.000000\n",
       "75%       21.000000\n",
       "max      419.000000\n",
       "Name: difference, dtype: float64"
      ]
     },
     "execution_count": 173,
     "metadata": {},
     "output_type": "execute_result"
    }
   ],
   "source": [
    "df_norm.difference.describe()"
   ]
  },
  {
   "cell_type": "code",
   "execution_count": null,
   "metadata": {},
   "outputs": [],
   "source": [
    "list(df_norm.sort_values('difference', ascending=True).head(10)[['guid', 'difference', 'description']].values)"
   ]
  },
  {
   "cell_type": "code",
   "execution_count": 169,
   "metadata": {},
   "outputs": [
    {
     "ename": "AttributeError",
     "evalue": "'Series' object has no attribute 'difference'",
     "output_type": "error",
     "traceback": [
      "\u001b[0;31m---------------------------------------------------------------------------\u001b[0m",
      "\u001b[0;31mAttributeError\u001b[0m                            Traceback (most recent call last)",
      "\u001b[0;32m/tmp/ipykernel_41647/2869512057.py\u001b[0m in \u001b[0;36m?\u001b[0;34m()\u001b[0m\n\u001b[1;32m      1\u001b[0m \u001b[0;32mfor\u001b[0m \u001b[0mi\u001b[0m\u001b[0;34m,\u001b[0m \u001b[0mrow\u001b[0m \u001b[0;32min\u001b[0m \u001b[0mdf_norm\u001b[0m\u001b[0;34m.\u001b[0m\u001b[0miterrows\u001b[0m\u001b[0;34m(\u001b[0m\u001b[0;34m)\u001b[0m\u001b[0;34m:\u001b[0m\u001b[0;34m\u001b[0m\u001b[0;34m\u001b[0m\u001b[0m\n\u001b[0;32m----> 2\u001b[0;31m     \u001b[0mprint\u001b[0m\u001b[0;34m(\u001b[0m\u001b[0mi\u001b[0m\u001b[0;34m,\u001b[0m \u001b[0mrow\u001b[0m\u001b[0;34m.\u001b[0m\u001b[0mguid\u001b[0m\u001b[0;34m,\u001b[0m \u001b[0mrow\u001b[0m\u001b[0;34m.\u001b[0m\u001b[0mdifference\u001b[0m\u001b[0;34m,\u001b[0m \u001b[0mrow\u001b[0m\u001b[0;34m.\u001b[0m\u001b[0mdescription\u001b[0m\u001b[0;34m)\u001b[0m\u001b[0;34m\u001b[0m\u001b[0;34m\u001b[0m\u001b[0m\n\u001b[0m",
      "\u001b[0;32m~/.cache/pypoetry/virtualenvs/rts-bWoRmFur-py3.10/lib/python3.10/site-packages/pandas/core/generic.py\u001b[0m in \u001b[0;36m?\u001b[0;34m(self, name)\u001b[0m\n\u001b[1;32m   5985\u001b[0m             \u001b[0;32mand\u001b[0m \u001b[0mname\u001b[0m \u001b[0;32mnot\u001b[0m \u001b[0;32min\u001b[0m \u001b[0mself\u001b[0m\u001b[0;34m.\u001b[0m\u001b[0m_accessors\u001b[0m\u001b[0;34m\u001b[0m\u001b[0;34m\u001b[0m\u001b[0m\n\u001b[1;32m   5986\u001b[0m             \u001b[0;32mand\u001b[0m \u001b[0mself\u001b[0m\u001b[0;34m.\u001b[0m\u001b[0m_info_axis\u001b[0m\u001b[0;34m.\u001b[0m\u001b[0m_can_hold_identifiers_and_holds_name\u001b[0m\u001b[0;34m(\u001b[0m\u001b[0mname\u001b[0m\u001b[0;34m)\u001b[0m\u001b[0;34m\u001b[0m\u001b[0;34m\u001b[0m\u001b[0m\n\u001b[1;32m   5987\u001b[0m         ):\n\u001b[1;32m   5988\u001b[0m             \u001b[0;32mreturn\u001b[0m \u001b[0mself\u001b[0m\u001b[0;34m[\u001b[0m\u001b[0mname\u001b[0m\u001b[0;34m]\u001b[0m\u001b[0;34m\u001b[0m\u001b[0;34m\u001b[0m\u001b[0m\n\u001b[0;32m-> 5989\u001b[0;31m         \u001b[0;32mreturn\u001b[0m \u001b[0mobject\u001b[0m\u001b[0;34m.\u001b[0m\u001b[0m__getattribute__\u001b[0m\u001b[0;34m(\u001b[0m\u001b[0mself\u001b[0m\u001b[0;34m,\u001b[0m \u001b[0mname\u001b[0m\u001b[0;34m)\u001b[0m\u001b[0;34m\u001b[0m\u001b[0;34m\u001b[0m\u001b[0m\n\u001b[0m",
      "\u001b[0;31mAttributeError\u001b[0m: 'Series' object has no attribute 'difference'"
     ]
    }
   ],
   "source": [
    "\n",
    "for i, row in df_norm.iterrows():\n",
    "    print(i, row.guid, row.difference, row.description)"
   ]
  },
  {
   "cell_type": "code",
   "execution_count": 122,
   "metadata": {},
   "outputs": [
    {
     "data": {
      "text/html": [
       "<div>\n",
       "<style scoped>\n",
       "    .dataframe tbody tr th:only-of-type {\n",
       "        vertical-align: middle;\n",
       "    }\n",
       "\n",
       "    .dataframe tbody tr th {\n",
       "        vertical-align: top;\n",
       "    }\n",
       "\n",
       "    .dataframe thead th {\n",
       "        text-align: right;\n",
       "    }\n",
       "</style>\n",
       "<table border=\"1\" class=\"dataframe\">\n",
       "  <thead>\n",
       "    <tr style=\"text-align: right;\">\n",
       "      <th></th>\n",
       "      <th>Unnamed: 0</th>\n",
       "      <th>guid</th>\n",
       "      <th>seq_id</th>\n",
       "      <th>date</th>\n",
       "      <th>duration</th>\n",
       "      <th>start</th>\n",
       "      <th>end</th>\n",
       "      <th>description</th>\n",
       "      <th>event</th>\n",
       "      <th>extra</th>\n",
       "      <th>duration_sec</th>\n",
       "      <th>sport</th>\n",
       "      <th>category</th>\n",
       "      <th>raw_round</th>\n",
       "      <th>details</th>\n",
       "      <th>round</th>\n",
       "      <th>start_ts</th>\n",
       "      <th>end_ts</th>\n",
       "      <th>difference</th>\n",
       "    </tr>\n",
       "  </thead>\n",
       "  <tbody>\n",
       "    <tr>\n",
       "      <th>16300</th>\n",
       "      <td>16800</td>\n",
       "      <td>MDA42998500</td>\n",
       "      <td>SEQ43010335</td>\n",
       "      <td>2021-08-02</td>\n",
       "      <td>0 days 00:00:29</td>\n",
       "      <td>08:50:33</td>\n",
       "      <td>08:51:02</td>\n",
       "      <td>Volleyball ; Women's Preliminary Round - Pool ...</td>\n",
       "      <td>Volleyball/Women[W]/Preliminary Round</td>\n",
       "      <td>{}</td>\n",
       "      <td>29.0</td>\n",
       "      <td>Volleyball</td>\n",
       "      <td>Women[W]</td>\n",
       "      <td>Preliminary Round</td>\n",
       "      <td>NaN</td>\n",
       "      <td>Preliminary</td>\n",
       "      <td>0.0</td>\n",
       "      <td>29.0</td>\n",
       "      <td>29.0</td>\n",
       "    </tr>\n",
       "    <tr>\n",
       "      <th>16301</th>\n",
       "      <td>16801</td>\n",
       "      <td>MDA42998500</td>\n",
       "      <td>SEQ43010337</td>\n",
       "      <td>2021-08-02</td>\n",
       "      <td>0 days 00:00:29</td>\n",
       "      <td>08:51:02</td>\n",
       "      <td>08:51:32</td>\n",
       "      <td>Volleyball ; Women's ; Women's Preliminary Rou...</td>\n",
       "      <td>Volleyball/Women[W]/Preliminary Round</td>\n",
       "      <td>{}</td>\n",
       "      <td>29.0</td>\n",
       "      <td>Volleyball</td>\n",
       "      <td>Women[W]</td>\n",
       "      <td>Preliminary Round</td>\n",
       "      <td>NaN</td>\n",
       "      <td>Preliminary</td>\n",
       "      <td>29.0</td>\n",
       "      <td>59.0</td>\n",
       "      <td>30.0</td>\n",
       "    </tr>\n",
       "    <tr>\n",
       "      <th>16302</th>\n",
       "      <td>16802</td>\n",
       "      <td>MDA42998500</td>\n",
       "      <td>SEQ43010339</td>\n",
       "      <td>2021-08-02</td>\n",
       "      <td>0 days 00:00:30</td>\n",
       "      <td>08:51:32</td>\n",
       "      <td>08:52:02</td>\n",
       "      <td>Volleyball ; Women's ; Preliminary Round Pool ...</td>\n",
       "      <td>Volleyball/Women[W]/Preliminary Round</td>\n",
       "      <td>{}</td>\n",
       "      <td>30.0</td>\n",
       "      <td>Volleyball</td>\n",
       "      <td>Women[W]</td>\n",
       "      <td>Preliminary Round</td>\n",
       "      <td>NaN</td>\n",
       "      <td>Preliminary</td>\n",
       "      <td>59.0</td>\n",
       "      <td>89.0</td>\n",
       "      <td>30.0</td>\n",
       "    </tr>\n",
       "    <tr>\n",
       "      <th>16303</th>\n",
       "      <td>16803</td>\n",
       "      <td>MDA42998500</td>\n",
       "      <td>SEQ43010341</td>\n",
       "      <td>2021-08-02</td>\n",
       "      <td>0 days 00:00:16</td>\n",
       "      <td>08:52:02</td>\n",
       "      <td>08:52:19</td>\n",
       "      <td>Volleyball ; Women's ; Preliminary Round Pool ...</td>\n",
       "      <td>Volleyball/Women[W]/Preliminary Round</td>\n",
       "      <td>{}</td>\n",
       "      <td>16.0</td>\n",
       "      <td>Volleyball</td>\n",
       "      <td>Women[W]</td>\n",
       "      <td>Preliminary Round</td>\n",
       "      <td>NaN</td>\n",
       "      <td>Preliminary</td>\n",
       "      <td>89.0</td>\n",
       "      <td>106.0</td>\n",
       "      <td>17.0</td>\n",
       "    </tr>\n",
       "    <tr>\n",
       "      <th>16304</th>\n",
       "      <td>16804</td>\n",
       "      <td>MDA42998500</td>\n",
       "      <td>SEQ43010343</td>\n",
       "      <td>2021-08-02</td>\n",
       "      <td>0 days 00:00:13</td>\n",
       "      <td>08:52:19</td>\n",
       "      <td>08:52:32</td>\n",
       "      <td>Volleyball ; Women's ; Preliminary Round Pool ...</td>\n",
       "      <td>Volleyball/Women[W]/Preliminary Round</td>\n",
       "      <td>{}</td>\n",
       "      <td>13.0</td>\n",
       "      <td>Volleyball</td>\n",
       "      <td>Women[W]</td>\n",
       "      <td>Preliminary Round</td>\n",
       "      <td>NaN</td>\n",
       "      <td>Preliminary</td>\n",
       "      <td>106.0</td>\n",
       "      <td>119.0</td>\n",
       "      <td>13.0</td>\n",
       "    </tr>\n",
       "    <tr>\n",
       "      <th>...</th>\n",
       "      <td>...</td>\n",
       "      <td>...</td>\n",
       "      <td>...</td>\n",
       "      <td>...</td>\n",
       "      <td>...</td>\n",
       "      <td>...</td>\n",
       "      <td>...</td>\n",
       "      <td>...</td>\n",
       "      <td>...</td>\n",
       "      <td>...</td>\n",
       "      <td>...</td>\n",
       "      <td>...</td>\n",
       "      <td>...</td>\n",
       "      <td>...</td>\n",
       "      <td>...</td>\n",
       "      <td>...</td>\n",
       "      <td>...</td>\n",
       "      <td>...</td>\n",
       "      <td>...</td>\n",
       "    </tr>\n",
       "    <tr>\n",
       "      <th>16801</th>\n",
       "      <td>17301</td>\n",
       "      <td>MDA42998500</td>\n",
       "      <td>SEQ43011555</td>\n",
       "      <td>2021-08-02</td>\n",
       "      <td>0 days 00:00:02</td>\n",
       "      <td>10:24:51</td>\n",
       "      <td>10:24:54</td>\n",
       "      <td>Volleyball ; Women's ; Preliminary Round Pool ...</td>\n",
       "      <td>Volleyball/Women[W]/Preliminary Round</td>\n",
       "      <td>{}</td>\n",
       "      <td>2.0</td>\n",
       "      <td>Volleyball</td>\n",
       "      <td>Women[W]</td>\n",
       "      <td>Preliminary Round</td>\n",
       "      <td>NaN</td>\n",
       "      <td>Preliminary</td>\n",
       "      <td>5658.0</td>\n",
       "      <td>5661.0</td>\n",
       "      <td>3.0</td>\n",
       "    </tr>\n",
       "    <tr>\n",
       "      <th>16802</th>\n",
       "      <td>17302</td>\n",
       "      <td>MDA42998500</td>\n",
       "      <td>SEQ43011558</td>\n",
       "      <td>2021-08-02</td>\n",
       "      <td>0 days 00:00:01</td>\n",
       "      <td>10:24:54</td>\n",
       "      <td>10:24:55</td>\n",
       "      <td>Volleyball ; Women's ; Preliminary Round Pool ...</td>\n",
       "      <td>Volleyball/Women[W]/Preliminary Round</td>\n",
       "      <td>{}</td>\n",
       "      <td>1.0</td>\n",
       "      <td>Volleyball</td>\n",
       "      <td>Women[W]</td>\n",
       "      <td>Preliminary Round</td>\n",
       "      <td>NaN</td>\n",
       "      <td>Preliminary</td>\n",
       "      <td>5661.0</td>\n",
       "      <td>5662.0</td>\n",
       "      <td>1.0</td>\n",
       "    </tr>\n",
       "    <tr>\n",
       "      <th>16803</th>\n",
       "      <td>17303</td>\n",
       "      <td>MDA42998500</td>\n",
       "      <td>SEQ43011562</td>\n",
       "      <td>2021-08-02</td>\n",
       "      <td>0 days 00:00:06</td>\n",
       "      <td>10:24:55</td>\n",
       "      <td>10:25:01</td>\n",
       "      <td>Volleyball ; Women's ; Preliminary Round Pool ...</td>\n",
       "      <td>Volleyball/Women[W]/Preliminary Round</td>\n",
       "      <td>{}</td>\n",
       "      <td>6.0</td>\n",
       "      <td>Volleyball</td>\n",
       "      <td>Women[W]</td>\n",
       "      <td>Preliminary Round</td>\n",
       "      <td>NaN</td>\n",
       "      <td>Preliminary</td>\n",
       "      <td>5662.0</td>\n",
       "      <td>5668.0</td>\n",
       "      <td>6.0</td>\n",
       "    </tr>\n",
       "    <tr>\n",
       "      <th>16804</th>\n",
       "      <td>17304</td>\n",
       "      <td>MDA42998500</td>\n",
       "      <td>SEQ43011565</td>\n",
       "      <td>2021-08-02</td>\n",
       "      <td>0 days 00:00:50</td>\n",
       "      <td>10:25:01</td>\n",
       "      <td>10:25:52</td>\n",
       "      <td>Volleyball ; Women's ; Preliminary Round Pool ...</td>\n",
       "      <td>Volleyball/Women[W]/Preliminary Round</td>\n",
       "      <td>{}</td>\n",
       "      <td>50.0</td>\n",
       "      <td>Volleyball</td>\n",
       "      <td>Women[W]</td>\n",
       "      <td>Preliminary Round</td>\n",
       "      <td>NaN</td>\n",
       "      <td>Preliminary</td>\n",
       "      <td>5668.0</td>\n",
       "      <td>5719.0</td>\n",
       "      <td>51.0</td>\n",
       "    </tr>\n",
       "    <tr>\n",
       "      <th>16805</th>\n",
       "      <td>17305</td>\n",
       "      <td>MDA42998500</td>\n",
       "      <td>SEQ43011568</td>\n",
       "      <td>2021-08-02</td>\n",
       "      <td>0 days 00:25:46</td>\n",
       "      <td>10:25:52</td>\n",
       "      <td>10:51:39</td>\n",
       "      <td>Volleyball ; Women's Preliminary Round - Pool ...</td>\n",
       "      <td>Volleyball/Women[W]/Preliminary Round</td>\n",
       "      <td>{}</td>\n",
       "      <td>1546.0</td>\n",
       "      <td>Volleyball</td>\n",
       "      <td>Women[W]</td>\n",
       "      <td>Preliminary Round</td>\n",
       "      <td>NaN</td>\n",
       "      <td>Preliminary</td>\n",
       "      <td>5719.0</td>\n",
       "      <td>7266.0</td>\n",
       "      <td>1547.0</td>\n",
       "    </tr>\n",
       "  </tbody>\n",
       "</table>\n",
       "<p>506 rows × 19 columns</p>\n",
       "</div>"
      ],
      "text/plain": [
       "       Unnamed: 0         guid       seq_id        date         duration  \\\n",
       "16300       16800  MDA42998500  SEQ43010335  2021-08-02  0 days 00:00:29   \n",
       "16301       16801  MDA42998500  SEQ43010337  2021-08-02  0 days 00:00:29   \n",
       "16302       16802  MDA42998500  SEQ43010339  2021-08-02  0 days 00:00:30   \n",
       "16303       16803  MDA42998500  SEQ43010341  2021-08-02  0 days 00:00:16   \n",
       "16304       16804  MDA42998500  SEQ43010343  2021-08-02  0 days 00:00:13   \n",
       "...           ...          ...          ...         ...              ...   \n",
       "16801       17301  MDA42998500  SEQ43011555  2021-08-02  0 days 00:00:02   \n",
       "16802       17302  MDA42998500  SEQ43011558  2021-08-02  0 days 00:00:01   \n",
       "16803       17303  MDA42998500  SEQ43011562  2021-08-02  0 days 00:00:06   \n",
       "16804       17304  MDA42998500  SEQ43011565  2021-08-02  0 days 00:00:50   \n",
       "16805       17305  MDA42998500  SEQ43011568  2021-08-02  0 days 00:25:46   \n",
       "\n",
       "          start       end                                        description  \\\n",
       "16300  08:50:33  08:51:02  Volleyball ; Women's Preliminary Round - Pool ...   \n",
       "16301  08:51:02  08:51:32  Volleyball ; Women's ; Women's Preliminary Rou...   \n",
       "16302  08:51:32  08:52:02  Volleyball ; Women's ; Preliminary Round Pool ...   \n",
       "16303  08:52:02  08:52:19  Volleyball ; Women's ; Preliminary Round Pool ...   \n",
       "16304  08:52:19  08:52:32  Volleyball ; Women's ; Preliminary Round Pool ...   \n",
       "...         ...       ...                                                ...   \n",
       "16801  10:24:51  10:24:54  Volleyball ; Women's ; Preliminary Round Pool ...   \n",
       "16802  10:24:54  10:24:55  Volleyball ; Women's ; Preliminary Round Pool ...   \n",
       "16803  10:24:55  10:25:01  Volleyball ; Women's ; Preliminary Round Pool ...   \n",
       "16804  10:25:01  10:25:52  Volleyball ; Women's ; Preliminary Round Pool ...   \n",
       "16805  10:25:52  10:51:39  Volleyball ; Women's Preliminary Round - Pool ...   \n",
       "\n",
       "                                       event extra  duration_sec       sport  \\\n",
       "16300  Volleyball/Women[W]/Preliminary Round    {}          29.0  Volleyball   \n",
       "16301  Volleyball/Women[W]/Preliminary Round    {}          29.0  Volleyball   \n",
       "16302  Volleyball/Women[W]/Preliminary Round    {}          30.0  Volleyball   \n",
       "16303  Volleyball/Women[W]/Preliminary Round    {}          16.0  Volleyball   \n",
       "16304  Volleyball/Women[W]/Preliminary Round    {}          13.0  Volleyball   \n",
       "...                                      ...   ...           ...         ...   \n",
       "16801  Volleyball/Women[W]/Preliminary Round    {}           2.0  Volleyball   \n",
       "16802  Volleyball/Women[W]/Preliminary Round    {}           1.0  Volleyball   \n",
       "16803  Volleyball/Women[W]/Preliminary Round    {}           6.0  Volleyball   \n",
       "16804  Volleyball/Women[W]/Preliminary Round    {}          50.0  Volleyball   \n",
       "16805  Volleyball/Women[W]/Preliminary Round    {}        1546.0  Volleyball   \n",
       "\n",
       "       category          raw_round details        round  start_ts  end_ts  \\\n",
       "16300  Women[W]  Preliminary Round     NaN  Preliminary       0.0    29.0   \n",
       "16301  Women[W]  Preliminary Round     NaN  Preliminary      29.0    59.0   \n",
       "16302  Women[W]  Preliminary Round     NaN  Preliminary      59.0    89.0   \n",
       "16303  Women[W]  Preliminary Round     NaN  Preliminary      89.0   106.0   \n",
       "16304  Women[W]  Preliminary Round     NaN  Preliminary     106.0   119.0   \n",
       "...         ...                ...     ...          ...       ...     ...   \n",
       "16801  Women[W]  Preliminary Round     NaN  Preliminary    5658.0  5661.0   \n",
       "16802  Women[W]  Preliminary Round     NaN  Preliminary    5661.0  5662.0   \n",
       "16803  Women[W]  Preliminary Round     NaN  Preliminary    5662.0  5668.0   \n",
       "16804  Women[W]  Preliminary Round     NaN  Preliminary    5668.0  5719.0   \n",
       "16805  Women[W]  Preliminary Round     NaN  Preliminary    5719.0  7266.0   \n",
       "\n",
       "       difference  \n",
       "16300        29.0  \n",
       "16301        30.0  \n",
       "16302        30.0  \n",
       "16303        17.0  \n",
       "16304        13.0  \n",
       "...           ...  \n",
       "16801         3.0  \n",
       "16802         1.0  \n",
       "16803         6.0  \n",
       "16804        51.0  \n",
       "16805      1547.0  \n",
       "\n",
       "[506 rows x 19 columns]"
      ]
     },
     "execution_count": 122,
     "metadata": {},
     "output_type": "execute_result"
    }
   ],
   "source": [
    "df_norm"
   ]
  },
  {
   "cell_type": "code",
   "execution_count": null,
   "metadata": {},
   "outputs": [],
   "source": []
  }
 ],
 "metadata": {
  "kernelspec": {
   "display_name": "rts-bWoRmFur-py3.10",
   "language": "python",
   "name": "python3"
  },
  "language_info": {
   "codemirror_mode": {
    "name": "ipython",
    "version": 3
   },
   "file_extension": ".py",
   "mimetype": "text/x-python",
   "name": "python",
   "nbconvert_exporter": "python",
   "pygments_lexer": "ipython3",
   "version": "3.10.11"
  },
  "orig_nbformat": 4
 },
 "nbformat": 4,
 "nbformat_minor": 2
}
