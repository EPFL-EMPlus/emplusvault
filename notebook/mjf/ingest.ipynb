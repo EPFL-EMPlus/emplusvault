{
 "cells": [
  {
   "cell_type": "code",
   "execution_count": 10,
   "metadata": {},
   "outputs": [
    {
     "name": "stdout",
     "output_type": "stream",
     "text": [
      "/home/kirell\n",
      "The autoreload extension is already loaded. To reload it, use:\n",
      "  %reload_ext autoreload\n"
     ]
    }
   ],
   "source": [
    "%cd ../..\n",
    "%load_ext autoreload\n",
    "%autoreload 2\n",
    "\n",
    "\n",
    "LOCAL_MJF_DATA = \"/media/data/mjf/\"\n",
    "METADATA = LOCAL_MJF_DATA + 'metadata/'\n",
    "\n",
    "OUTDIR = 'data'\n"
   ]
  },
  {
   "cell_type": "code",
   "execution_count": 11,
   "metadata": {},
   "outputs": [],
   "source": [
    "# LOCAL imports\n",
    "import rts\n",
    "import rts.preprocess.mjf\n",
    "import rts.utils\n",
    "import rts.db.queries\n",
    "from rts.pipelines.mjf import PipelineMJF\n",
    "\n",
    "\n",
    "LOG = rts.utils.get_logger()"
   ]
  },
  {
   "cell_type": "code",
   "execution_count": 14,
   "metadata": {},
   "outputs": [],
   "source": [
    "importer = rts.preprocess.mjf.build_mjf_importer(METADATA)"
   ]
  },
  {
   "cell_type": "code",
   "execution_count": 20,
   "metadata": {},
   "outputs": [],
   "source": [
    "df = importer.get_song_dataframe()"
   ]
  },
  {
   "cell_type": "code",
   "execution_count": 21,
   "metadata": {},
   "outputs": [],
   "source": [
    "pipe = PipelineMJF()"
   ]
  },
  {
   "cell_type": "code",
   "execution_count": 22,
   "metadata": {},
   "outputs": [
    {
     "name": "stderr",
     "output_type": "stream",
     "text": [
      "1966it [00:01, 1534.00it/s]"
     ]
    },
    {
     "name": "stdout",
     "output_type": "stream",
     "text": [
      "ERROR:RTS:[Errno 2] No such file or directory: '/media/data/mjf/archive/mp4/4000/4134.mp4'\n",
      "ERROR:RTS:Skipping 4000/4134.mp4 (no media info)\n",
      "ERROR:RTS:[Errno 2] No such file or directory: '/media/data/mjf/archive/mp4/4000/4136.mp4'\n",
      "ERROR:RTS:Skipping 4000/4136.mp4 (no media info)\n"
     ]
    },
    {
     "name": "stderr",
     "output_type": "stream",
     "text": [
      "2899it [00:01, 1540.16it/s]"
     ]
    },
    {
     "name": "stdout",
     "output_type": "stream",
     "text": [
      "ERROR:RTS:[Errno 2] No such file or directory: '/media/data/mjf/archive/mp4/5000/5916.mp4'\n",
      "ERROR:RTS:Skipping 5000/5916.mp4 (no media info)\n",
      "ERROR:RTS:[Errno 2] No such file or directory: '/media/data/mjf/archive/mp4/5000/5918.mp4'\n",
      "ERROR:RTS:Skipping 5000/5918.mp4 (no media info)\n",
      "ERROR:RTS:[Errno 2] No such file or directory: '/media/data/mjf/archive/mp4/5000/5922.mp4'\n",
      "ERROR:RTS:Skipping 5000/5922.mp4 (no media info)\n",
      "ERROR:RTS:[Errno 2] No such file or directory: '/media/data/mjf/archive/mp4/5000/5924.mp4'\n",
      "ERROR:RTS:Skipping 5000/5924.mp4 (no media info)\n",
      "ERROR:RTS:[Errno 2] No such file or directory: '/media/data/mjf/archive/mp4/5000/5926.mp4'\n",
      "ERROR:RTS:Skipping 5000/5926.mp4 (no media info)\n",
      "ERROR:RTS:[Errno 2] No such file or directory: '/media/data/mjf/archive/mp4/5000/5928.mp4'\n",
      "ERROR:RTS:Skipping 5000/5928.mp4 (no media info)\n",
      "ERROR:RTS:[Errno 2] No such file or directory: '/media/data/mjf/archive/mp4/5000/5930.mp4'\n",
      "ERROR:RTS:Skipping 5000/5930.mp4 (no media info)\n",
      "ERROR:RTS:[Errno 2] No such file or directory: '/media/data/mjf/archive/mp4/5000/5932.mp4'\n",
      "ERROR:RTS:Skipping 5000/5932.mp4 (no media info)\n",
      "ERROR:RTS:[Errno 2] No such file or directory: '/media/data/mjf/archive/mp4/5000/5935.mp4'\n",
      "ERROR:RTS:Skipping 5000/5935.mp4 (no media info)\n",
      "ERROR:RTS:[Errno 2] No such file or directory: '/media/data/mjf/archive/mp4/5000/5937.mp4'\n",
      "ERROR:RTS:Skipping 5000/5937.mp4 (no media info)\n"
     ]
    },
    {
     "name": "stderr",
     "output_type": "stream",
     "text": [
      "10528it [00:07, 1421.46it/s]"
     ]
    },
    {
     "name": "stdout",
     "output_type": "stream",
     "text": [
      "ERROR:RTS:[Errno 2] No such file or directory: '/media/data/mjf/archive/mp4/23000/23261.mp4'\n",
      "ERROR:RTS:Skipping 23000/23261.mp4 (no media info)\n",
      "ERROR:RTS:[Errno 2] No such file or directory: '/media/data/mjf/archive/mp4/23000/23263.mp4'\n",
      "ERROR:RTS:Skipping 23000/23263.mp4 (no media info)\n",
      "ERROR:RTS:[Errno 2] No such file or directory: '/media/data/mjf/archive/mp4/23000/23265.mp4'\n",
      "ERROR:RTS:Skipping 23000/23265.mp4 (no media info)\n",
      "ERROR:RTS:[Errno 2] No such file or directory: '/media/data/mjf/archive/mp4/23000/23267.mp4'\n",
      "ERROR:RTS:Skipping 23000/23267.mp4 (no media info)\n",
      "ERROR:RTS:[Errno 2] No such file or directory: '/media/data/mjf/archive/mp4/23000/23269.mp4'\n",
      "ERROR:RTS:Skipping 23000/23269.mp4 (no media info)\n",
      "ERROR:RTS:[Errno 2] No such file or directory: '/media/data/mjf/archive/mp4/23000/23270.mp4'\n",
      "ERROR:RTS:Skipping 23000/23270.mp4 (no media info)\n",
      "ERROR:RTS:[Errno 2] No such file or directory: '/media/data/mjf/archive/mp4/23000/23669.mp4'\n",
      "ERROR:RTS:Skipping 23000/23669.mp4 (no media info)\n",
      "ERROR:RTS:[Errno 2] No such file or directory: '/media/data/mjf/archive/mp4/23000/23671.mp4'\n",
      "ERROR:RTS:Skipping 23000/23671.mp4 (no media info)\n",
      "ERROR:RTS:[Errno 2] No such file or directory: '/media/data/mjf/archive/mp4/23000/23673.mp4'\n",
      "ERROR:RTS:Skipping 23000/23673.mp4 (no media info)\n",
      "ERROR:RTS:[Errno 2] No such file or directory: '/media/data/mjf/archive/mp4/23000/23675.mp4'\n",
      "ERROR:RTS:Skipping 23000/23675.mp4 (no media info)\n",
      "ERROR:RTS:[Errno 2] No such file or directory: '/media/data/mjf/archive/mp4/23000/23677.mp4'\n",
      "ERROR:RTS:Skipping 23000/23677.mp4 (no media info)\n",
      "ERROR:RTS:[Errno 2] No such file or directory: '/media/data/mjf/archive/mp4/23000/23679.mp4'\n",
      "ERROR:RTS:Skipping 23000/23679.mp4 (no media info)\n",
      "ERROR:RTS:[Errno 2] No such file or directory: '/media/data/mjf/archive/mp4/23000/23681.mp4'\n",
      "ERROR:RTS:Skipping 23000/23681.mp4 (no media info)\n",
      "ERROR:RTS:[Errno 2] No such file or directory: '/media/data/mjf/archive/mp4/23000/23683.mp4'\n",
      "ERROR:RTS:Skipping 23000/23683.mp4 (no media info)\n"
     ]
    },
    {
     "name": "stderr",
     "output_type": "stream",
     "text": [
      "11550it [00:07, 1473.52it/s]"
     ]
    },
    {
     "name": "stdout",
     "output_type": "stream",
     "text": [
      "ERROR:RTS:[Errno 2] No such file or directory: '/media/data/mjf/archive/mp4/25000/25600.mp4'\n",
      "ERROR:RTS:Skipping 25000/25600.mp4 (no media info)\n",
      "ERROR:RTS:[Errno 2] No such file or directory: '/media/data/mjf/archive/mp4/25000/25601.mp4'\n",
      "ERROR:RTS:Skipping 25000/25601.mp4 (no media info)\n",
      "ERROR:RTS:[Errno 2] No such file or directory: '/media/data/mjf/archive/mp4/25000/25660.mp4'\n",
      "ERROR:RTS:Skipping 25000/25660.mp4 (no media info)\n",
      "ERROR:RTS:[Errno 2] No such file or directory: '/media/data/mjf/archive/mp4/25000/25661.mp4'\n",
      "ERROR:RTS:Skipping 25000/25661.mp4 (no media info)\n",
      "ERROR:RTS:[Errno 2] No such file or directory: '/media/data/mjf/archive/mp4/25000/25662.mp4'\n",
      "ERROR:RTS:Skipping 25000/25662.mp4 (no media info)\n",
      "ERROR:RTS:[Errno 2] No such file or directory: '/media/data/mjf/archive/mp4/25000/25663.mp4'\n",
      "ERROR:RTS:Skipping 25000/25663.mp4 (no media info)\n",
      "ERROR:RTS:[Errno 2] No such file or directory: '/media/data/mjf/archive/mp4/25000/25666.mp4'\n",
      "ERROR:RTS:Skipping 25000/25666.mp4 (no media info)\n",
      "ERROR:RTS:[Errno 2] No such file or directory: '/media/data/mjf/archive/mp4/25000/25668.mp4'\n",
      "ERROR:RTS:Skipping 25000/25668.mp4 (no media info)\n",
      "ERROR:RTS:[Errno 2] No such file or directory: '/media/data/mjf/archive/mp4/25000/25670.mp4'\n",
      "ERROR:RTS:Skipping 25000/25670.mp4 (no media info)\n",
      "ERROR:RTS:[Errno 2] No such file or directory: '/media/data/mjf/archive/mp4/25000/25673.mp4'\n",
      "ERROR:RTS:Skipping 25000/25673.mp4 (no media info)\n",
      "ERROR:RTS:[Errno 2] No such file or directory: '/media/data/mjf/archive/mp4/25000/25675.mp4'\n",
      "ERROR:RTS:Skipping 25000/25675.mp4 (no media info)\n",
      "ERROR:RTS:[Errno 2] No such file or directory: '/media/data/mjf/archive/mp4/25000/25677.mp4'\n",
      "ERROR:RTS:Skipping 25000/25677.mp4 (no media info)\n",
      "ERROR:RTS:[Errno 2] No such file or directory: '/media/data/mjf/archive/mp4/25000/25679.mp4'\n",
      "ERROR:RTS:Skipping 25000/25679.mp4 (no media info)\n",
      "ERROR:RTS:[Errno 2] No such file or directory: '/media/data/mjf/archive/mp4/25000/25680.mp4'\n",
      "ERROR:RTS:Skipping 25000/25680.mp4 (no media info)\n",
      "ERROR:RTS:[Errno 2] No such file or directory: '/media/data/mjf/archive/mp4/25000/25681.mp4'\n",
      "ERROR:RTS:Skipping 25000/25681.mp4 (no media info)\n",
      "ERROR:RTS:[Errno 2] No such file or directory: '/media/data/mjf/archive/mp4/25000/25683.mp4'\n",
      "ERROR:RTS:Skipping 25000/25683.mp4 (no media info)\n",
      "ERROR:RTS:[Errno 2] No such file or directory: '/media/data/mjf/archive/mp4/25000/25685.mp4'\n",
      "ERROR:RTS:Skipping 25000/25685.mp4 (no media info)\n",
      "ERROR:RTS:[Errno 2] No such file or directory: '/media/data/mjf/archive/mp4/25000/25687.mp4'\n",
      "ERROR:RTS:Skipping 25000/25687.mp4 (no media info)\n",
      "ERROR:RTS:[Errno 2] No such file or directory: '/media/data/mjf/archive/mp4/25000/25689.mp4'\n",
      "ERROR:RTS:Skipping 25000/25689.mp4 (no media info)\n",
      "ERROR:RTS:[Errno 2] No such file or directory: '/media/data/mjf/archive/mp4/25000/25690.mp4'\n",
      "ERROR:RTS:Skipping 25000/25690.mp4 (no media info)\n",
      "ERROR:RTS:[Errno 2] No such file or directory: '/media/data/mjf/archive/mp4/25000/25691.mp4'\n",
      "ERROR:RTS:Skipping 25000/25691.mp4 (no media info)\n",
      "ERROR:RTS:[Errno 2] No such file or directory: '/media/data/mjf/archive/mp4/25000/25693.mp4'\n",
      "ERROR:RTS:Skipping 25000/25693.mp4 (no media info)\n",
      "ERROR:RTS:[Errno 2] No such file or directory: '/media/data/mjf/archive/mp4/25000/25695.mp4'\n",
      "ERROR:RTS:Skipping 25000/25695.mp4 (no media info)\n"
     ]
    },
    {
     "name": "stderr",
     "output_type": "stream",
     "text": [
      "17639it [00:11, 1576.99it/s]"
     ]
    },
    {
     "name": "stdout",
     "output_type": "stream",
     "text": [
      "ERROR:RTS:[Errno 2] No such file or directory: '/media/data/mjf/archive/mp4/34000/34303.mp4'\n",
      "ERROR:RTS:Skipping 34000/34303.mp4 (no media info)\n",
      "ERROR:RTS:[Errno 2] No such file or directory: '/media/data/mjf/archive/mp4/34000/34307.mp4'\n",
      "ERROR:RTS:Skipping 34000/34307.mp4 (no media info)\n",
      "ERROR:RTS:[Errno 2] No such file or directory: '/media/data/mjf/archive/mp4/34000/34310.mp4'\n",
      "ERROR:RTS:Skipping 34000/34310.mp4 (no media info)\n",
      "ERROR:RTS:[Errno 2] No such file or directory: '/media/data/mjf/archive/mp4/34000/34314.mp4'\n",
      "ERROR:RTS:Skipping 34000/34314.mp4 (no media info)\n"
     ]
    },
    {
     "name": "stderr",
     "output_type": "stream",
     "text": [
      "19554it [00:54, 12.06it/s]  "
     ]
    }
   ],
   "source": [
    "pipe.ingest(importer.get_song_dataframe())"
   ]
  },
  {
   "cell_type": "code",
   "execution_count": 5,
   "metadata": {},
   "outputs": [
    {
     "data": {
      "text/plain": [
       "{'library_id': 2, 'library_name': 'mjf', 'prefix_path': '/media/data/mjf/archive/mp4/', 'version': '0.0.1', 'created_at': datetime.datetime(2023, 7, 25, 11, 52, 2, 732591), 'data': '{}'}"
      ]
     },
     "execution_count": 5,
     "metadata": {},
     "output_type": "execute_result"
    }
   ],
   "source": [
    "rts.db.queries.get_library_from_name('mjf')"
   ]
  },
  {
   "cell_type": "code",
   "execution_count": 29,
   "metadata": {},
   "outputs": [
    {
     "data": {
      "text/plain": [
       "{'media_id': 'mjf-2', 'media_path': '0/2.mp4', 'original_path': '0/2.mp4', 'original_id': '2', 'created_at': datetime.datetime(2023, 7, 25, 15, 14, 4, 207405), 'media_type': 'video', 'media_info': {'path': '/media/data/mjf/archive/mp4/0/2.mp4', 'audio': {'codec': 'aac', 'bitrate': 256006, 'channels': 2, 'sample_rate': 48000, 'human_bitrate': '256.01K'}, 'video': {'codec': 'h264', 'width': 1920, 'height': 1080, 'bitrate': 7679424, 'framerate': '25', 'human_bitrate': '7.68M'}, 'duration': 348.963, 'filesize': 346373166, 'human_filesize': '330.33 MiB'}, 'sub_type': '', 'size': 346373166, 'metadata': {'date': '2011-07-01', 'genre': 'Jazz-rock', 'title': 'The Life Divine', 'location': 'Auditorium Stravinski', 'musicians': ['Andy Vargas', 'Anthony Lindsay', 'Benny Rietveld', 'Carlos Santana', 'Cindy Blackman', 'Claude Nobs', 'Dave Matthews', 'Dennis Chambers', \"Etienne M'bappé\", 'John McLaughlin', 'Raul Rekow', 'Thomas Anthony Maestu'], 'top_genre': 'Rock', 'concert_id': 3189, 'instruments': ['Bass', 'Congas', 'Drums', 'Guitar', 'Keyboards', 'Percussion', 'Vocals'], 'concert_name': 'Carlos Santana, John McLaughlin'}, 'library_id': 2, 'hash': 'f9387b85c3aafceb2eadc221a4e79d70', 'parent_id': '-1', 'start_ts': 0.0, 'end_ts': 348.963, 'start_frame': 0, 'end_frame': 8724, 'frame_rate': 25.0}"
      ]
     },
     "execution_count": 29,
     "metadata": {},
     "output_type": "execute_result"
    }
   ],
   "source": [
    "rts.db.queries.get_media_by_id('mjf-2')"
   ]
  }
 ],
 "metadata": {
  "kernelspec": {
   "display_name": "rts-506MfBOj-py3.10",
   "language": "python",
   "name": "python3"
  },
  "language_info": {
   "codemirror_mode": {
    "name": "ipython",
    "version": 3
   },
   "file_extension": ".py",
   "mimetype": "text/x-python",
   "name": "python",
   "nbconvert_exporter": "python",
   "pygments_lexer": "ipython3",
   "version": "3.10.11"
  },
  "orig_nbformat": 4
 },
 "nbformat": 4,
 "nbformat_minor": 2
}
