{
 "cells": [
  {
   "cell_type": "code",
   "execution_count": null,
   "id": "30b5d9db",
   "metadata": {},
   "outputs": [],
   "source": [
    "%cd ../..\n",
    "%load_ext autoreload\n",
    "\n",
    "%autoreload 2"
   ]
  },
  {
   "cell_type": "code",
   "execution_count": null,
   "id": "9c9d26a8",
   "metadata": {},
   "outputs": [],
   "source": [
    "import os\n",
    "from emv.db.dao import DataAccessObject\n",
    "from emv.db.queries import get_features_by_type_paginated, count_features_by_type\n",
    "from sqlalchemy.sql import text\n",
    "import pandas as pd\n",
    "import matplotlib.pyplot as plt\n",
    "import seaborn as sns\n",
    "from ast import literal_eval\n",
    "import numpy as np\n",
    "import cv2\n",
    "from PIL import Image\n",
    "from emv.api.models import Feature\n",
    "from emv.api.models import Projection, MapProjectionFeatureCreate\n",
    "from emv.db.queries import create_projection, create_map_projection_feature, create_feature, get_library_id_from_name, get_all_media_by_library_id, count_media_by_library_id\n",
    "from umap import UMAP\n",
    "import numba\n",
    "from tqdm import tqdm\n",
    "from emv.storage.storage import get_storage_client"
   ]
  },
  {
   "cell_type": "markdown",
   "id": "75fee5fc",
   "metadata": {},
   "source": [
    "# Load data"
   ]
  },
  {
   "cell_type": "code",
   "execution_count": null,
   "id": "1e9074aa",
   "metadata": {},
   "outputs": [],
   "source": [
    "lib_id = get_library_id_from_name(\"mjf\")\n",
    "n_videos = count_media_by_library_id(lib_id, media_type = \"video\")\n",
    "print(f\"Total binaries in MJF library: {n_videos}\")"
   ]
  },
  {
   "cell_type": "code",
   "execution_count": null,
   "id": "6ac0a161",
   "metadata": {},
   "outputs": [],
   "source": [
    "MAX_FEATURES = n_videos + 1\n",
    "videos = get_all_media_by_library_id(lib_id, page_size = 1000, media_type = \"video\")\n",
    "\n",
    "for _ in tqdm(range(MAX_FEATURES // 1000)):\n",
    "    last_seen_id = videos[-1].get(\"media_id\", None)\n",
    "    if last_seen_id is None:\n",
    "        break\n",
    "    videos.extend(get_all_media_by_library_id(lib_id, page_size = 1000, media_type = \"video\", last_seen_media_id=last_seen_id))"
   ]
  },
  {
   "cell_type": "code",
   "execution_count": null,
   "id": "6cff03f6",
   "metadata": {},
   "outputs": [],
   "source": [
    "videos.metadata.iloc[0]"
   ]
  },
  {
   "cell_type": "code",
   "execution_count": null,
   "id": "cee7267b",
   "metadata": {},
   "outputs": [],
   "source": [
    "videos[\"top_genre\"] = videos.metadata.map(lambda x: x.get(\"top_genre\", None))"
   ]
  },
  {
   "cell_type": "code",
   "execution_count": null,
   "id": "0c0ee0a9",
   "metadata": {},
   "outputs": [],
   "source": [
    "videos[\"top_genre\"].value_counts()"
   ]
  },
  {
   "cell_type": "code",
   "execution_count": null,
   "id": "33db8676",
   "metadata": {},
   "outputs": [],
   "source": [
    "videos = pd.DataFrame(videos)"
   ]
  },
  {
   "cell_type": "code",
   "execution_count": null,
   "id": "751e22c4",
   "metadata": {},
   "outputs": [],
   "source": [
    "genres = pd.read_csv(\"data/mjf_vectors_genre.csv\")"
   ]
  },
  {
   "cell_type": "code",
   "execution_count": null,
   "id": "33e89dd7",
   "metadata": {},
   "outputs": [],
   "source": [
    "features = genres.copy()\n",
    "features[\"genres_f\"] = genres.drop(\"media_id\", axis = 1).agg(list, axis = 1).tolist()\n",
    "features = features[[\"media_id\", \"genres_f\"]]"
   ]
  },
  {
   "cell_type": "code",
   "execution_count": null,
   "id": "52562d92",
   "metadata": {},
   "outputs": [],
   "source": [
    "features"
   ]
  },
  {
   "cell_type": "markdown",
   "id": "b9087b15",
   "metadata": {},
   "source": [
    "# Add features to DB\n",
    "Since embedding_sizes in the DB are restrained to 33, 1024 or larger, we pad with 0s to the closest larger size."
   ]
  },
  {
   "cell_type": "code",
   "execution_count": null,
   "id": "c612b328",
   "metadata": {},
   "outputs": [],
   "source": [
    "true_embedding_size = len(features.genres_f.iloc[0])\n",
    "print(f\"True embedding size: {true_embedding_size}\")"
   ]
  },
  {
   "cell_type": "code",
   "execution_count": null,
   "id": "e2fee281",
   "metadata": {},
   "outputs": [],
   "source": [
    "features[\"embedding_1024\"] = features[\"genres_f\"].map(lambda x: x + [0] * (1024 - len(x)))"
   ]
  },
  {
   "cell_type": "code",
   "execution_count": null,
   "id": "19607d41",
   "metadata": {},
   "outputs": [],
   "source": [
    "len(features[\"embedding_1024\"].iloc[0])"
   ]
  },
  {
   "cell_type": "code",
   "execution_count": null,
   "id": "7a2a69da",
   "metadata": {},
   "outputs": [],
   "source": [
    "for i,row in features.iterrows():\n",
    "    feature = Feature(\n",
    "        feature_type='musical_genre',\n",
    "        version=\"1\",\n",
    "        model_name='Essentia Tensorflow MTG-Jamendo',\n",
    "        model_params={'pretrained model': 'MTG-Jamendo'},\n",
    "        data={\n",
    "            \"true_embedding_size\": true_embedding_size\n",
    "            },\n",
    "        media_id=row['media_id'], \n",
    "        embedding_size=1024,\n",
    "        embedding_1024=row['embedding_1024']\n",
    "    )\n",
    "    create_feature(feature)"
   ]
  },
  {
   "cell_type": "markdown",
   "id": "b009b019",
   "metadata": {},
   "source": [
    "# Create projection"
   ]
  },
  {
   "cell_type": "markdown",
   "id": "44b18326",
   "metadata": {},
   "source": [
    "## Compute 3D projection"
   ]
  },
  {
   "cell_type": "code",
   "execution_count": null,
   "id": "4eeda21c",
   "metadata": {},
   "outputs": [],
   "source": [
    "total_features = count_features_by_type(\"musical_genre\")\n",
    "print(f\"Total features: {total_features}\")"
   ]
  },
  {
   "cell_type": "code",
   "execution_count": null,
   "id": "7dde39c9",
   "metadata": {},
   "outputs": [],
   "source": [
    "MAX_FEATURES = total_features + 1\n",
    "features = get_features_by_type_paginated(\"musical_genre\", page_size=10000)\n",
    "\n",
    "for _ in tqdm(range(MAX_FEATURES // 10000)):\n",
    "    last_seen_id = features[-1].get(\"feature_id\", None)\n",
    "    if last_seen_id is None:\n",
    "        break\n",
    "    features.extend(get_features_by_type_paginated(\"musical_genre\", page_size=10000, last_seen_feature_id=last_seen_id))\n",
    "    \n",
    "features = pd.DataFrame(features)\n",
    "print(f\"Total features: {len(features)}\")"
   ]
  },
  {
   "cell_type": "code",
   "execution_count": null,
   "id": "1c9181a4",
   "metadata": {},
   "outputs": [],
   "source": [
    "feature_vectors = features.apply(lambda df: literal_eval(df[\"embedding_1024\"])[:df[\"data\"][\"true_embedding_size\"]], axis=1)"
   ]
  },
  {
   "cell_type": "code",
   "execution_count": null,
   "id": "ad5757e6",
   "metadata": {},
   "outputs": [],
   "source": [
    "n_neighbors = [50, 100, 500, 1000]\n",
    "min_dists = [0.1, 0.3, 0.5, 0.7]"
   ]
  },
  {
   "cell_type": "code",
   "execution_count": null,
   "id": "5ad7ff56",
   "metadata": {},
   "outputs": [],
   "source": [
    "FORCE_RECALC = False\n",
    "\n",
    "umap_embeddings = []\n",
    "for n in n_neighbors:\n",
    "    for min_dist in min_dists:\n",
    "        if os.path.exists(f\"data/embeddings/umap_embeddings_{n}_{min_dist}.npy\" and not FORCE_RECALC):\n",
    "            print(f\"Loading UMAP embeddings for n_neighbors={n}, min_dist={min_dist} from disk\")\n",
    "            embeddings_results = np.load(f\"data/embeddings/umap_embeddings_{n}_{min_dist}.npy\")\n",
    "        else:\n",
    "            print(f\"Calculating UMAP embeddings for n_neighbors={n}, min_dist={min_dist}\")\n",
    "            umap = UMAP(n_neighbors=n, min_dist=min_dist, metric='cosine', n_components=3, random_state=42)\n",
    "            embeddings_results = umap.fit_transform(feature_vectors.tolist())\n",
    "            np.save(f\"data/embeddings/umap_embeddings_{n}_{min_dist}.npy\", embeddings_results)\n",
    "        umap_embeddings.append(embeddings_results)"
   ]
  },
  {
   "cell_type": "code",
   "execution_count": null,
   "id": "9644f68e",
   "metadata": {},
   "outputs": [],
   "source": [
    "# Grid of 3D plots\n",
    "n_rows, n_cols = len(n_neighbors), len(min_dists)\n",
    "fig = plt.figure(figsize=(20, 20))\n",
    "\n",
    "# Loop through each subplot\n",
    "for i in range(1, n_rows * n_cols + 1):\n",
    "    ax = fig.add_subplot(n_rows, n_cols, i, projection='3d')\n",
    "    ax.set_title(f\"UMAP n_neighbors={n_neighbors[(i-1)//n_cols]} min_dist={min_dists[(i-1)%n_cols]}\")\n",
    "    ax.scatter(umap_embeddings[i-1][:, 0], umap_embeddings[i-1][:, 1], umap_embeddings[i-1][:, 2], s = 0.05, alpha=0.5)\n",
    "plt.tight_layout()\n",
    "plt.show()"
   ]
  },
  {
   "cell_type": "code",
   "execution_count": null,
   "id": "4bd1f648",
   "metadata": {},
   "outputs": [],
   "source": [
    "features[\"umap_3d\"] = umap_embeddings[-1].tolist()"
   ]
  },
  {
   "cell_type": "markdown",
   "id": "a20d1a2b",
   "metadata": {},
   "source": [
    "## Initialize projection"
   ]
  },
  {
   "cell_type": "code",
   "execution_count": null,
   "id": "c75ee2c1",
   "metadata": {},
   "outputs": [],
   "source": [
    "total_tiles = len(features) # either all features or a subset of features\n",
    "atlas_width = 4096\n",
    "max_tile_size = 512\n",
    "max_tiles_per_atlas = (atlas_width // max_tile_size) ** 2\n",
    "atlas_count = int(total_tiles / max_tiles_per_atlas) + 1"
   ]
  },
  {
   "cell_type": "code",
   "execution_count": null,
   "id": "dff20172",
   "metadata": {},
   "outputs": [],
   "source": [
    "# Create the projection, replace the names with the desired ones\n",
    "projection = Projection(\n",
    "    projection_name=\"MJF Musical Genre 39k\",\n",
    "    version=\"1\",\n",
    "    library_id=get_library_id_from_name(\"mjf\"),\n",
    "    model_name=\"umap\",\n",
    "    model_params={\"n_neighbors\": 1000, \"min_dist\": 0.5},\n",
    "    data={},\n",
    "    dimension=3,\n",
    "    atlas_folder_path=\"\",\n",
    "    atlas_width=atlas_width,\n",
    "    tile_size=max_tile_size,\n",
    "    atlas_count=atlas_count,\n",
    "    total_tiles=total_tiles,\n",
    "    tiles_per_atlas=max_tiles_per_atlas,\n",
    ")\n",
    "\n",
    "projection_id = create_projection(projection)['projection_id']\n",
    "print(f\"Projection ID: {projection_id}\")"
   ]
  },
  {
   "cell_type": "markdown",
   "id": "77e04ef6",
   "metadata": {},
   "source": [
    "## Generate thumbnails atlases"
   ]
  },
  {
   "cell_type": "code",
   "execution_count": null,
   "id": "77408489",
   "metadata": {},
   "outputs": [],
   "source": [
    "lib_id = get_library_id_from_name(\"mjf\")\n",
    "n_thumbnails = count_media_by_library_id(lib_id, media_type = \"image\")\n",
    "print(f\"Total binaries in MJF library: {n_thumbnails}\")"
   ]
  },
  {
   "cell_type": "code",
   "execution_count": null,
   "id": "a4a60472",
   "metadata": {},
   "outputs": [],
   "source": [
    "MAX_FEATURES = n_thumbnails + 1\n",
    "thumbnails_data = get_all_media_by_library_id(lib_id, page_size = 1000, media_type = \"image\")\n",
    "\n",
    "for _ in tqdm(range(MAX_FEATURES // 1000)):\n",
    "    last_seen_id = thumbnails_data[-1].get(\"media_id\", None)\n",
    "    if last_seen_id is None:\n",
    "        break\n",
    "    thumbnails_data.extend(get_all_media_by_library_id(lib_id, page_size = 1000, media_type = \"image\", last_seen_media_id=last_seen_id))\n",
    "    \n",
    "thumbnails_data = pd.DataFrame(thumbnails_data)"
   ]
  },
  {
   "cell_type": "code",
   "execution_count": null,
   "id": "b0efa675",
   "metadata": {},
   "outputs": [],
   "source": [
    "thumbnails_paths = thumbnails_data[\"media_path\"].tolist()"
   ]
  },
  {
   "cell_type": "code",
   "execution_count": null,
   "id": "6f06dc0b",
   "metadata": {},
   "outputs": [],
   "source": [
    "storage_client = get_storage_client()\n",
    "\n",
    "def get_thumbnail(media_path):\n",
    "    frame_bytes = storage_client.get_bytes(\"mjf\", media_path)\n",
    "    if type(frame_bytes) == bytes:\n",
    "        frame = cv2.imdecode(np.frombuffer(frame_bytes, np.uint8), -1)\n",
    "        frame = cv2.cvtColor(frame, cv2.COLOR_BGR2RGB)\n",
    "        frame = Image.fromarray(frame)\n",
    "    else:\n",
    "        frame = None\n",
    "        \n",
    "    return frame"
   ]
  },
  {
   "cell_type": "code",
   "execution_count": null,
   "id": "a09520b3",
   "metadata": {},
   "outputs": [],
   "source": [
    "thumbnails = [get_thumbnail(p) for p in tqdm(thumbnails_paths)]"
   ]
  },
  {
   "cell_type": "code",
   "execution_count": null,
   "id": "9b4ffaa9",
   "metadata": {},
   "outputs": [],
   "source": [
    "# Replace missing thumbnails with black images\n",
    "black_image = np.zeros((460, 460, 3), dtype=np.uint8)\n",
    "thumbnails = [img if img is not None else black_image for img in thumbnails]"
   ]
  },
  {
   "cell_type": "code",
   "execution_count": null,
   "id": "c8113c91",
   "metadata": {},
   "outputs": [],
   "source": [
    "square_atlases = create_square_atlases(atlas_name=\"atlas_mjf\",\n",
    "                                       projection_id=projection_id, \n",
    "                                       images=thumbnails, \n",
    "                                       width=atlas_width, \n",
    "                                       max_tile_size=max_tile_size, \n",
    "                                       no_border=True)"
   ]
  },
  {
   "cell_type": "markdown",
   "id": "f084b01b",
   "metadata": {},
   "source": [
    "## Add Projection to DB"
   ]
  },
  {
   "cell_type": "code",
   "execution_count": null,
   "id": "08416a14",
   "metadata": {},
   "outputs": [],
   "source": [
    "for i, row in features.iterrows():\n",
    "    create_map_projection_feature(MapProjectionFeatureCreate(\n",
    "        projection_id=projection_id,\n",
    "        media_id=row.media_id,\n",
    "        atlas_order=i // max_tiles_per_atlas,\n",
    "        index_in_atlas=i % max_tiles_per_atlas,\n",
    "        coordinates=row[\"umap_3d\"],\n",
    "        feature_id=row.feature_id\n",
    "    ))"
   ]
  },
  {
   "cell_type": "code",
   "execution_count": null,
   "id": "1b8a5b04",
   "metadata": {},
   "outputs": [],
   "source": []
  }
 ],
 "metadata": {
  "kernelspec": {
   "display_name": "emv-requDRed-py3.10",
   "language": "python",
   "name": "python3"
  },
  "language_info": {
   "codemirror_mode": {
    "name": "ipython",
    "version": 3
   },
   "file_extension": ".py",
   "mimetype": "text/x-python",
   "name": "python",
   "nbconvert_exporter": "python",
   "pygments_lexer": "ipython3",
   "version": "3.10.15"
  }
 },
 "nbformat": 4,
 "nbformat_minor": 5
}
