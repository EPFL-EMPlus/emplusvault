{
 "cells": [
  {
   "cell_type": "code",
   "execution_count": 25,
   "metadata": {},
   "outputs": [
    {
     "name": "stdout",
     "output_type": "stream",
     "text": [
      "/Users/arattinger/Projects/rts\n",
      "The autoreload extension is already loaded. To reload it, use:\n",
      "  %reload_ext autoreload\n"
     ]
    }
   ],
   "source": [
    "%cd ..\n",
    "%load_ext autoreload\n",
    "%autoreload 2\n",
    "\n",
    "BASE_PATH = \"/Users/arattinger/Projects/rts/rts/testdata/\"\n",
    "DATA_PATH = BASE_PATH + \"data/\"\n",
    "bucket_name = \"rts\""
   ]
  },
  {
   "cell_type": "code",
   "execution_count": 34,
   "metadata": {},
   "outputs": [],
   "source": [
    "from datetime import datetime\n",
    "import orjson\n",
    "import pandas as pd\n",
    "import zipfile\n",
    "import os\n",
    "import io\n",
    "from typing import Dict, List, Optional, Tuple\n",
    "from pathlib import Path\n",
    "from storage3.utils import StorageException"
   ]
  },
  {
   "cell_type": "code",
   "execution_count": 3,
   "metadata": {},
   "outputs": [],
   "source": [
    "from supabase import create_client, Client"
   ]
  },
  {
   "cell_type": "code",
   "execution_count": 4,
   "metadata": {},
   "outputs": [],
   "source": [
    "df = pd.read_hdf(os.path.join(BASE_PATH, 'rts_aivectors.hdf5'))"
   ]
  },
  {
   "cell_type": "code",
   "execution_count": 5,
   "metadata": {},
   "outputs": [
    {
     "data": {
      "text/plain": [
       "guid                                                     AA1104002390\n",
       "mediaFolderPath                               /mnt/rts/5/1/0/ZE004015\n",
       "mediaDuration                                                    4437\n",
       "ratio                                                            16:9\n",
       "formatResolution                                                   SD\n",
       "publishedDate                                    2011-04-09T00:00:00Z\n",
       "categoryName                                                Programme\n",
       "assetType                                                   Programme\n",
       "contentType                                        Pop et rock, clips\n",
       "backgoundType                                                    None\n",
       "collection                                                  MusicOmax\n",
       "publishedBy                                                     TSR 2\n",
       "rights                                          Restriction/Condition\n",
       "title               WALDER / PAMPLEMOUSSE / NICOLAS FRAISSINET - 1...\n",
       "resume              * Lausanne : 20110409, magazine de la scène mu...\n",
       "geoTheme                                                   [LAUSANNE]\n",
       "resumeSequence      [00:01.22\\nLausanne, MAD, diverses séquences :...\n",
       "created                                                    1670505072\n",
       "published                                                  1302307200\n",
       "sequences           {'901697': {'guid': 'AA1104002390', 'mediaId':...\n",
       "aivector_id                          0b3241369e6e4a20942adc020470326f\n",
       "aivector_path                  f/6/2/0b3241369e6e4a20942adc020470326f\n",
       "Name: ZE004015, dtype: object"
      ]
     },
     "execution_count": 5,
     "metadata": {},
     "output_type": "execute_result"
    }
   ],
   "source": [
    "df.iloc[0]"
   ]
  },
  {
   "cell_type": "code",
   "execution_count": 10,
   "metadata": {},
   "outputs": [
    {
     "data": {
      "text/plain": [
       "'localhost:8000'"
      ]
     },
     "execution_count": 10,
     "metadata": {},
     "output_type": "execute_result"
    }
   ],
   "source": [
    "os.getenv(\"SUPABASE_HOST\")"
   ]
  },
  {
   "cell_type": "code",
   "execution_count": 8,
   "metadata": {},
   "outputs": [
    {
     "data": {
      "text/plain": [
       "'eyJhbGciOiJIUzI1NiIsInR5cCI6IkpXVCJ9.eyAgCiAgICAicm9sZSI6ICJhbm9uIiwKICAgICJpc3MiOiAic3VwYWJhc2UtZGVtbyIsCiAgICAiaWF0IjogMTY0MTc2OTIwMCwKICAgICJleHAiOiAxNzk5NTM1NjAwCn0.dc_X5iR_VP_qT0zsiyj_I_OZ2T9FtRU2BBNWN8Bu4GE'"
      ]
     },
     "execution_count": 8,
     "metadata": {},
     "output_type": "execute_result"
    }
   ],
   "source": [
    "os.getenv(\"SUPABASE_KEY\")"
   ]
  },
  {
   "cell_type": "code",
   "execution_count": 13,
   "metadata": {},
   "outputs": [],
   "source": [
    "supabase: Client = create_client(\n",
    "    \"http://localhost:8000\", \n",
    "    os.getenv(\"SUPABASE_KEY\")\n",
    ")"
   ]
  },
  {
   "cell_type": "code",
   "execution_count": 50,
   "metadata": {},
   "outputs": [],
   "source": [
    "def upload_media(clip_df: pd.DataFrame):\n",
    "    # Steps:\n",
    "    # 1. Upload video clips\n",
    "    # 2. Upload images\n",
    "\n",
    "    # 1. Upload video clips\n",
    "    # 1.1. Get list of video clips\n",
    "    for index, row in clip_df.iterrows():\n",
    "        video_path = row['mediaFolderPath'].split(\"/\")[-1]\n",
    "        video_path = os.path.join(DATA_PATH, video_path, 'clips', 'videos')\n",
    "        # List all files in the directory\n",
    "        files = os.listdir(video_path)\n",
    "\n",
    "        print(video_path)\n",
    "        for file in files:\n",
    "            if file.endswith(\".mp4\"):\n",
    "                print(file)\n",
    "                file_path = os.path.join(video_path, file)\n",
    "                # print(file_path)\n",
    "                try:\n",
    "                    supabase.storage.from_(bucket_name).upload(f\"{bucket_name}/videos/{file}\", file_path)\n",
    "                except StorageException as e:\n",
    "                    print(e.args[0]['error'])\n",
    "                    if e.args[0]['error'] != 'Duplicate':\n",
    "                        raise e\n",
    "                    \n",
    "\n",
    "\n",
    "        return\n",
    "    \n",
    "\n",
    "\n"
   ]
  },
  {
   "cell_type": "code",
   "execution_count": 51,
   "metadata": {},
   "outputs": [
    {
     "name": "stdout",
     "output_type": "stream",
     "text": [
      "/Users/arattinger/Projects/rts/rts/testdata/data/ZE004015/clips/videos\n",
      "ZE004015-L005.mp4\n",
      "/Users/arattinger/Projects/rts/rts/testdata/data/ZE004015/clips/videos/ZE004015-L005.mp4\n",
      "Duplicate\n",
      "ZE004015-L004.mp4\n",
      "/Users/arattinger/Projects/rts/rts/testdata/data/ZE004015/clips/videos/ZE004015-L004.mp4\n",
      "Duplicate\n",
      "ZE004015-L006.mp4\n",
      "/Users/arattinger/Projects/rts/rts/testdata/data/ZE004015/clips/videos/ZE004015-L006.mp4\n",
      "Duplicate\n",
      "ZE004015-L003.mp4\n",
      "/Users/arattinger/Projects/rts/rts/testdata/data/ZE004015/clips/videos/ZE004015-L003.mp4\n",
      "Duplicate\n",
      "ZE004015-L002.mp4\n",
      "/Users/arattinger/Projects/rts/rts/testdata/data/ZE004015/clips/videos/ZE004015-L002.mp4\n",
      "Duplicate\n",
      "ZE004015-L000.mp4\n",
      "/Users/arattinger/Projects/rts/rts/testdata/data/ZE004015/clips/videos/ZE004015-L000.mp4\n",
      "Duplicate\n",
      "ZE004015-L001.mp4\n",
      "/Users/arattinger/Projects/rts/rts/testdata/data/ZE004015/clips/videos/ZE004015-L001.mp4\n",
      "Duplicate\n"
     ]
    }
   ],
   "source": [
    "e = upload_media(df)"
   ]
  },
  {
   "cell_type": "code",
   "execution_count": 47,
   "metadata": {},
   "outputs": [
    {
     "data": {
      "text/plain": [
       "'Duplicate'"
      ]
     },
     "execution_count": 47,
     "metadata": {},
     "output_type": "execute_result"
    }
   ],
   "source": [
    "e.args[0]['error']"
   ]
  },
  {
   "cell_type": "code",
   "execution_count": null,
   "metadata": {},
   "outputs": [],
   "source": []
  }
 ],
 "metadata": {
  "kernelspec": {
   "display_name": ".venv",
   "language": "python",
   "name": "python3"
  },
  "language_info": {
   "codemirror_mode": {
    "name": "ipython",
    "version": 3
   },
   "file_extension": ".py",
   "mimetype": "text/x-python",
   "name": "python",
   "nbconvert_exporter": "python",
   "pygments_lexer": "ipython3",
   "version": "3.9.6"
  },
  "orig_nbformat": 4
 },
 "nbformat": 4,
 "nbformat_minor": 2
}
