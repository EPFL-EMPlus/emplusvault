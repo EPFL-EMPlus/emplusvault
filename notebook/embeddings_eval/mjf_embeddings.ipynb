{
 "cells": [
  {
   "cell_type": "code",
   "execution_count": null,
   "metadata": {},
   "outputs": [],
   "source": [
    "%cd ../..\n",
    "%load_ext autoreload\n",
    "\n",
    "%autoreload 2"
   ]
  },
  {
   "cell_type": "code",
   "execution_count": 2,
   "metadata": {},
   "outputs": [],
   "source": [
    "import os\n",
    "import random\n",
    "import textwrap as tw\n",
    "from tqdm.notebook import tqdm\n",
    "import numpy as np\n",
    "import pandas as pd\n",
    "pd.options.mode.chained_assignment = None\n",
    "import matplotlib.pyplot as plt\n",
    "import seaborn as sns\n",
    "import cv2\n",
    "from PIL import Image\n",
    "from ast import literal_eval\n",
    "from scipy.spatial.distance import pdist, squareform\n",
    "\n",
    "from emv.settings import DRIVE_PATH\n",
    "\n",
    "# Clustering\n",
    "from sklearn.neighbors import NearestNeighbors\n",
    "from sklearn.cluster import DBSCAN, KMeans\n",
    "from hdbscan import HDBSCAN\n",
    "\n",
    "# DR\n",
    "from umap import UMAP\n",
    "from umap.umap_ import nearest_neighbors\n",
    "from sklearn.manifold import TSNE\n",
    "from sklearn.decomposition import PCA\n",
    "from trimap import TRIMAP\n",
    "\n",
    "# Metrics\n",
    "from emv.embeddings.dr_eval import compute_embeddings, compute_umap_embeddings, plot_embeddings, format_params, plot_embeddings_with_images\n",
    "from emv.embeddings.dr_eval import \\\n",
    "    compute_coranking_metrics, \\\n",
    "    random_triplet_accuracy, \\\n",
    "    compute_pcc, \\\n",
    "    global_score"
   ]
  },
  {
   "cell_type": "markdown",
   "metadata": {},
   "source": [
    "# Load data"
   ]
  },
  {
   "cell_type": "code",
   "execution_count": 3,
   "metadata": {},
   "outputs": [],
   "source": [
    "genres = pd.read_csv(\"data/mjf_vectors_genre.csv\")\n",
    "genres[\"media_id\"] = genres.media_id.map(lambda x: int(x.split(\"-\")[1]))\n",
    "genres.sort_values(\"media_id\", inplace = True)\n",
    "\n",
    "instruments = pd.read_csv(\"data/mjf_vectors_instrument.csv\")\n",
    "instruments[\"media_id\"] = instruments.media_id.map(lambda x: int(x.split(\"-\")[1]))\n",
    "instruments.sort_values(\"media_id\", inplace = True)\n",
    "\n",
    "moods = pd.read_csv(\"data/mjf_vectors_mood.csv\")\n",
    "moods[\"media_id\"] = moods.media_id.map(lambda x: int(x.split(\"-\")[1]))\n",
    "moods.sort_values(\"media_id\", inplace = True)"
   ]
  },
  {
   "cell_type": "code",
   "execution_count": 4,
   "metadata": {},
   "outputs": [],
   "source": [
    "features = genres.copy()\n",
    "features[\"genres_f\"] = genres.drop(\"media_id\", axis = 1).agg(list, axis = 1).tolist()\n",
    "features[\"insts_f\"] = instruments.drop(\"media_id\", axis = 1).agg(list, axis = 1).tolist()\n",
    "features[\"moods_f\"] = moods.drop(\"media_id\", axis = 1).agg(list, axis = 1).tolist()\n",
    "\n",
    "features = features[[\"media_id\", \"genres_f\", \"insts_f\", \"moods_f\"]]"
   ]
  },
  {
   "cell_type": "code",
   "execution_count": null,
   "metadata": {},
   "outputs": [],
   "source": [
    "features.head()"
   ]
  },
  {
   "cell_type": "markdown",
   "metadata": {},
   "source": [
    "# Metadata"
   ]
  },
  {
   "cell_type": "code",
   "execution_count": 6,
   "metadata": {},
   "outputs": [],
   "source": [
    "import pickle\n",
    "\n",
    "with open(\"/media/data/mjf/metadata/metadata.pickle\", \"rb\") as f:\n",
    "    data = pickle.load(f)"
   ]
  },
  {
   "cell_type": "code",
   "execution_count": null,
   "metadata": {},
   "outputs": [],
   "source": [
    "data.keys()"
   ]
  },
  {
   "cell_type": "code",
   "execution_count": 8,
   "metadata": {},
   "outputs": [],
   "source": [
    "songs = pd.DataFrame(data[\"songs\"]).T\n",
    "concerts = pd.DataFrame(data[\"concerts\"]).T\n",
    "genres_concerts = pd.DataFrame(data[\"genres\"]).T"
   ]
  },
  {
   "cell_type": "code",
   "execution_count": 9,
   "metadata": {},
   "outputs": [],
   "source": [
    "concerts[\"genres\"] = concerts.genre_ids.map(lambda x: [genres_concerts.loc[int(i), \"name\"] for i in x])\n",
    "songs[\"genres\"] = songs.concert_id.map(lambda x: concerts.loc[x, \"genres\"])"
   ]
  },
  {
   "cell_type": "code",
   "execution_count": 10,
   "metadata": {},
   "outputs": [],
   "source": [
    "songs.rename(columns = {\"song_id\":\"media_id\"}, inplace = True)\n",
    "songs = pd.merge(songs, features, on = \"media_id\", how = \"left\")"
   ]
  },
  {
   "cell_type": "code",
   "execution_count": 11,
   "metadata": {},
   "outputs": [],
   "source": [
    "songs.dropna(subset = [\"genres_f\", \"insts_f\", \"moods_f\"], inplace = True)"
   ]
  },
  {
   "cell_type": "code",
   "execution_count": null,
   "metadata": {},
   "outputs": [],
   "source": [
    "songs.sort_values(\"media_id\").head()"
   ]
  },
  {
   "cell_type": "code",
   "execution_count": null,
   "metadata": {},
   "outputs": [],
   "source": [
    "def remove_noise(x, t = 0.2):\n",
    "    return [0 if i < t else i for i in x]"
   ]
  },
  {
   "cell_type": "code",
   "execution_count": null,
   "metadata": {},
   "outputs": [],
   "source": [
    "songs[\"genres_f_filtered\"] = songs.genres_f.map(lambda x: remove_noise(x, 0.2))\n",
    "songs[\"insts_f_filtered\"] = songs.insts_f.map(lambda x: remove_noise(x, 0.2))\n",
    "songs[\"moods_f_filtered\"] = songs.moods_f.map(lambda x: remove_noise(x, 0.2))"
   ]
  },
  {
   "cell_type": "markdown",
   "metadata": {},
   "source": [
    "# Embeddings"
   ]
  },
  {
   "cell_type": "code",
   "execution_count": null,
   "metadata": {},
   "outputs": [],
   "source": [
    "umap_embeddings = compute_umap_embeddings(np.array(songs[\"genres_f\"].tolist()), n_neighbors = [100])\n",
    "umap_embeddings.extend(compute_umap_embeddings(np.array(songs[\"insts_f\"].tolist()), n_neighbors = [100]))\n",
    "umap_embeddings.extend(compute_umap_embeddings(np.array(songs[\"moods_f\"].tolist()), n_neighbors = [100]))"
   ]
  },
  {
   "cell_type": "code",
   "execution_count": null,
   "metadata": {},
   "outputs": [],
   "source": [
    "fig, axs = plt.subplots(1, 3, figsize=(15, 5))\n",
    "for i, (embedding, title) in enumerate(zip(umap_embeddings, [\"Genres\", \"Instruments\", \"Moods\"])):\n",
    "    axs[i].scatter(embedding[\"embeddings\"][:, 0], embedding[\"embeddings\"][:, 1], s=0.01)\n",
    "    axs[i].set_title(title)\n",
    "    axs[i].set_xticks([])\n",
    "    axs[i].set_yticks([])\n",
    "plt.show()"
   ]
  },
  {
   "cell_type": "code",
   "execution_count": null,
   "metadata": {},
   "outputs": [],
   "source": [
    "genres_embedding = umap_embeddings[0][\"embeddings\"]\n",
    "\n",
    "main_genres = songs.genres.explode().value_counts()[:16].index\n",
    "\n",
    "n_cols = 4\n",
    "n_rows = int(len(main_genres) / n_cols)\n",
    "d = 3\n",
    "fig, axs = plt.subplots(n_rows, n_cols, figsize=(n_cols * d, n_rows * d))\n",
    "axs = axs.flatten()\n",
    "for i,genre in enumerate(main_genres):\n",
    "    axs[i].scatter(genres_embedding[:,0], genres_embedding[:,1], \n",
    "                  s = songs.genres.map(lambda x: 0.1 if genre in x else 0.01).tolist(), \n",
    "                  alpha = songs.genres.map(lambda x: 1 if genre in x else 0.5).tolist(), \n",
    "                  color = songs.genres.map(lambda x: \"red\" if genre in x else \"blue\").tolist())\n",
    "    axs[i].set_title(genre)\n",
    "    axs[i].set_xticks([])\n",
    "    axs[i].set_yticks([])\n",
    "plt.tight_layout()\n",
    "plt.show()"
   ]
  },
  {
   "cell_type": "markdown",
   "metadata": {},
   "source": [
    "# Get medias from DB"
   ]
  },
  {
   "cell_type": "code",
   "execution_count": 13,
   "metadata": {},
   "outputs": [],
   "source": [
    "from emv.db.queries import get_all_media_by_library_id, get_library_id_from_name"
   ]
  },
  {
   "cell_type": "code",
   "execution_count": null,
   "metadata": {},
   "outputs": [],
   "source": [
    "lib_id = get_library_id_from_name(\"mjf\")\n",
    "\n",
    "max_medias = 100000\n",
    "medias = get_all_media_by_library_id(lib_id, page_size=100, media_type=\"video\")\n",
    "\n",
    "while len(medias) < max_medias:\n",
    "    new_medias = get_all_media_by_library_id(lib_id, page_size=100, media_type=\"video\", last_seen_media_id=medias[-1][\"media_id\"], last_seen_date=medias[-1][\"created_at\"])\n",
    "    if len(new_medias) == 0:\n",
    "        break\n",
    "    medias.extend(new_medias)\n",
    "\n",
    "medias = pd.DataFrame(medias)\n",
    "medias[\"original_id\"] = medias.original_id.astype(int)\n",
    "print(f\"Found {len(medias)} videos\")"
   ]
  },
  {
   "cell_type": "code",
   "execution_count": 35,
   "metadata": {},
   "outputs": [],
   "source": [
    "medias = medias.merge(songs[[\"media_id\", \"genres_f\", \"insts_f\", \"moods_f\"]], right_on = \"media_id\", left_on = \"original_id\", how = \"left\")"
   ]
  },
  {
   "cell_type": "code",
   "execution_count": 40,
   "metadata": {},
   "outputs": [],
   "source": [
    "medias.rename(columns = {\"media_id_x\":\"media_id\"}, inplace = True)\n",
    "medias.drop(\"media_id_y\", axis = 1, inplace = True)"
   ]
  },
  {
   "cell_type": "code",
   "execution_count": null,
   "metadata": {},
   "outputs": [],
   "source": [
    "medias.iloc[0]"
   ]
  },
  {
   "cell_type": "code",
   "execution_count": null,
   "metadata": {},
   "outputs": [],
   "source": []
  }
 ],
 "metadata": {
  "kernelspec": {
   "display_name": "emv-requDRed-py3.10",
   "language": "python",
   "name": "python3"
  },
  "language_info": {
   "codemirror_mode": {
    "name": "ipython",
    "version": 3
   },
   "file_extension": ".py",
   "mimetype": "text/x-python",
   "name": "python",
   "nbconvert_exporter": "python",
   "pygments_lexer": "ipython3",
   "version": "3.10.11"
  }
 },
 "nbformat": 4,
 "nbformat_minor": 2
}
