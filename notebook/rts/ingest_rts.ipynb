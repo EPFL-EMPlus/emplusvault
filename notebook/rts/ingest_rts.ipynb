{
 "cells": [
  {
   "cell_type": "code",
   "execution_count": 1,
   "metadata": {},
   "outputs": [
    {
     "name": "stdout",
     "output_type": "stream",
     "text": [
      "/home/andre/rts/notebook\n"
     ]
    }
   ],
   "source": [
    "DATA = '/media/data/rts/archive'\n",
    "LOCAL_RTS_DATA = \"/media/data/rts/\"\n",
    "\n",
    "%cd ..\n",
    "%load_ext autoreload\n",
    "%autoreload 2"
   ]
  },
  {
   "cell_type": "markdown",
   "metadata": {},
   "source": [
    "# Query for wikidata\n",
    "\n",
    "https://query.wikidata.org/\n",
    "\n",
    "\n",
    "SELECT ?village_town ?village_townLabel ?coordinates WHERE {\n",
    "  ?village_town wdt:P31/wdt:P279* wd:Q486972;   # Instance of or subclass of human populated place\n",
    "             wdt:P625 ?coordinates;            # Has GPS coordinates\n",
    "             wdt:P17 wd:Q39.                   # Located in Switzerland\n",
    "  \n",
    "  SERVICE wikibase:label { \n",
    "    bd:serviceParam wikibase:language \"fr,de\". \n",
    "    ?village_town rdfs:label ?village_townLabel.\n",
    "  }\n",
    "  \n",
    "  FILTER(\n",
    "    STRSTARTS(UCASE(STR(?village_townLabel)), \"Y\") || \n",
    "    STRSTARTS(UCASE(STR(?village_townLabel)), \"Z\") || \n",
    "    STRSTARTS(UCASE(STR(?village_townLabel)), \"Z\")\n",
    "  )\n",
    "}\n",
    "LIMIT 1000\n"
   ]
  },
  {
   "cell_type": "code",
   "execution_count": 2,
   "metadata": {},
   "outputs": [],
   "source": [
    "import pandas as pd\n",
    "from emv.pipelines.rts import PipelineRTS\n",
    "import emv.utils\n",
    "import logging\n",
    "from emv.features.audio import transcribe_media\n",
    "\n",
    "LOG = emv.utils.get_logger()\n",
    "emv.utils.get_logger().setLevel(logging.DEBUG)"
   ]
  },
  {
   "cell_type": "code",
   "execution_count": 3,
   "metadata": {},
   "outputs": [],
   "source": [
    "df = emv.utils.dataframe_from_hdf5(LOCAL_RTS_DATA + '/metadata', 'rts_aivectors')"
   ]
  },
  {
   "cell_type": "code",
   "execution_count": 5,
   "metadata": {},
   "outputs": [],
   "source": [
    "df['mediaFolderPath'] = df['mediaFolderPath'].apply(lambda x: x.split('/mnt/rts/')[-1])"
   ]
  },
  {
   "cell_type": "code",
   "execution_count": 36,
   "metadata": {},
   "outputs": [
    {
     "data": {
      "application/vnd.jupyter.widget-view+json": {
       "model_id": "bce0c02d03d74907bad9f6e61874c503",
       "version_major": 2,
       "version_minor": 0
      },
      "text/plain": [
       "  0%|          | 0/1675 [00:00<?, ?it/s]"
      ]
     },
     "metadata": {},
     "output_type": "display_data"
    },
    {
     "name": "stdout",
     "output_type": "stream",
     "text": [
      "/media/data/rts/archive/3/1/0/ZT001013\n",
      "ZT001013 rts-ZT001013 /media/data/rts/archive/3/1/0/ZT001013/ZT001013.mp4 /media/data/rts/archive/3/1/0/ZT001013/export\n",
      "INFO:RTS:Processing media: ZT001013\n"
     ]
    }
   ],
   "source": [
    "from emv.pipelines.rts import PipelineRTS\n",
    "pipeline = PipelineRTS(run_notebook=True)\n",
    "pipeline.ingest(df.iloc[1:2])"
   ]
  },
  {
   "cell_type": "code",
   "execution_count": null,
   "metadata": {},
   "outputs": [],
   "source": []
  }
 ],
 "metadata": {
  "kernelspec": {
   "display_name": "rts-bWoRmFur-py3.10",
   "language": "python",
   "name": "python3"
  },
  "language_info": {
   "codemirror_mode": {
    "name": "ipython",
    "version": 3
   },
   "file_extension": ".py",
   "mimetype": "text/x-python",
   "name": "python",
   "nbconvert_exporter": "python",
   "pygments_lexer": "ipython3",
   "version": "3.10.11"
  },
  "orig_nbformat": 4
 },
 "nbformat": 4,
 "nbformat_minor": 2
}
