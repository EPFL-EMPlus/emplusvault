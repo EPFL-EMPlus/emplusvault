{
 "cells": [
  {
   "cell_type": "code",
   "execution_count": 1,
   "metadata": {},
   "outputs": [
    {
     "name": "stdout",
     "output_type": "stream",
     "text": [
      "/home/kirell/work/rts\n"
     ]
    }
   ],
   "source": [
    "%cd ..\n",
    "%load_ext autoreload\n",
    "%autoreload 2\n",
    "\n",
    "REMOTE_RTS_DATA = \"/media/sinergia/RTS/\"\n",
    "REMOTE_VIDEOS = '/mnt/rts/'\n",
    "\n",
    "LOCAL_RTS_DATA = \"/media/data/rts/\"\n",
    "METADATA = LOCAL_RTS_DATA + 'metadata'\n",
    "LOCAL_VIDEOS = LOCAL_RTS_DATA + 'archive'\n",
    "\n",
    "OUTDIR = 'data'\n"
   ]
  },
  {
   "cell_type": "code",
   "execution_count": 2,
   "metadata": {},
   "outputs": [],
   "source": [
    "from datetime import datetime\n",
    "import orjson\n",
    "import pandas as pd\n",
    "import zipfile\n",
    "import os\n",
    "import io\n",
    "from typing import Dict, List, Optional, Tuple\n",
    "from pathlib import Path"
   ]
  },
  {
   "cell_type": "code",
   "execution_count": 3,
   "metadata": {},
   "outputs": [
    {
     "name": "stderr",
     "output_type": "stream",
     "text": [
      "/home/kirell/.cache/pypoetry/virtualenvs/rts-506MfBOj-py3.10/lib/python3.10/site-packages/tqdm/auto.py:21: TqdmWarning: IProgress not found. Please update jupyter and ipywidgets. See https://ipywidgets.readthedocs.io/en/stable/user_install.html\n",
      "  from .autonotebook import tqdm as notebook_tqdm\n"
     ]
    }
   ],
   "source": [
    "# LOCAL imports\n",
    "import rts\n",
    "import rts.pipeline\n",
    "import rts.utils\n",
    "import rts.io.media\n",
    "import rts.features.audio\n",
    "import rts.features.text\n",
    "import rts.features.image\n",
    "\n",
    "LOG = rts.utils.get_logger()"
   ]
  },
  {
   "cell_type": "code",
   "execution_count": 11,
   "metadata": {},
   "outputs": [
    {
     "data": {
      "text/html": [
       "<div>\n",
       "<style scoped>\n",
       "    .dataframe tbody tr th:only-of-type {\n",
       "        vertical-align: middle;\n",
       "    }\n",
       "\n",
       "    .dataframe tbody tr th {\n",
       "        vertical-align: top;\n",
       "    }\n",
       "\n",
       "    .dataframe thead th {\n",
       "        text-align: right;\n",
       "    }\n",
       "</style>\n",
       "<table border=\"1\" class=\"dataframe\">\n",
       "  <thead>\n",
       "    <tr style=\"text-align: right;\">\n",
       "      <th></th>\n",
       "      <th>guid</th>\n",
       "      <th>mediaFolderPath</th>\n",
       "      <th>mediaDuration</th>\n",
       "      <th>ratio</th>\n",
       "      <th>formatResolution</th>\n",
       "      <th>publishedDate</th>\n",
       "      <th>categoryName</th>\n",
       "      <th>assetType</th>\n",
       "      <th>contentType</th>\n",
       "      <th>backgoundType</th>\n",
       "      <th>collection</th>\n",
       "      <th>publishedBy</th>\n",
       "      <th>rights</th>\n",
       "      <th>title</th>\n",
       "      <th>resume</th>\n",
       "      <th>geoTheme</th>\n",
       "      <th>resumeSequence</th>\n",
       "      <th>created</th>\n",
       "      <th>published</th>\n",
       "      <th>sequences</th>\n",
       "    </tr>\n",
       "    <tr>\n",
       "      <th>mediaId</th>\n",
       "      <th></th>\n",
       "      <th></th>\n",
       "      <th></th>\n",
       "      <th></th>\n",
       "      <th></th>\n",
       "      <th></th>\n",
       "      <th></th>\n",
       "      <th></th>\n",
       "      <th></th>\n",
       "      <th></th>\n",
       "      <th></th>\n",
       "      <th></th>\n",
       "      <th></th>\n",
       "      <th></th>\n",
       "      <th></th>\n",
       "      <th></th>\n",
       "      <th></th>\n",
       "      <th></th>\n",
       "      <th></th>\n",
       "      <th></th>\n",
       "    </tr>\n",
       "  </thead>\n",
       "  <tbody>\n",
       "    <tr>\n",
       "      <th>ZB001000</th>\n",
       "      <td>GE0111171458</td>\n",
       "      <td>/mnt/rts/0/0/0/ZB001000</td>\n",
       "      <td>1707</td>\n",
       "      <td>4:3</td>\n",
       "      <td>SD</td>\n",
       "      <td>2001-11-20T00:00:00Z</td>\n",
       "      <td>Programme</td>\n",
       "      <td>Téléjournal</td>\n",
       "      <td>Téléjournal, flashes</td>\n",
       "      <td>None</td>\n",
       "      <td>TJ</td>\n",
       "      <td>TSR 1</td>\n",
       "      <td>Inconnu</td>\n",
       "      <td>LE 19:30 - 01.11.20</td>\n",
       "      <td>None</td>\n",
       "      <td>None</td>\n",
       "      <td>[DUPLEX KABOUL :\\r\\nFAURE, Sébastien, envoyé s...</td>\n",
       "      <td>1670505500</td>\n",
       "      <td>1006214400</td>\n",
       "      <td>{'794474': {'guid': 'GE0111171458', 'mediaId':...</td>\n",
       "    </tr>\n",
       "    <tr>\n",
       "      <th>ZB002000</th>\n",
       "      <td>GE0212166889</td>\n",
       "      <td>/mnt/rts/0/0/0/ZB002000</td>\n",
       "      <td>530</td>\n",
       "      <td>4:3</td>\n",
       "      <td>SD</td>\n",
       "      <td>2002-12-30T00:00:00Z</td>\n",
       "      <td>Programme</td>\n",
       "      <td>Téléjournal</td>\n",
       "      <td>Téléjournal, flashes</td>\n",
       "      <td>None</td>\n",
       "      <td>TJ</td>\n",
       "      <td>TSR 1</td>\n",
       "      <td>Inconnu</td>\n",
       "      <td>LE 12:45 - 02.12.30</td>\n",
       "      <td>None</td>\n",
       "      <td>None</td>\n",
       "      <td>[19:31.01\\r\\nGenève-ville : divers plans MAURY...</td>\n",
       "      <td>1670505550</td>\n",
       "      <td>1041206400</td>\n",
       "      <td>{'1151573': {'guid': 'GE0212166889', 'mediaId'...</td>\n",
       "    </tr>\n",
       "    <tr>\n",
       "      <th>ZB003000</th>\n",
       "      <td>GE0312152381</td>\n",
       "      <td>/mnt/rts/0/0/0/ZB003000</td>\n",
       "      <td>1677</td>\n",
       "      <td>4:3</td>\n",
       "      <td>SD</td>\n",
       "      <td>2003-12-30T00:00:00Z</td>\n",
       "      <td>Programme</td>\n",
       "      <td>Téléjournal</td>\n",
       "      <td>Téléjournal, flashes</td>\n",
       "      <td>None</td>\n",
       "      <td>TJ</td>\n",
       "      <td>TSR 1</td>\n",
       "      <td>Inconnu</td>\n",
       "      <td>LE 19:30 - 03.12.30</td>\n",
       "      <td>None</td>\n",
       "      <td>None</td>\n",
       "      <td>[TELEPHONE DE GENEVE SUR NEWS :\\r\\nGAILLARD, W...</td>\n",
       "      <td>1670505150</td>\n",
       "      <td>1072742400</td>\n",
       "      <td>{'811444': {'guid': 'GE0312152381', 'mediaId':...</td>\n",
       "    </tr>\n",
       "    <tr>\n",
       "      <th>ZB005000</th>\n",
       "      <td>GE0407175954</td>\n",
       "      <td>/mnt/rts/0/0/0/ZB005000</td>\n",
       "      <td>1897</td>\n",
       "      <td>4:3</td>\n",
       "      <td>SD</td>\n",
       "      <td>2004-07-18T00:00:00Z</td>\n",
       "      <td>Programme</td>\n",
       "      <td>Programme</td>\n",
       "      <td>Résultats et magazines sportifs</td>\n",
       "      <td>None</td>\n",
       "      <td>Dimanche Sport</td>\n",
       "      <td>TSR 2</td>\n",
       "      <td>Restriction/Condition</td>\n",
       "      <td>04.07.18</td>\n",
       "      <td>None</td>\n",
       "      <td>None</td>\n",
       "      <td>[00:03.26\\nEntre Carcassonne et Nîmes dans l'A...</td>\n",
       "      <td>1670505299</td>\n",
       "      <td>1090108800</td>\n",
       "      <td>{'1180751': {'guid': 'GE0407175954', 'mediaId'...</td>\n",
       "    </tr>\n",
       "    <tr>\n",
       "      <th>ZB006000</th>\n",
       "      <td>GE0605146375</td>\n",
       "      <td>/mnt/rts/0/0/0/ZB006000</td>\n",
       "      <td>1541</td>\n",
       "      <td>4:3</td>\n",
       "      <td>SD</td>\n",
       "      <td>2006-05-27T00:00:00Z</td>\n",
       "      <td>Programme</td>\n",
       "      <td>Programme</td>\n",
       "      <td>Folklore et musique populaire</td>\n",
       "      <td>None</td>\n",
       "      <td>De si de la</td>\n",
       "      <td>TSR 1</td>\n",
       "      <td>Inconnu</td>\n",
       "      <td>L'HOMME QUI JOUE DU TOUR - 06.05.27</td>\n",
       "      <td>* Bex : 20060527, et 200409, 200505, présentat...</td>\n",
       "      <td>[BEX]</td>\n",
       "      <td>[ Bex, diverses séquences : diverses présentat...</td>\n",
       "      <td>1670505351</td>\n",
       "      <td>1148688000</td>\n",
       "      <td>{'837972': {'guid': 'GE0605146375', 'mediaId':...</td>\n",
       "    </tr>\n",
       "  </tbody>\n",
       "</table>\n",
       "</div>"
      ],
      "text/plain": [
       "                  guid          mediaFolderPath  mediaDuration ratio  \\\n",
       "mediaId                                                                \n",
       "ZB001000  GE0111171458  /mnt/rts/0/0/0/ZB001000           1707   4:3   \n",
       "ZB002000  GE0212166889  /mnt/rts/0/0/0/ZB002000            530   4:3   \n",
       "ZB003000  GE0312152381  /mnt/rts/0/0/0/ZB003000           1677   4:3   \n",
       "ZB005000  GE0407175954  /mnt/rts/0/0/0/ZB005000           1897   4:3   \n",
       "ZB006000  GE0605146375  /mnt/rts/0/0/0/ZB006000           1541   4:3   \n",
       "\n",
       "         formatResolution         publishedDate categoryName    assetType  \\\n",
       "mediaId                                                                     \n",
       "ZB001000               SD  2001-11-20T00:00:00Z    Programme  Téléjournal   \n",
       "ZB002000               SD  2002-12-30T00:00:00Z    Programme  Téléjournal   \n",
       "ZB003000               SD  2003-12-30T00:00:00Z    Programme  Téléjournal   \n",
       "ZB005000               SD  2004-07-18T00:00:00Z    Programme    Programme   \n",
       "ZB006000               SD  2006-05-27T00:00:00Z    Programme    Programme   \n",
       "\n",
       "                              contentType backgoundType      collection  \\\n",
       "mediaId                                                                   \n",
       "ZB001000             Téléjournal, flashes          None              TJ   \n",
       "ZB002000             Téléjournal, flashes          None              TJ   \n",
       "ZB003000             Téléjournal, flashes          None              TJ   \n",
       "ZB005000  Résultats et magazines sportifs          None  Dimanche Sport   \n",
       "ZB006000    Folklore et musique populaire          None     De si de la   \n",
       "\n",
       "         publishedBy                 rights  \\\n",
       "mediaId                                       \n",
       "ZB001000       TSR 1                Inconnu   \n",
       "ZB002000       TSR 1                Inconnu   \n",
       "ZB003000       TSR 1                Inconnu   \n",
       "ZB005000       TSR 2  Restriction/Condition   \n",
       "ZB006000       TSR 1                Inconnu   \n",
       "\n",
       "                                        title  \\\n",
       "mediaId                                         \n",
       "ZB001000                  LE 19:30 - 01.11.20   \n",
       "ZB002000                  LE 12:45 - 02.12.30   \n",
       "ZB003000                  LE 19:30 - 03.12.30   \n",
       "ZB005000                             04.07.18   \n",
       "ZB006000  L'HOMME QUI JOUE DU TOUR - 06.05.27   \n",
       "\n",
       "                                                     resume geoTheme  \\\n",
       "mediaId                                                                \n",
       "ZB001000                                               None     None   \n",
       "ZB002000                                               None     None   \n",
       "ZB003000                                               None     None   \n",
       "ZB005000                                               None     None   \n",
       "ZB006000  * Bex : 20060527, et 200409, 200505, présentat...    [BEX]   \n",
       "\n",
       "                                             resumeSequence     created  \\\n",
       "mediaId                                                                   \n",
       "ZB001000  [DUPLEX KABOUL :\\r\\nFAURE, Sébastien, envoyé s...  1670505500   \n",
       "ZB002000  [19:31.01\\r\\nGenève-ville : divers plans MAURY...  1670505550   \n",
       "ZB003000  [TELEPHONE DE GENEVE SUR NEWS :\\r\\nGAILLARD, W...  1670505150   \n",
       "ZB005000  [00:03.26\\nEntre Carcassonne et Nîmes dans l'A...  1670505299   \n",
       "ZB006000  [ Bex, diverses séquences : diverses présentat...  1670505351   \n",
       "\n",
       "           published                                          sequences  \n",
       "mediaId                                                                  \n",
       "ZB001000  1006214400  {'794474': {'guid': 'GE0111171458', 'mediaId':...  \n",
       "ZB002000  1041206400  {'1151573': {'guid': 'GE0212166889', 'mediaId'...  \n",
       "ZB003000  1072742400  {'811444': {'guid': 'GE0312152381', 'mediaId':...  \n",
       "ZB005000  1090108800  {'1180751': {'guid': 'GE0407175954', 'mediaId'...  \n",
       "ZB006000  1148688000  {'837972': {'guid': 'GE0605146375', 'mediaId':...  "
      ]
     },
     "execution_count": 11,
     "metadata": {},
     "output_type": "execute_result"
    }
   ],
   "source": [
    "# vidx = rts.metadata.read_video_folder_index(os.path.join(OUTDIR, 'vidx.json'))\n",
    "# df = rts.metadata.read_all_metadata(METADATA, vidx)\n",
    "# rts.metadata.metadata_to_hdf5(OUTDIR, 'rts_metadata', df)\n",
    "\n",
    "df = rts.metadata.load_metadata_hdf5(METADATA, 'rts_metadata')\n",
    "sample_df = rts.metadata.get_one_percent_sample(df)\n",
    "# # rts.metadata.export_metadata_stats(sample_df, Path(OUTDIR) / 'sample')\n",
    "# # rts.metadata.export_metadata_stats(df, OUTDIR)\n",
    "sample_df.head()\n",
    "\n",
    "# medias = rts.metadata.load_all_media_info(LOCAL_VIDEOS)\n",
    "# clips = rts.metadata.load_all_clips(LOCAL_VIDEOS)\n",
    "\n",
    "# clip_df = rts.metadata.build_clips_df(LOCAL_VIDEOS, METADATA)\n",
    "# rts.utils.dataframe_to_hdf5(METADATA, 'clips', clip_df)"
   ]
  },
  {
   "cell_type": "code",
   "execution_count": 5,
   "metadata": {},
   "outputs": [],
   "source": [
    "# sujets = rts.metadata.filter_by_asset_type(df, nested_struct='0/0')"
   ]
  },
  {
   "cell_type": "code",
   "execution_count": 9,
   "metadata": {},
   "outputs": [],
   "source": [
    "# sujets"
   ]
  },
  {
   "cell_type": "code",
   "execution_count": 32,
   "metadata": {},
   "outputs": [
    {
     "name": "stdout",
     "output_type": "stream",
     "text": [
      "True <_io.BytesIO object at 0x7fdb889a61b0>\n",
      "515797\n"
     ]
    }
   ],
   "source": [
    "video_path = os.path.join(LOCAL_VIDEOS, '0', '0', '0', 'ZB001000', 'ZB001000.mp4')\n",
    "\n",
    "outpath = Path(OUTDIR) / 'test_trim.mp4'\n",
    "# ok, outpath = rts.io.media.trim(video_path,  Path(OUTDIR) / 'test_trim.mp4', 300, 310)\n",
    "# print(ok, outpath)\n",
    "# outpath = rts.io.media.trim(video_path,  Path(OUTDIR) / 'test_trim.mp4', 300, 310)\n",
    "\n",
    "ok, outpath = rts.io.media.trim(video_path,  \":\", 300, 310)\n",
    "print(ok, outpath)\n",
    "if isinstance(outpath, io.BytesIO):\n",
    "    print(len(outpath.getvalue()))"
   ]
  },
  {
   "cell_type": "code",
   "execution_count": 7,
   "metadata": {},
   "outputs": [
    {
     "name": "stdout",
     "output_type": "stream",
     "text": [
      "INFO:RTS:Load model: resnet50\n"
     ]
    },
    {
     "data": {
      "text/plain": [
       "array([[0.06276648, 1.1780145 , 0.3374293 , ..., 0.2396185 , 0.16062912,\n",
       "        0.41618043],\n",
       "       [0.28102228, 0.5253164 , 0.09940885, ..., 0.00276155, 0.019754  ,\n",
       "        0.05477377]], dtype=float32)"
      ]
     },
     "execution_count": 7,
     "metadata": {},
     "output_type": "execute_result"
    }
   ],
   "source": [
    "rts.features.image.embed_images([Path(OUTDIR) / 'testori1.jpg', \n",
    "                                 Path(OUTDIR) / 'testori2.jpg'])"
   ]
  },
  {
   "cell_type": "code",
   "execution_count": null,
   "metadata": {},
   "outputs": [],
   "source": []
  },
  {
   "cell_type": "code",
   "execution_count": 18,
   "metadata": {},
   "outputs": [
    {
     "name": "stdout",
     "output_type": "stream",
     "text": [
      "Args: ['-hide_banner', '-loglevel', 'error', '-i', '/media/data/rts/archive/0/0/0/ZB001000/ZB001000.mp4', '-filter_complex', '[0:v]trim=end=310:start=300[s0];[s0]setpts=PTS-STARTPTS[s1];[0:a]atrim=end=310:start=300[s2];[s2]asetpts=PTS-STARTPTS[s3];[s1][s3]concat=a=1:n=1:v=1[s4][s5]', '-map', '[s4]', '-map', '[s5]', '-movflags', 'faststart', 'data/test_trim.mp4', '-y']\n"
     ]
    }
   ],
   "source": [
    "video_path = os.path.join(LOCAL_VIDEOS, '0', '0', '0', 'ZB001000', 'ZB001000.mp4')\n",
    "\n",
    "outpath = Path(OUTDIR) / 'test_trim.mp4'\n",
    "outpath = rts.io.media.trim(video_path,  Path(OUTDIR) / 'test_trim.mp4', 300, 310)\n"
   ]
  },
  {
   "cell_type": "code",
   "execution_count": null,
   "metadata": {},
   "outputs": [],
   "source": [
    "client = rts.db.fulltext.get_client()\n",
    "midx = rts.db.fulltext.get_or_create_media_index(client)\n",
    "# Fulltext Index from HDF5\n",
    "# midx.delete_all_documents()\n",
    "rts.db.fulltext.index_media(df, midx)\n",
    "# Wait 30 sec for full indexation\n",
    "midx.get_stats().number_of_documents  # 522103"
   ]
  },
  {
   "cell_type": "code",
   "execution_count": null,
   "metadata": {},
   "outputs": [],
   "source": [
    "medias = rts.metadata.load_all_media_info(LOCAL_VIDEOS)"
   ]
  },
  {
   "cell_type": "code",
   "execution_count": null,
   "metadata": {},
   "outputs": [],
   "source": [
    "clips = rts.metadata.load_all_clips(LOCAL_VIDEOS)"
   ]
  },
  {
   "cell_type": "code",
   "execution_count": null,
   "metadata": {},
   "outputs": [],
   "source": [
    "df = rts.metadata.build_clips_df(LOCAL_VIDEOS)"
   ]
  },
  {
   "cell_type": "code",
   "execution_count": null,
   "metadata": {},
   "outputs": [],
   "source": [
    "atlases = rts.metadata.create_clip_texture_atlases(df, LOCAL_RTS_DATA,\n",
    "                                                   '0', # folder name\n",
    "                                                   tile_size=64,\n",
    "                                                   flip=True,\n",
    "                                                   no_border=True, \n",
    "                                                   format='jpg')"
   ]
  },
  {
   "cell_type": "code",
   "execution_count": null,
   "metadata": {},
   "outputs": [],
   "source": [
    "import PIL\n",
    "import os\n",
    "from PIL import ImageOps, Image"
   ]
  },
  {
   "cell_type": "code",
   "execution_count": null,
   "metadata": {},
   "outputs": [],
   "source": []
  },
  {
   "cell_type": "code",
   "execution_count": null,
   "metadata": {},
   "outputs": [],
   "source": [
    "test_im_path = os.path.join(OUTDIR, 'test_image.jpg')\n",
    "im = Image.open(test_im_path)\n",
    "# rts.io.media.save_image_pyramid(im, Path(OUTDIR) / 'test_image_pyramid', 'test_image', True)"
   ]
  },
  {
   "cell_type": "code",
   "execution_count": null,
   "metadata": {},
   "outputs": [],
   "source": [
    "video_path = os.path.join(LOCAL_VIDEOS, '0', '0', '0', 'ZB001000', 'ZB001000.mp4')\n",
    "# audio_path = os.path.join(LOCAL_VIDEOS, '0', '0', '0', 'ZB001000', 'ZB001000_audio.aac')\n",
    "# rts.io.media.get_media_info(video_path)\n",
    "\n",
    "# scenes = rts.io.media.detect_scenes(video_path)\n",
    "# scenes = rts.io.media.filter_scenes(scenes, 5)\n",
    "# clips = rts.io.media.save_scenes_images(scenes, video_path, OUTDIR)\n",
    "# rts.pipeline.save_scenes(clips, OUTDIR)"
   ]
  },
  {
   "cell_type": "code",
   "execution_count": 5,
   "metadata": {},
   "outputs": [],
   "source": [
    "test_video_folder = os.path.join(LOCAL_VIDEOS, '0', '0', '0', 'ZB001000')\n",
    "audio_path = os.path.join(test_video_folder, 'ZB001000_audio.m4a')\n",
    "\n",
    "# outpath = rts.io.media.trim_media(video_path, 30, 40, Path(OUTDIR) / 'test_trim.mp4')\n",
    "# rts.io.media.get_media_info(outpath)"
   ]
  },
  {
   "cell_type": "code",
   "execution_count": null,
   "metadata": {},
   "outputs": [],
   "source": [
    "clips = rts.pipeline.extract_location_clips_from_transcript(transcript,\n",
    "    25,\n",
    "    OUTDIR,\n",
    "    video_path,\n",
    "    min_seconds=3,\n",
    "    extend_duration=6,\n",
    "    num_images=3,\n",
    "    force=True\n",
    ")"
   ]
  },
  {
   "cell_type": "code",
   "execution_count": null,
   "metadata": {},
   "outputs": [],
   "source": []
  },
  {
   "cell_type": "code",
   "execution_count": null,
   "metadata": {},
   "outputs": [],
   "source": [
    "imgs = list(rts.utils.recursive_glob(Path(OUTDIR) / 'images' / 'original', '.jpg'))\n",
    "imgs"
   ]
  },
  {
   "cell_type": "code",
   "execution_count": null,
   "metadata": {},
   "outputs": [],
   "source": [
    "rts.io.media.create_square_atlases(\n",
    "    imgs,\n",
    "    Path(OUTDIR) / 'atlas',\n",
    "    width=512,\n",
    "    max_tile_size=128,\n",
    "    no_border=True,\n",
    "    flip=True,\n",
    "    atlas_prefix='small_atlas',\n",
    "    bg_color=(255, 255, 255, 255)\n",
    ")"
   ]
  },
  {
   "cell_type": "code",
   "execution_count": null,
   "metadata": {},
   "outputs": [],
   "source": [
    "res = rts.features.text.enrich_scenes_with_transcript(clips.copy(), t)\n",
    "# res"
   ]
  },
  {
   "cell_type": "code",
   "execution_count": null,
   "metadata": {},
   "outputs": [],
   "source": [
    "swiss_cities = rts.features.text.get_swiss_cities()"
   ]
  },
  {
   "cell_type": "code",
   "execution_count": null,
   "metadata": {},
   "outputs": [],
   "source": [
    "input_video_folder = os.path.join(REMOTE_VIDEOS, '0', '0', '0', 'ZB001000')\n",
    "# input_video_folder = os.path.join(VIDEOS, '0', '0', 'ZB002000')\n",
    "# v, a = rts.io.archive.get_raw_video_audio_parts(input_video_folder)\n",
    "\n",
    "# '/'.join(input_video_folder.split('/')[-4:])\n",
    "# remuxed = rts.pipeline.create_optimized_media(input_video_folder, LOCAL_VIDEOS, force=True)\n",
    "# print(remuxed)\n",
    "\n",
    "rts.pipeline.process_media(input_video_folder, LOCAL_VIDEOS, \n",
    "    compute_transcript=True, force_scene=False, force_trans=False)"
   ]
  },
  {
   "cell_type": "code",
   "execution_count": null,
   "metadata": {},
   "outputs": [],
   "source": [
    "%ls {remux_folder}"
   ]
  },
  {
   "cell_type": "code",
   "execution_count": null,
   "metadata": {},
   "outputs": [],
   "source": [
    "fts.groupby('mediaId').count().sort_values('location', ascending=False)"
   ]
  },
  {
   "cell_type": "code",
   "execution_count": null,
   "metadata": {},
   "outputs": [],
   "source": [
    "fts"
   ]
  },
  {
   "cell_type": "code",
   "execution_count": null,
   "metadata": {},
   "outputs": [],
   "source": [
    "swiss_cities = rts.features.text.get_swiss_cities()"
   ]
  },
  {
   "cell_type": "code",
   "execution_count": null,
   "metadata": {},
   "outputs": [],
   "source": [
    "rts.utils.obj_to_json(r, os.path.join(OUTDIR, 'transcript.json'))"
   ]
  },
  {
   "cell_type": "code",
   "execution_count": null,
   "metadata": {},
   "outputs": [],
   "source": [
    "rts.io.media.to_mp3(a, os.path.join(OUTDIR, 'audio.mp3'))"
   ]
  },
  {
   "cell_type": "code",
   "execution_count": null,
   "metadata": {},
   "outputs": [],
   "source": [
    "rts.io.media.to_mp3(a, os.path.join(OUTDIR, 'audio.mp3'))"
   ]
  },
  {
   "cell_type": "code",
   "execution_count": null,
   "metadata": {},
   "outputs": [],
   "source": [
    "rts.io.media.extract_audio(a, os.path.join(OUTDIR, 'myaudio'))"
   ]
  }
 ],
 "metadata": {
  "kernelspec": {
   "display_name": "rts-506MfBOj-py3.10",
   "language": "python",
   "name": "python3"
  },
  "language_info": {
   "codemirror_mode": {
    "name": "ipython",
    "version": 3
   },
   "file_extension": ".py",
   "mimetype": "text/x-python",
   "name": "python",
   "nbconvert_exporter": "python",
   "pygments_lexer": "ipython3",
   "version": "3.10.11"
  },
  "orig_nbformat": 4,
  "vscode": {
   "interpreter": {
    "hash": "c55d7be6a9e4fc63ebfe3b5367c35465c736ea2b46c6214c810346aec19fcece"
   }
  }
 },
 "nbformat": 4,
 "nbformat_minor": 2
}
